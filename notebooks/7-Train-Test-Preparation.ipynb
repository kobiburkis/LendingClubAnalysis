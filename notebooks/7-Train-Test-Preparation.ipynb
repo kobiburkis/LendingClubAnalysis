{
 "cells": [
  {
   "cell_type": "markdown",
   "metadata": {},
   "source": [
    "# Train - Dev - Test Preparation"
   ]
  },
  {
   "cell_type": "code",
   "execution_count": 1,
   "metadata": {},
   "outputs": [],
   "source": [
    "import numpy as np\n",
    "import pandas as pd\n",
    "import matplotlib.pyplot as plt\n",
    "import seaborn as sns"
   ]
  },
  {
   "cell_type": "code",
   "execution_count": 2,
   "metadata": {},
   "outputs": [],
   "source": [
    "##############################################################################\n",
    "##########                DATABASE FUNCTIONS                     #############\n",
    "##############################################################################\n",
    "#### Read function to import data from the SQL to a pandas dataframe.\n",
    "def readSQL(query):\n",
    "    import pandas as pd\n",
    "    import sqlite3 as sql3\n",
    "    db = sql3.connect(DB_FILE)\n",
    "    df = pd.read_sql_query(query, db)\n",
    "    db.close()\n",
    "    return(df)\n",
    "\n",
    "#### Write a pandas dataframe into an SQL table. Use overwrite=True if you want to delete \n",
    "#### first a pre-existent table with the same name. Use append=True if you want to append\n",
    "#### the data in the dataframe to a pre-existent table.\n",
    "def writeSQL(df,tablename,overwrite=False, append=False):\n",
    "    import pandas as pd\n",
    "    import sqlite3 as sql\n",
    "    db = sql.connect(DB_FILE)\n",
    "    if (overwrite):\n",
    "        action = \"replace\"\n",
    "    elif (append):\n",
    "        action = \"append\"\n",
    "    else: \n",
    "        action = \"fail\"\n",
    "    df.to_sql(tablename, db, if_exists=action)\n",
    "    db.close()\n"
   ]
  },
  {
   "cell_type": "code",
   "execution_count": 4,
   "metadata": {},
   "outputs": [],
   "source": [
    "import os\n",
    "cwd = os.getcwd()\n",
    "DB_FILE = \"%s\\Data\\loans.db\" % cwd"
   ]
  },
  {
   "cell_type": "code",
   "execution_count": 5,
   "metadata": {},
   "outputs": [],
   "source": [
    "loans = readSQL('''SELECT * FROM full_dataset''')"
   ]
  },
  {
   "cell_type": "code",
   "execution_count": 6,
   "metadata": {},
   "outputs": [
    {
     "data": {
      "text/html": [
       "<div>\n",
       "<style scoped>\n",
       "    .dataframe tbody tr th:only-of-type {\n",
       "        vertical-align: middle;\n",
       "    }\n",
       "\n",
       "    .dataframe tbody tr th {\n",
       "        vertical-align: top;\n",
       "    }\n",
       "\n",
       "    .dataframe thead th {\n",
       "        text-align: right;\n",
       "    }\n",
       "</style>\n",
       "<table border=\"1\" class=\"dataframe\">\n",
       "  <thead>\n",
       "    <tr style=\"text-align: right;\">\n",
       "      <th></th>\n",
       "      <th>index</th>\n",
       "      <th>initial_list_status</th>\n",
       "      <th>loan_amnt</th>\n",
       "      <th>funded_amnt</th>\n",
       "      <th>funded_amnt_inv</th>\n",
       "      <th>term</th>\n",
       "      <th>annual_inc</th>\n",
       "      <th>dti</th>\n",
       "      <th>delinq_2yrs</th>\n",
       "      <th>acc_now_delinq</th>\n",
       "      <th>...</th>\n",
       "      <th>cat_delinq_2yrs_zero</th>\n",
       "      <th>cat_inq_last_6mths_more than 2</th>\n",
       "      <th>cat_inq_last_6mths_one</th>\n",
       "      <th>cat_inq_last_6mths_zero</th>\n",
       "      <th>inc_grp_high_inc</th>\n",
       "      <th>inc_grp_low_inc</th>\n",
       "      <th>inc_grp_middle_inc</th>\n",
       "      <th>inc_grp_veryhigh_inc</th>\n",
       "      <th>credit_hist_grp_4-13_yrs</th>\n",
       "      <th>default</th>\n",
       "    </tr>\n",
       "  </thead>\n",
       "  <tbody>\n",
       "    <tr>\n",
       "      <th>0</th>\n",
       "      <td>0</td>\n",
       "      <td>1</td>\n",
       "      <td>10000</td>\n",
       "      <td>10000</td>\n",
       "      <td>2175.00</td>\n",
       "      <td>0</td>\n",
       "      <td>36400.0</td>\n",
       "      <td>18.92</td>\n",
       "      <td>0</td>\n",
       "      <td>0</td>\n",
       "      <td>...</td>\n",
       "      <td>1</td>\n",
       "      <td>0</td>\n",
       "      <td>1</td>\n",
       "      <td>0</td>\n",
       "      <td>0</td>\n",
       "      <td>0</td>\n",
       "      <td>0</td>\n",
       "      <td>0</td>\n",
       "      <td>1</td>\n",
       "      <td>0</td>\n",
       "    </tr>\n",
       "    <tr>\n",
       "      <th>1</th>\n",
       "      <td>1</td>\n",
       "      <td>1</td>\n",
       "      <td>5400</td>\n",
       "      <td>5400</td>\n",
       "      <td>375.00</td>\n",
       "      <td>0</td>\n",
       "      <td>42000.0</td>\n",
       "      <td>16.09</td>\n",
       "      <td>0</td>\n",
       "      <td>0</td>\n",
       "      <td>...</td>\n",
       "      <td>1</td>\n",
       "      <td>0</td>\n",
       "      <td>0</td>\n",
       "      <td>1</td>\n",
       "      <td>0</td>\n",
       "      <td>0</td>\n",
       "      <td>0</td>\n",
       "      <td>0</td>\n",
       "      <td>1</td>\n",
       "      <td>0</td>\n",
       "    </tr>\n",
       "    <tr>\n",
       "      <th>2</th>\n",
       "      <td>2</td>\n",
       "      <td>1</td>\n",
       "      <td>1500</td>\n",
       "      <td>1500</td>\n",
       "      <td>583.05</td>\n",
       "      <td>0</td>\n",
       "      <td>15600.0</td>\n",
       "      <td>14.23</td>\n",
       "      <td>0</td>\n",
       "      <td>0</td>\n",
       "      <td>...</td>\n",
       "      <td>1</td>\n",
       "      <td>1</td>\n",
       "      <td>0</td>\n",
       "      <td>0</td>\n",
       "      <td>0</td>\n",
       "      <td>0</td>\n",
       "      <td>0</td>\n",
       "      <td>0</td>\n",
       "      <td>1</td>\n",
       "      <td>0</td>\n",
       "    </tr>\n",
       "    <tr>\n",
       "      <th>3</th>\n",
       "      <td>3</td>\n",
       "      <td>1</td>\n",
       "      <td>4800</td>\n",
       "      <td>4800</td>\n",
       "      <td>1550.00</td>\n",
       "      <td>0</td>\n",
       "      <td>60000.0</td>\n",
       "      <td>12.94</td>\n",
       "      <td>0</td>\n",
       "      <td>0</td>\n",
       "      <td>...</td>\n",
       "      <td>1</td>\n",
       "      <td>1</td>\n",
       "      <td>0</td>\n",
       "      <td>0</td>\n",
       "      <td>0</td>\n",
       "      <td>1</td>\n",
       "      <td>0</td>\n",
       "      <td>0</td>\n",
       "      <td>1</td>\n",
       "      <td>0</td>\n",
       "    </tr>\n",
       "    <tr>\n",
       "      <th>4</th>\n",
       "      <td>4</td>\n",
       "      <td>1</td>\n",
       "      <td>4800</td>\n",
       "      <td>4800</td>\n",
       "      <td>1625.00</td>\n",
       "      <td>0</td>\n",
       "      <td>25000.0</td>\n",
       "      <td>18.19</td>\n",
       "      <td>1</td>\n",
       "      <td>0</td>\n",
       "      <td>...</td>\n",
       "      <td>0</td>\n",
       "      <td>0</td>\n",
       "      <td>0</td>\n",
       "      <td>1</td>\n",
       "      <td>0</td>\n",
       "      <td>0</td>\n",
       "      <td>0</td>\n",
       "      <td>0</td>\n",
       "      <td>1</td>\n",
       "      <td>0</td>\n",
       "    </tr>\n",
       "  </tbody>\n",
       "</table>\n",
       "<p>5 rows × 80 columns</p>\n",
       "</div>"
      ],
      "text/plain": [
       "   index initial_list_status  loan_amnt  funded_amnt  funded_amnt_inv term  \\\n",
       "0      0                   1      10000        10000          2175.00    0   \n",
       "1      1                   1       5400         5400           375.00    0   \n",
       "2      2                   1       1500         1500           583.05    0   \n",
       "3      3                   1       4800         4800          1550.00    0   \n",
       "4      4                   1       4800         4800          1625.00    0   \n",
       "\n",
       "   annual_inc    dti  delinq_2yrs acc_now_delinq   ...    \\\n",
       "0     36400.0  18.92            0              0   ...     \n",
       "1     42000.0  16.09            0              0   ...     \n",
       "2     15600.0  14.23            0              0   ...     \n",
       "3     60000.0  12.94            0              0   ...     \n",
       "4     25000.0  18.19            1              0   ...     \n",
       "\n",
       "   cat_delinq_2yrs_zero  cat_inq_last_6mths_more than 2  \\\n",
       "0                     1                               0   \n",
       "1                     1                               0   \n",
       "2                     1                               1   \n",
       "3                     1                               1   \n",
       "4                     0                               0   \n",
       "\n",
       "   cat_inq_last_6mths_one  cat_inq_last_6mths_zero  inc_grp_high_inc  \\\n",
       "0                       1                        0                 0   \n",
       "1                       0                        1                 0   \n",
       "2                       0                        0                 0   \n",
       "3                       0                        0                 0   \n",
       "4                       0                        1                 0   \n",
       "\n",
       "   inc_grp_low_inc  inc_grp_middle_inc  inc_grp_veryhigh_inc  \\\n",
       "0                0                   0                     0   \n",
       "1                0                   0                     0   \n",
       "2                0                   0                     0   \n",
       "3                1                   0                     0   \n",
       "4                0                   0                     0   \n",
       "\n",
       "   credit_hist_grp_4-13_yrs default  \n",
       "0                         1       0  \n",
       "1                         1       0  \n",
       "2                         1       0  \n",
       "3                         1       0  \n",
       "4                         1       0  \n",
       "\n",
       "[5 rows x 80 columns]"
      ]
     },
     "execution_count": 6,
     "metadata": {},
     "output_type": "execute_result"
    }
   ],
   "source": [
    "loans.head()"
   ]
  },
  {
   "cell_type": "code",
   "execution_count": 7,
   "metadata": {},
   "outputs": [],
   "source": [
    "loans = loans.drop([\"index\"],axis=1)"
   ]
  },
  {
   "cell_type": "code",
   "execution_count": 52,
   "metadata": {},
   "outputs": [],
   "source": [
    "df = loans.copy()"
   ]
  },
  {
   "cell_type": "code",
   "execution_count": 53,
   "metadata": {},
   "outputs": [
    {
     "data": {
      "text/plain": [
       "initial_list_status                     object\n",
       "loan_amnt                                int64\n",
       "funded_amnt                              int64\n",
       "funded_amnt_inv                        float64\n",
       "term                                    object\n",
       "annual_inc                             float64\n",
       "dti                                    float64\n",
       "delinq_2yrs                              int64\n",
       "acc_now_delinq                          object\n",
       "inq_last_6mths                           int64\n",
       "open_acc                                 int64\n",
       "revol_bal                              float64\n",
       "revol_util                             float64\n",
       "total_acc                                int64\n",
       "loan_installment                       float64\n",
       "acc_ratio                              float64\n",
       "credit_hist                              int64\n",
       "poverty_rate_p                         float64\n",
       "cat_collections_12_mths_ex_med          object\n",
       "open_acc_rt                            float64\n",
       "total_acc_rt                           float64\n",
       "annual_inc_log                         float64\n",
       "annual_inc_rt                          float64\n",
       "revol_bal_rt                           float64\n",
       "credit_hist_log                        float64\n",
       "credit_hist_rt                         float64\n",
       "verification_status_Not Verified        object\n",
       "verification_status_Source Verified     object\n",
       "purpose_car                             object\n",
       "purpose_credit_card                     object\n",
       "                                        ...   \n",
       "full_state_Florida                      object\n",
       "full_state_Illinois                     object\n",
       "full_state_Indiana                      object\n",
       "full_state_Michigan                     object\n",
       "full_state_Missouri                     object\n",
       "full_state_Montana                      object\n",
       "full_state_Nevada                       object\n",
       "full_state_New Hampshire                object\n",
       "full_state_New Jersey                   object\n",
       "full_state_New York                     object\n",
       "full_state_North Carolina               object\n",
       "full_state_Oklahoma                     object\n",
       "full_state_Oregon                       object\n",
       "full_state_South Carolina               object\n",
       "full_state_Tennessee                    object\n",
       "full_state_Texas                        object\n",
       "full_state_Washington                   object\n",
       "full_state_West Virginia                object\n",
       "full_state_Wyoming                      object\n",
       "cat_delinq_2yrs_one                     object\n",
       "cat_delinq_2yrs_zero                    object\n",
       "cat_inq_last_6mths_more than 2          object\n",
       "cat_inq_last_6mths_one                  object\n",
       "cat_inq_last_6mths_zero                 object\n",
       "inc_grp_high_inc                        object\n",
       "inc_grp_low_inc                         object\n",
       "inc_grp_middle_inc                      object\n",
       "inc_grp_veryhigh_inc                    object\n",
       "credit_hist_grp_4-13_yrs                object\n",
       "default                                 object\n",
       "Length: 79, dtype: object"
      ]
     },
     "execution_count": 53,
     "metadata": {},
     "output_type": "execute_result"
    }
   ],
   "source": [
    "## check the dtypes on the dataframe\n",
    "df.dtypes"
   ]
  },
  {
   "cell_type": "markdown",
   "metadata": {},
   "source": [
    "We have to define some of the variables to be sure they are used as required by the models"
   ]
  },
  {
   "cell_type": "code",
   "execution_count": 54,
   "metadata": {},
   "outputs": [],
   "source": [
    "##Get Series of columns\n",
    "cat_vars = list(df.select_dtypes(include=['object']).columns)\n",
    "cat_vars\n",
    "##Turn\n",
    "for column in cat_vars:\n",
    "    df[column] = df[column].astype('category')"
   ]
  },
  {
   "cell_type": "code",
   "execution_count": 55,
   "metadata": {},
   "outputs": [
    {
     "data": {
      "text/plain": [
       "initial_list_status                    0\n",
       "loan_amnt                              0\n",
       "funded_amnt                            0\n",
       "funded_amnt_inv                        0\n",
       "term                                   0\n",
       "annual_inc                             0\n",
       "dti                                    0\n",
       "delinq_2yrs                            0\n",
       "acc_now_delinq                         0\n",
       "inq_last_6mths                         0\n",
       "open_acc                               0\n",
       "revol_bal                              0\n",
       "revol_util                             0\n",
       "total_acc                              0\n",
       "loan_installment                       0\n",
       "acc_ratio                              0\n",
       "credit_hist                            0\n",
       "poverty_rate_p                         0\n",
       "cat_collections_12_mths_ex_med         0\n",
       "open_acc_rt                            0\n",
       "total_acc_rt                           0\n",
       "annual_inc_log                         0\n",
       "annual_inc_rt                          0\n",
       "revol_bal_rt                           0\n",
       "credit_hist_log                        0\n",
       "credit_hist_rt                         0\n",
       "verification_status_Not Verified       0\n",
       "verification_status_Source Verified    0\n",
       "purpose_car                            0\n",
       "purpose_credit_card                    0\n",
       "                                      ..\n",
       "full_state_Florida                     0\n",
       "full_state_Illinois                    0\n",
       "full_state_Indiana                     0\n",
       "full_state_Michigan                    0\n",
       "full_state_Missouri                    0\n",
       "full_state_Montana                     0\n",
       "full_state_Nevada                      0\n",
       "full_state_New Hampshire               0\n",
       "full_state_New Jersey                  0\n",
       "full_state_New York                    0\n",
       "full_state_North Carolina              0\n",
       "full_state_Oklahoma                    0\n",
       "full_state_Oregon                      0\n",
       "full_state_South Carolina              0\n",
       "full_state_Tennessee                   0\n",
       "full_state_Texas                       0\n",
       "full_state_Washington                  0\n",
       "full_state_West Virginia               0\n",
       "full_state_Wyoming                     0\n",
       "cat_delinq_2yrs_one                    0\n",
       "cat_delinq_2yrs_zero                   0\n",
       "cat_inq_last_6mths_more than 2         0\n",
       "cat_inq_last_6mths_one                 0\n",
       "cat_inq_last_6mths_zero                0\n",
       "inc_grp_high_inc                       0\n",
       "inc_grp_low_inc                        0\n",
       "inc_grp_middle_inc                     0\n",
       "inc_grp_veryhigh_inc                   0\n",
       "credit_hist_grp_4-13_yrs               0\n",
       "default                                0\n",
       "Length: 79, dtype: int64"
      ]
     },
     "execution_count": 55,
     "metadata": {},
     "output_type": "execute_result"
    }
   ],
   "source": [
    "### check missings\n",
    "df.isnull().sum()"
   ]
  },
  {
   "cell_type": "markdown",
   "metadata": {},
   "source": [
    "## Preparing the partition to test, train and dev"
   ]
  },
  {
   "cell_type": "code",
   "execution_count": 56,
   "metadata": {},
   "outputs": [],
   "source": [
    "from random import seed, shuffle,randint\n",
    "##Get Thomas Library\n",
    "import pyMechkar as mechkar\n",
    "import time\n"
   ]
  },
  {
   "cell_type": "code",
   "execution_count": 57,
   "metadata": {},
   "outputs": [],
   "source": [
    "def splittDF(df):\n",
    "    p_value = 1\n",
    "    vn = df.columns.tolist()\n",
    "    while p_value > 0: \n",
    "        randomSeed = randint(100,2000)\n",
    "        print (randomSeed)\n",
    "        seed(randomSeed)\n",
    "        xind = [i for i in range(len(df))]\n",
    "        shuffle(xind,)\n",
    "        ### We will split as follows: 10% test, 10% dev and 80% train\n",
    "        ### test split\n",
    "        split_1 = int(0.1 * len(xind))\n",
    "        ### train-dev split\n",
    "        split_2 = int(0.2 * len(xind))\n",
    "        df['dataset'] = \"train\"\n",
    "        df.iloc[xind[0:split_1],79] = \"test\"\n",
    "        df.iloc[xind[split_1:split_2],79] = \"dev\"\n",
    "        df['dataset'] = df['dataset'].astype('category')\n",
    "        init = time.time()\n",
    "        tab1 = mechkar.pyMechkar().Table1(x=vn,y=\"dataset\",data=df,categorize=True,maxcat=7)\n",
    "        print(\"---- %s seconds -----\" % (time.time() - init))\n",
    "        t = tab1.loc[(tab1['p_value']<0.05),]\n",
    "        p_value = len(t.index)\n",
    "    return(df)"
   ]
  },
  {
   "cell_type": "code",
   "execution_count": 58,
   "metadata": {},
   "outputs": [
    {
     "name": "stdout",
     "output_type": "stream",
     "text": [
      "412\n",
      "Factorizing... please wait\n",
      "*******************************************************************************\n",
      "[]\n",
      "[********************************************************************************\n",
      "[********************************************************************************\n",
      "[********************************************************************************\n",
      "['Unable to calcualte the Fisher exact test for variables acc_now_delinq and dataset... The p-value may be incorrect']\n",
      "------ Finished in 184.38098573684692econds -----\n",
      "---- 184.38098573684692 seconds -----\n",
      "478\n",
      "Factorizing... please wait\n",
      "*******************************************************************************\n",
      "[]\n",
      "[********************************************************************************\n",
      "[********************************************************************************\n",
      "[********************************************************************************\n",
      "['Unable to calcualte the Fisher exact test for variables acc_now_delinq and dataset... The p-value may be incorrect']\n",
      "------ Finished in 195.33623623847961econds -----\n",
      "---- 195.33623623847961 seconds -----\n",
      "561\n",
      "Factorizing... please wait\n",
      "*******************************************************************************\n",
      "[]\n",
      "[********************************************************************************\n",
      "[********************************************************************************\n",
      "[********************************************************************************\n",
      "['Unable to calcualte the Fisher exact test for variables acc_now_delinq and dataset... The p-value may be incorrect']\n",
      "------ Finished in 185.02989506721497econds -----\n",
      "---- 185.02989506721497 seconds -----\n",
      "1207\n",
      "Factorizing... please wait\n",
      "*******************************************************************************\n",
      "[]\n",
      "[********************************************************************************\n",
      "[********************************************************************************\n",
      "[********************************************************************************\n",
      "['Unable to calcualte the Fisher exact test for variables acc_now_delinq and dataset... The p-value may be incorrect']\n",
      "------ Finished in 209.19627046585083econds -----\n",
      "---- 209.19627046585083 seconds -----\n"
     ]
    }
   ],
   "source": [
    "df = splittDF(df)"
   ]
  },
  {
   "cell_type": "code",
   "execution_count": 59,
   "metadata": {},
   "outputs": [
    {
     "data": {
      "text/html": [
       "<div>\n",
       "<style scoped>\n",
       "    .dataframe tbody tr th:only-of-type {\n",
       "        vertical-align: middle;\n",
       "    }\n",
       "\n",
       "    .dataframe tbody tr th {\n",
       "        vertical-align: top;\n",
       "    }\n",
       "\n",
       "    .dataframe thead th {\n",
       "        text-align: right;\n",
       "    }\n",
       "</style>\n",
       "<table border=\"1\" class=\"dataframe\">\n",
       "  <thead>\n",
       "    <tr style=\"text-align: right;\">\n",
       "      <th></th>\n",
       "      <th>initial_list_status</th>\n",
       "      <th>loan_amnt</th>\n",
       "      <th>funded_amnt</th>\n",
       "      <th>funded_amnt_inv</th>\n",
       "      <th>term</th>\n",
       "      <th>annual_inc</th>\n",
       "      <th>dti</th>\n",
       "      <th>delinq_2yrs</th>\n",
       "      <th>acc_now_delinq</th>\n",
       "      <th>inq_last_6mths</th>\n",
       "      <th>...</th>\n",
       "      <th>cat_inq_last_6mths_more than 2</th>\n",
       "      <th>cat_inq_last_6mths_one</th>\n",
       "      <th>cat_inq_last_6mths_zero</th>\n",
       "      <th>inc_grp_high_inc</th>\n",
       "      <th>inc_grp_low_inc</th>\n",
       "      <th>inc_grp_middle_inc</th>\n",
       "      <th>inc_grp_veryhigh_inc</th>\n",
       "      <th>credit_hist_grp_4-13_yrs</th>\n",
       "      <th>default</th>\n",
       "      <th>dataset</th>\n",
       "    </tr>\n",
       "  </thead>\n",
       "  <tbody>\n",
       "    <tr>\n",
       "      <th>0</th>\n",
       "      <td>1</td>\n",
       "      <td>10000</td>\n",
       "      <td>10000</td>\n",
       "      <td>2175.00</td>\n",
       "      <td>0</td>\n",
       "      <td>36400.0</td>\n",
       "      <td>18.92</td>\n",
       "      <td>0</td>\n",
       "      <td>0</td>\n",
       "      <td>1</td>\n",
       "      <td>...</td>\n",
       "      <td>0</td>\n",
       "      <td>1</td>\n",
       "      <td>0</td>\n",
       "      <td>0</td>\n",
       "      <td>0</td>\n",
       "      <td>0</td>\n",
       "      <td>0</td>\n",
       "      <td>1</td>\n",
       "      <td>0</td>\n",
       "      <td>train</td>\n",
       "    </tr>\n",
       "    <tr>\n",
       "      <th>1</th>\n",
       "      <td>1</td>\n",
       "      <td>5400</td>\n",
       "      <td>5400</td>\n",
       "      <td>375.00</td>\n",
       "      <td>0</td>\n",
       "      <td>42000.0</td>\n",
       "      <td>16.09</td>\n",
       "      <td>0</td>\n",
       "      <td>0</td>\n",
       "      <td>0</td>\n",
       "      <td>...</td>\n",
       "      <td>0</td>\n",
       "      <td>0</td>\n",
       "      <td>1</td>\n",
       "      <td>0</td>\n",
       "      <td>0</td>\n",
       "      <td>0</td>\n",
       "      <td>0</td>\n",
       "      <td>1</td>\n",
       "      <td>0</td>\n",
       "      <td>train</td>\n",
       "    </tr>\n",
       "    <tr>\n",
       "      <th>2</th>\n",
       "      <td>1</td>\n",
       "      <td>1500</td>\n",
       "      <td>1500</td>\n",
       "      <td>583.05</td>\n",
       "      <td>0</td>\n",
       "      <td>15600.0</td>\n",
       "      <td>14.23</td>\n",
       "      <td>0</td>\n",
       "      <td>0</td>\n",
       "      <td>4</td>\n",
       "      <td>...</td>\n",
       "      <td>1</td>\n",
       "      <td>0</td>\n",
       "      <td>0</td>\n",
       "      <td>0</td>\n",
       "      <td>0</td>\n",
       "      <td>0</td>\n",
       "      <td>0</td>\n",
       "      <td>1</td>\n",
       "      <td>0</td>\n",
       "      <td>train</td>\n",
       "    </tr>\n",
       "    <tr>\n",
       "      <th>3</th>\n",
       "      <td>1</td>\n",
       "      <td>4800</td>\n",
       "      <td>4800</td>\n",
       "      <td>1550.00</td>\n",
       "      <td>0</td>\n",
       "      <td>60000.0</td>\n",
       "      <td>12.94</td>\n",
       "      <td>0</td>\n",
       "      <td>0</td>\n",
       "      <td>3</td>\n",
       "      <td>...</td>\n",
       "      <td>1</td>\n",
       "      <td>0</td>\n",
       "      <td>0</td>\n",
       "      <td>0</td>\n",
       "      <td>1</td>\n",
       "      <td>0</td>\n",
       "      <td>0</td>\n",
       "      <td>1</td>\n",
       "      <td>0</td>\n",
       "      <td>train</td>\n",
       "    </tr>\n",
       "    <tr>\n",
       "      <th>4</th>\n",
       "      <td>1</td>\n",
       "      <td>4800</td>\n",
       "      <td>4800</td>\n",
       "      <td>1625.00</td>\n",
       "      <td>0</td>\n",
       "      <td>25000.0</td>\n",
       "      <td>18.19</td>\n",
       "      <td>1</td>\n",
       "      <td>0</td>\n",
       "      <td>0</td>\n",
       "      <td>...</td>\n",
       "      <td>0</td>\n",
       "      <td>0</td>\n",
       "      <td>1</td>\n",
       "      <td>0</td>\n",
       "      <td>0</td>\n",
       "      <td>0</td>\n",
       "      <td>0</td>\n",
       "      <td>1</td>\n",
       "      <td>0</td>\n",
       "      <td>train</td>\n",
       "    </tr>\n",
       "  </tbody>\n",
       "</table>\n",
       "<p>5 rows × 80 columns</p>\n",
       "</div>"
      ],
      "text/plain": [
       "  initial_list_status  loan_amnt  funded_amnt  funded_amnt_inv term  \\\n",
       "0                   1      10000        10000          2175.00    0   \n",
       "1                   1       5400         5400           375.00    0   \n",
       "2                   1       1500         1500           583.05    0   \n",
       "3                   1       4800         4800          1550.00    0   \n",
       "4                   1       4800         4800          1625.00    0   \n",
       "\n",
       "   annual_inc    dti  delinq_2yrs acc_now_delinq  inq_last_6mths   ...     \\\n",
       "0     36400.0  18.92            0              0               1   ...      \n",
       "1     42000.0  16.09            0              0               0   ...      \n",
       "2     15600.0  14.23            0              0               4   ...      \n",
       "3     60000.0  12.94            0              0               3   ...      \n",
       "4     25000.0  18.19            1              0               0   ...      \n",
       "\n",
       "   cat_inq_last_6mths_more than 2  cat_inq_last_6mths_one  \\\n",
       "0                               0                       1   \n",
       "1                               0                       0   \n",
       "2                               1                       0   \n",
       "3                               1                       0   \n",
       "4                               0                       0   \n",
       "\n",
       "   cat_inq_last_6mths_zero  inc_grp_high_inc  inc_grp_low_inc  \\\n",
       "0                        0                 0                0   \n",
       "1                        1                 0                0   \n",
       "2                        0                 0                0   \n",
       "3                        0                 0                1   \n",
       "4                        1                 0                0   \n",
       "\n",
       "   inc_grp_middle_inc  inc_grp_veryhigh_inc  credit_hist_grp_4-13_yrs default  \\\n",
       "0                   0                     0                         1       0   \n",
       "1                   0                     0                         1       0   \n",
       "2                   0                     0                         1       0   \n",
       "3                   0                     0                         1       0   \n",
       "4                   0                     0                         1       0   \n",
       "\n",
       "   dataset  \n",
       "0    train  \n",
       "1    train  \n",
       "2    train  \n",
       "3    train  \n",
       "4    train  \n",
       "\n",
       "[5 rows x 80 columns]"
      ]
     },
     "execution_count": 59,
     "metadata": {},
     "output_type": "execute_result"
    }
   ],
   "source": [
    "##SEED=1207 Gave us the balanced split\n",
    "df.head()"
   ]
  },
  {
   "cell_type": "code",
   "execution_count": 61,
   "metadata": {},
   "outputs": [],
   "source": [
    "### We will split as follows: 10% test, 10% dev and 80% train\n",
    "X_test =  df.loc[(df[\"dataset\"] ==\"test\"),] #power.iloc[xind[0:split_1],]\n",
    "y_test = df.loc[(df[\"dataset\"] ==\"test\"),\"default\"]#power.iloc[xind[0:split_1],29]\n",
    "\n",
    "X_dev = df.loc[(df[\"dataset\"] ==\"dev\"),]#power.iloc[xind[split_1:split_2],]\n",
    "y_dev = df.loc[(df[\"dataset\"] ==\"dev\"),\"default\"]#power.iloc[xind[split_1:split_2],29]\n",
    "\n",
    "X_train = df.loc[(df[\"dataset\"] ==\"train\"),]#power.iloc[xind[split_2:],]\n",
    "y_train = df.loc[(df[\"dataset\"] ==\"train\"),\"default\"]#power.iloc[xind[split_2:],29]\n"
   ]
  },
  {
   "cell_type": "code",
   "execution_count": 62,
   "metadata": {},
   "outputs": [
    {
     "name": "stdout",
     "output_type": "stream",
     "text": [
      "(203836, 80)\n",
      "(203836,)\n",
      "(25479, 80)\n",
      "(25479,)\n",
      "(25479, 80)\n",
      "(25479,)\n"
     ]
    }
   ],
   "source": [
    "print(X_train.shape)\n",
    "print(y_train.shape)\n",
    "\n",
    "print(X_dev.shape)\n",
    "print(y_dev.shape)\n",
    "\n",
    "print(X_test.shape)\n",
    "print(y_test.shape)\n"
   ]
  },
  {
   "cell_type": "code",
   "execution_count": 63,
   "metadata": {},
   "outputs": [
    {
     "data": {
      "text/html": [
       "<div>\n",
       "<style scoped>\n",
       "    .dataframe tbody tr th:only-of-type {\n",
       "        vertical-align: middle;\n",
       "    }\n",
       "\n",
       "    .dataframe tbody tr th {\n",
       "        vertical-align: top;\n",
       "    }\n",
       "\n",
       "    .dataframe thead th {\n",
       "        text-align: right;\n",
       "    }\n",
       "</style>\n",
       "<table border=\"1\" class=\"dataframe\">\n",
       "  <thead>\n",
       "    <tr style=\"text-align: right;\">\n",
       "      <th></th>\n",
       "      <th>initial_list_status</th>\n",
       "      <th>loan_amnt</th>\n",
       "      <th>funded_amnt</th>\n",
       "      <th>funded_amnt_inv</th>\n",
       "      <th>term</th>\n",
       "      <th>annual_inc</th>\n",
       "      <th>dti</th>\n",
       "      <th>delinq_2yrs</th>\n",
       "      <th>acc_now_delinq</th>\n",
       "      <th>inq_last_6mths</th>\n",
       "      <th>...</th>\n",
       "      <th>cat_inq_last_6mths_more than 2</th>\n",
       "      <th>cat_inq_last_6mths_one</th>\n",
       "      <th>cat_inq_last_6mths_zero</th>\n",
       "      <th>inc_grp_high_inc</th>\n",
       "      <th>inc_grp_low_inc</th>\n",
       "      <th>inc_grp_middle_inc</th>\n",
       "      <th>inc_grp_veryhigh_inc</th>\n",
       "      <th>credit_hist_grp_4-13_yrs</th>\n",
       "      <th>default</th>\n",
       "      <th>dataset</th>\n",
       "    </tr>\n",
       "  </thead>\n",
       "  <tbody>\n",
       "    <tr>\n",
       "      <th>0</th>\n",
       "      <td>1</td>\n",
       "      <td>10000</td>\n",
       "      <td>10000</td>\n",
       "      <td>2175.00</td>\n",
       "      <td>0</td>\n",
       "      <td>36400.0</td>\n",
       "      <td>18.92</td>\n",
       "      <td>0</td>\n",
       "      <td>0</td>\n",
       "      <td>1</td>\n",
       "      <td>...</td>\n",
       "      <td>0</td>\n",
       "      <td>1</td>\n",
       "      <td>0</td>\n",
       "      <td>0</td>\n",
       "      <td>0</td>\n",
       "      <td>0</td>\n",
       "      <td>0</td>\n",
       "      <td>1</td>\n",
       "      <td>0</td>\n",
       "      <td>train</td>\n",
       "    </tr>\n",
       "    <tr>\n",
       "      <th>1</th>\n",
       "      <td>1</td>\n",
       "      <td>5400</td>\n",
       "      <td>5400</td>\n",
       "      <td>375.00</td>\n",
       "      <td>0</td>\n",
       "      <td>42000.0</td>\n",
       "      <td>16.09</td>\n",
       "      <td>0</td>\n",
       "      <td>0</td>\n",
       "      <td>0</td>\n",
       "      <td>...</td>\n",
       "      <td>0</td>\n",
       "      <td>0</td>\n",
       "      <td>1</td>\n",
       "      <td>0</td>\n",
       "      <td>0</td>\n",
       "      <td>0</td>\n",
       "      <td>0</td>\n",
       "      <td>1</td>\n",
       "      <td>0</td>\n",
       "      <td>train</td>\n",
       "    </tr>\n",
       "    <tr>\n",
       "      <th>2</th>\n",
       "      <td>1</td>\n",
       "      <td>1500</td>\n",
       "      <td>1500</td>\n",
       "      <td>583.05</td>\n",
       "      <td>0</td>\n",
       "      <td>15600.0</td>\n",
       "      <td>14.23</td>\n",
       "      <td>0</td>\n",
       "      <td>0</td>\n",
       "      <td>4</td>\n",
       "      <td>...</td>\n",
       "      <td>1</td>\n",
       "      <td>0</td>\n",
       "      <td>0</td>\n",
       "      <td>0</td>\n",
       "      <td>0</td>\n",
       "      <td>0</td>\n",
       "      <td>0</td>\n",
       "      <td>1</td>\n",
       "      <td>0</td>\n",
       "      <td>train</td>\n",
       "    </tr>\n",
       "    <tr>\n",
       "      <th>3</th>\n",
       "      <td>1</td>\n",
       "      <td>4800</td>\n",
       "      <td>4800</td>\n",
       "      <td>1550.00</td>\n",
       "      <td>0</td>\n",
       "      <td>60000.0</td>\n",
       "      <td>12.94</td>\n",
       "      <td>0</td>\n",
       "      <td>0</td>\n",
       "      <td>3</td>\n",
       "      <td>...</td>\n",
       "      <td>1</td>\n",
       "      <td>0</td>\n",
       "      <td>0</td>\n",
       "      <td>0</td>\n",
       "      <td>1</td>\n",
       "      <td>0</td>\n",
       "      <td>0</td>\n",
       "      <td>1</td>\n",
       "      <td>0</td>\n",
       "      <td>train</td>\n",
       "    </tr>\n",
       "    <tr>\n",
       "      <th>4</th>\n",
       "      <td>1</td>\n",
       "      <td>4800</td>\n",
       "      <td>4800</td>\n",
       "      <td>1625.00</td>\n",
       "      <td>0</td>\n",
       "      <td>25000.0</td>\n",
       "      <td>18.19</td>\n",
       "      <td>1</td>\n",
       "      <td>0</td>\n",
       "      <td>0</td>\n",
       "      <td>...</td>\n",
       "      <td>0</td>\n",
       "      <td>0</td>\n",
       "      <td>1</td>\n",
       "      <td>0</td>\n",
       "      <td>0</td>\n",
       "      <td>0</td>\n",
       "      <td>0</td>\n",
       "      <td>1</td>\n",
       "      <td>0</td>\n",
       "      <td>train</td>\n",
       "    </tr>\n",
       "  </tbody>\n",
       "</table>\n",
       "<p>5 rows × 80 columns</p>\n",
       "</div>"
      ],
      "text/plain": [
       "  initial_list_status  loan_amnt  funded_amnt  funded_amnt_inv term  \\\n",
       "0                   1      10000        10000          2175.00    0   \n",
       "1                   1       5400         5400           375.00    0   \n",
       "2                   1       1500         1500           583.05    0   \n",
       "3                   1       4800         4800          1550.00    0   \n",
       "4                   1       4800         4800          1625.00    0   \n",
       "\n",
       "   annual_inc    dti  delinq_2yrs acc_now_delinq  inq_last_6mths   ...     \\\n",
       "0     36400.0  18.92            0              0               1   ...      \n",
       "1     42000.0  16.09            0              0               0   ...      \n",
       "2     15600.0  14.23            0              0               4   ...      \n",
       "3     60000.0  12.94            0              0               3   ...      \n",
       "4     25000.0  18.19            1              0               0   ...      \n",
       "\n",
       "   cat_inq_last_6mths_more than 2  cat_inq_last_6mths_one  \\\n",
       "0                               0                       1   \n",
       "1                               0                       0   \n",
       "2                               1                       0   \n",
       "3                               1                       0   \n",
       "4                               0                       0   \n",
       "\n",
       "   cat_inq_last_6mths_zero  inc_grp_high_inc  inc_grp_low_inc  \\\n",
       "0                        0                 0                0   \n",
       "1                        1                 0                0   \n",
       "2                        0                 0                0   \n",
       "3                        0                 0                1   \n",
       "4                        1                 0                0   \n",
       "\n",
       "   inc_grp_middle_inc  inc_grp_veryhigh_inc  credit_hist_grp_4-13_yrs default  \\\n",
       "0                   0                     0                         1       0   \n",
       "1                   0                     0                         1       0   \n",
       "2                   0                     0                         1       0   \n",
       "3                   0                     0                         1       0   \n",
       "4                   0                     0                         1       0   \n",
       "\n",
       "   dataset  \n",
       "0    train  \n",
       "1    train  \n",
       "2    train  \n",
       "3    train  \n",
       "4    train  \n",
       "\n",
       "[5 rows x 80 columns]"
      ]
     },
     "execution_count": 63,
     "metadata": {},
     "output_type": "execute_result"
    }
   ],
   "source": [
    "X_train.head()"
   ]
  },
  {
   "cell_type": "code",
   "execution_count": 64,
   "metadata": {},
   "outputs": [
    {
     "name": "stdout",
     "output_type": "stream",
     "text": [
      "count     203836\n",
      "unique         2\n",
      "top            0\n",
      "freq      167067\n",
      "Name: default, dtype: object\n",
      "0\n"
     ]
    }
   ],
   "source": [
    "print(y_train.describe())\n",
    "print(y_train.isnull().sum())"
   ]
  },
  {
   "cell_type": "code",
   "execution_count": 65,
   "metadata": {},
   "outputs": [],
   "source": [
    "## drop default from X_xxx\n",
    "X_train = X_train.drop('default',axis=1)\n",
    "X_dev = X_dev.drop('default',axis=1)\n",
    "X_test = X_test.drop('default',axis=1)"
   ]
  },
  {
   "cell_type": "code",
   "execution_count": 75,
   "metadata": {},
   "outputs": [
    {
     "data": {
      "image/png": "[encoded data removed]",
      "text/plain": [
       "<Figure size 432x288 with 1 Axes>"
      ]
     },
     "metadata": {},
     "output_type": "display_data"
    }
   ],
   "source": [
    "sns.distplot(y_train.astype(int),label=\"train\")\n",
    "sns.distplot(y_dev.astype(int),label=\"dev\")\n",
    "sns.distplot(y_test.astype(int),label=\"test\")\n",
    "plt.legend()\n",
    "plt.show()"
   ]
  },
  {
   "cell_type": "code",
   "execution_count": 76,
   "metadata": {},
   "outputs": [],
   "source": [
    "X_train = X_train.drop('dataset',axis=1)\n",
    "X_dev = X_dev.drop('dataset',axis=1)\n",
    "X_test = X_test.drop('dataset',axis=1)"
   ]
  },
  {
   "cell_type": "code",
   "execution_count": 140,
   "metadata": {},
   "outputs": [
    {
     "name": "stderr",
     "output_type": "stream",
     "text": [
      "C:\\Users\\Kobi\\Anaconda3\\lib\\site-packages\\pandas\\core\\generic.py:2127: UserWarning: The spaces in these column names will not be changed. In pandas versions < 0.14, spaces were converted to underscores.\n",
      "  dtype=dtype)\n",
      "C:\\Users\\Kobi\\Anaconda3\\lib\\site-packages\\pandas\\core\\generic.py:2127: UserWarning: The spaces in these column names will not be changed. In pandas versions < 0.14, spaces were converted to underscores.\n",
      "  dtype=dtype)\n",
      "C:\\Users\\Kobi\\Anaconda3\\lib\\site-packages\\pandas\\core\\generic.py:2127: UserWarning: The spaces in these column names will not be changed. In pandas versions < 0.14, spaces were converted to underscores.\n",
      "  dtype=dtype)\n"
     ]
    }
   ],
   "source": [
    "writeSQL(X_train,tablename=\"X_train\")\n",
    "writeSQL(X_dev,tablename=\"X_dev\")\n",
    "writeSQL(X_test,tablename=\"X_test\")\n",
    "writeSQL(y_train,tablename=\"Y_train\")\n",
    "writeSQL(y_dev,tablename=\"Y_dev\")\n",
    "writeSQL(y_test,tablename=\"Y_test\")"
   ]
  },
  {
   "cell_type": "markdown",
   "metadata": {},
   "source": [
    "<h3>Check Inbalance"
   ]
  },
  {
   "cell_type": "code",
   "execution_count": 78,
   "metadata": {},
   "outputs": [],
   "source": [
    "train = X_train.assign(default=y_train)"
   ]
  },
  {
   "cell_type": "code",
   "execution_count": 79,
   "metadata": {},
   "outputs": [
    {
     "data": {
      "text/html": [
       "<div>\n",
       "<style scoped>\n",
       "    .dataframe tbody tr th:only-of-type {\n",
       "        vertical-align: middle;\n",
       "    }\n",
       "\n",
       "    .dataframe tbody tr th {\n",
       "        vertical-align: top;\n",
       "    }\n",
       "\n",
       "    .dataframe thead th {\n",
       "        text-align: right;\n",
       "    }\n",
       "</style>\n",
       "<table border=\"1\" class=\"dataframe\">\n",
       "  <thead>\n",
       "    <tr style=\"text-align: right;\">\n",
       "      <th></th>\n",
       "      <th>initial_list_status</th>\n",
       "      <th>loan_amnt</th>\n",
       "      <th>funded_amnt</th>\n",
       "      <th>funded_amnt_inv</th>\n",
       "      <th>term</th>\n",
       "      <th>annual_inc</th>\n",
       "      <th>dti</th>\n",
       "      <th>delinq_2yrs</th>\n",
       "      <th>acc_now_delinq</th>\n",
       "      <th>inq_last_6mths</th>\n",
       "      <th>...</th>\n",
       "      <th>cat_delinq_2yrs_zero</th>\n",
       "      <th>cat_inq_last_6mths_more than 2</th>\n",
       "      <th>cat_inq_last_6mths_one</th>\n",
       "      <th>cat_inq_last_6mths_zero</th>\n",
       "      <th>inc_grp_high_inc</th>\n",
       "      <th>inc_grp_low_inc</th>\n",
       "      <th>inc_grp_middle_inc</th>\n",
       "      <th>inc_grp_veryhigh_inc</th>\n",
       "      <th>credit_hist_grp_4-13_yrs</th>\n",
       "      <th>default</th>\n",
       "    </tr>\n",
       "  </thead>\n",
       "  <tbody>\n",
       "    <tr>\n",
       "      <th>0</th>\n",
       "      <td>1</td>\n",
       "      <td>10000</td>\n",
       "      <td>10000</td>\n",
       "      <td>2175.00</td>\n",
       "      <td>0</td>\n",
       "      <td>36400.0</td>\n",
       "      <td>18.92</td>\n",
       "      <td>0</td>\n",
       "      <td>0</td>\n",
       "      <td>1</td>\n",
       "      <td>...</td>\n",
       "      <td>1</td>\n",
       "      <td>0</td>\n",
       "      <td>1</td>\n",
       "      <td>0</td>\n",
       "      <td>0</td>\n",
       "      <td>0</td>\n",
       "      <td>0</td>\n",
       "      <td>0</td>\n",
       "      <td>1</td>\n",
       "      <td>0</td>\n",
       "    </tr>\n",
       "    <tr>\n",
       "      <th>1</th>\n",
       "      <td>1</td>\n",
       "      <td>5400</td>\n",
       "      <td>5400</td>\n",
       "      <td>375.00</td>\n",
       "      <td>0</td>\n",
       "      <td>42000.0</td>\n",
       "      <td>16.09</td>\n",
       "      <td>0</td>\n",
       "      <td>0</td>\n",
       "      <td>0</td>\n",
       "      <td>...</td>\n",
       "      <td>1</td>\n",
       "      <td>0</td>\n",
       "      <td>0</td>\n",
       "      <td>1</td>\n",
       "      <td>0</td>\n",
       "      <td>0</td>\n",
       "      <td>0</td>\n",
       "      <td>0</td>\n",
       "      <td>1</td>\n",
       "      <td>0</td>\n",
       "    </tr>\n",
       "    <tr>\n",
       "      <th>2</th>\n",
       "      <td>1</td>\n",
       "      <td>1500</td>\n",
       "      <td>1500</td>\n",
       "      <td>583.05</td>\n",
       "      <td>0</td>\n",
       "      <td>15600.0</td>\n",
       "      <td>14.23</td>\n",
       "      <td>0</td>\n",
       "      <td>0</td>\n",
       "      <td>4</td>\n",
       "      <td>...</td>\n",
       "      <td>1</td>\n",
       "      <td>1</td>\n",
       "      <td>0</td>\n",
       "      <td>0</td>\n",
       "      <td>0</td>\n",
       "      <td>0</td>\n",
       "      <td>0</td>\n",
       "      <td>0</td>\n",
       "      <td>1</td>\n",
       "      <td>0</td>\n",
       "    </tr>\n",
       "    <tr>\n",
       "      <th>3</th>\n",
       "      <td>1</td>\n",
       "      <td>4800</td>\n",
       "      <td>4800</td>\n",
       "      <td>1550.00</td>\n",
       "      <td>0</td>\n",
       "      <td>60000.0</td>\n",
       "      <td>12.94</td>\n",
       "      <td>0</td>\n",
       "      <td>0</td>\n",
       "      <td>3</td>\n",
       "      <td>...</td>\n",
       "      <td>1</td>\n",
       "      <td>1</td>\n",
       "      <td>0</td>\n",
       "      <td>0</td>\n",
       "      <td>0</td>\n",
       "      <td>1</td>\n",
       "      <td>0</td>\n",
       "      <td>0</td>\n",
       "      <td>1</td>\n",
       "      <td>0</td>\n",
       "    </tr>\n",
       "    <tr>\n",
       "      <th>4</th>\n",
       "      <td>1</td>\n",
       "      <td>4800</td>\n",
       "      <td>4800</td>\n",
       "      <td>1625.00</td>\n",
       "      <td>0</td>\n",
       "      <td>25000.0</td>\n",
       "      <td>18.19</td>\n",
       "      <td>1</td>\n",
       "      <td>0</td>\n",
       "      <td>0</td>\n",
       "      <td>...</td>\n",
       "      <td>0</td>\n",
       "      <td>0</td>\n",
       "      <td>0</td>\n",
       "      <td>1</td>\n",
       "      <td>0</td>\n",
       "      <td>0</td>\n",
       "      <td>0</td>\n",
       "      <td>0</td>\n",
       "      <td>1</td>\n",
       "      <td>0</td>\n",
       "    </tr>\n",
       "  </tbody>\n",
       "</table>\n",
       "<p>5 rows × 79 columns</p>\n",
       "</div>"
      ],
      "text/plain": [
       "  initial_list_status  loan_amnt  funded_amnt  funded_amnt_inv term  \\\n",
       "0                   1      10000        10000          2175.00    0   \n",
       "1                   1       5400         5400           375.00    0   \n",
       "2                   1       1500         1500           583.05    0   \n",
       "3                   1       4800         4800          1550.00    0   \n",
       "4                   1       4800         4800          1625.00    0   \n",
       "\n",
       "   annual_inc    dti  delinq_2yrs acc_now_delinq  inq_last_6mths   ...     \\\n",
       "0     36400.0  18.92            0              0               1   ...      \n",
       "1     42000.0  16.09            0              0               0   ...      \n",
       "2     15600.0  14.23            0              0               4   ...      \n",
       "3     60000.0  12.94            0              0               3   ...      \n",
       "4     25000.0  18.19            1              0               0   ...      \n",
       "\n",
       "   cat_delinq_2yrs_zero  cat_inq_last_6mths_more than 2  \\\n",
       "0                     1                               0   \n",
       "1                     1                               0   \n",
       "2                     1                               1   \n",
       "3                     1                               1   \n",
       "4                     0                               0   \n",
       "\n",
       "   cat_inq_last_6mths_one  cat_inq_last_6mths_zero  inc_grp_high_inc  \\\n",
       "0                       1                        0                 0   \n",
       "1                       0                        1                 0   \n",
       "2                       0                        0                 0   \n",
       "3                       0                        0                 0   \n",
       "4                       0                        1                 0   \n",
       "\n",
       "   inc_grp_low_inc  inc_grp_middle_inc  inc_grp_veryhigh_inc  \\\n",
       "0                0                   0                     0   \n",
       "1                0                   0                     0   \n",
       "2                0                   0                     0   \n",
       "3                1                   0                     0   \n",
       "4                0                   0                     0   \n",
       "\n",
       "  credit_hist_grp_4-13_yrs  default  \n",
       "0                        1        0  \n",
       "1                        1        0  \n",
       "2                        1        0  \n",
       "3                        1        0  \n",
       "4                        1        0  \n",
       "\n",
       "[5 rows x 79 columns]"
      ]
     },
     "execution_count": 79,
     "metadata": {},
     "output_type": "execute_result"
    }
   ],
   "source": [
    "train.head()"
   ]
  },
  {
   "cell_type": "code",
   "execution_count": 82,
   "metadata": {},
   "outputs": [
    {
     "name": "stdout",
     "output_type": "stream",
     "text": [
      "Class 0: 167067\n",
      "Class 1: 36769\n",
      "Proportion: 4.54 : 1\n"
     ]
    },
    {
     "data": {
      "image/png": "[encoded data removed]",
      "text/plain": [
       "<Figure size 432x288 with 1 Axes>"
      ]
     },
     "metadata": {},
     "output_type": "display_data"
    }
   ],
   "source": [
    "target_count = train.default.value_counts()\n",
    "print('Class 0:', target_count[0])\n",
    "print('Class 1:', target_count[1])\n",
    "print('Proportion:', round(target_count[0] / target_count[1], 2), ': 1')\n",
    "\n",
    "target_count.plot(kind='bar', title='Count (target)');\n",
    "plt.show()"
   ]
  },
  {
   "cell_type": "code",
   "execution_count": 84,
   "metadata": {},
   "outputs": [],
   "source": [
    "import imblearn\n",
    "from imblearn.under_sampling import RandomUnderSampler\n",
    "from imblearn.over_sampling import RandomOverSampler\n",
    "from imblearn.over_sampling import SMOTE\n",
    "from imblearn.combine import SMOTETomek\n",
    "from imblearn.under_sampling import TomekLinks"
   ]
  },
  {
   "cell_type": "code",
   "execution_count": 93,
   "metadata": {},
   "outputs": [],
   "source": [
    "##Random Under Sampling\n",
    "rus = RandomUnderSampler(return_indices=True)\n",
    "X_rus, y_rus, id_rus = rus.fit_sample(X_train, y_train.astype(int))\n",
    "\n"
   ]
  },
  {
   "cell_type": "code",
   "execution_count": 129,
   "metadata": {},
   "outputs": [
    {
     "name": "stdout",
     "output_type": "stream",
     "text": [
      "Class 0: 36769\n",
      "Class 1: 36769\n"
     ]
    }
   ],
   "source": [
    "data_rus=pd.DataFrame(np.column_stack((X_rus,y_rus)))\n",
    "target_count = data_rus[78].value_counts()\n",
    "print('Class 0:', target_count[0])\n",
    "print('Class 1:', target_count[1])"
   ]
  },
  {
   "cell_type": "code",
   "execution_count": 94,
   "metadata": {},
   "outputs": [],
   "source": [
    "##Random Over Sampling\n",
    "ros = RandomOverSampler()\n",
    "X_ros, y_ros = ros.fit_sample(X_train, y_train.astype(int))"
   ]
  },
  {
   "cell_type": "code",
   "execution_count": 130,
   "metadata": {},
   "outputs": [
    {
     "name": "stdout",
     "output_type": "stream",
     "text": [
      "Class 0: 167067\n",
      "Class 1: 167067\n"
     ]
    }
   ],
   "source": [
    "data_ros=pd.DataFrame(np.column_stack((X_ros,y_ros)))\n",
    "target_count = data_ros[78].value_counts()\n",
    "print('Class 0:', target_count[0])\n",
    "print('Class 1:', target_count[1])"
   ]
  },
  {
   "cell_type": "code",
   "execution_count": 95,
   "metadata": {},
   "outputs": [],
   "source": [
    "## Under-sampling: Tomek links\n",
    "tl = TomekLinks(return_indices=True, ratio='majority')\n",
    "X_tl, y_tl, id_tl = tl.fit_sample(X_train, y_train.astype(int))"
   ]
  },
  {
   "cell_type": "code",
   "execution_count": 131,
   "metadata": {},
   "outputs": [
    {
     "name": "stdout",
     "output_type": "stream",
     "text": [
      "Class 0: 150411\n",
      "Class 1: 36769\n"
     ]
    }
   ],
   "source": [
    "data_tl=pd.DataFrame(np.column_stack((X_tl,y_tl)))\n",
    "target_count = data_tl[78].value_counts()\n",
    "print('Class 0:', target_count[0])\n",
    "print('Class 1:', target_count[1])"
   ]
  },
  {
   "cell_type": "code",
   "execution_count": 96,
   "metadata": {},
   "outputs": [],
   "source": [
    "smote = SMOTE(ratio='minority')\n",
    "X_sm, y_sm = smote.fit_sample(X_train, y_train.astype(int))"
   ]
  },
  {
   "cell_type": "code",
   "execution_count": 132,
   "metadata": {},
   "outputs": [
    {
     "name": "stdout",
     "output_type": "stream",
     "text": [
      "Class 0: 167067\n",
      "Class 1: 167067\n"
     ]
    }
   ],
   "source": [
    "data_smote=pd.DataFrame(np.column_stack((X_sm,y_sm)))\n",
    "target_count = data_smote[78].value_counts()\n",
    "print('Class 0:', target_count[0])\n",
    "print('Class 1:', target_count[1])"
   ]
  },
  {
   "cell_type": "code",
   "execution_count": 133,
   "metadata": {},
   "outputs": [],
   "source": [
    "from sklearn.linear_model import LogisticRegression\n",
    "model = LogisticRegression(solver=\"liblinear\", penalty='l1',max_iter=1000)"
   ]
  },
  {
   "cell_type": "code",
   "execution_count": 134,
   "metadata": {},
   "outputs": [
    {
     "data": {
      "text/plain": [
       "LogisticRegression(C=1.0, class_weight=None, dual=False, fit_intercept=True,\n",
       "          intercept_scaling=1, max_iter=1000, multi_class='warn',\n",
       "          n_jobs=None, penalty='l1', random_state=None, solver='liblinear',\n",
       "          tol=0.0001, verbose=0, warm_start=False)"
      ]
     },
     "execution_count": 134,
     "metadata": {},
     "output_type": "execute_result"
    }
   ],
   "source": [
    "model.fit(X_train, y_train)"
   ]
  },
  {
   "cell_type": "code",
   "execution_count": 135,
   "metadata": {},
   "outputs": [
    {
     "data": {
      "text/plain": [
       "0.819953295786809"
      ]
     },
     "execution_count": 135,
     "metadata": {},
     "output_type": "execute_result"
    }
   ],
   "source": [
    "model.score(X_train,y_train)"
   ]
  },
  {
   "cell_type": "code",
   "execution_count": 136,
   "metadata": {},
   "outputs": [
    {
     "data": {
      "text/plain": [
       "0.6430280943185835"
      ]
     },
     "execution_count": 136,
     "metadata": {},
     "output_type": "execute_result"
    }
   ],
   "source": [
    "model.fit(X_rus, y_rus)\n",
    "model.score(X_rus, y_rus)"
   ]
  },
  {
   "cell_type": "code",
   "execution_count": 137,
   "metadata": {},
   "outputs": [
    {
     "data": {
      "text/plain": [
       "0.6396924587141686"
      ]
     },
     "execution_count": 137,
     "metadata": {},
     "output_type": "execute_result"
    }
   ],
   "source": [
    "model.fit(X_ros, y_ros)\n",
    "model.score(X_ros, y_ros)"
   ]
  },
  {
   "cell_type": "code",
   "execution_count": 138,
   "metadata": {},
   "outputs": [
    {
     "data": {
      "text/plain": [
       "0.8052623143498236"
      ]
     },
     "execution_count": 138,
     "metadata": {},
     "output_type": "execute_result"
    }
   ],
   "source": [
    "model.fit(X_tl, y_tl)\n",
    "model.score(X_tl, y_tl)"
   ]
  },
  {
   "cell_type": "code",
   "execution_count": 139,
   "metadata": {},
   "outputs": [
    {
     "data": {
      "text/plain": [
       "0.6493143469386533"
      ]
     },
     "execution_count": 139,
     "metadata": {},
     "output_type": "execute_result"
    }
   ],
   "source": [
    "model.fit(X_sm, y_sm)\n",
    "model.score(X_sm, y_sm)"
   ]
  },
  {
   "cell_type": "code",
   "execution_count": null,
   "metadata": {},
   "outputs": [],
   "source": []
  }
 ],
 "metadata": {
  "kernelspec": {
   "display_name": "Python 3",
   "language": "python",
   "name": "python3"
  },
  "language_info": {
   "codemirror_mode": {
    "name": "ipython",
    "version": 3
   },
   "file_extension": ".py",
   "mimetype": "text/x-python",
   "name": "python",
   "nbconvert_exporter": "python",
   "pygments_lexer": "ipython3",
   "version": "3.6.5"
  }
 },
 "nbformat": 4,
 "nbformat_minor": 2
}
