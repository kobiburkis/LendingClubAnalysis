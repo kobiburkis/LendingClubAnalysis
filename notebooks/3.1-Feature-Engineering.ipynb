{
 "cells": [
  {
   "cell_type": "markdown",
   "metadata": {},
   "source": [
    "# Feature Engineering\n",
    "In this notebook, we will try to create new variables and transformations based on the tests we have done in the EDA notebook.\n",
    "We took into account the distributions of the various variables and whether they are consecutive or not.\n"
   ]
  },
  {
   "cell_type": "code",
   "execution_count": 2,
   "metadata": {},
   "outputs": [
    {
     "name": "stderr",
     "output_type": "stream",
     "text": [
      "Loading required package: DBI\n",
      "Loading required package: RSQLite\n",
      "Loading required package: dplyr\n",
      "\n",
      "Attaching package: 'dplyr'\n",
      "\n",
      "The following objects are masked from 'package:stats':\n",
      "\n",
      "    filter, lag\n",
      "\n",
      "The following objects are masked from 'package:base':\n",
      "\n",
      "    intersect, setdiff, setequal, union\n",
      "\n",
      "Loading required package: funModeling\n",
      "Warning message:\n",
      "\"package 'funModeling' was built under R version 3.5.2\"Loading required package: Hmisc\n",
      "Loading required package: lattice\n",
      "Loading required package: survival\n",
      "Loading required package: Formula\n",
      "Loading required package: ggplot2\n",
      "\n",
      "Attaching package: 'Hmisc'\n",
      "\n",
      "The following objects are masked from 'package:dplyr':\n",
      "\n",
      "    src, summarize\n",
      "\n",
      "The following objects are masked from 'package:base':\n",
      "\n",
      "    format.pval, units\n",
      "\n",
      "funModeling v.1.6.8 :)\n",
      "Examples and tutorials at livebook.datascienceheroes.com\n",
      "\n"
     ]
    }
   ],
   "source": [
    "##Importing required packages \n",
    "if(!require(DBI)){install.packages(\"DBI\"); require(DBI)}\n",
    "if(!require(RSQLite)){install.packages(\"RSQLite\"); require(RSQLite)}\n",
    "if(!require(dplyr)){install.packages(\"dplyr\"); require(dplyr)}\n",
    "if(!require(funModeling)){install.packages(\"funModeling\"); require(funModeling)}"
   ]
  },
  {
   "cell_type": "code",
   "execution_count": 3,
   "metadata": {},
   "outputs": [],
   "source": [
    "##############################################################################\n",
    "##########                DATABASE FUNCTIONS                     #############\n",
    "##############################################################################\n",
    "            \n",
    "\n",
    "#### Read function to import data from the SQL to a pandas dataframe.\n",
    "readSQL <- function(query, db=DB_FILE) {\n",
    "    require(DBI)\n",
    "    require(RSQLite)\n",
    "    con <- dbConnect(SQLite(), DB_FILE)\n",
    "    df <- dbGetQuery(con, query)\n",
    "    return(df)\n",
    "}\n",
    "\n",
    "#### Write a pandas dataframe into an SQL table. Use overwrite=True if you want to delete \n",
    "#### first a pre-existent table with the same name. Use append=True if you want to append\n",
    "#### the data in the dataframe to a pre-existent table.\n",
    "writeSQL <- function(df,tablename,overwrite=FALSE, append=FALSE,db=DB_FILE) {\n",
    "    require(DBI)\n",
    "    require(RSQLite)\n",
    "    con <- dbConnect(SQLite(), DB_FILE)\n",
    "    dbWriteTable(con,tablename,df,overwrite,append)\n",
    "}\n",
    "####"
   ]
  },
  {
   "cell_type": "code",
   "execution_count": 4,
   "metadata": {},
   "outputs": [],
   "source": [
    "DB_FILE = paste0(getwd(),\"/Data/loans.db\")"
   ]
  },
  {
   "cell_type": "code",
   "execution_count": 8,
   "metadata": {},
   "outputs": [],
   "source": [
    "loans = readSQL(\"SELECT * FROM loans_dataset\")"
   ]
  },
  {
   "cell_type": "code",
   "execution_count": 9,
   "metadata": {},
   "outputs": [],
   "source": [
    "#make a copy - for restore if necessary \n",
    "loansdata <- loans"
   ]
  },
  {
   "cell_type": "code",
   "execution_count": 10,
   "metadata": {},
   "outputs": [
    {
     "data": {
      "text/html": [
       "<ol class=list-inline>\n",
       "\t<li>255720</li>\n",
       "\t<li>48</li>\n",
       "</ol>\n"
      ],
      "text/latex": [
       "\\begin{enumerate*}\n",
       "\\item 255720\n",
       "\\item 48\n",
       "\\end{enumerate*}\n"
      ],
      "text/markdown": [
       "1. 255720\n",
       "2. 48\n",
       "\n",
       "\n"
      ],
      "text/plain": [
       "[1] 255720     48"
      ]
     },
     "metadata": {},
     "output_type": "display_data"
    }
   ],
   "source": [
    "dim(loans)"
   ]
  },
  {
   "cell_type": "markdown",
   "metadata": {},
   "source": [
    "Sorting the parameters by their type"
   ]
  },
  {
   "cell_type": "code",
   "execution_count": 11,
   "metadata": {},
   "outputs": [
    {
     "data": {
      "text/html": [
       "<dl>\n",
       "\t<dt>$character</dt>\n",
       "\t\t<dd><ol class=list-inline>\n",
       "\t<li>'verification_status'</li>\n",
       "\t<li>'issue_d'</li>\n",
       "\t<li>'purpose'</li>\n",
       "\t<li>'emp_length'</li>\n",
       "\t<li>'home_ownership'</li>\n",
       "\t<li>'full_state'</li>\n",
       "</ol>\n",
       "</dd>\n",
       "\t<dt>$integer</dt>\n",
       "\t\t<dd><ol class=list-inline>\n",
       "\t<li>'pymnt_plan'</li>\n",
       "\t<li>'initial_list_status'</li>\n",
       "\t<li>'loan_amnt'</li>\n",
       "\t<li>'funded_amnt'</li>\n",
       "\t<li>'term'</li>\n",
       "\t<li>'collections_12_mths_ex_med'</li>\n",
       "\t<li>'mths_since_last_major_derog'</li>\n",
       "\t<li>'delinq_2yrs'</li>\n",
       "\t<li>'acc_now_delinq'</li>\n",
       "\t<li>'inq_last_6mths'</li>\n",
       "\t<li>'mths_since_last_delinq'</li>\n",
       "\t<li>'mths_since_last_record'</li>\n",
       "\t<li>'open_acc'</li>\n",
       "\t<li>'pub_rec'</li>\n",
       "\t<li>'total_acc'</li>\n",
       "\t<li>'tot_coll_amt'</li>\n",
       "\t<li>'open_acc_6m'</li>\n",
       "\t<li>'open_il_6m'</li>\n",
       "\t<li>'open_il_12m'</li>\n",
       "\t<li>'open_il_24m'</li>\n",
       "\t<li>'mths_since_rcnt_il'</li>\n",
       "\t<li>'total_bal_il'</li>\n",
       "\t<li>'open_rv_12m'</li>\n",
       "\t<li>'open_rv_24m'</li>\n",
       "\t<li>'max_bal_bc'</li>\n",
       "\t<li>'inq_fi'</li>\n",
       "\t<li>'total_cu_tl'</li>\n",
       "\t<li>'inq_last_12m'</li>\n",
       "\t<li>'default'</li>\n",
       "\t<li>'credit_hist'</li>\n",
       "</ol>\n",
       "</dd>\n",
       "\t<dt>$numeric</dt>\n",
       "\t\t<dd><ol class=list-inline>\n",
       "\t<li>'funded_amnt_inv'</li>\n",
       "\t<li>'annual_inc'</li>\n",
       "\t<li>'dti'</li>\n",
       "\t<li>'revol_bal'</li>\n",
       "\t<li>'revol_util'</li>\n",
       "\t<li>'tot_cur_bal'</li>\n",
       "\t<li>'il_util'</li>\n",
       "\t<li>'all_util'</li>\n",
       "\t<li>'total_rev_hi_lim'</li>\n",
       "\t<li>'loan_installment'</li>\n",
       "\t<li>'acc_ratio'</li>\n",
       "\t<li>'poverty_rate_p'</li>\n",
       "</ol>\n",
       "</dd>\n",
       "</dl>\n"
      ],
      "text/latex": [
       "\\begin{description}\n",
       "\\item[\\$character] \\begin{enumerate*}\n",
       "\\item 'verification\\_status'\n",
       "\\item 'issue\\_d'\n",
       "\\item 'purpose'\n",
       "\\item 'emp\\_length'\n",
       "\\item 'home\\_ownership'\n",
       "\\item 'full\\_state'\n",
       "\\end{enumerate*}\n",
       "\n",
       "\\item[\\$integer] \\begin{enumerate*}\n",
       "\\item 'pymnt\\_plan'\n",
       "\\item 'initial\\_list\\_status'\n",
       "\\item 'loan\\_amnt'\n",
       "\\item 'funded\\_amnt'\n",
       "\\item 'term'\n",
       "\\item 'collections\\_12\\_mths\\_ex\\_med'\n",
       "\\item 'mths\\_since\\_last\\_major\\_derog'\n",
       "\\item 'delinq\\_2yrs'\n",
       "\\item 'acc\\_now\\_delinq'\n",
       "\\item 'inq\\_last\\_6mths'\n",
       "\\item 'mths\\_since\\_last\\_delinq'\n",
       "\\item 'mths\\_since\\_last\\_record'\n",
       "\\item 'open\\_acc'\n",
       "\\item 'pub\\_rec'\n",
       "\\item 'total\\_acc'\n",
       "\\item 'tot\\_coll\\_amt'\n",
       "\\item 'open\\_acc\\_6m'\n",
       "\\item 'open\\_il\\_6m'\n",
       "\\item 'open\\_il\\_12m'\n",
       "\\item 'open\\_il\\_24m'\n",
       "\\item 'mths\\_since\\_rcnt\\_il'\n",
       "\\item 'total\\_bal\\_il'\n",
       "\\item 'open\\_rv\\_12m'\n",
       "\\item 'open\\_rv\\_24m'\n",
       "\\item 'max\\_bal\\_bc'\n",
       "\\item 'inq\\_fi'\n",
       "\\item 'total\\_cu\\_tl'\n",
       "\\item 'inq\\_last\\_12m'\n",
       "\\item 'default'\n",
       "\\item 'credit\\_hist'\n",
       "\\end{enumerate*}\n",
       "\n",
       "\\item[\\$numeric] \\begin{enumerate*}\n",
       "\\item 'funded\\_amnt\\_inv'\n",
       "\\item 'annual\\_inc'\n",
       "\\item 'dti'\n",
       "\\item 'revol\\_bal'\n",
       "\\item 'revol\\_util'\n",
       "\\item 'tot\\_cur\\_bal'\n",
       "\\item 'il\\_util'\n",
       "\\item 'all\\_util'\n",
       "\\item 'total\\_rev\\_hi\\_lim'\n",
       "\\item 'loan\\_installment'\n",
       "\\item 'acc\\_ratio'\n",
       "\\item 'poverty\\_rate\\_p'\n",
       "\\end{enumerate*}\n",
       "\n",
       "\\end{description}\n"
      ],
      "text/markdown": [
       "$character\n",
       ":   1. 'verification_status'\n",
       "2. 'issue_d'\n",
       "3. 'purpose'\n",
       "4. 'emp_length'\n",
       "5. 'home_ownership'\n",
       "6. 'full_state'\n",
       "\n",
       "\n",
       "\n",
       "$integer\n",
       ":   1. 'pymnt_plan'\n",
       "2. 'initial_list_status'\n",
       "3. 'loan_amnt'\n",
       "4. 'funded_amnt'\n",
       "5. 'term'\n",
       "6. 'collections_12_mths_ex_med'\n",
       "7. 'mths_since_last_major_derog'\n",
       "8. 'delinq_2yrs'\n",
       "9. 'acc_now_delinq'\n",
       "10. 'inq_last_6mths'\n",
       "11. 'mths_since_last_delinq'\n",
       "12. 'mths_since_last_record'\n",
       "13. 'open_acc'\n",
       "14. 'pub_rec'\n",
       "15. 'total_acc'\n",
       "16. 'tot_coll_amt'\n",
       "17. 'open_acc_6m'\n",
       "18. 'open_il_6m'\n",
       "19. 'open_il_12m'\n",
       "20. 'open_il_24m'\n",
       "21. 'mths_since_rcnt_il'\n",
       "22. 'total_bal_il'\n",
       "23. 'open_rv_12m'\n",
       "24. 'open_rv_24m'\n",
       "25. 'max_bal_bc'\n",
       "26. 'inq_fi'\n",
       "27. 'total_cu_tl'\n",
       "28. 'inq_last_12m'\n",
       "29. 'default'\n",
       "30. 'credit_hist'\n",
       "\n",
       "\n",
       "\n",
       "$numeric\n",
       ":   1. 'funded_amnt_inv'\n",
       "2. 'annual_inc'\n",
       "3. 'dti'\n",
       "4. 'revol_bal'\n",
       "5. 'revol_util'\n",
       "6. 'tot_cur_bal'\n",
       "7. 'il_util'\n",
       "8. 'all_util'\n",
       "9. 'total_rev_hi_lim'\n",
       "10. 'loan_installment'\n",
       "11. 'acc_ratio'\n",
       "12. 'poverty_rate_p'\n",
       "\n",
       "\n",
       "\n",
       "\n",
       "\n"
      ],
      "text/plain": [
       "$character\n",
       "[1] \"verification_status\" \"issue_d\"             \"purpose\"            \n",
       "[4] \"emp_length\"          \"home_ownership\"      \"full_state\"         \n",
       "\n",
       "$integer\n",
       " [1] \"pymnt_plan\"                  \"initial_list_status\"        \n",
       " [3] \"loan_amnt\"                   \"funded_amnt\"                \n",
       " [5] \"term\"                        \"collections_12_mths_ex_med\" \n",
       " [7] \"mths_since_last_major_derog\" \"delinq_2yrs\"                \n",
       " [9] \"acc_now_delinq\"              \"inq_last_6mths\"             \n",
       "[11] \"mths_since_last_delinq\"      \"mths_since_last_record\"     \n",
       "[13] \"open_acc\"                    \"pub_rec\"                    \n",
       "[15] \"total_acc\"                   \"tot_coll_amt\"               \n",
       "[17] \"open_acc_6m\"                 \"open_il_6m\"                 \n",
       "[19] \"open_il_12m\"                 \"open_il_24m\"                \n",
       "[21] \"mths_since_rcnt_il\"          \"total_bal_il\"               \n",
       "[23] \"open_rv_12m\"                 \"open_rv_24m\"                \n",
       "[25] \"max_bal_bc\"                  \"inq_fi\"                     \n",
       "[27] \"total_cu_tl\"                 \"inq_last_12m\"               \n",
       "[29] \"default\"                     \"credit_hist\"                \n",
       "\n",
       "$numeric\n",
       " [1] \"funded_amnt_inv\"  \"annual_inc\"       \"dti\"              \"revol_bal\"       \n",
       " [5] \"revol_util\"       \"tot_cur_bal\"      \"il_util\"          \"all_util\"        \n",
       " [9] \"total_rev_hi_lim\" \"loan_installment\" \"acc_ratio\"        \"poverty_rate_p\"  \n"
      ]
     },
     "metadata": {},
     "output_type": "display_data"
    }
   ],
   "source": [
    "split(names(loans),sapply(loans, function(x) paste(class(x), collapse=\" \")))"
   ]
  },
  {
   "cell_type": "code",
   "execution_count": 12,
   "metadata": {},
   "outputs": [],
   "source": [
    "loans$verification_status <-as.factor(loans$verification_status)\n",
    "loans$purpose <-as.factor(loans$purpose)\n",
    "loans$emp_length <-as.factor(loans$emp_length)\n",
    "loans$home_ownership <-as.factor(loans$home_ownership)\n",
    "loans$term <-as.factor(loans$term)\n",
    "loans$pymnt_plan <-as.factor(loans$pymnt_plan)\n",
    "loans$initial_list_status <-as.factor(loans$initial_list_status)\n",
    "loans$full_state <-as.factor(loans$full_state)\n",
    "loans$issue_d <- as.Date(loans$issue_d)\n",
    "loans$default <- factor(loans$default)"
   ]
  },
  {
   "cell_type": "code",
   "execution_count": 13,
   "metadata": {
    "scrolled": true
   },
   "outputs": [
    {
     "data": {
      "text/html": [
       "<ol class=list-inline>\n",
       "\t<li>'loan_amnt'</li>\n",
       "\t<li>'funded_amnt'</li>\n",
       "\t<li>'funded_amnt_inv'</li>\n",
       "\t<li>'collections_12_mths_ex_med'</li>\n",
       "\t<li>'mths_since_last_major_derog'</li>\n",
       "\t<li>'annual_inc'</li>\n",
       "\t<li>'dti'</li>\n",
       "\t<li>'delinq_2yrs'</li>\n",
       "\t<li>'acc_now_delinq'</li>\n",
       "\t<li>'inq_last_6mths'</li>\n",
       "\t<li>'mths_since_last_delinq'</li>\n",
       "\t<li>'mths_since_last_record'</li>\n",
       "\t<li>'open_acc'</li>\n",
       "\t<li>'pub_rec'</li>\n",
       "\t<li>'revol_bal'</li>\n",
       "\t<li>'revol_util'</li>\n",
       "\t<li>'total_acc'</li>\n",
       "\t<li>'tot_coll_amt'</li>\n",
       "\t<li>'tot_cur_bal'</li>\n",
       "\t<li>'open_acc_6m'</li>\n",
       "\t<li>'open_il_6m'</li>\n",
       "\t<li>'open_il_12m'</li>\n",
       "\t<li>'open_il_24m'</li>\n",
       "\t<li>'mths_since_rcnt_il'</li>\n",
       "\t<li>'total_bal_il'</li>\n",
       "\t<li>'il_util'</li>\n",
       "\t<li>'open_rv_12m'</li>\n",
       "\t<li>'open_rv_24m'</li>\n",
       "\t<li>'max_bal_bc'</li>\n",
       "\t<li>'all_util'</li>\n",
       "\t<li>'total_rev_hi_lim'</li>\n",
       "\t<li>'inq_fi'</li>\n",
       "\t<li>'total_cu_tl'</li>\n",
       "\t<li>'inq_last_12m'</li>\n",
       "\t<li>'loan_installment'</li>\n",
       "\t<li>'acc_ratio'</li>\n",
       "\t<li>'credit_hist'</li>\n",
       "\t<li>'poverty_rate_p'</li>\n",
       "</ol>\n"
      ],
      "text/latex": [
       "\\begin{enumerate*}\n",
       "\\item 'loan\\_amnt'\n",
       "\\item 'funded\\_amnt'\n",
       "\\item 'funded\\_amnt\\_inv'\n",
       "\\item 'collections\\_12\\_mths\\_ex\\_med'\n",
       "\\item 'mths\\_since\\_last\\_major\\_derog'\n",
       "\\item 'annual\\_inc'\n",
       "\\item 'dti'\n",
       "\\item 'delinq\\_2yrs'\n",
       "\\item 'acc\\_now\\_delinq'\n",
       "\\item 'inq\\_last\\_6mths'\n",
       "\\item 'mths\\_since\\_last\\_delinq'\n",
       "\\item 'mths\\_since\\_last\\_record'\n",
       "\\item 'open\\_acc'\n",
       "\\item 'pub\\_rec'\n",
       "\\item 'revol\\_bal'\n",
       "\\item 'revol\\_util'\n",
       "\\item 'total\\_acc'\n",
       "\\item 'tot\\_coll\\_amt'\n",
       "\\item 'tot\\_cur\\_bal'\n",
       "\\item 'open\\_acc\\_6m'\n",
       "\\item 'open\\_il\\_6m'\n",
       "\\item 'open\\_il\\_12m'\n",
       "\\item 'open\\_il\\_24m'\n",
       "\\item 'mths\\_since\\_rcnt\\_il'\n",
       "\\item 'total\\_bal\\_il'\n",
       "\\item 'il\\_util'\n",
       "\\item 'open\\_rv\\_12m'\n",
       "\\item 'open\\_rv\\_24m'\n",
       "\\item 'max\\_bal\\_bc'\n",
       "\\item 'all\\_util'\n",
       "\\item 'total\\_rev\\_hi\\_lim'\n",
       "\\item 'inq\\_fi'\n",
       "\\item 'total\\_cu\\_tl'\n",
       "\\item 'inq\\_last\\_12m'\n",
       "\\item 'loan\\_installment'\n",
       "\\item 'acc\\_ratio'\n",
       "\\item 'credit\\_hist'\n",
       "\\item 'poverty\\_rate\\_p'\n",
       "\\end{enumerate*}\n"
      ],
      "text/markdown": [
       "1. 'loan_amnt'\n",
       "2. 'funded_amnt'\n",
       "3. 'funded_amnt_inv'\n",
       "4. 'collections_12_mths_ex_med'\n",
       "5. 'mths_since_last_major_derog'\n",
       "6. 'annual_inc'\n",
       "7. 'dti'\n",
       "8. 'delinq_2yrs'\n",
       "9. 'acc_now_delinq'\n",
       "10. 'inq_last_6mths'\n",
       "11. 'mths_since_last_delinq'\n",
       "12. 'mths_since_last_record'\n",
       "13. 'open_acc'\n",
       "14. 'pub_rec'\n",
       "15. 'revol_bal'\n",
       "16. 'revol_util'\n",
       "17. 'total_acc'\n",
       "18. 'tot_coll_amt'\n",
       "19. 'tot_cur_bal'\n",
       "20. 'open_acc_6m'\n",
       "21. 'open_il_6m'\n",
       "22. 'open_il_12m'\n",
       "23. 'open_il_24m'\n",
       "24. 'mths_since_rcnt_il'\n",
       "25. 'total_bal_il'\n",
       "26. 'il_util'\n",
       "27. 'open_rv_12m'\n",
       "28. 'open_rv_24m'\n",
       "29. 'max_bal_bc'\n",
       "30. 'all_util'\n",
       "31. 'total_rev_hi_lim'\n",
       "32. 'inq_fi'\n",
       "33. 'total_cu_tl'\n",
       "34. 'inq_last_12m'\n",
       "35. 'loan_installment'\n",
       "36. 'acc_ratio'\n",
       "37. 'credit_hist'\n",
       "38. 'poverty_rate_p'\n",
       "\n",
       "\n"
      ],
      "text/plain": [
       " [1] \"loan_amnt\"                   \"funded_amnt\"                \n",
       " [3] \"funded_amnt_inv\"             \"collections_12_mths_ex_med\" \n",
       " [5] \"mths_since_last_major_derog\" \"annual_inc\"                 \n",
       " [7] \"dti\"                         \"delinq_2yrs\"                \n",
       " [9] \"acc_now_delinq\"              \"inq_last_6mths\"             \n",
       "[11] \"mths_since_last_delinq\"      \"mths_since_last_record\"     \n",
       "[13] \"open_acc\"                    \"pub_rec\"                    \n",
       "[15] \"revol_bal\"                   \"revol_util\"                 \n",
       "[17] \"total_acc\"                   \"tot_coll_amt\"               \n",
       "[19] \"tot_cur_bal\"                 \"open_acc_6m\"                \n",
       "[21] \"open_il_6m\"                  \"open_il_12m\"                \n",
       "[23] \"open_il_24m\"                 \"mths_since_rcnt_il\"         \n",
       "[25] \"total_bal_il\"                \"il_util\"                    \n",
       "[27] \"open_rv_12m\"                 \"open_rv_24m\"                \n",
       "[29] \"max_bal_bc\"                  \"all_util\"                   \n",
       "[31] \"total_rev_hi_lim\"            \"inq_fi\"                     \n",
       "[33] \"total_cu_tl\"                 \"inq_last_12m\"               \n",
       "[35] \"loan_installment\"            \"acc_ratio\"                  \n",
       "[37] \"credit_hist\"                 \"poverty_rate_p\"             "
      ]
     },
     "metadata": {},
     "output_type": "display_data"
    }
   ],
   "source": [
    "## numeric variables\n",
    "num_vars <- \n",
    "  loans %>% \n",
    "  sapply(is.numeric) %>% \n",
    "  which() %>% \n",
    "  names()\n",
    "num_vars"
   ]
  },
  {
   "cell_type": "code",
   "execution_count": 14,
   "metadata": {},
   "outputs": [
    {
     "data": {
      "text/html": [
       "38"
      ],
      "text/latex": [
       "38"
      ],
      "text/markdown": [
       "38"
      ],
      "text/plain": [
       "[1] 38"
      ]
     },
     "metadata": {},
     "output_type": "display_data"
    }
   ],
   "source": [
    "length(num_vars)"
   ]
  },
  {
   "cell_type": "code",
   "execution_count": 15,
   "metadata": {
    "scrolled": true
   },
   "outputs": [
    {
     "data": {
      "text/html": [
       "<ol class=list-inline>\n",
       "\t<li>'verification_status'</li>\n",
       "\t<li>'pymnt_plan'</li>\n",
       "\t<li>'purpose'</li>\n",
       "\t<li>'initial_list_status'</li>\n",
       "\t<li>'emp_length'</li>\n",
       "\t<li>'term'</li>\n",
       "\t<li>'home_ownership'</li>\n",
       "\t<li>'full_state'</li>\n",
       "</ol>\n"
      ],
      "text/latex": [
       "\\begin{enumerate*}\n",
       "\\item 'verification\\_status'\n",
       "\\item 'pymnt\\_plan'\n",
       "\\item 'purpose'\n",
       "\\item 'initial\\_list\\_status'\n",
       "\\item 'emp\\_length'\n",
       "\\item 'term'\n",
       "\\item 'home\\_ownership'\n",
       "\\item 'full\\_state'\n",
       "\\end{enumerate*}\n"
      ],
      "text/markdown": [
       "1. 'verification_status'\n",
       "2. 'pymnt_plan'\n",
       "3. 'purpose'\n",
       "4. 'initial_list_status'\n",
       "5. 'emp_length'\n",
       "6. 'term'\n",
       "7. 'home_ownership'\n",
       "8. 'full_state'\n",
       "\n",
       "\n"
      ],
      "text/plain": [
       "[1] \"verification_status\" \"pymnt_plan\"          \"purpose\"            \n",
       "[4] \"initial_list_status\" \"emp_length\"          \"term\"               \n",
       "[7] \"home_ownership\"      \"full_state\"         "
      ]
     },
     "metadata": {},
     "output_type": "display_data"
    }
   ],
   "source": [
    "## categorical variables\n",
    "cat_vars <- \n",
    "  loans %>% select(-one_of(\"default\")) %>% \n",
    "  sapply(is.factor) %>% \n",
    "  which() %>% \n",
    "  names()\n",
    "cat_vars"
   ]
  },
  {
   "cell_type": "code",
   "execution_count": 16,
   "metadata": {},
   "outputs": [
    {
     "data": {
      "text/html": [
       "<ol class=list-inline>\n",
       "\t<li>'issue_d'</li>\n",
       "\t<li>'default'</li>\n",
       "</ol>\n"
      ],
      "text/latex": [
       "\\begin{enumerate*}\n",
       "\\item 'issue\\_d'\n",
       "\\item 'default'\n",
       "\\end{enumerate*}\n"
      ],
      "text/markdown": [
       "1. 'issue_d'\n",
       "2. 'default'\n",
       "\n",
       "\n"
      ],
      "text/plain": [
       "[1] \"issue_d\" \"default\""
      ]
     },
     "metadata": {},
     "output_type": "display_data"
    }
   ],
   "source": [
    "## other\n",
    "other_vars <- setdiff(names(loans),c(num_vars,cat_vars))\n",
    "other_vars"
   ]
  },
  {
   "cell_type": "markdown",
   "metadata": {},
   "source": [
    "### Count variables\n",
    "In the dataset we have a lot of counts variables, in this stage we transform some of them to a categorical variable.\n"
   ]
  },
  {
   "cell_type": "markdown",
   "metadata": {},
   "source": [
    "<b>delinq_2yrs</b>\n",
    "<br> we saw that this variable have 30 different values but most of them where 1 or zero."
   ]
  },
  {
   "cell_type": "code",
   "execution_count": 17,
   "metadata": {},
   "outputs": [],
   "source": [
    "# to caterorical\n",
    "loans$cat_delinq_2yrs<-NULL\n",
    "loans$cat_delinq_2yrs[loans$delinq_2yrs == 0] <- \"zero\"\n",
    "loans$cat_delinq_2yrs[loans$delinq_2yrs == 1] <- 'one'\n",
    "loans$cat_delinq_2yrs[loans$delinq_2yrs > 1] <- 'more than 1'\n",
    "loans$cat_delinq_2yrs<-factor(loans$cat_delinq_2yrs)\n"
   ]
  },
  {
   "cell_type": "code",
   "execution_count": 18,
   "metadata": {},
   "outputs": [
    {
     "data": {
      "text/html": [
       "<dl class=dl-horizontal>\n",
       "\t<dt>more than 1</dt>\n",
       "\t\t<dd>12682</dd>\n",
       "\t<dt>one</dt>\n",
       "\t\t<dd>28466</dd>\n",
       "\t<dt>zero</dt>\n",
       "\t\t<dd>214543</dd>\n",
       "\t<dt>NA's</dt>\n",
       "\t\t<dd>29</dd>\n",
       "</dl>\n"
      ],
      "text/latex": [
       "\\begin{description*}\n",
       "\\item[more than 1] 12682\n",
       "\\item[one] 28466\n",
       "\\item[zero] 214543\n",
       "\\item[NA's] 29\n",
       "\\end{description*}\n"
      ],
      "text/markdown": [
       "more than 1\n",
       ":   12682one\n",
       ":   28466zero\n",
       ":   214543NA's\n",
       ":   29\n",
       "\n"
      ],
      "text/plain": [
       "more than 1         one        zero        NA's \n",
       "      12682       28466      214543          29 "
      ]
     },
     "metadata": {},
     "output_type": "display_data"
    }
   ],
   "source": [
    "summary(loans$cat_delinq_2yrs)\n"
   ]
  },
  {
   "cell_type": "markdown",
   "metadata": {},
   "source": [
    "<b>inq_last_6mths</b>\n",
    "<br> we saw that this variable have 28 different values but most of them  zeros."
   ]
  },
  {
   "cell_type": "code",
   "execution_count": 19,
   "metadata": {},
   "outputs": [
    {
     "data": {
      "text/html": [
       "<dl class=dl-horizontal>\n",
       "\t<dt>0</dt>\n",
       "\t\t<dd>124083</dd>\n",
       "\t<dt>1</dt>\n",
       "\t\t<dd>72996</dd>\n",
       "\t<dt>2</dt>\n",
       "\t\t<dd>34930</dd>\n",
       "\t<dt>3</dt>\n",
       "\t\t<dd>16188</dd>\n",
       "\t<dt>4</dt>\n",
       "\t\t<dd>4422</dd>\n",
       "\t<dt>5</dt>\n",
       "\t\t<dd>1824</dd>\n",
       "\t<dt>6</dt>\n",
       "\t\t<dd>792</dd>\n",
       "\t<dt>7</dt>\n",
       "\t\t<dd>193</dd>\n",
       "\t<dt>8</dt>\n",
       "\t\t<dd>118</dd>\n",
       "\t<dt>9</dt>\n",
       "\t\t<dd>50</dd>\n",
       "\t<dt>10</dt>\n",
       "\t\t<dd>24</dd>\n",
       "\t<dt>11</dt>\n",
       "\t\t<dd>15</dd>\n",
       "\t<dt>12</dt>\n",
       "\t\t<dd>15</dd>\n",
       "\t<dt>13</dt>\n",
       "\t\t<dd>6</dd>\n",
       "\t<dt>14</dt>\n",
       "\t\t<dd>6</dd>\n",
       "\t<dt>15</dt>\n",
       "\t\t<dd>9</dd>\n",
       "\t<dt>16</dt>\n",
       "\t\t<dd>3</dd>\n",
       "\t<dt>17</dt>\n",
       "\t\t<dd>2</dd>\n",
       "\t<dt>18</dt>\n",
       "\t\t<dd>4</dd>\n",
       "\t<dt>19</dt>\n",
       "\t\t<dd>2</dd>\n",
       "\t<dt>20</dt>\n",
       "\t\t<dd>1</dd>\n",
       "\t<dt>24</dt>\n",
       "\t\t<dd>2</dd>\n",
       "\t<dt>25</dt>\n",
       "\t\t<dd>1</dd>\n",
       "\t<dt>27</dt>\n",
       "\t\t<dd>1</dd>\n",
       "\t<dt>28</dt>\n",
       "\t\t<dd>1</dd>\n",
       "\t<dt>31</dt>\n",
       "\t\t<dd>1</dd>\n",
       "\t<dt>32</dt>\n",
       "\t\t<dd>1</dd>\n",
       "\t<dt>33</dt>\n",
       "\t\t<dd>1</dd>\n",
       "\t<dt>NA's</dt>\n",
       "\t\t<dd>29</dd>\n",
       "</dl>\n"
      ],
      "text/latex": [
       "\\begin{description*}\n",
       "\\item[0] 124083\n",
       "\\item[1] 72996\n",
       "\\item[2] 34930\n",
       "\\item[3] 16188\n",
       "\\item[4] 4422\n",
       "\\item[5] 1824\n",
       "\\item[6] 792\n",
       "\\item[7] 193\n",
       "\\item[8] 118\n",
       "\\item[9] 50\n",
       "\\item[10] 24\n",
       "\\item[11] 15\n",
       "\\item[12] 15\n",
       "\\item[13] 6\n",
       "\\item[14] 6\n",
       "\\item[15] 9\n",
       "\\item[16] 3\n",
       "\\item[17] 2\n",
       "\\item[18] 4\n",
       "\\item[19] 2\n",
       "\\item[20] 1\n",
       "\\item[24] 2\n",
       "\\item[25] 1\n",
       "\\item[27] 1\n",
       "\\item[28] 1\n",
       "\\item[31] 1\n",
       "\\item[32] 1\n",
       "\\item[33] 1\n",
       "\\item[NA's] 29\n",
       "\\end{description*}\n"
      ],
      "text/markdown": [
       "0\n",
       ":   1240831\n",
       ":   729962\n",
       ":   349303\n",
       ":   161884\n",
       ":   44225\n",
       ":   18246\n",
       ":   7927\n",
       ":   1938\n",
       ":   1189\n",
       ":   5010\n",
       ":   2411\n",
       ":   1512\n",
       ":   1513\n",
       ":   614\n",
       ":   615\n",
       ":   916\n",
       ":   317\n",
       ":   218\n",
       ":   419\n",
       ":   220\n",
       ":   124\n",
       ":   225\n",
       ":   127\n",
       ":   128\n",
       ":   131\n",
       ":   132\n",
       ":   133\n",
       ":   1NA's\n",
       ":   29\n",
       "\n"
      ],
      "text/plain": [
       "     0      1      2      3      4      5      6      7      8      9     10 \n",
       "124083  72996  34930  16188   4422   1824    792    193    118     50     24 \n",
       "    11     12     13     14     15     16     17     18     19     20     24 \n",
       "    15     15      6      6      9      3      2      4      2      1      2 \n",
       "    25     27     28     31     32     33   NA's \n",
       "     1      1      1      1      1      1     29 "
      ]
     },
     "metadata": {},
     "output_type": "display_data"
    }
   ],
   "source": [
    "summary(factor(loans$inq_last_6mths))\n"
   ]
  },
  {
   "cell_type": "code",
   "execution_count": 20,
   "metadata": {},
   "outputs": [],
   "source": [
    "# to caterorical\n",
    "loans$cat_inq_last_6mths<-NULL\n",
    "loans$cat_inq_last_6mths[loans$inq_last_6mths == 0] <- \"zero\"\n",
    "loans$cat_inq_last_6mths[loans$inq_last_6mths == 1] <- 'one'\n",
    "loans$cat_inq_last_6mths[loans$inq_last_6mths == 2] <- 'two'\n",
    "loans$cat_inq_last_6mths[loans$inq_last_6mths > 2] <- 'more than 2'\n",
    "loans$cat_inq_last_6mths<-factor(loans$cat_inq_last_6mths)\n"
   ]
  },
  {
   "cell_type": "code",
   "execution_count": 21,
   "metadata": {},
   "outputs": [
    {
     "data": {
      "text/html": [
       "<dl class=dl-horizontal>\n",
       "\t<dt>more than 2</dt>\n",
       "\t\t<dd>23682</dd>\n",
       "\t<dt>one</dt>\n",
       "\t\t<dd>72996</dd>\n",
       "\t<dt>two</dt>\n",
       "\t\t<dd>34930</dd>\n",
       "\t<dt>zero</dt>\n",
       "\t\t<dd>124083</dd>\n",
       "\t<dt>NA's</dt>\n",
       "\t\t<dd>29</dd>\n",
       "</dl>\n"
      ],
      "text/latex": [
       "\\begin{description*}\n",
       "\\item[more than 2] 23682\n",
       "\\item[one] 72996\n",
       "\\item[two] 34930\n",
       "\\item[zero] 124083\n",
       "\\item[NA's] 29\n",
       "\\end{description*}\n"
      ],
      "text/markdown": [
       "more than 2\n",
       ":   23682one\n",
       ":   72996two\n",
       ":   34930zero\n",
       ":   124083NA's\n",
       ":   29\n",
       "\n"
      ],
      "text/plain": [
       "more than 2         one         two        zero        NA's \n",
       "      23682       72996       34930      124083          29 "
      ]
     },
     "metadata": {},
     "output_type": "display_data"
    }
   ],
   "source": [
    "summary(loans$cat_inq_last_6mths)"
   ]
  },
  {
   "cell_type": "markdown",
   "metadata": {},
   "source": [
    "<b>collections_12_mths_ex_med</b>\n",
    "<br>we saw that this variable have 7 different values but most of them are zero."
   ]
  },
  {
   "cell_type": "code",
   "execution_count": 22,
   "metadata": {},
   "outputs": [
    {
     "data": {
      "text/html": [
       "<dl class=dl-horizontal>\n",
       "\t<dt>0</dt>\n",
       "\t\t<dd>254001</dd>\n",
       "\t<dt>1</dt>\n",
       "\t\t<dd>1466</dd>\n",
       "\t<dt>2</dt>\n",
       "\t\t<dd>96</dd>\n",
       "\t<dt>3</dt>\n",
       "\t\t<dd>8</dd>\n",
       "\t<dt>4</dt>\n",
       "\t\t<dd>2</dd>\n",
       "\t<dt>5</dt>\n",
       "\t\t<dd>1</dd>\n",
       "\t<dt>6</dt>\n",
       "\t\t<dd>1</dd>\n",
       "\t<dt>NA's</dt>\n",
       "\t\t<dd>145</dd>\n",
       "</dl>\n"
      ],
      "text/latex": [
       "\\begin{description*}\n",
       "\\item[0] 254001\n",
       "\\item[1] 1466\n",
       "\\item[2] 96\n",
       "\\item[3] 8\n",
       "\\item[4] 2\n",
       "\\item[5] 1\n",
       "\\item[6] 1\n",
       "\\item[NA's] 145\n",
       "\\end{description*}\n"
      ],
      "text/markdown": [
       "0\n",
       ":   2540011\n",
       ":   14662\n",
       ":   963\n",
       ":   84\n",
       ":   25\n",
       ":   16\n",
       ":   1NA's\n",
       ":   145\n",
       "\n"
      ],
      "text/plain": [
       "     0      1      2      3      4      5      6   NA's \n",
       "254001   1466     96      8      2      1      1    145 "
      ]
     },
     "metadata": {},
     "output_type": "display_data"
    }
   ],
   "source": [
    "summary(factor(loans$collections_12_mths_ex_med))"
   ]
  },
  {
   "cell_type": "code",
   "execution_count": 23,
   "metadata": {},
   "outputs": [
    {
     "data": {
      "text/html": [
       "<dl class=dl-horizontal>\n",
       "\t<dt>one or more</dt>\n",
       "\t\t<dd>1574</dd>\n",
       "\t<dt>zero</dt>\n",
       "\t\t<dd>254001</dd>\n",
       "\t<dt>NA's</dt>\n",
       "\t\t<dd>145</dd>\n",
       "</dl>\n"
      ],
      "text/latex": [
       "\\begin{description*}\n",
       "\\item[one or more] 1574\n",
       "\\item[zero] 254001\n",
       "\\item[NA's] 145\n",
       "\\end{description*}\n"
      ],
      "text/markdown": [
       "one or more\n",
       ":   1574zero\n",
       ":   254001NA's\n",
       ":   145\n",
       "\n"
      ],
      "text/plain": [
       "one or more        zero        NA's \n",
       "       1574      254001         145 "
      ]
     },
     "metadata": {},
     "output_type": "display_data"
    }
   ],
   "source": [
    "loans$cat_collections_12_mths_ex_med<-NULL\n",
    "loans$cat_collections_12_mths_ex_med[loans$collections_12_mths_ex_med == 0] <- \"zero\"\n",
    "loans$cat_collections_12_mths_ex_med[loans$collections_12_mths_ex_med >= 1] <- 'one or more'\n",
    "loans$cat_collections_12_mths_ex_med<-factor(loans$cat_collections_12_mths_ex_med)\n",
    "summary(loans$cat_collections_12_mths_ex_med)"
   ]
  },
  {
   "cell_type": "markdown",
   "metadata": {},
   "source": [
    "<b>pub_rec</b>\n",
    "<br> we saw that this variable have 14 different values but most of them are zeros."
   ]
  },
  {
   "cell_type": "code",
   "execution_count": 24,
   "metadata": {},
   "outputs": [
    {
     "data": {
      "text/html": [
       "<dl class=dl-horizontal>\n",
       "\t<dt>0</dt>\n",
       "\t\t<dd>224508</dd>\n",
       "\t<dt>1</dt>\n",
       "\t\t<dd>27570</dd>\n",
       "\t<dt>2</dt>\n",
       "\t\t<dd>2560</dd>\n",
       "\t<dt>3</dt>\n",
       "\t\t<dd>679</dd>\n",
       "\t<dt>4</dt>\n",
       "\t\t<dd>202</dd>\n",
       "\t<dt>5</dt>\n",
       "\t\t<dd>93</dd>\n",
       "\t<dt>6</dt>\n",
       "\t\t<dd>39</dd>\n",
       "\t<dt>7</dt>\n",
       "\t\t<dd>19</dd>\n",
       "\t<dt>8</dt>\n",
       "\t\t<dd>8</dd>\n",
       "\t<dt>9</dt>\n",
       "\t\t<dd>5</dd>\n",
       "\t<dt>10</dt>\n",
       "\t\t<dd>5</dd>\n",
       "\t<dt>11</dt>\n",
       "\t\t<dd>1</dd>\n",
       "\t<dt>12</dt>\n",
       "\t\t<dd>1</dd>\n",
       "\t<dt>15</dt>\n",
       "\t\t<dd>1</dd>\n",
       "\t<dt>NA's</dt>\n",
       "\t\t<dd>29</dd>\n",
       "</dl>\n"
      ],
      "text/latex": [
       "\\begin{description*}\n",
       "\\item[0] 224508\n",
       "\\item[1] 27570\n",
       "\\item[2] 2560\n",
       "\\item[3] 679\n",
       "\\item[4] 202\n",
       "\\item[5] 93\n",
       "\\item[6] 39\n",
       "\\item[7] 19\n",
       "\\item[8] 8\n",
       "\\item[9] 5\n",
       "\\item[10] 5\n",
       "\\item[11] 1\n",
       "\\item[12] 1\n",
       "\\item[15] 1\n",
       "\\item[NA's] 29\n",
       "\\end{description*}\n"
      ],
      "text/markdown": [
       "0\n",
       ":   2245081\n",
       ":   275702\n",
       ":   25603\n",
       ":   6794\n",
       ":   2025\n",
       ":   936\n",
       ":   397\n",
       ":   198\n",
       ":   89\n",
       ":   510\n",
       ":   511\n",
       ":   112\n",
       ":   115\n",
       ":   1NA's\n",
       ":   29\n",
       "\n"
      ],
      "text/plain": [
       "     0      1      2      3      4      5      6      7      8      9     10 \n",
       "224508  27570   2560    679    202     93     39     19      8      5      5 \n",
       "    11     12     15   NA's \n",
       "     1      1      1     29 "
      ]
     },
     "metadata": {},
     "output_type": "display_data"
    }
   ],
   "source": [
    "summary(factor(loans$pub_rec))\n"
   ]
  },
  {
   "cell_type": "code",
   "execution_count": 25,
   "metadata": {},
   "outputs": [
    {
     "data": {
      "text/html": [
       "<dl class=dl-horizontal>\n",
       "\t<dt>one or more</dt>\n",
       "\t\t<dd>31183</dd>\n",
       "\t<dt>zero</dt>\n",
       "\t\t<dd>224508</dd>\n",
       "\t<dt>NA's</dt>\n",
       "\t\t<dd>29</dd>\n",
       "</dl>\n"
      ],
      "text/latex": [
       "\\begin{description*}\n",
       "\\item[one or more] 31183\n",
       "\\item[zero] 224508\n",
       "\\item[NA's] 29\n",
       "\\end{description*}\n"
      ],
      "text/markdown": [
       "one or more\n",
       ":   31183zero\n",
       ":   224508NA's\n",
       ":   29\n",
       "\n"
      ],
      "text/plain": [
       "one or more        zero        NA's \n",
       "      31183      224508          29 "
      ]
     },
     "metadata": {},
     "output_type": "display_data"
    }
   ],
   "source": [
    "# to caterorical\n",
    "loans$cat_pub_rec<-NULL\n",
    "loans$cat_pub_rec[loans$pub_rec == 0] <- \"zero\"\n",
    "loans$cat_pub_rec[loans$pub_rec >= 1] <- 'one or more'\n",
    "loans$cat_pub_rec<-factor(loans$cat_pub_rec)\n",
    "summary(loans$cat_pub_rec)"
   ]
  },
  {
   "cell_type": "markdown",
   "metadata": {},
   "source": [
    "<b>mths_since_last_delinq</b>"
   ]
  },
  {
   "cell_type": "code",
   "execution_count": 26,
   "metadata": {},
   "outputs": [],
   "source": [
    "loans$mths_since_last_delinq_rt<-loans$mths_since_last_delinq^0.5"
   ]
  },
  {
   "cell_type": "code",
   "execution_count": 27,
   "metadata": {},
   "outputs": [
    {
     "data": {
      "image/png": "[encoded data removed]",
      "text/plain": [
       "Plot with title \"Histogram of loans$mths_since_last_delinq_rt\""
      ]
     },
     "metadata": {},
     "output_type": "display_data"
    },
    {
     "data": {
      "image/png": "[encoded data removed]",
      "text/plain": [
       "Plot with title \"Histogram of loans$mths_since_last_delinq\""
      ]
     },
     "metadata": {},
     "output_type": "display_data"
    }
   ],
   "source": [
    "hist(loans$mths_since_last_delinq_rt)\n",
    "hist(loans$mths_since_last_delinq)"
   ]
  },
  {
   "cell_type": "markdown",
   "metadata": {},
   "source": [
    "### Continuous variables\n",
    "<br> In this stage we looked at the continuous data.\n",
    "<br> We will transform some of them by using log and square root transformations. "
   ]
  },
  {
   "cell_type": "markdown",
   "metadata": {},
   "source": [
    " \n",
    "<b>open_acc</b>\n",
    " <br>this variable has many different values and is distribution tends to the right .\n",
    "<br>there for it is rational trying a square root transformation\n",
    "  \n"
   ]
  },
  {
   "cell_type": "code",
   "execution_count": 28,
   "metadata": {},
   "outputs": [
    {
     "data": {
      "image/png": "[encoded data removed]",
      "text/plain": [
       "Plot with title \"Histogram of loans$open_acc_rt\""
      ]
     },
     "metadata": {},
     "output_type": "display_data"
    },
    {
     "data": {
      "image/png": "[encoded data removed]",
      "text/plain": [
       "Plot with title \"Histogram of loans$open_acc\""
      ]
     },
     "metadata": {},
     "output_type": "display_data"
    }
   ],
   "source": [
    "#trasform\n",
    "loans$open_acc_rt<- loans$open_acc^0.5\n",
    "hist(loans$open_acc_rt)\n",
    "hist(loans$open_acc)\n"
   ]
  },
  {
   "cell_type": "markdown",
   "metadata": {},
   "source": [
    "<b>total_acc</b>\n",
    "this variable has many different values and is distribution tends to the right . \n",
    "there for it is rational trying a square root transformation\n",
    "<br> like the open_acc variable"
   ]
  },
  {
   "cell_type": "code",
   "execution_count": 29,
   "metadata": {},
   "outputs": [
    {
     "data": {
      "image/png": "[encoded data removed]",
      "text/plain": [
       "Plot with title \"Histogram of loans$total_acc_rt\""
      ]
     },
     "metadata": {},
     "output_type": "display_data"
    },
    {
     "data": {
      "image/png": "[encoded data removed]",
      "text/plain": [
       "Plot with title \"Histogram of loans$total_acc\""
      ]
     },
     "metadata": {},
     "output_type": "display_data"
    }
   ],
   "source": [
    "loans$total_acc_rt<- loans$total_acc^0.5\n",
    "hist(loans$total_acc_rt)\n",
    "hist(loans$total_acc)\n"
   ]
  },
  {
   "cell_type": "markdown",
   "metadata": {},
   "source": [
    "<b>annual_inc</b>\n",
    "<br> In the EDA stage we saw annual_inc have a very tend to the lowers values distribution\n",
    "<br> we will make transformation with log and square root and also create a categorical variable with groupings of the income by quantiles"
   ]
  },
  {
   "cell_type": "code",
   "execution_count": 30,
   "metadata": {},
   "outputs": [
    {
     "data": {
      "image/png": "[encoded data removed]",
      "text/plain": [
       "Plot with title \"Histogram of loans$annual_inc_log\""
      ]
     },
     "metadata": {},
     "output_type": "display_data"
    },
    {
     "data": {
      "image/png": "[encoded data removed]",
      "text/plain": [
       "Plot with title \"Histogram of loans$annual_inc_rt\""
      ]
     },
     "metadata": {},
     "output_type": "display_data"
    }
   ],
   "source": [
    "##transformations\n",
    "loans$annual_inc_log<- log(loans$annual_inc)\n",
    "loans$annual_inc_rt<-(loans$annual_inc)^0.5\n",
    "hist(loans$annual_inc_log)\n",
    "hist(loans$annual_inc_rt)\n",
    "\n"
   ]
  },
  {
   "cell_type": "code",
   "execution_count": 31,
   "metadata": {},
   "outputs": [
    {
     "data": {
      "text/plain": [
       "   Min. 1st Qu.  Median    Mean 3rd Qu.    Max.    NA's \n",
       "   1896   45000   62000   72526   87000 8706582       4 "
      ]
     },
     "metadata": {},
     "output_type": "display_data"
    }
   ],
   "source": [
    "summary(loans$annual_inc)\n"
   ]
  },
  {
   "cell_type": "code",
   "execution_count": 32,
   "metadata": {},
   "outputs": [],
   "source": [
    "## make a categorical\n",
    "loans$inc_grp<-NULL\n",
    "loans$inc_grp[loans$annual_inc <= 45000] <- \"verylow_inc\"\n",
    "loans$inc_grp[loans$annual_inc > 45000 & loans$annual_inc <= 60000] <- 'low_inc'\n",
    "loans$inc_grp[loans$annual_inc > 60000 & loans$annual_inc <= 87000] <- 'middle_inc'\n",
    "loans$inc_grp[loans$annual_inc > 87000 & loans$annual_inc <= 120000] <- 'high_inc'\n",
    "loans$inc_grp[loans$annual_inc > 120000] <- 'veryhigh_inc'\n"
   ]
  },
  {
   "cell_type": "code",
   "execution_count": 33,
   "metadata": {},
   "outputs": [],
   "source": [
    "loans$inc_grp <-factor(loans$inc_grp)"
   ]
  },
  {
   "cell_type": "markdown",
   "metadata": {},
   "source": [
    "<b>revol_bal</b>\n",
    "<br>In the EDA stage we saw that revol_bal have a very tend to the lowers values distribution"
   ]
  },
  {
   "cell_type": "code",
   "execution_count": 34,
   "metadata": {},
   "outputs": [],
   "source": [
    "loans$revol_bal_rt <-loans$revol_bal^0.5"
   ]
  },
  {
   "cell_type": "code",
   "execution_count": null,
   "metadata": {},
   "outputs": [],
   "source": [
    "hist(loans$revol_bal)\n",
    "hist(loans$revol_bal_rt)"
   ]
  },
  {
   "cell_type": "markdown",
   "metadata": {},
   "source": [
    "<b>credit_hist</b>\n",
    "<br> It seems that this variable has tend to the lowers values distribution.\n",
    "<br> we will make transformation with log and square root and also create a categorical variable with groupings of the income by quantiles"
   ]
  },
  {
   "cell_type": "code",
   "execution_count": 36,
   "metadata": {},
   "outputs": [],
   "source": [
    "## transformations\n",
    "loans$credit_hist_log <-log(loans$credit_hist)\n",
    "loans$credit_hist_rt <-loans$credit_hist^0.5"
   ]
  },
  {
   "cell_type": "code",
   "execution_count": 37,
   "metadata": {},
   "outputs": [
    {
     "data": {
      "image/png": "[encoded data removed]",
      "text/plain": [
       "Plot with title \"Histogram of loans$credit_hist\""
      ]
     },
     "metadata": {},
     "output_type": "display_data"
    },
    {
     "data": {
      "image/png": "[encoded data removed]",
      "text/plain": [
       "Plot with title \"Histogram of loans$credit_hist_log\""
      ]
     },
     "metadata": {},
     "output_type": "display_data"
    },
    {
     "data": {
      "image/png": "[encoded data removed]",
      "text/plain": [
       "Plot with title \"Histogram of loans$credit_hist_rt\""
      ]
     },
     "metadata": {},
     "output_type": "display_data"
    }
   ],
   "source": [
    "hist(loans$credit_hist)\n",
    "hist(loans$credit_hist_log)\n",
    "hist(loans$credit_hist_rt)"
   ]
  },
  {
   "cell_type": "code",
   "execution_count": 38,
   "metadata": {},
   "outputs": [
    {
     "data": {
      "text/plain": [
       "   Min. 1st Qu.  Median    Mean 3rd Qu.    Max.    NA's \n",
       "   1.00   13.00   16.00   17.44   21.00   68.00      51 "
      ]
     },
     "metadata": {},
     "output_type": "display_data"
    }
   ],
   "source": [
    "summary(loans$credit_hist)"
   ]
  },
  {
   "cell_type": "code",
   "execution_count": 39,
   "metadata": {},
   "outputs": [],
   "source": [
    "\n",
    "loans$credit_hist_grp<-NULL\n",
    "loans$credit_hist_grp[loans$credit_hist <= 4] <- '<4_yrs'\n",
    "loans$credit_hist_grp[loans$credit_hist > 4 & loans$credit_hist <= 13] <- '4-13_yrs'\n",
    "loans$credit_hist_grp[loans$credit_hist > 13 & loans$credit_hist <= 17] <- '13-17_yrs'\n",
    "loans$credit_hist_grp[loans$credit_hist > 17 & loans$credit_hist <= 21] <- '17-21_yrs'\n",
    "loans$credit_hist_grp[loans$credit_hist > 21] <- '>21_yrs'\n",
    "loans$credit_hist_grp<-factor(loans$credit_hist_grp)\n"
   ]
  },
  {
   "cell_type": "code",
   "execution_count": 40,
   "metadata": {},
   "outputs": [
    {
     "data": {
      "text/html": [
       "<table>\n",
       "<thead><tr><th scope=col>verification_status</th><th scope=col>issue_d</th><th scope=col>pymnt_plan</th><th scope=col>purpose</th><th scope=col>initial_list_status</th><th scope=col>emp_length</th><th scope=col>loan_amnt</th><th scope=col>funded_amnt</th><th scope=col>funded_amnt_inv</th><th scope=col>term</th><th scope=col>...</th><th scope=col>open_acc_rt</th><th scope=col>total_acc_rt</th><th scope=col>annual_inc_log</th><th scope=col>annual_inc_rt</th><th scope=col>inc_grp</th><th scope=col>revol_bal_log</th><th scope=col>revol_bal_rt</th><th scope=col>credit_hist_log</th><th scope=col>credit_hist_rt</th><th scope=col>credit_hist_grp</th></tr></thead>\n",
       "<tbody>\n",
       "\t<tr><td>Not Verified      </td><td>2007-10-01        </td><td>0                 </td><td>debt_consolidation</td><td>1                 </td><td>2 years           </td><td>10000             </td><td>10000             </td><td>2175.000          </td><td>0                 </td><td>...               </td><td>3.000000          </td><td>4.472136          </td><td>10.502324         </td><td>190.7878          </td><td>verylow_inc       </td><td> 9.123256         </td><td> 95.73923         </td><td>2.397895          </td><td>3.316625          </td><td>4-13_yrs          </td></tr>\n",
       "\t<tr><td>Not Verified      </td><td>2007-12-01        </td><td>0                 </td><td>credit_card       </td><td>1                 </td><td>1 year            </td><td> 5400             </td><td> 5400             </td><td> 375.000          </td><td>0                 </td><td>...               </td><td>3.316625          </td><td>3.464102          </td><td>10.645425         </td><td>204.9390          </td><td>verylow_inc       </td><td>10.546761         </td><td>195.07434         </td><td>2.079442          </td><td>2.828427          </td><td>4-13_yrs          </td></tr>\n",
       "\t<tr><td>Not Verified      </td><td>2007-11-01        </td><td>0                 </td><td>debt_consolidation</td><td>1                 </td><td>2 years           </td><td> 1500             </td><td> 1500             </td><td> 583.050          </td><td>0                 </td><td>...               </td><td>2.000000          </td><td>2.000000          </td><td> 9.655026         </td><td>124.9000          </td><td>verylow_inc       </td><td> 8.750208         </td><td> 79.44810         </td><td>1.945910          </td><td>2.645751          </td><td>4-13_yrs          </td></tr>\n",
       "\t<tr><td>Not Verified      </td><td>2007-12-01        </td><td>0                 </td><td>home_improvement  </td><td>1                 </td><td>6 years           </td><td> 4800             </td><td> 4800             </td><td>1550.000          </td><td>0                 </td><td>...               </td><td>3.464102          </td><td>4.898979          </td><td>11.002100         </td><td>244.9490          </td><td>low_inc           </td><td> 7.945201         </td><td> 53.12250         </td><td>2.397895          </td><td>3.316625          </td><td>4-13_yrs          </td></tr>\n",
       "\t<tr><td>Not Verified      </td><td>2007-10-01        </td><td>0                 </td><td>debt_consolidation</td><td>1                 </td><td>&lt; 1 year       </td><td> 4800             </td><td> 4800             </td><td>1625.000          </td><td>0                 </td><td>...               </td><td>2.236068          </td><td>4.123106          </td><td>10.126631         </td><td>158.1139          </td><td>verylow_inc       </td><td> 6.013715         </td><td> 20.22375         </td><td>2.302585          </td><td>3.162278          </td><td>4-13_yrs          </td></tr>\n",
       "\t<tr><td>Not Verified      </td><td>2007-10-01        </td><td>0                 </td><td>other             </td><td>1                 </td><td>1 year            </td><td> 4200             </td><td> 4200             </td><td>1125.002          </td><td>0                 </td><td>...               </td><td>1.414214          </td><td>1.732051          </td><td>10.085809         </td><td>154.9193          </td><td>verylow_inc       </td><td>     -Inf         </td><td>  0.00000         </td><td>2.708050          </td><td>3.872983          </td><td>13-17_yrs         </td></tr>\n",
       "</tbody>\n",
       "</table>\n"
      ],
      "text/latex": [
       "\\begin{tabular}{r|lllllllllllllllllllllllllllllllllllllllllllllllllllllllllllllll}\n",
       " verification\\_status & issue\\_d & pymnt\\_plan & purpose & initial\\_list\\_status & emp\\_length & loan\\_amnt & funded\\_amnt & funded\\_amnt\\_inv & term & ... & open\\_acc\\_rt & total\\_acc\\_rt & annual\\_inc\\_log & annual\\_inc\\_rt & inc\\_grp & revol\\_bal\\_log & revol\\_bal\\_rt & credit\\_hist\\_log & credit\\_hist\\_rt & credit\\_hist\\_grp\\\\\n",
       "\\hline\n",
       "\t Not Verified         & 2007-10-01           & 0                    & debt\\_consolidation & 1                    & 2 years              & 10000                & 10000                & 2175.000             & 0                    & ...                  & 3.000000             & 4.472136             & 10.502324            & 190.7878             & verylow\\_inc        &  9.123256            &  95.73923            & 2.397895             & 3.316625             & 4-13\\_yrs          \\\\\n",
       "\t Not Verified         & 2007-12-01           & 0                    & credit\\_card        & 1                    & 1 year               &  5400                &  5400                &  375.000             & 0                    & ...                  & 3.316625             & 3.464102             & 10.645425            & 204.9390             & verylow\\_inc        & 10.546761            & 195.07434            & 2.079442             & 2.828427             & 4-13\\_yrs          \\\\\n",
       "\t Not Verified         & 2007-11-01           & 0                    & debt\\_consolidation & 1                    & 2 years              &  1500                &  1500                &  583.050             & 0                    & ...                  & 2.000000             & 2.000000             &  9.655026            & 124.9000             & verylow\\_inc        &  8.750208            &  79.44810            & 1.945910             & 2.645751             & 4-13\\_yrs          \\\\\n",
       "\t Not Verified         & 2007-12-01           & 0                    & home\\_improvement   & 1                    & 6 years              &  4800                &  4800                & 1550.000             & 0                    & ...                  & 3.464102             & 4.898979             & 11.002100            & 244.9490             & low\\_inc            &  7.945201            &  53.12250            & 2.397895             & 3.316625             & 4-13\\_yrs          \\\\\n",
       "\t Not Verified         & 2007-10-01           & 0                    & debt\\_consolidation & 1                    & < 1 year             &  4800                &  4800                & 1625.000             & 0                    & ...                  & 2.236068             & 4.123106             & 10.126631            & 158.1139             & verylow\\_inc        &  6.013715            &  20.22375            & 2.302585             & 3.162278             & 4-13\\_yrs          \\\\\n",
       "\t Not Verified       & 2007-10-01         & 0                  & other              & 1                  & 1 year             &  4200              &  4200              & 1125.002           & 0                  & ...                & 1.414214           & 1.732051           & 10.085809          & 154.9193           & verylow\\_inc      &      -Inf          &   0.00000          & 2.708050           & 3.872983           & 13-17\\_yrs       \\\\\n",
       "\\end{tabular}\n"
      ],
      "text/markdown": [
       "\n",
       "verification_status | issue_d | pymnt_plan | purpose | initial_list_status | emp_length | loan_amnt | funded_amnt | funded_amnt_inv | term | ... | open_acc_rt | total_acc_rt | annual_inc_log | annual_inc_rt | inc_grp | revol_bal_log | revol_bal_rt | credit_hist_log | credit_hist_rt | credit_hist_grp | \n",
       "|---|---|---|---|---|---|\n",
       "| Not Verified       | 2007-10-01         | 0                  | debt_consolidation | 1                  | 2 years            | 10000              | 10000              | 2175.000           | 0                  | ...                | 3.000000           | 4.472136           | 10.502324          | 190.7878           | verylow_inc        |  9.123256          |  95.73923          | 2.397895           | 3.316625           | 4-13_yrs           | \n",
       "| Not Verified       | 2007-12-01         | 0                  | credit_card        | 1                  | 1 year             |  5400              |  5400              |  375.000           | 0                  | ...                | 3.316625           | 3.464102           | 10.645425          | 204.9390           | verylow_inc        | 10.546761          | 195.07434          | 2.079442           | 2.828427           | 4-13_yrs           | \n",
       "| Not Verified       | 2007-11-01         | 0                  | debt_consolidation | 1                  | 2 years            |  1500              |  1500              |  583.050           | 0                  | ...                | 2.000000           | 2.000000           |  9.655026          | 124.9000           | verylow_inc        |  8.750208          |  79.44810          | 1.945910           | 2.645751           | 4-13_yrs           | \n",
       "| Not Verified       | 2007-12-01         | 0                  | home_improvement   | 1                  | 6 years            |  4800              |  4800              | 1550.000           | 0                  | ...                | 3.464102           | 4.898979           | 11.002100          | 244.9490           | low_inc            |  7.945201          |  53.12250          | 2.397895           | 3.316625           | 4-13_yrs           | \n",
       "| Not Verified       | 2007-10-01         | 0                  | debt_consolidation | 1                  | < 1 year           |  4800              |  4800              | 1625.000           | 0                  | ...                | 2.236068           | 4.123106           | 10.126631          | 158.1139           | verylow_inc        |  6.013715          |  20.22375          | 2.302585           | 3.162278           | 4-13_yrs           | \n",
       "| Not Verified       | 2007-10-01         | 0                  | other              | 1                  | 1 year             |  4200              |  4200              | 1125.002           | 0                  | ...                | 1.414214           | 1.732051           | 10.085809          | 154.9193           | verylow_inc        |      -Inf          |   0.00000          | 2.708050           | 3.872983           | 13-17_yrs          | \n",
       "\n",
       "\n"
      ],
      "text/plain": [
       "  verification_status issue_d    pymnt_plan purpose           \n",
       "1 Not Verified        2007-10-01 0          debt_consolidation\n",
       "2 Not Verified        2007-12-01 0          credit_card       \n",
       "3 Not Verified        2007-11-01 0          debt_consolidation\n",
       "4 Not Verified        2007-12-01 0          home_improvement  \n",
       "5 Not Verified        2007-10-01 0          debt_consolidation\n",
       "6 Not Verified        2007-10-01 0          other             \n",
       "  initial_list_status emp_length loan_amnt funded_amnt funded_amnt_inv term ...\n",
       "1 1                   2 years    10000     10000       2175.000        0    ...\n",
       "2 1                   1 year      5400      5400        375.000        0    ...\n",
       "3 1                   2 years     1500      1500        583.050        0    ...\n",
       "4 1                   6 years     4800      4800       1550.000        0    ...\n",
       "5 1                   < 1 year    4800      4800       1625.000        0    ...\n",
       "6 1                   1 year      4200      4200       1125.002        0    ...\n",
       "  open_acc_rt total_acc_rt annual_inc_log annual_inc_rt inc_grp    \n",
       "1 3.000000    4.472136     10.502324      190.7878      verylow_inc\n",
       "2 3.316625    3.464102     10.645425      204.9390      verylow_inc\n",
       "3 2.000000    2.000000      9.655026      124.9000      verylow_inc\n",
       "4 3.464102    4.898979     11.002100      244.9490      low_inc    \n",
       "5 2.236068    4.123106     10.126631      158.1139      verylow_inc\n",
       "6 1.414214    1.732051     10.085809      154.9193      verylow_inc\n",
       "  revol_bal_log revol_bal_rt credit_hist_log credit_hist_rt credit_hist_grp\n",
       "1  9.123256      95.73923    2.397895        3.316625       4-13_yrs       \n",
       "2 10.546761     195.07434    2.079442        2.828427       4-13_yrs       \n",
       "3  8.750208      79.44810    1.945910        2.645751       4-13_yrs       \n",
       "4  7.945201      53.12250    2.397895        3.316625       4-13_yrs       \n",
       "5  6.013715      20.22375    2.302585        3.162278       4-13_yrs       \n",
       "6      -Inf       0.00000    2.708050        3.872983       13-17_yrs      "
      ]
     },
     "metadata": {},
     "output_type": "display_data"
    }
   ],
   "source": [
    "head(loans)"
   ]
  },
  {
   "cell_type": "code",
   "execution_count": 1,
   "metadata": {},
   "outputs": [
    {
     "ename": "ERROR",
     "evalue": "Error in eval(expr, envir, enclos): object 'loans' not found\n",
     "output_type": "error",
     "traceback": [
      "Error in eval(expr, envir, enclos): object 'loans' not found\nTraceback:\n"
     ]
    }
   ],
   "source": [
    "dim(loans)"
   ]
  },
  {
   "cell_type": "markdown",
   "metadata": {},
   "source": [
    "We created 14 new variables by using transformations and grouping to categories.\n",
    "We hope those variables will help us to create a better predictive model."
   ]
  },
  {
   "cell_type": "code",
   "execution_count": 42,
   "metadata": {},
   "outputs": [],
   "source": [
    "##SQLLite Converts the date to numeric so imlilictly apply as.character on date columns\n",
    "loans$issue_d <- as.character(loans$issue_d)"
   ]
  },
  {
   "cell_type": "code",
   "execution_count": null,
   "metadata": {},
   "outputs": [],
   "source": [
    "writeSQL(loans,\"loans_dataset_eng\")"
   ]
  },
  {
   "cell_type": "markdown",
   "metadata": {},
   "source": [
    "Add the new variables to Data Retrieval Protocol.xlsx"
   ]
  },
  {
   "cell_type": "code",
   "execution_count": 7,
   "metadata": {},
   "outputs": [
    {
     "data": {
      "text/plain": [
       " verification_status   issue_d           pymnt_plan          purpose         \n",
       " Length:255720       Length:255720      Length:255720      Length:255720     \n",
       " Class :character    Class :character   Class :character   Class :character  \n",
       " Mode  :character    Mode  :character   Mode  :character   Mode  :character  \n",
       "                                                                             \n",
       "                                                                             \n",
       "                                                                             \n",
       "                                                                             \n",
       " initial_list_status  emp_length          loan_amnt      funded_amnt   \n",
       " Length:255720       Length:255720      Min.   :  500   Min.   :  500  \n",
       " Class :character    Class :character   1st Qu.: 7200   1st Qu.: 7200  \n",
       " Mode  :character    Mode  :character   Median :12000   Median :12000  \n",
       "                                        Mean   :13514   Mean   :13472  \n",
       "                                        3rd Qu.:18200   3rd Qu.:18000  \n",
       "                                        Max.   :35000   Max.   :35000  \n",
       "                                                                       \n",
       " funded_amnt_inv     term           collections_12_mths_ex_med\n",
       " Min.   :    0   Length:255720      Min.   :0.00000           \n",
       " 1st Qu.: 7075   Class :character   1st Qu.:0.00000           \n",
       " Median :11950   Mode  :character   Median :0.00000           \n",
       " Mean   :13352                      Mean   :0.00666           \n",
       " 3rd Qu.:18000                      3rd Qu.:0.00000           \n",
       " Max.   :35000                      Max.   :6.00000           \n",
       "                                    NA's   :145               \n",
       " mths_since_last_major_derog home_ownership       annual_inc     \n",
       " Min.   :  0.00              Length:255720      Min.   :   1896  \n",
       " 1st Qu.: 26.00              Class :character   1st Qu.:  45000  \n",
       " Median : 43.00              Mode  :character   Median :  62000  \n",
       " Mean   : 43.39                                 Mean   :  72526  \n",
       " 3rd Qu.: 60.00                                 3rd Qu.:  87000  \n",
       " Max.   :159.00                                 Max.   :8706582  \n",
       " NA's   :208175                                 NA's   :4        \n",
       "      dti         delinq_2yrs      acc_now_delinq     inq_last_6mths  \n",
       " Min.   : 0.00   Min.   : 0.0000   Min.   :0.000000   Min.   : 0.000  \n",
       " 1st Qu.:10.73   1st Qu.: 0.0000   1st Qu.:0.000000   1st Qu.: 0.000  \n",
       " Median :16.18   Median : 0.0000   Median :0.000000   Median : 1.000  \n",
       " Mean   :16.52   Mean   : 0.2498   Mean   :0.003097   Mean   : 0.888  \n",
       " 3rd Qu.:21.97   3rd Qu.: 0.0000   3rd Qu.:0.000000   3rd Qu.: 1.000  \n",
       " Max.   :39.99   Max.   :29.0000   Max.   :5.000000   Max.   :33.000  \n",
       "                 NA's   :29        NA's   :29         NA's   :29      \n",
       " mths_since_last_delinq mths_since_last_record    open_acc        pub_rec      \n",
       " Min.   :  0.00         Min.   :  0.00         Min.   : 0.00   Min.   : 0.000  \n",
       " 1st Qu.: 17.00         1st Qu.: 54.00         1st Qu.: 7.00   1st Qu.: 0.000  \n",
       " Median : 32.00         Median : 78.00         Median :10.00   Median : 0.000  \n",
       " Mean   : 35.06         Mean   : 74.38         Mean   :10.93   Mean   : 0.143  \n",
       " 3rd Qu.: 51.00         3rd Qu.:101.00         3rd Qu.:14.00   3rd Qu.: 0.000  \n",
       " Max.   :152.00         Max.   :129.00         Max.   :76.00   Max.   :15.000  \n",
       " NA's   :142018         NA's   :223262         NA's   :29      NA's   :29      \n",
       "   revol_bal         revol_util      total_acc       tot_coll_amt    \n",
       " Min.   :      0   Min.   :  0.0   Min.   :  1.00   Min.   :      0  \n",
       " 1st Qu.:   5831   1st Qu.: 36.2   1st Qu.: 16.00   1st Qu.:      0  \n",
       " Median :  10917   Median : 55.8   Median : 23.00   Median :      0  \n",
       " Mean   :  15300   Mean   : 54.3   Mean   : 25.01   Mean   :    204  \n",
       " 3rd Qu.:  19082   3rd Qu.: 73.9   3rd Qu.: 32.00   3rd Qu.:      0  \n",
       " Max.   :1746716   Max.   :892.3   Max.   :150.00   Max.   :9152545  \n",
       "                   NA's   :239     NA's   :29       NA's   :66457    \n",
       "  tot_cur_bal       open_acc_6m       open_il_6m      open_il_12m    \n",
       " Min.   :      0   Min.   :0.0      Min.   : 0.00    Min.   :0.00    \n",
       " 1st Qu.:  28372   1st Qu.:0.0      1st Qu.: 1.00    1st Qu.:0.00    \n",
       " Median :  81002   Median :1.0      Median : 2.00    Median :0.00    \n",
       " Mean   : 138331   Mean   :1.4      Mean   : 3.08    Mean   :0.88    \n",
       " 3rd Qu.: 208229   3rd Qu.:2.0      3rd Qu.: 4.00    3rd Qu.:1.00    \n",
       " Max.   :8000078   Max.   :6.0      Max.   :18.00    Max.   :6.00    \n",
       " NA's   :66457     NA's   :255576   NA's   :255576   NA's   :255576  \n",
       "  open_il_24m     mths_since_rcnt_il  total_bal_il       il_util      \n",
       " Min.   : 0.00    Min.   :  0.00     Min.   :     0   Min.   :  0.00  \n",
       " 1st Qu.: 1.00    1st Qu.:  4.00     1st Qu.: 10764   1st Qu.: 63.35  \n",
       " Median : 1.00    Median : 12.50     Median : 23605   Median : 77.05  \n",
       " Mean   : 1.87    Mean   : 20.71     Mean   : 36462   Mean   : 73.66  \n",
       " 3rd Qu.: 3.00    3rd Qu.: 21.00     3rd Qu.: 50836   3rd Qu.: 88.25  \n",
       " Max.   :14.00    Max.   :141.00     Max.   :249212   Max.   :129.20  \n",
       " NA's   :255576   NA's   :255580     NA's   :255576   NA's   :255594  \n",
       "  open_rv_12m      open_rv_24m       max_bal_bc        all_util     \n",
       " Min.   :0.00     Min.   : 0.00    Min.   :    0    Min.   :  7.90  \n",
       " 1st Qu.:0.00     1st Qu.: 2.00    1st Qu.: 2091    1st Qu.: 46.83  \n",
       " Median :1.00     Median : 3.00    Median : 4512    Median : 61.95  \n",
       " Mean   :1.67     Mean   : 3.56    Mean   : 5517    Mean   : 58.95  \n",
       " 3rd Qu.:2.00     3rd Qu.: 5.00    3rd Qu.: 8213    3rd Qu.: 74.22  \n",
       " Max.   :8.00     Max.   :21.00    Max.   :22279    Max.   :102.80  \n",
       " NA's   :255576   NA's   :255576   NA's   :255576   NA's   :255576  \n",
       " total_rev_hi_lim      inq_fi        total_cu_tl      inq_last_12m   \n",
       " Min.   :      0   Min.   :0.00     Min.   : 0.0     Min.   :-4.00   \n",
       " 1st Qu.:  13300   1st Qu.:0.00     1st Qu.: 0.0     1st Qu.: 1.00   \n",
       " Median :  22300   Median :1.00     Median : 0.0     Median : 2.00   \n",
       " Mean   :  29709   Mean   :1.26     Mean   : 2.1     Mean   : 2.62   \n",
       " 3rd Qu.:  36800   3rd Qu.:1.00     3rd Qu.: 2.0     3rd Qu.: 4.00   \n",
       " Max.   :2013133   Max.   :9.00     Max.   :21.0     Max.   :19.00   \n",
       " NA's   :66457     NA's   :255576   NA's   :255576   NA's   :255576  \n",
       "   default          loan_installment  full_state          acc_ratio     \n",
       " Length:255720      Min.   : 13.89   Length:255720      Min.   :0.0000  \n",
       " Class :character   1st Qu.:194.44   Class :character   1st Qu.:0.3500  \n",
       " Mode  :character   Median :277.78   Mode  :character   Median :0.4545  \n",
       "                    Mean   :327.14                      Mean   :0.4781  \n",
       "                    3rd Qu.:416.67                      3rd Qu.:0.5833  \n",
       "                    Max.   :972.22                      Max.   :1.7500  \n",
       "                                                        NA's   :29      \n",
       "  credit_hist    poverty_rate_p   cat_delinq_2yrs    cat_inq_last_6mths\n",
       " Min.   : 1.00   Min.   :0.0580   Length:255720      Length:255720     \n",
       " 1st Qu.:13.00   1st Qu.:0.1230   Class :character   Class :character  \n",
       " Median :16.00   Median :0.1490   Mode  :character   Mode  :character  \n",
       " Mean   :17.44   Mean   :0.1452                                        \n",
       " 3rd Qu.:21.00   3rd Qu.:0.1640                                        \n",
       " Max.   :68.00   Max.   :0.2310                                        \n",
       " NA's   :51                                                            \n",
       " cat_collections_12_mths_ex_med cat_pub_rec        mths_since_last_delinq_rt\n",
       " Length:255720                  Length:255720      Min.   : 0.00            \n",
       " Class :character               Class :character   1st Qu.: 4.12            \n",
       " Mode  :character               Mode  :character   Median : 5.66            \n",
       "                                                   Mean   : 5.57            \n",
       "                                                   3rd Qu.: 7.14            \n",
       "                                                   Max.   :12.33            \n",
       "                                                   NA's   :142018           \n",
       "  open_acc_rt     total_acc_rt    annual_inc_log   annual_inc_rt    \n",
       " Min.   :0.000   Min.   : 1.000   Min.   : 7.548   Min.   :  43.54  \n",
       " 1st Qu.:2.646   1st Qu.: 4.000   1st Qu.:10.714   1st Qu.: 212.13  \n",
       " Median :3.162   Median : 4.796   Median :11.035   Median : 249.00  \n",
       " Mean   :3.227   Mean   : 4.861   Mean   :11.046   Mean   : 259.29  \n",
       " 3rd Qu.:3.742   3rd Qu.: 5.657   3rd Qu.:11.374   3rd Qu.: 294.96  \n",
       " Max.   :8.718   Max.   :12.247   Max.   :15.980   Max.   :2950.69  \n",
       " NA's   :29      NA's   :29       NA's   :4        NA's   :4        \n",
       "   inc_grp           revol_bal_rt     credit_hist_log credit_hist_rt \n",
       " Length:255720      Min.   :   0.00   Min.   :0.000   Min.   :1.000  \n",
       " Class :character   1st Qu.:  76.36   1st Qu.:2.565   1st Qu.:3.606  \n",
       " Mode  :character   Median : 104.48   Median :2.773   Median :4.000  \n",
       "                    Mean   : 111.10   Mean   :2.779   Mean   :4.095  \n",
       "                    3rd Qu.: 138.14   3rd Qu.:3.045   3rd Qu.:4.583  \n",
       "                    Max.   :1321.63   Max.   :4.220   Max.   :8.246  \n",
       "                                      NA's   :51      NA's   :51     \n",
       " credit_hist_grp   \n",
       " Length:255720     \n",
       " Class :character  \n",
       " Mode  :character  \n",
       "                   \n",
       "                   \n",
       "                   \n",
       "                   "
      ]
     },
     "metadata": {},
     "output_type": "display_data"
    }
   ],
   "source": [
    "summary(loans)"
   ]
  },
  {
   "cell_type": "code",
   "execution_count": 8,
   "metadata": {},
   "outputs": [
    {
     "data": {
      "text/plain": [
       "\n",
       "\n",
       "|variable                       | q_zeros| p_zeros|   q_na|  p_na| q_inf| p_inf|type      | unique|\n",
       "|:------------------------------|-------:|-------:|------:|-----:|-----:|-----:|:---------|------:|\n",
       "|verification_status            |       0|    0.00|      0|  0.00|     0|     0|character |      3|\n",
       "|issue_d                        |       0|    0.00|      0|  0.00|     0|     0|character |    103|\n",
       "|pymnt_plan                     |  255718|  100.00|      0|  0.00|     0|     0|character |      2|\n",
       "|purpose                        |       0|    0.00|      0|  0.00|     0|     0|character |     14|\n",
       "|initial_list_status            |   70892|   27.72|      0|  0.00|     0|     0|character |      2|\n",
       "|emp_length                     |       0|    0.00|      0|  0.00|     0|     0|character |     12|\n",
       "|loan_amnt                      |       0|    0.00|      0|  0.00|     0|     0|integer   |   1331|\n",
       "|funded_amnt                    |       0|    0.00|      0|  0.00|     0|     0|integer   |   1331|\n",
       "|funded_amnt_inv                |     233|    0.09|      0|  0.00|     0|     0|numeric   |   9554|\n",
       "|term                           |  199096|   77.86|      0|  0.00|     0|     0|character |      2|\n",
       "|collections_12_mths_ex_med     |  254001|   99.33|    145|  0.06|     0|     0|integer   |      7|\n",
       "|mths_since_last_major_derog    |      31|    0.01| 208175| 81.41|     0|     0|integer   |    149|\n",
       "|home_ownership                 |       0|    0.00|      0|  0.00|     0|     0|character |      6|\n",
       "|annual_inc                     |       0|    0.00|      4|  0.00|     0|     0|numeric   |  19673|\n",
       "|dti                            |     311|    0.12|      0|  0.00|     0|     0|numeric   |   3977|\n",
       "|delinq_2yrs                    |  214543|   83.90|     29|  0.01|     0|     0|integer   |     22|\n",
       "|acc_now_delinq                 |  254952|   99.70|     29|  0.01|     0|     0|integer   |      6|\n",
       "|inq_last_6mths                 |  124083|   48.52|     29|  0.01|     0|     0|integer   |     28|\n",
       "|mths_since_last_delinq         |     976|    0.38| 142018| 55.54|     0|     0|integer   |    127|\n",
       "|mths_since_last_record         |    1278|    0.50| 223262| 87.31|     0|     0|integer   |    123|\n",
       "|open_acc                       |       5|    0.00|     29|  0.01|     0|     0|integer   |     59|\n",
       "|pub_rec                        |  224508|   87.79|     29|  0.01|     0|     0|integer   |     14|\n",
       "|revol_bal                      |    1893|    0.74|      0|  0.00|     0|     0|numeric   |  47755|\n",
       "|revol_util                     |    1894|    0.74|    239|  0.09|     0|     0|numeric   |   1210|\n",
       "|total_acc                      |       0|    0.00|     29|  0.01|     0|     0|integer   |    106|\n",
       "|tot_coll_amt                   |  167557|   65.52|  66457| 25.99|     0|     0|integer   |   4029|\n",
       "|tot_cur_bal                    |      50|    0.02|  66457| 25.99|     0|     0|numeric   | 134747|\n",
       "|open_acc_6m                    |      46|    0.02| 255576| 99.94|     0|     0|integer   |      7|\n",
       "|open_il_6m                     |      17|    0.01| 255576| 99.94|     0|     0|integer   |     16|\n",
       "|open_il_12m                    |      74|    0.03| 255576| 99.94|     0|     0|integer   |      7|\n",
       "|open_il_24m                    |      35|    0.01| 255576| 99.94|     0|     0|integer   |     10|\n",
       "|mths_since_rcnt_il             |       1|    0.00| 255580| 99.95|     0|     0|integer   |     50|\n",
       "|total_bal_il                   |      17|    0.01| 255576| 99.94|     0|     0|integer   |    128|\n",
       "|il_util                        |       1|    0.00| 255594| 99.95|     0|     0|numeric   |    116|\n",
       "|open_rv_12m                    |      39|    0.02| 255576| 99.94|     0|     0|integer   |      8|\n",
       "|open_rv_24m                    |      12|    0.00| 255576| 99.94|     0|     0|integer   |     14|\n",
       "|max_bal_bc                     |       6|    0.00| 255576| 99.94|     0|     0|integer   |    139|\n",
       "|all_util                       |       0|    0.00| 255576| 99.94|     0|     0|numeric   |    126|\n",
       "|total_rev_hi_lim               |      86|    0.03|  66457| 25.99|     0|     0|numeric   |   9543|\n",
       "|inq_fi                         |      62|    0.02| 255576| 99.94|     0|     0|integer   |      9|\n",
       "|total_cu_tl                    |      78|    0.03| 255576| 99.94|     0|     0|integer   |     18|\n",
       "|inq_last_12m                   |      19|    0.01| 255576| 99.94|     0|     0|integer   |     17|\n",
       "|default                        |  209711|   82.01|      0|  0.00|     0|     0|character |      2|\n",
       "|loan_installment               |       0|    0.00|      0|  0.00|     0|     0|numeric   |   2190|\n",
       "|full_state                     |       0|    0.00|      0|  0.00|     0|     0|character |     51|\n",
       "|acc_ratio                      |       5|    0.00|     29|  0.01|     0|     0|numeric   |   1214|\n",
       "|credit_hist                    |       0|    0.00|     51|  0.02|     0|     0|integer   |     63|\n",
       "|poverty_rate_p                 |       0|    0.00|      0|  0.00|     0|     0|numeric   |    134|\n",
       "|cat_delinq_2yrs                |       0|    0.00|     29|  0.01|     0|     0|character |      3|\n",
       "|cat_inq_last_6mths             |       0|    0.00|     29|  0.01|     0|     0|character |      4|\n",
       "|cat_collections_12_mths_ex_med |       0|    0.00|    145|  0.06|     0|     0|character |      2|\n",
       "|cat_pub_rec                    |       0|    0.00|     29|  0.01|     0|     0|character |      2|\n",
       "|mths_since_last_delinq_rt      |     976|    0.38| 142018| 55.54|     0|     0|numeric   |    127|\n",
       "|open_acc_rt                    |       5|    0.00|     29|  0.01|     0|     0|numeric   |     59|\n",
       "|total_acc_rt                   |       0|    0.00|     29|  0.01|     0|     0|numeric   |    106|\n",
       "|annual_inc_log                 |       0|    0.00|      4|  0.00|     0|     0|numeric   |  19673|\n",
       "|annual_inc_rt                  |       0|    0.00|      4|  0.00|     0|     0|numeric   |  19673|\n",
       "|inc_grp                        |       0|    0.00|      4|  0.00|     0|     0|character |      5|\n",
       "|revol_bal_rt                   |    1893|    0.74|      0|  0.00|     0|     0|numeric   |  47755|\n",
       "|credit_hist_log                |       2|    0.00|     51|  0.02|     0|     0|numeric   |     63|\n",
       "|credit_hist_rt                 |       0|    0.00|     51|  0.02|     0|     0|numeric   |     63|\n",
       "|credit_hist_grp                |       0|    0.00|     51|  0.02|     0|     0|character |      5|"
      ]
     },
     "metadata": {},
     "output_type": "display_data"
    }
   ],
   "source": [
    "meta_loans <- funModeling::df_status(loans, print_results = FALSE)\n",
    "meta_loans%>%\n",
    "  knitr::kable()"
   ]
  },
  {
   "cell_type": "code",
   "execution_count": null,
   "metadata": {},
   "outputs": [],
   "source": []
  }
 ],
 "metadata": {
  "kernelspec": {
   "display_name": "R",
   "language": "R",
   "name": "ir"
  },
  "language_info": {
   "codemirror_mode": "r",
   "file_extension": ".r",
   "mimetype": "text/x-r-source",
   "name": "R",
   "pygments_lexer": "r",
   "version": "3.5.1"
  }
 },
 "nbformat": 4,
 "nbformat_minor": 2
}
