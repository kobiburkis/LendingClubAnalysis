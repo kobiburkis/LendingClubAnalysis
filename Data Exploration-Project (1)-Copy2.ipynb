{
 "cells": [
  {
   "cell_type": "markdown",
   "metadata": {},
   "source": [
    "# Lending Club Data Exploration\n",
    "\n",
    "### choosing the relevant  data from the data base\n",
    "In this notebook we are going to take a first glance of the data and choosing the rellavant parameters and loans to answer our quotation.\n",
    "\n"
   ]
  },
  {
   "cell_type": "code",
   "execution_count": 103,
   "metadata": {},
   "outputs": [],
   "source": [
    "##Importing required packages \n",
    "if(!require(DBI)){install.packages(\"DBI\"); require(DBI)}\n",
    "if(!require(RSQLite)){install.packages(\"RSQLite\"); require(RSQLite)}\n",
    "require(dplyr)"
   ]
  },
  {
   "cell_type": "code",
   "execution_count": 104,
   "metadata": {},
   "outputs": [],
   "source": [
    "##WorkPath\n",
    "#DATA_PATH = \"D:/Google Drive/Final Project/Data\"\n",
    "DB_FILE = (\"loans.db\") "
   ]
  },
  {
   "cell_type": "code",
   "execution_count": 105,
   "metadata": {},
   "outputs": [],
   "source": [
    "##############################################################################\n",
    "##########                DATABASE FUNCTIONS                     #############\n",
    "##############################################################################\n",
    "            \n",
    "#### Read function to import data from the SQL to a pandas dataframe.\n",
    "readSQL <- function(query, db=DB_FILE) {\n",
    "    require(DBI)\n",
    "    require(RSQLite)\n",
    "    con <- dbConnect(SQLite(), DB_FILE)\n",
    "    df <- dbGetQuery(con, query)\n",
    "    return(df)\n",
    "}\n",
    "#### Write a pandas dataframe into an SQL table. Use overwrite=True if you want to delete \n",
    "#### first a pre-existent table with the same name. Use append=True if you want to append\n",
    "#### the data in the dataframe to a pre-existent table.\n",
    "writeSQL <- function(df,tablename,overwrite=FALSE, append=FALSE,db=DB_FILE) {\n",
    "    require(DBI)\n",
    "    require(RSQLite)\n",
    "    con <- dbConnect(SQLite(), DB_FILE)\n",
    "    dbWriteTable(con,tablename,df,overwrite,append)\n",
    "}\n",
    "####"
   ]
  },
  {
   "cell_type": "code",
   "execution_count": 204,
   "metadata": {},
   "outputs": [],
   "source": [
    "loans = readSQL(\"SELECT * FROM v_loans\")"
   ]
  },
  {
   "cell_type": "code",
   "execution_count": 205,
   "metadata": {},
   "outputs": [
    {
     "data": {
      "text/html": [
       "<ol class=list-inline>\n",
       "\t<li>887382</li>\n",
       "\t<li>74</li>\n",
       "</ol>\n"
      ],
      "text/latex": [
       "\\begin{enumerate*}\n",
       "\\item 887382\n",
       "\\item 74\n",
       "\\end{enumerate*}\n"
      ],
      "text/markdown": [
       "1. 887382\n",
       "2. 74\n",
       "\n",
       "\n"
      ],
      "text/plain": [
       "[1] 887382     74"
      ]
     },
     "metadata": {},
     "output_type": "display_data"
    }
   ],
   "source": [
    "dim(loans)"
   ]
  },
  {
   "cell_type": "markdown",
   "metadata": {},
   "source": [
    "we can see that we have 887383 loans and 74 fitchers.\n",
    "first of all, lets take of all the unusefall fitchers."
   ]
  },
  {
   "cell_type": "markdown",
   "metadata": {},
   "source": [
    "#### data description\n"
   ]
  },
  {
   "cell_type": "markdown",
   "metadata": {},
   "source": [
    "hare is a brief explanation on the different  data's parameters"
   ]
  },
  {
   "cell_type": "code",
   "execution_count": 108,
   "metadata": {},
   "outputs": [],
   "source": [
    "#make a coppy\n",
    "loansdata <- loans"
   ]
  },
  {
   "cell_type": "code",
   "execution_count": 109,
   "metadata": {},
   "outputs": [
    {
     "ename": "ERROR",
     "evalue": "Error: 'C:/Users/Kobi/Google Drive/Final Project//lcdatadictionary.xlsx' does not exist.\n",
     "output_type": "error",
     "traceback": [
      "Error: 'C:/Users/Kobi/Google Drive/Final Project//lcdatadictionary.xlsx' does not exist.\nTraceback:\n",
      "1. excel_sheets(paste0(path, excel_file))",
      "2. check_file(path)",
      "3. stop(\"'\", path, \"' does not exist\", if (!is_absolute_path(path)) paste0(\" in current working directory ('\", \n .     getwd(), \"')\"), \".\", call. = FALSE)"
     ]
    }
   ],
   "source": [
    "\n",
    "if(!require(readxl)){install.packages(\"readxl\"); require(readxl)}\n",
    "# Load the Excel workbook\n",
    "##path <- \"D:/Google Drive/Final Project/\"\n",
    "##WorkPath\n",
    "#path = \"C:/Users/Kobi/Google Drive/Final Project/\"\n",
    "excel_file <- paste0(\"/lcdatadictionary.xlsx\")\n",
    "# see available tabs\n",
    "excel_sheets(paste0(path, excel_file))\n",
    "meta_loan_stats <- read_excel(paste0(path, excel_file), sheet = \"LoanStats\")"
   ]
  },
  {
   "cell_type": "code",
   "execution_count": 110,
   "metadata": {},
   "outputs": [
    {
     "ename": "ERROR",
     "evalue": "Error in eval(expr, envir, enclos): object 'meta_loan_stats' not found\n",
     "output_type": "error",
     "traceback": [
      "Error in eval(expr, envir, enclos): object 'meta_loan_stats' not found\nTraceback:\n"
     ]
    }
   ],
   "source": [
    "meta_loan_stats[,1:2]"
   ]
  },
  {
   "cell_type": "code",
   "execution_count": null,
   "metadata": {
    "scrolled": false
   },
   "outputs": [],
   "source": [
    "summary(loans)"
   ]
  },
  {
   "cell_type": "markdown",
   "metadata": {},
   "source": [
    "Sorting the parameters by their type"
   ]
  },
  {
   "cell_type": "code",
   "execution_count": null,
   "metadata": {},
   "outputs": [],
   "source": [
    "split(names(loans),sapply(loans, function(x) paste(class(x), collapse=\" \")))"
   ]
  },
  {
   "cell_type": "code",
   "execution_count": null,
   "metadata": {},
   "outputs": [],
   "source": [
    "## numeric variables\n",
    "num_vars <- \n",
    "  loans %>% \n",
    "  sapply(is.numeric) %>% \n",
    "  which() %>% \n",
    "  names()\n",
    "num_vars\n",
    "length(num_vars)"
   ]
  },
  {
   "cell_type": "markdown",
   "metadata": {},
   "source": [
    "#### Fixing the dates"
   ]
  },
  {
   "cell_type": "code",
   "execution_count": 111,
   "metadata": {},
   "outputs": [
    {
     "name": "stdout",
     "output_type": "stream",
     "text": [
      "'data.frame':\t887382 obs. of  5 variables:\n",
      " $ issue_d           : chr  \"Dec-2011\" \"Dec-2011\" \"Dec-2011\" \"Dec-2011\" ...\n",
      " $ last_pymnt_d      : chr  \"Jan-2015\" \"Apr-2013\" \"Jun-2014\" \"Jan-2015\" ...\n",
      " $ last_credit_pull_d: chr  \"Jan-2016\" \"Sep-2013\" \"Jan-2016\" \"Jan-2015\" ...\n",
      " $ next_pymnt_d      : chr  NA NA NA NA ...\n",
      " $ earliest_cr_line  : chr  \"Jan-1985\" \"Apr-1999\" \"Nov-2001\" \"Feb-1996\" ...\n"
     ]
    }
   ],
   "source": [
    "chr_to_date_vars <- \n",
    "  c(\"issue_d\", \"last_pymnt_d\", \"last_credit_pull_d\",\n",
    "    \"next_pymnt_d\", \"earliest_cr_line\")\n",
    "\n",
    "loans %>%\n",
    "  select_(.dots = chr_to_date_vars) %>%\n",
    "  str()"
   ]
  },
  {
   "cell_type": "code",
   "execution_count": 144,
   "metadata": {},
   "outputs": [],
   "source": [
    "\n",
    "loans <- loansdata"
   ]
  },
  {
   "cell_type": "code",
   "execution_count": 113,
   "metadata": {},
   "outputs": [
    {
     "data": {
      "text/html": [
       "'C'"
      ],
      "text/latex": [
       "'C'"
      ],
      "text/markdown": [
       "'C'"
      ],
      "text/plain": [
       "[1] \"C\""
      ]
     },
     "metadata": {},
     "output_type": "display_data"
    },
    {
     "data": {
      "text/html": [
       "'Hebrew_Israel.1255'"
      ],
      "text/latex": [
       "'Hebrew\\_Israel.1255'"
      ],
      "text/markdown": [
       "'Hebrew_Israel.1255'"
      ],
      "text/plain": [
       "[1] \"Hebrew_Israel.1255\""
      ]
     },
     "metadata": {},
     "output_type": "display_data"
    }
   ],
   "source": [
    "##convert-date as string to Date Variable\n",
    "convert_date <- function(x){\n",
    "  as.Date(paste0(\"01-\", x), format = \"%d-%b-%Y\")\n",
    "  } \n",
    "lct <- Sys.getlocale(\"LC_TIME\"); Sys.setlocale(\"LC_TIME\", \"C\")\n",
    "loans <-\n",
    "  loans %>%\n",
    "  mutate_at(.funs = funs(convert_date), .vars = chr_to_date_vars)\n",
    "Sys.setlocale(\"LC_TIME\", lct)"
   ]
  },
  {
   "cell_type": "code",
   "execution_count": 114,
   "metadata": {},
   "outputs": [
    {
     "data": {
      "text/html": [
       "<ol class=list-inline>\n",
       "\t<li>'verification_status'</li>\n",
       "\t<li>'loan_status'</li>\n",
       "\t<li>'url'</li>\n",
       "\t<li>'loanDesc'</li>\n",
       "\t<li>'purpose'</li>\n",
       "\t<li>'title'</li>\n",
       "\t<li>'verification_status_joint'</li>\n",
       "\t<li>'grade'</li>\n",
       "\t<li>'sub_grade'</li>\n",
       "\t<li>'emp_title'</li>\n",
       "\t<li>'emp_length'</li>\n",
       "\t<li>'zip_code'</li>\n",
       "\t<li>'addr_state'</li>\n",
       "\t<li>'home_ownership'</li>\n",
       "</ol>\n"
      ],
      "text/latex": [
       "\\begin{enumerate*}\n",
       "\\item 'verification\\_status'\n",
       "\\item 'loan\\_status'\n",
       "\\item 'url'\n",
       "\\item 'loanDesc'\n",
       "\\item 'purpose'\n",
       "\\item 'title'\n",
       "\\item 'verification\\_status\\_joint'\n",
       "\\item 'grade'\n",
       "\\item 'sub\\_grade'\n",
       "\\item 'emp\\_title'\n",
       "\\item 'emp\\_length'\n",
       "\\item 'zip\\_code'\n",
       "\\item 'addr\\_state'\n",
       "\\item 'home\\_ownership'\n",
       "\\end{enumerate*}\n"
      ],
      "text/markdown": [
       "1. 'verification_status'\n",
       "2. 'loan_status'\n",
       "3. 'url'\n",
       "4. 'loanDesc'\n",
       "5. 'purpose'\n",
       "6. 'title'\n",
       "7. 'verification_status_joint'\n",
       "8. 'grade'\n",
       "9. 'sub_grade'\n",
       "10. 'emp_title'\n",
       "11. 'emp_length'\n",
       "12. 'zip_code'\n",
       "13. 'addr_state'\n",
       "14. 'home_ownership'\n",
       "\n",
       "\n"
      ],
      "text/plain": [
       " [1] \"verification_status\"       \"loan_status\"              \n",
       " [3] \"url\"                       \"loanDesc\"                 \n",
       " [5] \"purpose\"                   \"title\"                    \n",
       " [7] \"verification_status_joint\" \"grade\"                    \n",
       " [9] \"sub_grade\"                 \"emp_title\"                \n",
       "[11] \"emp_length\"                \"zip_code\"                 \n",
       "[13] \"addr_state\"                \"home_ownership\"           "
      ]
     },
     "metadata": {},
     "output_type": "display_data"
    }
   ],
   "source": [
    "## categorical variables\n",
    "cv <- setdiff(names(loans),c(chr_to_date_vars,num_vars))\n",
    "cv"
   ]
  },
  {
   "cell_type": "code",
   "execution_count": 115,
   "metadata": {},
   "outputs": [
    {
     "name": "stdout",
     "output_type": "stream",
     "text": [
      "'data.frame':\t887382 obs. of  14 variables:\n",
      " $ verification_status      : chr  \"Verified\" \"Source Verified\" \"Not Verified\" \"Source Verified\" ...\n",
      " $ loan_status              : chr  \"Fully Paid\" \"Charged Off\" \"Fully Paid\" \"Fully Paid\" ...\n",
      " $ url                      : chr  \"https://www.lendingclub.com/browse/loanDetail.action?loan_id=1077501\" \"https://www.lendingclub.com/browse/loanDetail.action?loan_id=1077430\" \"https://www.lendingclub.com/browse/loanDetail.action?loan_id=1077175\" \"https://www.lendingclub.com/browse/loanDetail.action?loan_id=1076863\" ...\n",
      " $ loanDesc                 : chr  \"  Borrower added on 12/22/11 > I need to upgrade my business technologies.<br>\" \"  Borrower added on 12/22/11 > I plan to use this money to finance the motorcycle i am looking at. I plan to ha\"| __truncated__ NA \"  Borrower added on 12/21/11 > to pay for property tax (borrow from friend, need to pay back) & central A/C nee\"| __truncated__ ...\n",
      " $ purpose                  : chr  \"credit_card\" \"car\" \"small_business\" \"other\" ...\n",
      " $ title                    : chr  \"Computer\" \"bike\" \"real estate business\" \"personel\" ...\n",
      " $ verification_status_joint: chr  NA NA NA NA ...\n",
      " $ grade                    : chr  \"B\" \"C\" \"C\" \"C\" ...\n",
      " $ sub_grade                : chr  \"B2\" \"C4\" \"C5\" \"C1\" ...\n",
      " $ emp_title                : chr  NA \"Ryder\" NA \"AIR RESOURCES BOARD\" ...\n",
      " $ emp_length               : chr  \"10+ years\" \"< 1 year\" \"10+ years\" \"10+ years\" ...\n",
      " $ zip_code                 : chr  \"860xx\" \"309xx\" \"606xx\" \"917xx\" ...\n",
      " $ addr_state               : chr  \"AZ\" \"GA\" \"IL\" \"CA\" ...\n",
      " $ home_ownership           : chr  \"RENT\" \"RENT\" \"RENT\" \"RENT\" ...\n"
     ]
    }
   ],
   "source": [
    "loans %>%\n",
    "  select_(.dots = cv) %>%\n",
    "  str()"
   ]
  },
  {
   "cell_type": "markdown",
   "metadata": {},
   "source": [
    "#### some more data checking"
   ]
  },
  {
   "cell_type": "code",
   "execution_count": 116,
   "metadata": {},
   "outputs": [],
   "source": [
    "## tableone package itself\n",
    "if(!require(tableone)){install.packages(\"tableone\"); require(tableone)}"
   ]
  },
  {
   "cell_type": "code",
   "execution_count": 117,
   "metadata": {},
   "outputs": [
    {
     "name": "stderr",
     "output_type": "stream",
     "text": [
      "Warning message in CreateTableOne(vars = names(loans), data = loans):\n",
      "\"Dropping variable(s) issue_d last_pymnt_d next_pymnt_d last_credit_pull_d earliest_cr_line  due to unsupported class.\n",
      "\""
     ]
    }
   ],
   "source": [
    "## Create a TableOne object\n",
    "tab <- CreateTableOne(vars = names(loans), data = loans)"
   ]
  },
  {
   "cell_type": "code",
   "execution_count": 118,
   "metadata": {
    "scrolled": true
   },
   "outputs": [
    {
     "name": "stderr",
     "output_type": "stream",
     "text": [
      "IOPub data rate exceeded.\n",
      "The notebook server will temporarily stop sending output\n",
      "to the client in order to avoid crashing it.\n",
      "To change this limit, set the config variable\n",
      "`--NotebookApp.iopub_data_rate_limit`.\n",
      "\n",
      "Current values:\n",
      "NotebookApp.iopub_data_rate_limit=1000000.0 (bytes/sec)\n",
      "NotebookApp.rate_limit_window=3.0 (secs)\n",
      "\n"
     ]
    }
   ],
   "source": [
    "summary(tab)"
   ]
  },
  {
   "cell_type": "code",
   "execution_count": 119,
   "metadata": {},
   "outputs": [],
   "source": [
    "## Create a TableOne object\n",
    "tab2 <- CreateTableOne(vars = num_vars, data = loans)"
   ]
  },
  {
   "cell_type": "code",
   "execution_count": 120,
   "metadata": {},
   "outputs": [
    {
     "name": "stdout",
     "output_type": "stream",
     "text": [
      "\n",
      "     ### Summary of continuous variables ###\n",
      "\n",
      "strata: Overall\n",
      "                                n  miss p.miss  mean    sd median   p25   p75\n",
      "loan_id                     9e+05 0e+00  0e+00 3e+07 2e+07  3e+07 9e+06 5e+07\n",
      "member_id                   9e+05 0e+00  0e+00 4e+07 2e+07  4e+07 1e+07 6e+07\n",
      "pymnt_plan                  9e+05 0e+00  0e+00 1e-05 3e-03  0e+00 0e+00 0e+00\n",
      "policy_code                 9e+05 0e+00  0e+00 1e+00 0e+00  1e+00 1e+00 1e+00\n",
      "application_type            9e+05 0e+00  0e+00 6e-04 2e-02  0e+00 0e+00 0e+00\n",
      "initial_list_status         9e+05 0e+00  0e+00 5e-01 5e-01  1e+00 0e+00 1e+00\n",
      "loan_amnt                   9e+05 0e+00  0e+00 1e+04 8e+03  1e+04 8e+03 2e+04\n",
      "funded_amnt                 9e+05 0e+00  0e+00 1e+04 8e+03  1e+04 8e+03 2e+04\n",
      "funded_amnt_inv             9e+05 0e+00  0e+00 1e+04 8e+03  1e+04 8e+03 2e+04\n",
      "term                        9e+05 0e+00  0e+00 3e-01 5e-01  0e+00 0e+00 1e+00\n",
      "int_rate                    9e+05 0e+00  0e+00 1e+01 4e+00  1e+01 1e+01 2e+01\n",
      "installment                 9e+05 0e+00  0e+00 4e+02 2e+02  4e+02 3e+02 6e+02\n",
      "out_prncp                   9e+05 0e+00  0e+00 8e+03 8e+03  6e+03 0e+00 1e+04\n",
      "out_prncp_inv               9e+05 0e+00  0e+00 8e+03 8e+03  6e+03 0e+00 1e+04\n",
      "total_pymnt                 9e+05 0e+00  0e+00 8e+03 8e+03  5e+03 2e+03 1e+04\n",
      "total_pymnt_inv             9e+05 0e+00  0e+00 8e+03 8e+03  5e+03 2e+03 1e+04\n",
      "total_rec_prncp             9e+05 0e+00  0e+00 6e+03 7e+03  3e+03 1e+03 8e+03\n",
      "total_rec_int               9e+05 0e+00  0e+00 2e+03 2e+03  1e+03 4e+02 2e+03\n",
      "total_rec_late_fee          9e+05 0e+00  0e+00 4e-01 4e+00  0e+00 0e+00 0e+00\n",
      "recoveries                  9e+05 0e+00  0e+00 5e+01 4e+02  0e+00 0e+00 0e+00\n",
      "collection_recovery_fee     9e+05 0e+00  0e+00 5e+00 6e+01  0e+00 0e+00 0e+00\n",
      "last_pymnt_amnt             9e+05 0e+00  0e+00 2e+03 5e+03  5e+02 3e+02 8e+02\n",
      "collections_12_mths_ex_med  9e+05 1e+02  2e-02 1e-02 1e-01  0e+00 0e+00 0e+00\n",
      "mths_since_last_major_derog 9e+05 7e+05  8e+01 4e+01 2e+01  4e+01 3e+01 6e+01\n",
      "annual_inc                  9e+05 4e+00  5e-04 8e+04 6e+04  6e+04 4e+04 9e+04\n",
      "dti                         9e+05 0e+00  0e+00 2e+01 2e+01  2e+01 1e+01 2e+01\n",
      "delinq_2yrs                 9e+05 3e+01  3e-03 3e-01 9e-01  0e+00 0e+00 0e+00\n",
      "annual_inc_joint            9e+05 9e+05  1e+02 1e+05 5e+04  1e+05 8e+04 1e+05\n",
      "dti_joint                   9e+05 9e+05  1e+02 2e+01 7e+00  2e+01 1e+01 2e+01\n",
      "acc_now_delinq              9e+05 3e+01  3e-03 5e-03 8e-02  0e+00 0e+00 0e+00\n",
      "inq_last_6mths              9e+05 3e+01  3e-03 7e-01 1e+00  0e+00 0e+00 1e+00\n",
      "mths_since_last_delinq      9e+05 5e+05  5e+01 3e+01 2e+01  3e+01 2e+01 5e+01\n",
      "mths_since_last_record      9e+05 8e+05  8e+01 7e+01 3e+01  7e+01 5e+01 9e+01\n",
      "open_acc                    9e+05 3e+01  3e-03 1e+01 5e+00  1e+01 8e+00 1e+01\n",
      "pub_rec                     9e+05 3e+01  3e-03 2e-01 6e-01  0e+00 0e+00 0e+00\n",
      "revol_bal                   9e+05 0e+00  0e+00 2e+04 2e+04  1e+04 6e+03 2e+04\n",
      "revol_util                  9e+05 5e+02  6e-02 6e+01 2e+01  6e+01 4e+01 7e+01\n",
      "total_acc                   9e+05 3e+01  3e-03 3e+01 1e+01  2e+01 2e+01 3e+01\n",
      "tot_coll_amt                9e+05 7e+04  8e+00 2e+02 1e+04  0e+00 0e+00 0e+00\n",
      "tot_cur_bal                 9e+05 7e+04  8e+00 1e+05 2e+05  8e+04 3e+04 2e+05\n",
      "open_acc_6m                 9e+05 9e+05  1e+02 1e+00 1e+00  1e+00 0e+00 2e+00\n",
      "open_il_6m                  9e+05 9e+05  1e+02 3e+00 3e+00  2e+00 1e+00 4e+00\n",
      "open_il_12m                 9e+05 9e+05  1e+02 8e-01 1e+00  0e+00 0e+00 1e+00\n",
      "open_il_24m                 9e+05 9e+05  1e+02 2e+00 2e+00  1e+00 0e+00 2e+00\n",
      "mths_since_rcnt_il          9e+05 9e+05  1e+02 2e+01 3e+01  1e+01 6e+00 2e+01\n",
      "total_bal_il                9e+05 9e+05  1e+02 4e+04 4e+04  2e+04 1e+04 5e+04\n",
      "il_util                     9e+05 9e+05  1e+02 7e+01 2e+01  7e+01 6e+01 9e+01\n",
      "open_rv_12m                 9e+05 9e+05  1e+02 1e+00 2e+00  1e+00 0e+00 2e+00\n",
      "open_rv_24m                 9e+05 9e+05  1e+02 3e+00 3e+00  2e+00 1e+00 4e+00\n",
      "max_bal_bc                  9e+05 9e+05  1e+02 6e+03 5e+03  4e+03 2e+03 8e+03\n",
      "all_util                    9e+05 9e+05  1e+02 6e+01 2e+01  6e+01 5e+01 8e+01\n",
      "total_rev_hi_lim            9e+05 7e+04  8e+00 3e+04 4e+04  2e+04 1e+04 4e+04\n",
      "inq_fi                      9e+05 9e+05  1e+02 9e-01 1e+00  0e+00 0e+00 1e+00\n",
      "total_cu_tl                 9e+05 9e+05  1e+02 2e+00 3e+00  0e+00 0e+00 2e+00\n",
      "inq_last_12m                9e+05 9e+05  1e+02 2e+00 3e+00  2e+00 0e+00 3e+00\n",
      "                              min   max   skew   kurt\n",
      "loan_id                     54734 7e+07   0.02 -1e+00\n",
      "member_id                   70473 7e+07   0.02 -1e+00\n",
      "pymnt_plan                      0 1e+00 297.89  9e+04\n",
      "policy_code                     1 1e+00    NaN    NaN\n",
      "application_type                0 1e+00  41.64  2e+03\n",
      "initial_list_status             0 1e+00  -0.06 -2e+00\n",
      "loan_amnt                     500 4e+04   0.68 -3e-01\n",
      "funded_amnt                   500 4e+04   0.68 -3e-01\n",
      "funded_amnt_inv                 0 4e+04   0.68 -3e-01\n",
      "term                            0 1e+00   0.87 -1e+00\n",
      "int_rate                        5 3e+01   0.43 -2e-01\n",
      "installment                    16 1e+03   0.94  7e-01\n",
      "out_prncp                       0 5e+04   0.93  1e-01\n",
      "out_prncp_inv                   0 5e+04   0.93  1e-01\n",
      "total_pymnt                     0 6e+04   1.79  4e+00\n",
      "total_pymnt_inv                 0 6e+04   1.79  4e+00\n",
      "total_rec_prncp                 0 4e+04   1.94  4e+00\n",
      "total_rec_int                   0 2e+04   2.83  1e+01\n",
      "total_rec_late_fee              0 4e+02  17.40  5e+02\n",
      "recoveries                      0 3e+04  18.06  6e+02\n",
      "collection_recovery_fee         0 7e+03  29.66  2e+03\n",
      "last_pymnt_amnt                 0 4e+04   3.48  1e+01\n",
      "collections_12_mths_ex_med      0 2e+01  17.41  1e+03\n",
      "mths_since_last_major_derog     0 2e+02   0.26 -3e-02\n",
      "annual_inc                      0 1e+07  44.48  5e+03\n",
      "dti                             0 1e+04 441.49  3e+05\n",
      "delinq_2yrs                     0 4e+01   5.47  6e+01\n",
      "annual_inc_joint            17950 5e+05   2.32  1e+01\n",
      "dti_joint                       3 4e+01   0.42 -2e-02\n",
      "acc_now_delinq                  0 1e+01  24.07  2e+03\n",
      "inq_last_6mths                  0 3e+01   2.11  1e+01\n",
      "mths_since_last_delinq          0 2e+02   0.46 -8e-01\n",
      "mths_since_last_record          0 1e+02  -0.20 -6e-01\n",
      "open_acc                        0 9e+01   1.25  3e+00\n",
      "pub_rec                         0 9e+01  13.26  1e+03\n",
      "revol_bal                       0 3e+06  15.95  1e+03\n",
      "revol_util                      0 9e+02  -0.12  1e+00\n",
      "total_acc                       1 2e+02   0.89  1e+00\n",
      "tot_coll_amt                    0 9e+06 856.18  8e+05\n",
      "tot_cur_bal                     0 8e+06   2.92  3e+01\n",
      "open_acc_6m                     0 1e+01   1.64  5e+00\n",
      "open_il_6m                      0 4e+01   2.87  1e+01\n",
      "open_il_12m                     0 1e+01   1.89  6e+00\n",
      "open_il_24m                     0 2e+01   1.84  6e+00\n",
      "mths_since_rcnt_il              0 4e+02   3.11  1e+01\n",
      "total_bal_il                    0 9e+05   3.57  3e+01\n",
      "il_util                         0 2e+02  -0.59  9e-01\n",
      "open_rv_12m                     0 2e+01   1.93  8e+00\n",
      "open_rv_24m                     0 4e+01   1.87  8e+00\n",
      "max_bal_bc                      0 1e+05   2.93  3e+01\n",
      "all_util                        0 2e+02  -0.22 -3e-02\n",
      "total_rev_hi_lim                0 1e+07  73.04  2e+04\n",
      "inq_fi                          0 2e+01   2.52  1e+01\n",
      "total_cu_tl                     0 4e+01   3.14  1e+01\n",
      "inq_last_12m                   -4 3e+01   1.11  6e+00\n"
     ]
    }
   ],
   "source": [
    "summary(tab2)"
   ]
  },
  {
   "cell_type": "code",
   "execution_count": 121,
   "metadata": {},
   "outputs": [
    {
     "name": "stderr",
     "output_type": "stream",
     "text": [
      "Loading required package: funModeling\n",
      "Warning message in library(package, lib.loc = lib.loc, character.only = TRUE, logical.return = TRUE, :\n",
      "\"there is no package called 'funModeling'\"Warning message:\n",
      "\"unable to access index for repository https://mran.microsoft.com/snapshot/2017-09-01/src/contrib:\n",
      "  cannot open destfile 'C:\\Users\\User\\AppData\\Local\\Temp\\RtmpmqRett\\file208836531546', reason 'No such file or directory'\"Warning message:\n",
      "\"unable to access index for repository http://www.stats.ox.ac.uk/pub/RWin/src/contrib:\n",
      "  cannot open destfile 'C:\\Users\\User\\AppData\\Local\\Temp\\RtmpmqRett\\file2088107526bf', reason 'No such file or directory'\"Warning message:\n",
      "\"package 'funModeling' is not available (for R version 3.4.3)\"Warning message in gzfile(file, mode):\n",
      "\"cannot open compressed file 'C:\\Users\\User\\AppData\\Local\\Temp\\RtmpmqRett/libloc_191_2e9ef8b0.rds', probable reason 'No such file or directory'\""
     ]
    },
    {
     "ename": "ERROR",
     "evalue": "Error in gzfile(file, mode): cannot open the connection\n",
     "output_type": "error",
     "traceback": [
      "Error in gzfile(file, mode): cannot open the connection\nTraceback:\n",
      "1. install.packages(\"funModeling\")   # at line 2 of file <text>",
      "2. getDependencies(pkgs, dependencies, available, lib)",
      "3. installed.packages(lib.loc = libpath, fields = c(\"Package\", \"Version\"))",
      "4. saveRDS(list(base = base, value = ret0), dest)",
      "5. gzfile(file, mode)"
     ]
    }
   ],
   "source": [
    "## funModeling package\n",
    "if(!require(funModeling)){install.packages(\"funModeling\"); require(funModeling)}"
   ]
  },
  {
   "cell_type": "code",
   "execution_count": 122,
   "metadata": {},
   "outputs": [
    {
     "ename": "ERROR",
     "evalue": "Error in loadNamespace(name): there is no package called 'funModeling'\n",
     "output_type": "error",
     "traceback": [
      "Error in loadNamespace(name): there is no package called 'funModeling'\nTraceback:\n",
      "1. funModeling::df_status",
      "2. getExportedValue(pkg, name)",
      "3. asNamespace(ns)",
      "4. getNamespace(ns)",
      "5. tryCatch(loadNamespace(name), error = function(e) stop(e))",
      "6. tryCatchList(expr, classes, parentenv, handlers)",
      "7. tryCatchOne(expr, names, parentenv, handlers[[1L]])",
      "8. value[[3L]](cond)"
     ]
    }
   ],
   "source": [
    "meta_loans <- funModeling::df_status(loans, print_results = FALSE)"
   ]
  },
  {
   "cell_type": "code",
   "execution_count": null,
   "metadata": {},
   "outputs": [],
   "source": [
    "meta_loans%>%\n",
    "  knitr::kable()"
   ]
  },
  {
   "cell_type": "code",
   "execution_count": null,
   "metadata": {},
   "outputs": [],
   "source": [
    "meta_loans <-\n",
    "  meta_loans %>%\n",
    "  mutate(uniq_rat = unique / nrow(loans))\n",
    "\n",
    "meta_loans %>%\n",
    "  select(variable, unique, uniq_rat) %>%\n",
    "  mutate(unique = unique, uniq_rat = scales::percent(uniq_rat))"
   ]
  },
  {
   "cell_type": "code",
   "execution_count": null,
   "metadata": {},
   "outputs": [],
   "source": [
    "meta_loans %>%\n",
    "  select(variable, p_zeros, p_na, unique) %>%\n",
    "  filter_(~ variable %in% num_vars)"
   ]
  },
  {
   "cell_type": "code",
   "execution_count": null,
   "metadata": {},
   "outputs": [],
   "source": [
    "meta_loans %>%\n",
    "  select(variable, p_zeros, p_na, unique) %>% arrange(desc(unique))"
   ]
  },
  {
   "cell_type": "markdown",
   "metadata": {},
   "source": [
    "<h3>Excluding Columns (1)</h3>\n",
    "<ol>\n",
    "<li>It seems the data has<strong> two unique identifiers</strong> <span style=\"text-decoration: underline; color: #0000ff;\">loan_id</span> and <span style=\"text-decoration: underline; color: #0000ff;\">member_id</span>.<br /> We using them only for joins between loans and loaners tables. So we can drop one of them.</li>\n",
    "<li>The <span style=\"text-decoration: underline; color: #0000ff;\">Url</span> column is 100% unique. <br /> By Lending Club Definition File - URL for the LC page with listing data.<br /> This data is not meaningfull for model purposes.</li>\n",
    "<li><span style=\"text-decoration: underline; color: #0000ff;\">Policy code</span> has only one unique value.<br /> By Lending Club Definition File <br />publicly available policy_code=1<br /> new products not publicly available policy_code=2<br /> So we don't have rows with policy_code=2.</li>\n",
    "<li>An attribute <span style=\"text-decoration: underline; color: #0000ff;\">emp_title </span>has over 30% unique values, it seems borrowers are free to describe their employment title. <br /><em><span style=\"text-decoration: underline;\">Note:</span> </em>In a more sophisticated modeling , may be used to checking the strings for &ldquo;indicator words&rdquo; that may be associated with an honest or a dishonest (credible / non-credible) candidate.</li>\n",
    "</ol>"
   ]
  },
  {
   "cell_type": "code",
   "execution_count": 206,
   "metadata": {},
   "outputs": [
    {
     "data": {
      "text/html": [
       "74"
      ],
      "text/latex": [
       "74"
      ],
      "text/markdown": [
       "74"
      ],
      "text/plain": [
       "[1] 74"
      ]
     },
     "metadata": {},
     "output_type": "display_data"
    },
    {
     "data": {
      "text/html": [
       "70"
      ],
      "text/latex": [
       "70"
      ],
      "text/markdown": [
       "70"
      ],
      "text/plain": [
       "[1] 70"
      ]
     },
     "metadata": {},
     "output_type": "display_data"
    }
   ],
   "source": [
    "excludeColumns <- function(data,colv) {\n",
    "    for(n in colv) {\n",
    "        data[[n]] <- NULL\n",
    "    }\n",
    "    return(data)\n",
    "}\n",
    "exclude <- c(\"member_id\",\"url\",\"emp_title\",\"policy_code\")\n",
    "ncol(loans)\n",
    "loans <- excludeColumns(loans,exclude)\n",
    "ncol(loans)"
   ]
  },
  {
   "cell_type": "code",
   "execution_count": 207,
   "metadata": {},
   "outputs": [],
   "source": [
    "excludeUniqueValue <- function(data) {\n",
    "    nm <- names(data)\n",
    "    res <- NULL\n",
    "    for(n in nm) {\n",
    "        if(length(unique(data[[n]]))==1) {\n",
    "            data[[n]] <- NULL\n",
    "            res <- c(res, n)\n",
    "            print(n)\n",
    "        }\n",
    "    }\n",
    "    if(length(res) > 0) {\n",
    "        message(\"The following variables had only one unique values and were removed\")\n",
    "        message(res)\n",
    "    }\n",
    "    return(data)\n",
    "}"
   ]
  },
  {
   "cell_type": "code",
   "execution_count": 208,
   "metadata": {},
   "outputs": [
    {
     "ename": "ERROR",
     "evalue": "Error in eval(lhs, parent, parent): object 'meta_loans' not found\n",
     "output_type": "error",
     "traceback": [
      "Error in eval(lhs, parent, parent): object 'meta_loans' not found\nTraceback:\n",
      "1. meta_loans %>% select(variable, p_zeros, p_na, unique) %>% arrange(desc(p_na))",
      "2. eval(lhs, parent, parent)",
      "3. eval(lhs, parent, parent)"
     ]
    }
   ],
   "source": [
    "meta_loans %>%\n",
    "  select(variable, p_zeros, p_na, unique) %>% arrange(desc(p_na))"
   ]
  },
  {
   "cell_type": "markdown",
   "metadata": {},
   "source": [
    "<p>We see that the columns <strong><em>verification_status_joint,annual_inc_joint,dti_joint</em></strong> has a <span style=\"color: #ff0000;\"><strong>99% NA ratio</strong></span><br />This Columns By their LC Definition indicate those are columns which describe a <span style=\"text-decoration: underline;\">joint application</span> loans.<br />We will check for the ratio of joint apllications in our dataset:</p>"
   ]
  },
  {
   "cell_type": "code",
   "execution_count": 209,
   "metadata": {},
   "outputs": [
    {
     "data": {
      "text/html": [
       "<table>\n",
       "<thead><tr><th scope=col>application_type</th><th scope=col>N</th><th scope=col>app_rat</th></tr></thead>\n",
       "<tbody>\n",
       "\t<tr><td>0           </td><td>886871      </td><td>0.9994241488</td></tr>\n",
       "\t<tr><td>1           </td><td>   511      </td><td>0.0005758512</td></tr>\n",
       "</tbody>\n",
       "</table>\n"
      ],
      "text/latex": [
       "\\begin{tabular}{r|lll}\n",
       " application\\_type & N & app\\_rat\\\\\n",
       "\\hline\n",
       "\t 0            & 886871       & 0.9994241488\\\\\n",
       "\t 1            &    511       & 0.0005758512\\\\\n",
       "\\end{tabular}\n"
      ],
      "text/markdown": [
       "\n",
       "application_type | N | app_rat | \n",
       "|---|---|\n",
       "| 0            | 886871       | 0.9994241488 | \n",
       "| 1            |    511       | 0.0005758512 | \n",
       "\n",
       "\n"
      ],
      "text/plain": [
       "  application_type N      app_rat     \n",
       "1 0                886871 0.9994241488\n",
       "2 1                   511 0.0005758512"
      ]
     },
     "metadata": {},
     "output_type": "display_data"
    }
   ],
   "source": [
    "loans %>% group_by(application_type) %>% summarise(N = n())%>%select(application_type,N)%>%mutate(app_rat = N / nrow(loans))"
   ]
  },
  {
   "cell_type": "markdown",
   "metadata": {},
   "source": [
    "<p>As we can see , the 99.4% of our data is for single application, therefore we choosing to eliminate rows for the joint application loans to avoid outliers of this population.</p>\n",
    "<p><span style=\"color: #000000;\"><span style=\"text-decoration: underline; color: #ff0000;\"><strong>Assumption</strong></span> -</span> Joint applications are statistically different than single applications.</p>\n",
    "<p><strong><span style=\"text-decoration: underline;\"><span style=\"color: #ff0000; text-decoration: underline;\">Actions:</span></span></strong></p>\n",
    "<ol>\n",
    "<li>Remove these 3 columns:&nbsp;<strong><em>verification_status_joint,annual_inc_joint,dti_joint</em></strong></li>\n",
    "<li>Remove rows for Join applications (application_type=1)</li>\n",
    "<li>Because we removed all the rows with&nbsp;application_type=1 there is only one unique value so we will remove this column.</li>\n",
    "</ol>"
   ]
  },
  {
   "cell_type": "code",
   "execution_count": 210,
   "metadata": {},
   "outputs": [
    {
     "data": {
      "text/html": [
       "70"
      ],
      "text/latex": [
       "70"
      ],
      "text/markdown": [
       "70"
      ],
      "text/plain": [
       "[1] 70"
      ]
     },
     "metadata": {},
     "output_type": "display_data"
    },
    {
     "data": {
      "text/html": [
       "67"
      ],
      "text/latex": [
       "67"
      ],
      "text/markdown": [
       "67"
      ],
      "text/plain": [
       "[1] 67"
      ]
     },
     "metadata": {},
     "output_type": "display_data"
    },
    {
     "data": {
      "text/html": [
       "887382"
      ],
      "text/latex": [
       "887382"
      ],
      "text/markdown": [
       "887382"
      ],
      "text/plain": [
       "[1] 887382"
      ]
     },
     "metadata": {},
     "output_type": "display_data"
    },
    {
     "data": {
      "text/html": [
       "886871"
      ],
      "text/latex": [
       "886871"
      ],
      "text/markdown": [
       "886871"
      ],
      "text/plain": [
       "[1] 886871"
      ]
     },
     "metadata": {},
     "output_type": "display_data"
    },
    {
     "name": "stdout",
     "output_type": "stream",
     "text": [
      "[1] \"application_type\"\n"
     ]
    },
    {
     "name": "stderr",
     "output_type": "stream",
     "text": [
      "The following variables had only one unique values and were removed\n",
      "application_type\n"
     ]
    }
   ],
   "source": [
    "exclude <- c(\"verification_status_joint\",\"annual_inc_joint\",\"dti_joint\")\n",
    "ncol(loans)\n",
    "loans <- excludeColumns(loans,exclude)\n",
    "ncol(loans)\n",
    "nrow(loans)\n",
    "loans <- loans %>% filter(application_type == 0)\n",
    "nrow(loans)\n",
    "loans<-excludeUniqueValue(loans)"
   ]
  },
  {
   "cell_type": "markdown",
   "metadata": {},
   "source": [
    "<h3>Columns which are indications of the outcome - determind by Lending Club after the company evaluations of the credit risk. In our work, we want to estimate the credit risk by ourselves based on the data we have. </h3>\n",
    "<ol>\n",
    "<li>grade</li>\n",
    "<li>sub_grade</li>\n",
    "<li>int_rate</li>\n",
    "</ol>\n"
   ]
  },
  {
   "cell_type": "code",
   "execution_count": 211,
   "metadata": {},
   "outputs": [
    {
     "data": {
      "text/html": [
       "66"
      ],
      "text/latex": [
       "66"
      ],
      "text/markdown": [
       "66"
      ],
      "text/plain": [
       "[1] 66"
      ]
     },
     "metadata": {},
     "output_type": "display_data"
    },
    {
     "data": {
      "text/html": [
       "63"
      ],
      "text/latex": [
       "63"
      ],
      "text/markdown": [
       "63"
      ],
      "text/plain": [
       "[1] 63"
      ]
     },
     "metadata": {},
     "output_type": "display_data"
    }
   ],
   "source": [
    "exclude <- c(\"grade\",\"sub_grade\",\"int_rate\")\n",
    "ncol(loans)\n",
    "loans <- excludeColumns(loans,exclude)\n",
    "ncol(loans)"
   ]
  },
  {
   "cell_type": "code",
   "execution_count": 212,
   "metadata": {},
   "outputs": [
    {
     "ename": "ERROR",
     "evalue": "Error in loadNamespace(name): there is no package called 'funModeling'\n",
     "output_type": "error",
     "traceback": [
      "Error in loadNamespace(name): there is no package called 'funModeling'\nTraceback:\n",
      "1. funModeling::df_status",
      "2. getExportedValue(pkg, name)",
      "3. asNamespace(ns)",
      "4. getNamespace(ns)",
      "5. tryCatch(loadNamespace(name), error = function(e) stop(e))",
      "6. tryCatchList(expr, classes, parentenv, handlers)",
      "7. tryCatchOne(expr, names, parentenv, handlers[[1L]])",
      "8. value[[3L]](cond)"
     ]
    }
   ],
   "source": [
    "#Recreate Meta Loans\n",
    "meta_loans <- funModeling::df_status(loans, print_results = FALSE)\n",
    "meta_loans <-\n",
    "  meta_loans %>%\n",
    "  mutate(uniq_rat = unique / nrow(loans))"
   ]
  },
  {
   "cell_type": "code",
   "execution_count": 213,
   "metadata": {},
   "outputs": [
    {
     "ename": "ERROR",
     "evalue": "Error in eval(lhs, parent, parent): object 'meta_loans' not found\n",
     "output_type": "error",
     "traceback": [
      "Error in eval(lhs, parent, parent): object 'meta_loans' not found\nTraceback:\n",
      "1. meta_loans %>% select(variable, p_zeros, p_na, unique) %>% arrange(desc(p_na))",
      "2. eval(lhs, parent, parent)",
      "3. eval(lhs, parent, parent)"
     ]
    }
   ],
   "source": [
    "meta_loans %>%\n",
    "  select(variable, p_zeros, p_na, unique) %>% arrange(desc(p_na))"
   ]
  },
  {
   "cell_type": "markdown",
   "metadata": {},
   "source": [
    "<h1>Defining default</h1>\n",
    "<p>Our ultimate goal is the prediction of loan defaults.</p>\n",
    "<p>The variable loan status seems to be an indicator of the current state a particular loan is in.</p>\n",
    "<p>The different loan statuses in our data</p>"
   ]
  },
  {
   "cell_type": "code",
   "execution_count": 214,
   "metadata": {},
   "outputs": [
    {
     "data": {
      "text/html": [
       "<table>\n",
       "<thead><tr><th scope=col>loan_status</th><th scope=col>count</th><th scope=col>rel_count</th></tr></thead>\n",
       "<tbody>\n",
       "\t<tr><td>Charged Off                                        </td><td> 45248                                             </td><td>0.0510198214                                       </td></tr>\n",
       "\t<tr><td>Current                                            </td><td>601340                                             </td><td>0.6780467509                                       </td></tr>\n",
       "\t<tr><td>Default                                            </td><td>  1219                                             </td><td>0.0013744953                                       </td></tr>\n",
       "\t<tr><td>Does not meet the credit policy. Status:Charged Off</td><td>   761                                             </td><td>0.0008580729                                       </td></tr>\n",
       "\t<tr><td>Does not meet the credit policy. Status:Fully Paid </td><td>  1988                                             </td><td>0.0022415887                                       </td></tr>\n",
       "\t<tr><td>Fully Paid                                         </td><td>207723                                             </td><td>0.2342200839                                       </td></tr>\n",
       "\t<tr><td>In Grace Period                                    </td><td>  6250                                             </td><td>0.0070472481                                       </td></tr>\n",
       "\t<tr><td>Issued                                             </td><td>  8396                                             </td><td>0.0094669913                                       </td></tr>\n",
       "\t<tr><td>Late (16-30 days)                                  </td><td>  2357                                             </td><td>0.0026576582                                       </td></tr>\n",
       "\t<tr><td>Late (31-120 days)                                 </td><td> 11589                                             </td><td>0.0130672894                                       </td></tr>\n",
       "</tbody>\n",
       "</table>\n"
      ],
      "text/latex": [
       "\\begin{tabular}{r|lll}\n",
       " loan\\_status & count & rel\\_count\\\\\n",
       "\\hline\n",
       "\t Charged Off                                         &  45248                                              & 0.0510198214                                       \\\\\n",
       "\t Current                                             & 601340                                              & 0.6780467509                                       \\\\\n",
       "\t Default                                             &   1219                                              & 0.0013744953                                       \\\\\n",
       "\t Does not meet the credit policy. Status:Charged Off &    761                                              & 0.0008580729                                       \\\\\n",
       "\t Does not meet the credit policy. Status:Fully Paid  &   1988                                              & 0.0022415887                                       \\\\\n",
       "\t Fully Paid                                          & 207723                                              & 0.2342200839                                       \\\\\n",
       "\t In Grace Period                                     &   6250                                              & 0.0070472481                                       \\\\\n",
       "\t Issued                                              &   8396                                              & 0.0094669913                                       \\\\\n",
       "\t Late (16-30 days)                                   &   2357                                              & 0.0026576582                                       \\\\\n",
       "\t Late (31-120 days)                                  &  11589                                              & 0.0130672894                                       \\\\\n",
       "\\end{tabular}\n"
      ],
      "text/markdown": [
       "\n",
       "loan_status | count | rel_count | \n",
       "|---|---|---|---|---|---|---|---|---|---|\n",
       "| Charged Off                                         |  45248                                              | 0.0510198214                                        | \n",
       "| Current                                             | 601340                                              | 0.6780467509                                        | \n",
       "| Default                                             |   1219                                              | 0.0013744953                                        | \n",
       "| Does not meet the credit policy. Status:Charged Off |    761                                              | 0.0008580729                                        | \n",
       "| Does not meet the credit policy. Status:Fully Paid  |   1988                                              | 0.0022415887                                        | \n",
       "| Fully Paid                                          | 207723                                              | 0.2342200839                                        | \n",
       "| In Grace Period                                     |   6250                                              | 0.0070472481                                        | \n",
       "| Issued                                              |   8396                                              | 0.0094669913                                        | \n",
       "| Late (16-30 days)                                   |   2357                                              | 0.0026576582                                        | \n",
       "| Late (31-120 days)                                  |  11589                                              | 0.0130672894                                        | \n",
       "\n",
       "\n"
      ],
      "text/plain": [
       "   loan_status                                         count  rel_count   \n",
       "1  Charged Off                                          45248 0.0510198214\n",
       "2  Current                                             601340 0.6780467509\n",
       "3  Default                                               1219 0.0013744953\n",
       "4  Does not meet the credit policy. Status:Charged Off    761 0.0008580729\n",
       "5  Does not meet the credit policy. Status:Fully Paid    1988 0.0022415887\n",
       "6  Fully Paid                                          207723 0.2342200839\n",
       "7  In Grace Period                                       6250 0.0070472481\n",
       "8  Issued                                                8396 0.0094669913\n",
       "9  Late (16-30 days)                                     2357 0.0026576582\n",
       "10 Late (31-120 days)                                   11589 0.0130672894"
      ]
     },
     "metadata": {},
     "output_type": "display_data"
    }
   ],
   "source": [
    "loans %>%\n",
    "  group_by(loan_status) %>%\n",
    "  summarise(count = n(), rel_count = count/nrow(loans))"
   ]
  },
  {
   "cell_type": "markdown",
   "metadata": {},
   "source": [
    "<p>It is not immediately obvious what the different values stand for, so we refer to Lending Club&rsquo;s documentation about &ldquo;<a href=\"https://help.lendingclub.com/hc/en-us/articles/215488038-What-do-the-different-Note-statuses-mean-\">What do the different Note statuses mean?</a>&rdquo;</p>\n",
    "<ul>\n",
    "<li>Fully Paid: Loan has been fully repaid, either at the expiration of the 3- or 5-year year term or as a result of a prepayment.</li>\n",
    "<li>Current: Loan is up to date on all outstanding payments.</li>\n",
    "<li>Does not meet the credit policy. Status:Fully Paid: No explanation but see &ldquo;fully paid&rdquo;.</li>\n",
    "<li>Issued: New loan that has passed all Lending Club reviews, received full funding, and has been issued.</li>\n",
    "<li>Charged Off: Loan for which there is no longer a reasonable expectation of further payments. Generally, Charge Off occurs no later than 30 days after the Default status is reached. Upon Charge Off, the remaining principal balance of the Note is deducted from the account balance. Learn more about the&nbsp;<a href=\"https://help.lendingclub.com/hc/en-us/articles/216127747\">difference between &ldquo;default&rdquo; and &ldquo;charge off&rdquo;</a>.</li>\n",
    "<li>Does not meet the credit policy. Status:Charged Off: No explanation but see &ldquo;Charged Off&rdquo;</li>\n",
    "<li>Late (31-120 days): Loan has not been current for 31 to 120 days.</li>\n",
    "<li>In Grace Period: Loan is past due but within the 15-day grace period.</li>\n",
    "<li>Late (16-30 days): Loan has not been current for 16 to 30 days.</li>\n",
    "<li>Default: Loan has not been current for 121 days or more.</li>\n",
    "</ul>\n",
    "<p>Given above information, we will define a default as follows.</p>\n",
    "<b>We can see that 207,724 from the loans are Fully Paid and 45,248 are Charged Off.\n",
    "Lending Club defined Charged Off loans as loans that did not paid and Fully paid loans as loans that fully paid.\n",
    "Other loans, are loans that their status is not steady yet."
   ]
  },
  {
   "cell_type": "code",
   "execution_count": 215,
   "metadata": {},
   "outputs": [],
   "source": [
    "copy1<-loans"
   ]
  },
  {
   "cell_type": "code",
   "execution_count": 216,
   "metadata": {},
   "outputs": [
    {
     "data": {
      "text/html": [
       "886871"
      ],
      "text/latex": [
       "886871"
      ],
      "text/markdown": [
       "886871"
      ],
      "text/plain": [
       "[1] 886871"
      ]
     },
     "metadata": {},
     "output_type": "display_data"
    },
    {
     "data": {
      "text/html": [
       "631151"
      ],
      "text/latex": [
       "631151"
      ],
      "text/markdown": [
       "631151"
      ],
      "text/plain": [
       "[1] 631151"
      ]
     },
     "metadata": {},
     "output_type": "display_data"
    }
   ],
   "source": [
    "nrow(loans)\n",
    "status<-c(\"Current\", \"Default\",\"In Grace Period\", \"Issued\", \"Late (16-30 days)\",\n",
    "          \"Late (16-30 days)\", \"Late (31-120 days)\"  ) \n",
    "\n",
    "\n",
    "loans <-\n",
    "loans %>% filter(loan_status %in% status)\n",
    "nrow(loans)"
   ]
  },
  {
   "cell_type": "code",
   "execution_count": 217,
   "metadata": {},
   "outputs": [],
   "source": [
    "Charged_Off <- \n",
    "  c( \"Charged Off\",\n",
    "    \"Does not meet the credit policy. Status:Charged Off\")\n"
   ]
  },
  {
   "cell_type": "code",
   "execution_count": 218,
   "metadata": {},
   "outputs": [],
   "source": [
    "loans <-\n",
    "  loans %>%\n",
    "  mutate(default = ifelse(!(loan_status %in% Charged_Off), FALSE, TRUE))\n"
   ]
  },
  {
   "cell_type": "markdown",
   "metadata": {},
   "source": [
    "<p>Remove loan_status column because it has been used to define target variable</p>"
   ]
  },
  {
   "cell_type": "code",
   "execution_count": 219,
   "metadata": {},
   "outputs": [],
   "source": [
    "loans <- loans %>% select(-one_of(\"loan_status\"))"
   ]
  },
  {
   "cell_type": "code",
   "execution_count": 220,
   "metadata": {},
   "outputs": [
    {
     "data": {
      "text/html": [
       "<dl>\n",
       "\t<dt>$character</dt>\n",
       "\t\t<dd><ol class=list-inline>\n",
       "\t<li>'verification_status'</li>\n",
       "\t<li>'issue_d'</li>\n",
       "\t<li>'loanDesc'</li>\n",
       "\t<li>'purpose'</li>\n",
       "\t<li>'title'</li>\n",
       "\t<li>'emp_length'</li>\n",
       "\t<li>'zip_code'</li>\n",
       "\t<li>'addr_state'</li>\n",
       "\t<li>'last_pymnt_d'</li>\n",
       "\t<li>'next_pymnt_d'</li>\n",
       "\t<li>'last_credit_pull_d'</li>\n",
       "\t<li>'home_ownership'</li>\n",
       "\t<li>'earliest_cr_line'</li>\n",
       "</ol>\n",
       "</dd>\n",
       "\t<dt>$integer</dt>\n",
       "\t\t<dd><ol class=list-inline>\n",
       "\t<li>'loan_id'</li>\n",
       "\t<li>'pymnt_plan'</li>\n",
       "\t<li>'initial_list_status'</li>\n",
       "\t<li>'loan_amnt'</li>\n",
       "\t<li>'funded_amnt'</li>\n",
       "\t<li>'term'</li>\n",
       "\t<li>'collections_12_mths_ex_med'</li>\n",
       "\t<li>'mths_since_last_major_derog'</li>\n",
       "\t<li>'delinq_2yrs'</li>\n",
       "\t<li>'acc_now_delinq'</li>\n",
       "\t<li>'inq_last_6mths'</li>\n",
       "\t<li>'mths_since_last_delinq'</li>\n",
       "\t<li>'mths_since_last_record'</li>\n",
       "\t<li>'open_acc'</li>\n",
       "\t<li>'pub_rec'</li>\n",
       "\t<li>'total_acc'</li>\n",
       "\t<li>'tot_coll_amt'</li>\n",
       "\t<li>'open_acc_6m'</li>\n",
       "\t<li>'open_il_6m'</li>\n",
       "\t<li>'open_il_12m'</li>\n",
       "\t<li>'open_il_24m'</li>\n",
       "\t<li>'mths_since_rcnt_il'</li>\n",
       "\t<li>'total_bal_il'</li>\n",
       "\t<li>'open_rv_12m'</li>\n",
       "\t<li>'open_rv_24m'</li>\n",
       "\t<li>'max_bal_bc'</li>\n",
       "\t<li>'inq_fi'</li>\n",
       "\t<li>'total_cu_tl'</li>\n",
       "\t<li>'inq_last_12m'</li>\n",
       "</ol>\n",
       "</dd>\n",
       "\t<dt>$logical</dt>\n",
       "\t\t<dd>'default'</dd>\n",
       "\t<dt>$numeric</dt>\n",
       "\t\t<dd><ol class=list-inline>\n",
       "\t<li>'funded_amnt_inv'</li>\n",
       "\t<li>'installment'</li>\n",
       "\t<li>'out_prncp'</li>\n",
       "\t<li>'out_prncp_inv'</li>\n",
       "\t<li>'total_pymnt'</li>\n",
       "\t<li>'total_pymnt_inv'</li>\n",
       "\t<li>'total_rec_prncp'</li>\n",
       "\t<li>'total_rec_int'</li>\n",
       "\t<li>'total_rec_late_fee'</li>\n",
       "\t<li>'recoveries'</li>\n",
       "\t<li>'collection_recovery_fee'</li>\n",
       "\t<li>'last_pymnt_amnt'</li>\n",
       "\t<li>'annual_inc'</li>\n",
       "\t<li>'dti'</li>\n",
       "\t<li>'revol_bal'</li>\n",
       "\t<li>'revol_util'</li>\n",
       "\t<li>'tot_cur_bal'</li>\n",
       "\t<li>'il_util'</li>\n",
       "\t<li>'all_util'</li>\n",
       "\t<li>'total_rev_hi_lim'</li>\n",
       "</ol>\n",
       "</dd>\n",
       "</dl>\n"
      ],
      "text/latex": [
       "\\begin{description}\n",
       "\\item[\\$character] \\begin{enumerate*}\n",
       "\\item 'verification\\_status'\n",
       "\\item 'issue\\_d'\n",
       "\\item 'loanDesc'\n",
       "\\item 'purpose'\n",
       "\\item 'title'\n",
       "\\item 'emp\\_length'\n",
       "\\item 'zip\\_code'\n",
       "\\item 'addr\\_state'\n",
       "\\item 'last\\_pymnt\\_d'\n",
       "\\item 'next\\_pymnt\\_d'\n",
       "\\item 'last\\_credit\\_pull\\_d'\n",
       "\\item 'home\\_ownership'\n",
       "\\item 'earliest\\_cr\\_line'\n",
       "\\end{enumerate*}\n",
       "\n",
       "\\item[\\$integer] \\begin{enumerate*}\n",
       "\\item 'loan\\_id'\n",
       "\\item 'pymnt\\_plan'\n",
       "\\item 'initial\\_list\\_status'\n",
       "\\item 'loan\\_amnt'\n",
       "\\item 'funded\\_amnt'\n",
       "\\item 'term'\n",
       "\\item 'collections\\_12\\_mths\\_ex\\_med'\n",
       "\\item 'mths\\_since\\_last\\_major\\_derog'\n",
       "\\item 'delinq\\_2yrs'\n",
       "\\item 'acc\\_now\\_delinq'\n",
       "\\item 'inq\\_last\\_6mths'\n",
       "\\item 'mths\\_since\\_last\\_delinq'\n",
       "\\item 'mths\\_since\\_last\\_record'\n",
       "\\item 'open\\_acc'\n",
       "\\item 'pub\\_rec'\n",
       "\\item 'total\\_acc'\n",
       "\\item 'tot\\_coll\\_amt'\n",
       "\\item 'open\\_acc\\_6m'\n",
       "\\item 'open\\_il\\_6m'\n",
       "\\item 'open\\_il\\_12m'\n",
       "\\item 'open\\_il\\_24m'\n",
       "\\item 'mths\\_since\\_rcnt\\_il'\n",
       "\\item 'total\\_bal\\_il'\n",
       "\\item 'open\\_rv\\_12m'\n",
       "\\item 'open\\_rv\\_24m'\n",
       "\\item 'max\\_bal\\_bc'\n",
       "\\item 'inq\\_fi'\n",
       "\\item 'total\\_cu\\_tl'\n",
       "\\item 'inq\\_last\\_12m'\n",
       "\\end{enumerate*}\n",
       "\n",
       "\\item[\\$logical] 'default'\n",
       "\\item[\\$numeric] \\begin{enumerate*}\n",
       "\\item 'funded\\_amnt\\_inv'\n",
       "\\item 'installment'\n",
       "\\item 'out\\_prncp'\n",
       "\\item 'out\\_prncp\\_inv'\n",
       "\\item 'total\\_pymnt'\n",
       "\\item 'total\\_pymnt\\_inv'\n",
       "\\item 'total\\_rec\\_prncp'\n",
       "\\item 'total\\_rec\\_int'\n",
       "\\item 'total\\_rec\\_late\\_fee'\n",
       "\\item 'recoveries'\n",
       "\\item 'collection\\_recovery\\_fee'\n",
       "\\item 'last\\_pymnt\\_amnt'\n",
       "\\item 'annual\\_inc'\n",
       "\\item 'dti'\n",
       "\\item 'revol\\_bal'\n",
       "\\item 'revol\\_util'\n",
       "\\item 'tot\\_cur\\_bal'\n",
       "\\item 'il\\_util'\n",
       "\\item 'all\\_util'\n",
       "\\item 'total\\_rev\\_hi\\_lim'\n",
       "\\end{enumerate*}\n",
       "\n",
       "\\end{description}\n"
      ],
      "text/markdown": [
       "$character\n",
       ":   1. 'verification_status'\n",
       "2. 'issue_d'\n",
       "3. 'loanDesc'\n",
       "4. 'purpose'\n",
       "5. 'title'\n",
       "6. 'emp_length'\n",
       "7. 'zip_code'\n",
       "8. 'addr_state'\n",
       "9. 'last_pymnt_d'\n",
       "10. 'next_pymnt_d'\n",
       "11. 'last_credit_pull_d'\n",
       "12. 'home_ownership'\n",
       "13. 'earliest_cr_line'\n",
       "\n",
       "\n",
       "\n",
       "$integer\n",
       ":   1. 'loan_id'\n",
       "2. 'pymnt_plan'\n",
       "3. 'initial_list_status'\n",
       "4. 'loan_amnt'\n",
       "5. 'funded_amnt'\n",
       "6. 'term'\n",
       "7. 'collections_12_mths_ex_med'\n",
       "8. 'mths_since_last_major_derog'\n",
       "9. 'delinq_2yrs'\n",
       "10. 'acc_now_delinq'\n",
       "11. 'inq_last_6mths'\n",
       "12. 'mths_since_last_delinq'\n",
       "13. 'mths_since_last_record'\n",
       "14. 'open_acc'\n",
       "15. 'pub_rec'\n",
       "16. 'total_acc'\n",
       "17. 'tot_coll_amt'\n",
       "18. 'open_acc_6m'\n",
       "19. 'open_il_6m'\n",
       "20. 'open_il_12m'\n",
       "21. 'open_il_24m'\n",
       "22. 'mths_since_rcnt_il'\n",
       "23. 'total_bal_il'\n",
       "24. 'open_rv_12m'\n",
       "25. 'open_rv_24m'\n",
       "26. 'max_bal_bc'\n",
       "27. 'inq_fi'\n",
       "28. 'total_cu_tl'\n",
       "29. 'inq_last_12m'\n",
       "\n",
       "\n",
       "\n",
       "$logical\n",
       ":   'default'\n",
       "$numeric\n",
       ":   1. 'funded_amnt_inv'\n",
       "2. 'installment'\n",
       "3. 'out_prncp'\n",
       "4. 'out_prncp_inv'\n",
       "5. 'total_pymnt'\n",
       "6. 'total_pymnt_inv'\n",
       "7. 'total_rec_prncp'\n",
       "8. 'total_rec_int'\n",
       "9. 'total_rec_late_fee'\n",
       "10. 'recoveries'\n",
       "11. 'collection_recovery_fee'\n",
       "12. 'last_pymnt_amnt'\n",
       "13. 'annual_inc'\n",
       "14. 'dti'\n",
       "15. 'revol_bal'\n",
       "16. 'revol_util'\n",
       "17. 'tot_cur_bal'\n",
       "18. 'il_util'\n",
       "19. 'all_util'\n",
       "20. 'total_rev_hi_lim'\n",
       "\n",
       "\n",
       "\n",
       "\n",
       "\n"
      ],
      "text/plain": [
       "$character\n",
       " [1] \"verification_status\" \"issue_d\"             \"loanDesc\"           \n",
       " [4] \"purpose\"             \"title\"               \"emp_length\"         \n",
       " [7] \"zip_code\"            \"addr_state\"          \"last_pymnt_d\"       \n",
       "[10] \"next_pymnt_d\"        \"last_credit_pull_d\"  \"home_ownership\"     \n",
       "[13] \"earliest_cr_line\"   \n",
       "\n",
       "$integer\n",
       " [1] \"loan_id\"                     \"pymnt_plan\"                 \n",
       " [3] \"initial_list_status\"         \"loan_amnt\"                  \n",
       " [5] \"funded_amnt\"                 \"term\"                       \n",
       " [7] \"collections_12_mths_ex_med\"  \"mths_since_last_major_derog\"\n",
       " [9] \"delinq_2yrs\"                 \"acc_now_delinq\"             \n",
       "[11] \"inq_last_6mths\"              \"mths_since_last_delinq\"     \n",
       "[13] \"mths_since_last_record\"      \"open_acc\"                   \n",
       "[15] \"pub_rec\"                     \"total_acc\"                  \n",
       "[17] \"tot_coll_amt\"                \"open_acc_6m\"                \n",
       "[19] \"open_il_6m\"                  \"open_il_12m\"                \n",
       "[21] \"open_il_24m\"                 \"mths_since_rcnt_il\"         \n",
       "[23] \"total_bal_il\"                \"open_rv_12m\"                \n",
       "[25] \"open_rv_24m\"                 \"max_bal_bc\"                 \n",
       "[27] \"inq_fi\"                      \"total_cu_tl\"                \n",
       "[29] \"inq_last_12m\"               \n",
       "\n",
       "$logical\n",
       "[1] \"default\"\n",
       "\n",
       "$numeric\n",
       " [1] \"funded_amnt_inv\"         \"installment\"            \n",
       " [3] \"out_prncp\"               \"out_prncp_inv\"          \n",
       " [5] \"total_pymnt\"             \"total_pymnt_inv\"        \n",
       " [7] \"total_rec_prncp\"         \"total_rec_int\"          \n",
       " [9] \"total_rec_late_fee\"      \"recoveries\"             \n",
       "[11] \"collection_recovery_fee\" \"last_pymnt_amnt\"        \n",
       "[13] \"annual_inc\"              \"dti\"                    \n",
       "[15] \"revol_bal\"               \"revol_util\"             \n",
       "[17] \"tot_cur_bal\"             \"il_util\"                \n",
       "[19] \"all_util\"                \"total_rev_hi_lim\"       \n"
      ]
     },
     "metadata": {},
     "output_type": "display_data"
    }
   ],
   "source": [
    "split(names(loans),sapply(loans, function(x) paste(class(x), collapse=\" \")))"
   ]
  },
  {
   "cell_type": "code",
   "execution_count": 137,
   "metadata": {},
   "outputs": [
    {
     "ename": "ERROR",
     "evalue": "Error in loadNamespace(name): there is no package called 'funModeling'\n",
     "output_type": "error",
     "traceback": [
      "Error in loadNamespace(name): there is no package called 'funModeling'\nTraceback:\n",
      "1. funModeling::df_status",
      "2. getExportedValue(pkg, name)",
      "3. asNamespace(ns)",
      "4. getNamespace(ns)",
      "5. tryCatch(loadNamespace(name), error = function(e) stop(e))",
      "6. tryCatchList(expr, classes, parentenv, handlers)",
      "7. tryCatchOne(expr, names, parentenv, handlers[[1L]])",
      "8. value[[3L]](cond)"
     ]
    }
   ],
   "source": [
    "#Recreate Meta Loans\n",
    "meta_loans <- funModeling::df_status(loans, print_results = FALSE)\n",
    "meta_loans <-\n",
    "  meta_loans %>%\n",
    "  mutate(uniq_rat = unique / nrow(loans)) %>%\n",
    "  mutate(unique = unique, uniq_rat = scales::percent(uniq_rat))"
   ]
  },
  {
   "cell_type": "code",
   "execution_count": 138,
   "metadata": {
    "scrolled": true
   },
   "outputs": [
    {
     "ename": "ERROR",
     "evalue": "Error in eval(lhs, parent, parent): object 'meta_loans' not found\n",
     "output_type": "error",
     "traceback": [
      "Error in eval(lhs, parent, parent): object 'meta_loans' not found\nTraceback:\n",
      "1. meta_loans %>% select(variable, p_zeros, p_na, unique, uniq_rat) %>% \n .     arrange(desc(p_na)) %>% filter_(~variable %in% cv)",
      "2. eval(lhs, parent, parent)",
      "3. eval(lhs, parent, parent)"
     ]
    }
   ],
   "source": [
    "cv <- c('verification_status','loanDesc', 'purpose' ,'title','emp_length','zip_code', 'addr_state', 'home_ownership')\n",
    "meta_loans %>%\n",
    "  select(variable, p_zeros, p_na, unique,uniq_rat) %>% arrange(desc(p_na))  %>% filter_(~ variable %in% cv)"
   ]
  },
  {
   "cell_type": "markdown",
   "metadata": {},
   "source": [
    "<h3>Excluding Columns (2)</h3>\n",
    "<ol>\n",
    "<li>An attribute <span style=\"text-decoration: underline; color: #0000ff;\">loanDesc </span>has over 30% unique values, it seems borrowers are free to describe their loan application. <br /><em><span style=\"text-decoration: underline;\">Note:</span> </em>In a more sophisticated modeling , may be used to checking the strings for &ldquo;indicator words&rdquo; that may be associated with an honest or a dishonest candidate as we have the purpose of the loan.</li>\n",
    "<li>An attribute <span style=\"text-decoration: underline; color: #0000ff;\">title </span>has a lot of unique values, it seems borrowers are free to describe their title for the loan application. <br /><em><span style=\"text-decoration: underline;\">Note:</span> </em>In a more sophisticated modeling , may be used to checking the strings for &ldquo;indicator words&rdquo; that may be associated with an honest or a dishonest candidate as we have the purpose of the loan.</li>\n",
    "</ol>"
   ]
  },
  {
   "cell_type": "code",
   "execution_count": 221,
   "metadata": {},
   "outputs": [
    {
     "data": {
      "text/html": [
       "63"
      ],
      "text/latex": [
       "63"
      ],
      "text/markdown": [
       "63"
      ],
      "text/plain": [
       "[1] 63"
      ]
     },
     "metadata": {},
     "output_type": "display_data"
    },
    {
     "data": {
      "text/html": [
       "61"
      ],
      "text/latex": [
       "61"
      ],
      "text/markdown": [
       "61"
      ],
      "text/plain": [
       "[1] 61"
      ]
     },
     "metadata": {},
     "output_type": "display_data"
    }
   ],
   "source": [
    "exclude <- c(\"loanDesc\",\"title\")\n",
    "ncol(loans)\n",
    "loans <- excludeColumns(loans,exclude)\n",
    "ncol(loans)"
   ]
  },
  {
   "cell_type": "code",
   "execution_count": 222,
   "metadata": {},
   "outputs": [],
   "source": [
    "cv <- c('verification_status', 'purpose' ,'emp_length', 'home_ownership')\n",
    "tab <- CreateTableOne(vars = cv, data = loans)"
   ]
  },
  {
   "cell_type": "code",
   "execution_count": 223,
   "metadata": {},
   "outputs": [
    {
     "name": "stdout",
     "output_type": "stream",
     "text": [
      "\n",
      "     ### Summary of categorical variables ### \n",
      "\n",
      "strata: Overall\n",
      "                 var      n miss p.miss              level   freq percent\n",
      " verification_status 631151    0    0.0       Not Verified 178739    28.3\n",
      "                                           Source Verified 255125    40.4\n",
      "                                                  Verified 197287    31.3\n",
      "                                                                         \n",
      "             purpose 631151    0    0.0                car   5152     0.8\n",
      "                                               credit_card 155653    24.7\n",
      "                                        debt_consolidation 374418    59.3\n",
      "                                               educational      1     0.0\n",
      "                                          home_improvement  36661     5.8\n",
      "                                                     house   2011     0.3\n",
      "                                            major_purchase  10887     1.7\n",
      "                                                   medical   5626     0.9\n",
      "                                                    moving   3339     0.5\n",
      "                                                     other  28166     4.5\n",
      "                                          renewable_energy    305     0.0\n",
      "                                            small_business   5468     0.9\n",
      "                                                  vacation   3128     0.5\n",
      "                                                   wedding    336     0.1\n",
      "                                                                         \n",
      "          emp_length 631151    0    0.0           < 1 year  49202     7.8\n",
      "                                                    1 year  39860     6.3\n",
      "                                                 10+ years 214053    33.9\n",
      "                                                   2 years  54923     8.7\n",
      "                                                   3 years  49348     7.8\n",
      "                                                   4 years  36094     5.7\n",
      "                                                   5 years  37455     5.9\n",
      "                                                   6 years  28031     4.4\n",
      "                                                   7 years  30392     4.8\n",
      "                                                   8 years  31974     5.1\n",
      "                                                   9 years  24986     4.0\n",
      "                                                       n/a  34833     5.5\n",
      "                                                                         \n",
      "      home_ownership 631151    0    0.0                ANY      2     0.0\n",
      "                                                  MORTGAGE 317104    50.2\n",
      "                                                      NONE      2     0.0\n",
      "                                                     OTHER      3     0.0\n",
      "                                                       OWN  65263    10.3\n",
      "                                                      RENT 248777    39.4\n",
      "                                                                         \n",
      " cum.percent\n",
      "        28.3\n",
      "        68.7\n",
      "       100.0\n",
      "            \n",
      "         0.8\n",
      "        25.5\n",
      "        84.8\n",
      "        84.8\n",
      "        90.6\n",
      "        90.9\n",
      "        92.7\n",
      "        93.5\n",
      "        94.1\n",
      "        98.5\n",
      "        98.6\n",
      "        99.5\n",
      "        99.9\n",
      "       100.0\n",
      "            \n",
      "         7.8\n",
      "        14.1\n",
      "        48.0\n",
      "        56.7\n",
      "        64.5\n",
      "        70.3\n",
      "        76.2\n",
      "        80.6\n",
      "        85.5\n",
      "        90.5\n",
      "        94.5\n",
      "       100.0\n",
      "            \n",
      "         0.0\n",
      "        50.2\n",
      "        50.2\n",
      "        50.2\n",
      "        60.6\n",
      "       100.0\n",
      "            \n"
     ]
    }
   ],
   "source": [
    "summary(tab)"
   ]
  },
  {
   "cell_type": "code",
   "execution_count": null,
   "metadata": {},
   "outputs": [],
   "source": [
    "##LoansBeforeEncoding\n",
    "loansBE <- loans\n",
    "writeSQL(loansBE, \"loans_beforeDataSet\")\n",
    "##loansBE = readSQL(\"SELECT * FROM loans_beforeDataSet\")"
   ]
  },
  {
   "cell_type": "code",
   "execution_count": null,
   "metadata": {},
   "outputs": [],
   "source": [
    "## one-hot-encoding...\n",
    "one_hot_encoding <- function(data,id,category,prefix) {\n",
    "    require(dplyr)\n",
    "    cat <- levels(factor(data[[category]]))\n",
    "    res <- data %>% group_by_(id) %>% select_(id) %>% distinct_()\n",
    "    for (l in 1:length(cat)) {\n",
    "        #cname <- paste(prefix,l,sep=\"_\")\n",
    "        #data[[cname]] <- ifelse(data[[category]]==cat[l],1,0)\n",
    "        #cc1 <- data %>% group_by_(id) %>% summarise_(cname=max(cname)) %>% select_(id,cname)\n",
    "        #res <- cbind(res, cc1[,2])\n",
    "        cname <- paste(prefix,l,sep=\"_\")\n",
    "        ncat <- \"newcat\"\n",
    "        data[[ncat]] <- ifelse(data[[category]]==cat[l],1,0)\n",
    "        cc1 <- data %>% select_(id,ncat) %>% group_by_(id) %>% \n",
    "               summarise(newcat=max(newcat))\n",
    "        res[[cname]] <- cc1$newcat\n",
    "    }\n",
    "    return(res)\n",
    "}"
   ]
  },
  {
   "cell_type": "code",
   "execution_count": null,
   "metadata": {},
   "outputs": [],
   "source": [
    "loans <- loansBE\n",
    "nrow(loans)\n",
    "head(loans)"
   ]
  },
  {
   "cell_type": "code",
   "execution_count": null,
   "metadata": {
    "scrolled": true
   },
   "outputs": [],
   "source": [
    "head(one_hot_encoding(data=loans,id=\"loan_id\",category=\"verification_status\",prefix=\"verif\"))\n"
   ]
  },
  {
   "cell_type": "code",
   "execution_count": null,
   "metadata": {
    "scrolled": true
   },
   "outputs": [],
   "source": [
    "loans <- inner_join(loans,one_hot_encoding(data=loans,id=\"loan_id\",category=\"verification_status\",prefix=\"verif\"))"
   ]
  },
  {
   "cell_type": "code",
   "execution_count": null,
   "metadata": {},
   "outputs": [],
   "source": [
    "nrow(loans)\n",
    "head(loans)"
   ]
  },
  {
   "cell_type": "code",
   "execution_count": null,
   "metadata": {
    "scrolled": true
   },
   "outputs": [],
   "source": [
    "head(one_hot_encoding(data=loans,id=\"loan_id\",category=\"purpose\",prefix=\"purpose\"))\n"
   ]
  },
  {
   "cell_type": "code",
   "execution_count": null,
   "metadata": {
    "scrolled": true
   },
   "outputs": [],
   "source": [
    "loans <- inner_join(loans,one_hot_encoding(data=loans,id=\"loan_id\",category=\"purpose\",prefix=\"purpose\"))"
   ]
  },
  {
   "cell_type": "code",
   "execution_count": null,
   "metadata": {},
   "outputs": [],
   "source": [
    "nrow(loans)\n",
    "head(loans)"
   ]
  },
  {
   "cell_type": "code",
   "execution_count": null,
   "metadata": {
    "scrolled": false
   },
   "outputs": [],
   "source": [
    "head(one_hot_encoding(data=loans,id=\"loan_id\",category=\"emp_length\",prefix=\"seniority\"))\n"
   ]
  },
  {
   "cell_type": "code",
   "execution_count": null,
   "metadata": {
    "scrolled": true
   },
   "outputs": [],
   "source": [
    "loans <- inner_join(loans,one_hot_encoding(data=loans,id=\"loan_id\",category=\"emp_length\",prefix=\"seniority\"))"
   ]
  },
  {
   "cell_type": "code",
   "execution_count": null,
   "metadata": {},
   "outputs": [],
   "source": [
    "nrow(loans)\n",
    "head(loans)"
   ]
  },
  {
   "cell_type": "code",
   "execution_count": null,
   "metadata": {},
   "outputs": [],
   "source": [
    "head(one_hot_encoding(data=loans,id=\"loan_id\",category=\"home_ownership\",prefix=\"owner_status\"))"
   ]
  },
  {
   "cell_type": "code",
   "execution_count": null,
   "metadata": {},
   "outputs": [],
   "source": [
    "loans <- inner_join(loans,one_hot_encoding(data=loans,id=\"loan_id\",category=\"home_ownership\",prefix=\"owner_status\"))"
   ]
  },
  {
   "cell_type": "code",
   "execution_count": null,
   "metadata": {},
   "outputs": [],
   "source": [
    "nrow(loans)\n",
    "head(loans)"
   ]
  },
  {
   "cell_type": "code",
   "execution_count": null,
   "metadata": {},
   "outputs": [],
   "source": [
    "ncol(loans)"
   ]
  },
  {
   "cell_type": "code",
   "execution_count": null,
   "metadata": {},
   "outputs": [],
   "source": [
    "funModeling::df_status(loans, print_results = TRUE)"
   ]
  },
  {
   "cell_type": "code",
   "execution_count": null,
   "metadata": {},
   "outputs": [],
   "source": [
    "loans <- excludeUniqueValue(loans)"
   ]
  },
  {
   "cell_type": "code",
   "execution_count": null,
   "metadata": {},
   "outputs": [],
   "source": [
    "num_vars <- \n",
    "  loans %>% \n",
    "  sapply(is.numeric) %>% \n",
    "  which() %>% \n",
    "  names()"
   ]
  },
  {
   "cell_type": "code",
   "execution_count": null,
   "metadata": {},
   "outputs": [],
   "source": [
    "num_vars"
   ]
  },
  {
   "cell_type": "code",
   "execution_count": null,
   "metadata": {},
   "outputs": [],
   "source": [
    "tab <- CreateTableOne(vars = num_vars, data = loans)\n",
    "summary(tab)"
   ]
  },
  {
   "cell_type": "markdown",
   "metadata": {},
   "source": [
    "## future work"
   ]
  },
  {
   "cell_type": "markdown",
   "metadata": {},
   "source": [
    "<h3>Columns to remove - Maybe on LATER Stage - after missingnes checks</h3>\n",
    "<ul>\n",
    "<li>desc: high NA ratio</li>\n",
    "<li>title: high amount of unique values</li>\n",
    "<li>next_pymnt_d: high NA ratio</li>\n",
    "<li>open_acc_6m: high NA ratio</li>\n",
    "<li>open_il_6m: high NA ratio</li>\n",
    "<li>open_il_12m: high NA ratio</li>\n",
    "<li>open_il_24m: high NA ratio</li>\n",
    "<li>mths_since_rcnt_il: high NA ratio</li>\n",
    "<li>total_bal_il: high NA ratio</li>\n",
    "<li>il_util: high NA ratio</li>\n",
    "<li>open_rv_12m: high NA ratio</li>\n",
    "<li>open_rv_24m: high NA ratio</li>\n",
    "<li>max_bal_bc: high NA ratio</li>\n",
    "<li>all_util: high NA ratio</li>\n",
    "<li>total_rev_hi_lim: high NA ratio</li>\n",
    "<li>inq_fi: high NA ratio</li>\n",
    "<li>total_cu_tl: high NA ratio</li>\n",
    "<li>inq_last_12m: high NA ratio</li>\n",
    "</ul>"
   ]
  },
  {
   "cell_type": "code",
   "execution_count": null,
   "metadata": {},
   "outputs": [],
   "source": [
    "\n",
    "exclude <- c(\"loanDesc\", \"title\", \"open_acc_6m\", \"open_il_6m\", \n",
    "   \"open_il_12m\", \"open_il_24m\", \"mths_since_rcnt_il\", \"total_bal_il\", \n",
    "   \"il_util\", \"open_rv_12m\", \"open_rv_24m\", \"max_bal_bc\", \"all_util\",\n",
    "    \"total_rev_hi_lim\", \"inq_fi\", \"total_cu_tl\", \"inq_last_12m\",\n",
    "    \"verification_status_joint\", \"next_pymnt_d\")\n"
   ]
  },
  {
   "cell_type": "code",
   "execution_count": null,
   "metadata": {},
   "outputs": [],
   "source": [
    "##saving the file ,for future work!\n",
    "\n",
    "write.csv(loans, file = \"loans_db.csv\",row.names=FALSE)\n",
    "writeSQL(loans, \"loans_dataset\")"
   ]
  },
  {
   "cell_type": "code",
   "execution_count": null,
   "metadata": {},
   "outputs": [],
   "source": []
  }
 ],
 "metadata": {
  "kernelspec": {
   "display_name": "R",
   "language": "R",
   "name": "ir"
  },
  "language_info": {
   "codemirror_mode": "r",
   "file_extension": ".r",
   "mimetype": "text/x-r-source",
   "name": "R",
   "pygments_lexer": "r",
   "version": "3.4.3"
  }
 },
 "nbformat": 4,
 "nbformat_minor": 2
}
