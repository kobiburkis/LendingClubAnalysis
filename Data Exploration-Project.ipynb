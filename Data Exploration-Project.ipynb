{
 "cells": [
  {
   "cell_type": "markdown",
   "metadata": {},
   "source": [
    "# Lending Club Data Exploration\n",
    "\n",
    "### choosing the relevant  data from the data base\n",
    "In this notebook we are going to take a first glance of the data and choosing the rellavant parameters and loans to answer our quotation.\n",
    "\n",
    "![title](ERData.jpg)"
   ]
  },
  {
   "cell_type": "code",
   "execution_count": null,
   "metadata": {},
   "outputs": [],
   "source": [
    "##Importing required packages \n",
    "if(!require(DBI)){install.packages(\"DBI\"); require(DBI)}\n",
    "if(!require(RSQLite)){install.packages(\"RSQLite\"); require(RSQLite)}\n",
    "if(!require(dplyr)){install.packages(\"dplyr\"); require(dplyr)}\n",
    "if(!require(readxl)){install.packages(\"readxl\"); require(readxl)}\n",
    "if(!require(tableone)){install.packages(\"tableone\"); require(tableone)}\n",
    "if(!require(funModeling)){install.packages(\"funModeling\"); require(funModeling)}\n",
    "if(!require(openintro)){install.packages(\"openintro\"); require(openintro)}"
   ]
  },
  {
   "cell_type": "code",
   "execution_count": 8,
   "metadata": {},
   "outputs": [],
   "source": [
    "##WorkPath\n",
    "DATA_PATH = \"C:/Users/Kobi/Google Drive/Final Project/Data\"\n",
    "##LapTopPath\n",
    "#DATA_PATH = \"D:/Google Drive/Final Project/Data\"\n",
    "DB_FILE = paste0(DATA_PATH,\"/loans.db\") "
   ]
  },
  {
   "cell_type": "code",
   "execution_count": 9,
   "metadata": {},
   "outputs": [],
   "source": [
    "##############################################################################\n",
    "##########                DATABASE FUNCTIONS                     #############\n",
    "##############################################################################\n",
    "            \n",
    "#### Read function to import data from the SQL to a pandas dataframe.\n",
    "readSQL <- function(query, db=DB_FILE) {\n",
    "    require(DBI)\n",
    "    require(RSQLite)\n",
    "    con <- dbConnect(SQLite(), DB_FILE)\n",
    "    df <- dbGetQuery(con, query)\n",
    "    return(df)\n",
    "}\n",
    "#### Write a pandas dataframe into an SQL table. Use overwrite=True if you want to delete \n",
    "#### first a pre-existent table with the same name. Use append=True if you want to append\n",
    "#### the data in the dataframe to a pre-existent table.\n",
    "writeSQL <- function(df,tablename,overwrite=FALSE, append=FALSE,db=DB_FILE) {\n",
    "    require(DBI)\n",
    "    require(RSQLite)\n",
    "    con <- dbConnect(SQLite(), DB_FILE)\n",
    "    dbWriteTable(con,tablename,df,overwrite,append)\n",
    "}\n",
    "####"
   ]
  },
  {
   "cell_type": "code",
   "execution_count": 10,
   "metadata": {},
   "outputs": [],
   "source": [
    "loans = readSQL(\"SELECT * FROM v_loans\")"
   ]
  },
  {
   "cell_type": "code",
   "execution_count": 11,
   "metadata": {},
   "outputs": [],
   "source": [
    "#make a copy - for restore if necessary \n",
    "loansdata <- loans"
   ]
  },
  {
   "cell_type": "code",
   "execution_count": 12,
   "metadata": {},
   "outputs": [
    {
     "data": {
      "text/html": [
       "<ol class=list-inline>\n",
       "\t<li>887382</li>\n",
       "\t<li>74</li>\n",
       "</ol>\n"
      ],
      "text/latex": [
       "\\begin{enumerate*}\n",
       "\\item 887382\n",
       "\\item 74\n",
       "\\end{enumerate*}\n"
      ],
      "text/markdown": [
       "1. 887382\n",
       "2. 74\n",
       "\n",
       "\n"
      ],
      "text/plain": [
       "[1] 887382     74"
      ]
     },
     "metadata": {},
     "output_type": "display_data"
    }
   ],
   "source": [
    "dim(loans)"
   ]
  },
  {
   "cell_type": "markdown",
   "metadata": {},
   "source": [
    "We can see that we have 887382 loans and 74 features."
   ]
  },
  {
   "cell_type": "markdown",
   "metadata": {},
   "source": [
    "#### Data description\n",
    "    Data Features description by Lending Club"
   ]
  },
  {
   "cell_type": "code",
   "execution_count": 14,
   "metadata": {},
   "outputs": [
    {
     "data": {
      "text/html": [
       "<ol class=list-inline>\n",
       "\t<li>'LoanStats'</li>\n",
       "\t<li>'browseNotes'</li>\n",
       "\t<li>'RejectStats'</li>\n",
       "\t<li>'ניתוח שלי'</li>\n",
       "</ol>\n"
      ],
      "text/latex": [
       "\\begin{enumerate*}\n",
       "\\item 'LoanStats'\n",
       "\\item 'browseNotes'\n",
       "\\item 'RejectStats'\n",
       "\\item 'ניתוח שלי'\n",
       "\\end{enumerate*}\n"
      ],
      "text/markdown": [
       "1. 'LoanStats'\n",
       "2. 'browseNotes'\n",
       "3. 'RejectStats'\n",
       "4. 'ניתוח שלי'\n",
       "\n",
       "\n"
      ],
      "text/plain": [
       "[1] \"LoanStats\"   \"browseNotes\" \"RejectStats\" \"ניתוח שלי\"  "
      ]
     },
     "metadata": {},
     "output_type": "display_data"
    }
   ],
   "source": [
    "# Load the Excel workbook\n",
    "##path <- \"D:/Google Drive/Final Project/\"\n",
    "##WorkPath\n",
    "path = \"C:/Users/Kobi/Google Drive/Final Project/\"\n",
    "excel_file <- paste0(\"/lcdatadictionary.xlsx\")\n",
    "# see available tabs\n",
    "excel_sheets(paste0(path, excel_file))\n",
    "meta_loan_stats <- read_excel(paste0(path, excel_file), sheet = \"LoanStats\")"
   ]
  },
  {
   "cell_type": "code",
   "execution_count": null,
   "metadata": {},
   "outputs": [],
   "source": [
    "meta_loan_stats[,1:2]"
   ]
  },
  {
   "cell_type": "code",
   "execution_count": null,
   "metadata": {
    "scrolled": false
   },
   "outputs": [],
   "source": [
    "summary(loans)"
   ]
  },
  {
   "cell_type": "markdown",
   "metadata": {},
   "source": [
    "Sorting the parameters by their type"
   ]
  },
  {
   "cell_type": "code",
   "execution_count": 16,
   "metadata": {},
   "outputs": [
    {
     "data": {
      "text/html": [
       "<dl>\n",
       "\t<dt>$character</dt>\n",
       "\t\t<dd><ol class=list-inline>\n",
       "\t<li>'verification_status'</li>\n",
       "\t<li>'issue_d'</li>\n",
       "\t<li>'loan_status'</li>\n",
       "\t<li>'url'</li>\n",
       "\t<li>'loanDesc'</li>\n",
       "\t<li>'purpose'</li>\n",
       "\t<li>'title'</li>\n",
       "\t<li>'verification_status_joint'</li>\n",
       "\t<li>'grade'</li>\n",
       "\t<li>'sub_grade'</li>\n",
       "\t<li>'emp_title'</li>\n",
       "\t<li>'emp_length'</li>\n",
       "\t<li>'zip_code'</li>\n",
       "\t<li>'addr_state'</li>\n",
       "\t<li>'last_pymnt_d'</li>\n",
       "\t<li>'next_pymnt_d'</li>\n",
       "\t<li>'last_credit_pull_d'</li>\n",
       "\t<li>'home_ownership'</li>\n",
       "\t<li>'earliest_cr_line'</li>\n",
       "</ol>\n",
       "</dd>\n",
       "\t<dt>$integer</dt>\n",
       "\t\t<dd><ol class=list-inline>\n",
       "\t<li>'loan_id'</li>\n",
       "\t<li>'member_id'</li>\n",
       "\t<li>'pymnt_plan'</li>\n",
       "\t<li>'policy_code'</li>\n",
       "\t<li>'application_type'</li>\n",
       "\t<li>'initial_list_status'</li>\n",
       "\t<li>'loan_amnt'</li>\n",
       "\t<li>'funded_amnt'</li>\n",
       "\t<li>'term'</li>\n",
       "\t<li>'collections_12_mths_ex_med'</li>\n",
       "\t<li>'mths_since_last_major_derog'</li>\n",
       "\t<li>'delinq_2yrs'</li>\n",
       "\t<li>'acc_now_delinq'</li>\n",
       "\t<li>'inq_last_6mths'</li>\n",
       "\t<li>'mths_since_last_delinq'</li>\n",
       "\t<li>'mths_since_last_record'</li>\n",
       "\t<li>'open_acc'</li>\n",
       "\t<li>'pub_rec'</li>\n",
       "\t<li>'total_acc'</li>\n",
       "\t<li>'tot_coll_amt'</li>\n",
       "\t<li>'open_acc_6m'</li>\n",
       "\t<li>'open_il_6m'</li>\n",
       "\t<li>'open_il_12m'</li>\n",
       "\t<li>'open_il_24m'</li>\n",
       "\t<li>'mths_since_rcnt_il'</li>\n",
       "\t<li>'total_bal_il'</li>\n",
       "\t<li>'open_rv_12m'</li>\n",
       "\t<li>'open_rv_24m'</li>\n",
       "\t<li>'max_bal_bc'</li>\n",
       "\t<li>'inq_fi'</li>\n",
       "\t<li>'total_cu_tl'</li>\n",
       "\t<li>'inq_last_12m'</li>\n",
       "</ol>\n",
       "</dd>\n",
       "\t<dt>$numeric</dt>\n",
       "\t\t<dd><ol class=list-inline>\n",
       "\t<li>'funded_amnt_inv'</li>\n",
       "\t<li>'int_rate'</li>\n",
       "\t<li>'installment'</li>\n",
       "\t<li>'out_prncp'</li>\n",
       "\t<li>'out_prncp_inv'</li>\n",
       "\t<li>'total_pymnt'</li>\n",
       "\t<li>'total_pymnt_inv'</li>\n",
       "\t<li>'total_rec_prncp'</li>\n",
       "\t<li>'total_rec_int'</li>\n",
       "\t<li>'total_rec_late_fee'</li>\n",
       "\t<li>'recoveries'</li>\n",
       "\t<li>'collection_recovery_fee'</li>\n",
       "\t<li>'last_pymnt_amnt'</li>\n",
       "\t<li>'annual_inc'</li>\n",
       "\t<li>'dti'</li>\n",
       "\t<li>'annual_inc_joint'</li>\n",
       "\t<li>'dti_joint'</li>\n",
       "\t<li>'revol_bal'</li>\n",
       "\t<li>'revol_util'</li>\n",
       "\t<li>'tot_cur_bal'</li>\n",
       "\t<li>'il_util'</li>\n",
       "\t<li>'all_util'</li>\n",
       "\t<li>'total_rev_hi_lim'</li>\n",
       "</ol>\n",
       "</dd>\n",
       "</dl>\n"
      ],
      "text/latex": [
       "\\begin{description}\n",
       "\\item[\\$character] \\begin{enumerate*}\n",
       "\\item 'verification\\_status'\n",
       "\\item 'issue\\_d'\n",
       "\\item 'loan\\_status'\n",
       "\\item 'url'\n",
       "\\item 'loanDesc'\n",
       "\\item 'purpose'\n",
       "\\item 'title'\n",
       "\\item 'verification\\_status\\_joint'\n",
       "\\item 'grade'\n",
       "\\item 'sub\\_grade'\n",
       "\\item 'emp\\_title'\n",
       "\\item 'emp\\_length'\n",
       "\\item 'zip\\_code'\n",
       "\\item 'addr\\_state'\n",
       "\\item 'last\\_pymnt\\_d'\n",
       "\\item 'next\\_pymnt\\_d'\n",
       "\\item 'last\\_credit\\_pull\\_d'\n",
       "\\item 'home\\_ownership'\n",
       "\\item 'earliest\\_cr\\_line'\n",
       "\\end{enumerate*}\n",
       "\n",
       "\\item[\\$integer] \\begin{enumerate*}\n",
       "\\item 'loan\\_id'\n",
       "\\item 'member\\_id'\n",
       "\\item 'pymnt\\_plan'\n",
       "\\item 'policy\\_code'\n",
       "\\item 'application\\_type'\n",
       "\\item 'initial\\_list\\_status'\n",
       "\\item 'loan\\_amnt'\n",
       "\\item 'funded\\_amnt'\n",
       "\\item 'term'\n",
       "\\item 'collections\\_12\\_mths\\_ex\\_med'\n",
       "\\item 'mths\\_since\\_last\\_major\\_derog'\n",
       "\\item 'delinq\\_2yrs'\n",
       "\\item 'acc\\_now\\_delinq'\n",
       "\\item 'inq\\_last\\_6mths'\n",
       "\\item 'mths\\_since\\_last\\_delinq'\n",
       "\\item 'mths\\_since\\_last\\_record'\n",
       "\\item 'open\\_acc'\n",
       "\\item 'pub\\_rec'\n",
       "\\item 'total\\_acc'\n",
       "\\item 'tot\\_coll\\_amt'\n",
       "\\item 'open\\_acc\\_6m'\n",
       "\\item 'open\\_il\\_6m'\n",
       "\\item 'open\\_il\\_12m'\n",
       "\\item 'open\\_il\\_24m'\n",
       "\\item 'mths\\_since\\_rcnt\\_il'\n",
       "\\item 'total\\_bal\\_il'\n",
       "\\item 'open\\_rv\\_12m'\n",
       "\\item 'open\\_rv\\_24m'\n",
       "\\item 'max\\_bal\\_bc'\n",
       "\\item 'inq\\_fi'\n",
       "\\item 'total\\_cu\\_tl'\n",
       "\\item 'inq\\_last\\_12m'\n",
       "\\end{enumerate*}\n",
       "\n",
       "\\item[\\$numeric] \\begin{enumerate*}\n",
       "\\item 'funded\\_amnt\\_inv'\n",
       "\\item 'int\\_rate'\n",
       "\\item 'installment'\n",
       "\\item 'out\\_prncp'\n",
       "\\item 'out\\_prncp\\_inv'\n",
       "\\item 'total\\_pymnt'\n",
       "\\item 'total\\_pymnt\\_inv'\n",
       "\\item 'total\\_rec\\_prncp'\n",
       "\\item 'total\\_rec\\_int'\n",
       "\\item 'total\\_rec\\_late\\_fee'\n",
       "\\item 'recoveries'\n",
       "\\item 'collection\\_recovery\\_fee'\n",
       "\\item 'last\\_pymnt\\_amnt'\n",
       "\\item 'annual\\_inc'\n",
       "\\item 'dti'\n",
       "\\item 'annual\\_inc\\_joint'\n",
       "\\item 'dti\\_joint'\n",
       "\\item 'revol\\_bal'\n",
       "\\item 'revol\\_util'\n",
       "\\item 'tot\\_cur\\_bal'\n",
       "\\item 'il\\_util'\n",
       "\\item 'all\\_util'\n",
       "\\item 'total\\_rev\\_hi\\_lim'\n",
       "\\end{enumerate*}\n",
       "\n",
       "\\end{description}\n"
      ],
      "text/markdown": [
       "$character\n",
       ":   1. 'verification_status'\n",
       "2. 'issue_d'\n",
       "3. 'loan_status'\n",
       "4. 'url'\n",
       "5. 'loanDesc'\n",
       "6. 'purpose'\n",
       "7. 'title'\n",
       "8. 'verification_status_joint'\n",
       "9. 'grade'\n",
       "10. 'sub_grade'\n",
       "11. 'emp_title'\n",
       "12. 'emp_length'\n",
       "13. 'zip_code'\n",
       "14. 'addr_state'\n",
       "15. 'last_pymnt_d'\n",
       "16. 'next_pymnt_d'\n",
       "17. 'last_credit_pull_d'\n",
       "18. 'home_ownership'\n",
       "19. 'earliest_cr_line'\n",
       "\n",
       "\n",
       "\n",
       "$integer\n",
       ":   1. 'loan_id'\n",
       "2. 'member_id'\n",
       "3. 'pymnt_plan'\n",
       "4. 'policy_code'\n",
       "5. 'application_type'\n",
       "6. 'initial_list_status'\n",
       "7. 'loan_amnt'\n",
       "8. 'funded_amnt'\n",
       "9. 'term'\n",
       "10. 'collections_12_mths_ex_med'\n",
       "11. 'mths_since_last_major_derog'\n",
       "12. 'delinq_2yrs'\n",
       "13. 'acc_now_delinq'\n",
       "14. 'inq_last_6mths'\n",
       "15. 'mths_since_last_delinq'\n",
       "16. 'mths_since_last_record'\n",
       "17. 'open_acc'\n",
       "18. 'pub_rec'\n",
       "19. 'total_acc'\n",
       "20. 'tot_coll_amt'\n",
       "21. 'open_acc_6m'\n",
       "22. 'open_il_6m'\n",
       "23. 'open_il_12m'\n",
       "24. 'open_il_24m'\n",
       "25. 'mths_since_rcnt_il'\n",
       "26. 'total_bal_il'\n",
       "27. 'open_rv_12m'\n",
       "28. 'open_rv_24m'\n",
       "29. 'max_bal_bc'\n",
       "30. 'inq_fi'\n",
       "31. 'total_cu_tl'\n",
       "32. 'inq_last_12m'\n",
       "\n",
       "\n",
       "\n",
       "$numeric\n",
       ":   1. 'funded_amnt_inv'\n",
       "2. 'int_rate'\n",
       "3. 'installment'\n",
       "4. 'out_prncp'\n",
       "5. 'out_prncp_inv'\n",
       "6. 'total_pymnt'\n",
       "7. 'total_pymnt_inv'\n",
       "8. 'total_rec_prncp'\n",
       "9. 'total_rec_int'\n",
       "10. 'total_rec_late_fee'\n",
       "11. 'recoveries'\n",
       "12. 'collection_recovery_fee'\n",
       "13. 'last_pymnt_amnt'\n",
       "14. 'annual_inc'\n",
       "15. 'dti'\n",
       "16. 'annual_inc_joint'\n",
       "17. 'dti_joint'\n",
       "18. 'revol_bal'\n",
       "19. 'revol_util'\n",
       "20. 'tot_cur_bal'\n",
       "21. 'il_util'\n",
       "22. 'all_util'\n",
       "23. 'total_rev_hi_lim'\n",
       "\n",
       "\n",
       "\n",
       "\n",
       "\n"
      ],
      "text/plain": [
       "$character\n",
       " [1] \"verification_status\"       \"issue_d\"                  \n",
       " [3] \"loan_status\"               \"url\"                      \n",
       " [5] \"loanDesc\"                  \"purpose\"                  \n",
       " [7] \"title\"                     \"verification_status_joint\"\n",
       " [9] \"grade\"                     \"sub_grade\"                \n",
       "[11] \"emp_title\"                 \"emp_length\"               \n",
       "[13] \"zip_code\"                  \"addr_state\"               \n",
       "[15] \"last_pymnt_d\"              \"next_pymnt_d\"             \n",
       "[17] \"last_credit_pull_d\"        \"home_ownership\"           \n",
       "[19] \"earliest_cr_line\"         \n",
       "\n",
       "$integer\n",
       " [1] \"loan_id\"                     \"member_id\"                  \n",
       " [3] \"pymnt_plan\"                  \"policy_code\"                \n",
       " [5] \"application_type\"            \"initial_list_status\"        \n",
       " [7] \"loan_amnt\"                   \"funded_amnt\"                \n",
       " [9] \"term\"                        \"collections_12_mths_ex_med\" \n",
       "[11] \"mths_since_last_major_derog\" \"delinq_2yrs\"                \n",
       "[13] \"acc_now_delinq\"              \"inq_last_6mths\"             \n",
       "[15] \"mths_since_last_delinq\"      \"mths_since_last_record\"     \n",
       "[17] \"open_acc\"                    \"pub_rec\"                    \n",
       "[19] \"total_acc\"                   \"tot_coll_amt\"               \n",
       "[21] \"open_acc_6m\"                 \"open_il_6m\"                 \n",
       "[23] \"open_il_12m\"                 \"open_il_24m\"                \n",
       "[25] \"mths_since_rcnt_il\"          \"total_bal_il\"               \n",
       "[27] \"open_rv_12m\"                 \"open_rv_24m\"                \n",
       "[29] \"max_bal_bc\"                  \"inq_fi\"                     \n",
       "[31] \"total_cu_tl\"                 \"inq_last_12m\"               \n",
       "\n",
       "$numeric\n",
       " [1] \"funded_amnt_inv\"         \"int_rate\"               \n",
       " [3] \"installment\"             \"out_prncp\"              \n",
       " [5] \"out_prncp_inv\"           \"total_pymnt\"            \n",
       " [7] \"total_pymnt_inv\"         \"total_rec_prncp\"        \n",
       " [9] \"total_rec_int\"           \"total_rec_late_fee\"     \n",
       "[11] \"recoveries\"              \"collection_recovery_fee\"\n",
       "[13] \"last_pymnt_amnt\"         \"annual_inc\"             \n",
       "[15] \"dti\"                     \"annual_inc_joint\"       \n",
       "[17] \"dti_joint\"               \"revol_bal\"              \n",
       "[19] \"revol_util\"              \"tot_cur_bal\"            \n",
       "[21] \"il_util\"                 \"all_util\"               \n",
       "[23] \"total_rev_hi_lim\"       \n"
      ]
     },
     "metadata": {},
     "output_type": "display_data"
    }
   ],
   "source": [
    "split(names(loans),sapply(loans, function(x) paste(class(x), collapse=\" \")))"
   ]
  },
  {
   "cell_type": "code",
   "execution_count": 17,
   "metadata": {},
   "outputs": [
    {
     "data": {
      "text/html": [
       "<ol class=list-inline>\n",
       "\t<li>'loan_id'</li>\n",
       "\t<li>'member_id'</li>\n",
       "\t<li>'pymnt_plan'</li>\n",
       "\t<li>'policy_code'</li>\n",
       "\t<li>'application_type'</li>\n",
       "\t<li>'initial_list_status'</li>\n",
       "\t<li>'loan_amnt'</li>\n",
       "\t<li>'funded_amnt'</li>\n",
       "\t<li>'funded_amnt_inv'</li>\n",
       "\t<li>'term'</li>\n",
       "\t<li>'int_rate'</li>\n",
       "\t<li>'installment'</li>\n",
       "\t<li>'out_prncp'</li>\n",
       "\t<li>'out_prncp_inv'</li>\n",
       "\t<li>'total_pymnt'</li>\n",
       "\t<li>'total_pymnt_inv'</li>\n",
       "\t<li>'total_rec_prncp'</li>\n",
       "\t<li>'total_rec_int'</li>\n",
       "\t<li>'total_rec_late_fee'</li>\n",
       "\t<li>'recoveries'</li>\n",
       "\t<li>'collection_recovery_fee'</li>\n",
       "\t<li>'last_pymnt_amnt'</li>\n",
       "\t<li>'collections_12_mths_ex_med'</li>\n",
       "\t<li>'mths_since_last_major_derog'</li>\n",
       "\t<li>'annual_inc'</li>\n",
       "\t<li>'dti'</li>\n",
       "\t<li>'delinq_2yrs'</li>\n",
       "\t<li>'annual_inc_joint'</li>\n",
       "\t<li>'dti_joint'</li>\n",
       "\t<li>'acc_now_delinq'</li>\n",
       "\t<li>'inq_last_6mths'</li>\n",
       "\t<li>'mths_since_last_delinq'</li>\n",
       "\t<li>'mths_since_last_record'</li>\n",
       "\t<li>'open_acc'</li>\n",
       "\t<li>'pub_rec'</li>\n",
       "\t<li>'revol_bal'</li>\n",
       "\t<li>'revol_util'</li>\n",
       "\t<li>'total_acc'</li>\n",
       "\t<li>'tot_coll_amt'</li>\n",
       "\t<li>'tot_cur_bal'</li>\n",
       "\t<li>'open_acc_6m'</li>\n",
       "\t<li>'open_il_6m'</li>\n",
       "\t<li>'open_il_12m'</li>\n",
       "\t<li>'open_il_24m'</li>\n",
       "\t<li>'mths_since_rcnt_il'</li>\n",
       "\t<li>'total_bal_il'</li>\n",
       "\t<li>'il_util'</li>\n",
       "\t<li>'open_rv_12m'</li>\n",
       "\t<li>'open_rv_24m'</li>\n",
       "\t<li>'max_bal_bc'</li>\n",
       "\t<li>'all_util'</li>\n",
       "\t<li>'total_rev_hi_lim'</li>\n",
       "\t<li>'inq_fi'</li>\n",
       "\t<li>'total_cu_tl'</li>\n",
       "\t<li>'inq_last_12m'</li>\n",
       "</ol>\n"
      ],
      "text/latex": [
       "\\begin{enumerate*}\n",
       "\\item 'loan\\_id'\n",
       "\\item 'member\\_id'\n",
       "\\item 'pymnt\\_plan'\n",
       "\\item 'policy\\_code'\n",
       "\\item 'application\\_type'\n",
       "\\item 'initial\\_list\\_status'\n",
       "\\item 'loan\\_amnt'\n",
       "\\item 'funded\\_amnt'\n",
       "\\item 'funded\\_amnt\\_inv'\n",
       "\\item 'term'\n",
       "\\item 'int\\_rate'\n",
       "\\item 'installment'\n",
       "\\item 'out\\_prncp'\n",
       "\\item 'out\\_prncp\\_inv'\n",
       "\\item 'total\\_pymnt'\n",
       "\\item 'total\\_pymnt\\_inv'\n",
       "\\item 'total\\_rec\\_prncp'\n",
       "\\item 'total\\_rec\\_int'\n",
       "\\item 'total\\_rec\\_late\\_fee'\n",
       "\\item 'recoveries'\n",
       "\\item 'collection\\_recovery\\_fee'\n",
       "\\item 'last\\_pymnt\\_amnt'\n",
       "\\item 'collections\\_12\\_mths\\_ex\\_med'\n",
       "\\item 'mths\\_since\\_last\\_major\\_derog'\n",
       "\\item 'annual\\_inc'\n",
       "\\item 'dti'\n",
       "\\item 'delinq\\_2yrs'\n",
       "\\item 'annual\\_inc\\_joint'\n",
       "\\item 'dti\\_joint'\n",
       "\\item 'acc\\_now\\_delinq'\n",
       "\\item 'inq\\_last\\_6mths'\n",
       "\\item 'mths\\_since\\_last\\_delinq'\n",
       "\\item 'mths\\_since\\_last\\_record'\n",
       "\\item 'open\\_acc'\n",
       "\\item 'pub\\_rec'\n",
       "\\item 'revol\\_bal'\n",
       "\\item 'revol\\_util'\n",
       "\\item 'total\\_acc'\n",
       "\\item 'tot\\_coll\\_amt'\n",
       "\\item 'tot\\_cur\\_bal'\n",
       "\\item 'open\\_acc\\_6m'\n",
       "\\item 'open\\_il\\_6m'\n",
       "\\item 'open\\_il\\_12m'\n",
       "\\item 'open\\_il\\_24m'\n",
       "\\item 'mths\\_since\\_rcnt\\_il'\n",
       "\\item 'total\\_bal\\_il'\n",
       "\\item 'il\\_util'\n",
       "\\item 'open\\_rv\\_12m'\n",
       "\\item 'open\\_rv\\_24m'\n",
       "\\item 'max\\_bal\\_bc'\n",
       "\\item 'all\\_util'\n",
       "\\item 'total\\_rev\\_hi\\_lim'\n",
       "\\item 'inq\\_fi'\n",
       "\\item 'total\\_cu\\_tl'\n",
       "\\item 'inq\\_last\\_12m'\n",
       "\\end{enumerate*}\n"
      ],
      "text/markdown": [
       "1. 'loan_id'\n",
       "2. 'member_id'\n",
       "3. 'pymnt_plan'\n",
       "4. 'policy_code'\n",
       "5. 'application_type'\n",
       "6. 'initial_list_status'\n",
       "7. 'loan_amnt'\n",
       "8. 'funded_amnt'\n",
       "9. 'funded_amnt_inv'\n",
       "10. 'term'\n",
       "11. 'int_rate'\n",
       "12. 'installment'\n",
       "13. 'out_prncp'\n",
       "14. 'out_prncp_inv'\n",
       "15. 'total_pymnt'\n",
       "16. 'total_pymnt_inv'\n",
       "17. 'total_rec_prncp'\n",
       "18. 'total_rec_int'\n",
       "19. 'total_rec_late_fee'\n",
       "20. 'recoveries'\n",
       "21. 'collection_recovery_fee'\n",
       "22. 'last_pymnt_amnt'\n",
       "23. 'collections_12_mths_ex_med'\n",
       "24. 'mths_since_last_major_derog'\n",
       "25. 'annual_inc'\n",
       "26. 'dti'\n",
       "27. 'delinq_2yrs'\n",
       "28. 'annual_inc_joint'\n",
       "29. 'dti_joint'\n",
       "30. 'acc_now_delinq'\n",
       "31. 'inq_last_6mths'\n",
       "32. 'mths_since_last_delinq'\n",
       "33. 'mths_since_last_record'\n",
       "34. 'open_acc'\n",
       "35. 'pub_rec'\n",
       "36. 'revol_bal'\n",
       "37. 'revol_util'\n",
       "38. 'total_acc'\n",
       "39. 'tot_coll_amt'\n",
       "40. 'tot_cur_bal'\n",
       "41. 'open_acc_6m'\n",
       "42. 'open_il_6m'\n",
       "43. 'open_il_12m'\n",
       "44. 'open_il_24m'\n",
       "45. 'mths_since_rcnt_il'\n",
       "46. 'total_bal_il'\n",
       "47. 'il_util'\n",
       "48. 'open_rv_12m'\n",
       "49. 'open_rv_24m'\n",
       "50. 'max_bal_bc'\n",
       "51. 'all_util'\n",
       "52. 'total_rev_hi_lim'\n",
       "53. 'inq_fi'\n",
       "54. 'total_cu_tl'\n",
       "55. 'inq_last_12m'\n",
       "\n",
       "\n"
      ],
      "text/plain": [
       " [1] \"loan_id\"                     \"member_id\"                  \n",
       " [3] \"pymnt_plan\"                  \"policy_code\"                \n",
       " [5] \"application_type\"            \"initial_list_status\"        \n",
       " [7] \"loan_amnt\"                   \"funded_amnt\"                \n",
       " [9] \"funded_amnt_inv\"             \"term\"                       \n",
       "[11] \"int_rate\"                    \"installment\"                \n",
       "[13] \"out_prncp\"                   \"out_prncp_inv\"              \n",
       "[15] \"total_pymnt\"                 \"total_pymnt_inv\"            \n",
       "[17] \"total_rec_prncp\"             \"total_rec_int\"              \n",
       "[19] \"total_rec_late_fee\"          \"recoveries\"                 \n",
       "[21] \"collection_recovery_fee\"     \"last_pymnt_amnt\"            \n",
       "[23] \"collections_12_mths_ex_med\"  \"mths_since_last_major_derog\"\n",
       "[25] \"annual_inc\"                  \"dti\"                        \n",
       "[27] \"delinq_2yrs\"                 \"annual_inc_joint\"           \n",
       "[29] \"dti_joint\"                   \"acc_now_delinq\"             \n",
       "[31] \"inq_last_6mths\"              \"mths_since_last_delinq\"     \n",
       "[33] \"mths_since_last_record\"      \"open_acc\"                   \n",
       "[35] \"pub_rec\"                     \"revol_bal\"                  \n",
       "[37] \"revol_util\"                  \"total_acc\"                  \n",
       "[39] \"tot_coll_amt\"                \"tot_cur_bal\"                \n",
       "[41] \"open_acc_6m\"                 \"open_il_6m\"                 \n",
       "[43] \"open_il_12m\"                 \"open_il_24m\"                \n",
       "[45] \"mths_since_rcnt_il\"          \"total_bal_il\"               \n",
       "[47] \"il_util\"                     \"open_rv_12m\"                \n",
       "[49] \"open_rv_24m\"                 \"max_bal_bc\"                 \n",
       "[51] \"all_util\"                    \"total_rev_hi_lim\"           \n",
       "[53] \"inq_fi\"                      \"total_cu_tl\"                \n",
       "[55] \"inq_last_12m\"               "
      ]
     },
     "metadata": {},
     "output_type": "display_data"
    },
    {
     "data": {
      "text/html": [
       "55"
      ],
      "text/latex": [
       "55"
      ],
      "text/markdown": [
       "55"
      ],
      "text/plain": [
       "[1] 55"
      ]
     },
     "metadata": {},
     "output_type": "display_data"
    }
   ],
   "source": [
    "## numeric variables\n",
    "num_vars <- \n",
    "  loans %>% \n",
    "  sapply(is.numeric) %>% \n",
    "  which() %>% \n",
    "  names()\n",
    "num_vars\n",
    "length(num_vars)"
   ]
  },
  {
   "cell_type": "markdown",
   "metadata": {},
   "source": [
    "#### Fixing Dates Columns"
   ]
  },
  {
   "cell_type": "code",
   "execution_count": 18,
   "metadata": {},
   "outputs": [
    {
     "name": "stdout",
     "output_type": "stream",
     "text": [
      "'data.frame':\t887382 obs. of  5 variables:\n",
      " $ issue_d           : chr  \"Dec-2011\" \"Dec-2011\" \"Dec-2011\" \"Dec-2011\" ...\n",
      " $ last_pymnt_d      : chr  \"Jan-2015\" \"Apr-2013\" \"Jun-2014\" \"Jan-2015\" ...\n",
      " $ last_credit_pull_d: chr  \"Jan-2016\" \"Sep-2013\" \"Jan-2016\" \"Jan-2015\" ...\n",
      " $ next_pymnt_d      : chr  NA NA NA NA ...\n",
      " $ earliest_cr_line  : chr  \"Jan-1985\" \"Apr-1999\" \"Nov-2001\" \"Feb-1996\" ...\n"
     ]
    }
   ],
   "source": [
    "chr_to_date_vars <- \n",
    "  c(\"issue_d\", \"last_pymnt_d\", \"last_credit_pull_d\",\n",
    "    \"next_pymnt_d\", \"earliest_cr_line\")\n",
    "\n",
    "loans %>%\n",
    "  select_(.dots = chr_to_date_vars) %>%\n",
    "  str()"
   ]
  },
  {
   "cell_type": "markdown",
   "metadata": {},
   "source": [
    "<p>We can see that all the dates are in format of <strong>\"abbreviated month\"-\"year\"</strong></p>\n",
    "<p style=\"padding-left: 30px;\">We will add \"01-\" to the string value to complete the date in a format off \"%d-%b-%Y\"<br />and then convert it to date type with the as.Date function</p>"
   ]
  },
  {
   "cell_type": "code",
   "execution_count": 59,
   "metadata": {},
   "outputs": [
    {
     "data": {
      "text/html": [
       "'C'"
      ],
      "text/latex": [
       "'C'"
      ],
      "text/markdown": [
       "'C'"
      ],
      "text/plain": [
       "[1] \"C\""
      ]
     },
     "metadata": {},
     "output_type": "display_data"
    },
    {
     "data": {
      "text/html": [
       "'Hebrew_Israel.1255'"
      ],
      "text/latex": [
       "'Hebrew\\_Israel.1255'"
      ],
      "text/markdown": [
       "'Hebrew_Israel.1255'"
      ],
      "text/plain": [
       "[1] \"Hebrew_Israel.1255\""
      ]
     },
     "metadata": {},
     "output_type": "display_data"
    }
   ],
   "source": [
    "##convert-date as string to Date Variable\n",
    "convert_date <- function(x){\n",
    "  as.Date(paste0(\"01-\", x), format = \"%d-%b-%Y\")\n",
    "  } \n",
    "lct <- Sys.getlocale(\"LC_TIME\"); Sys.setlocale(\"LC_TIME\", \"C\")\n",
    "loans <-\n",
    "  loans %>%\n",
    "  mutate_at(.funs = funs(convert_date), .vars = chr_to_date_vars)\n",
    "Sys.setlocale(\"LC_TIME\", lct)"
   ]
  },
  {
   "cell_type": "code",
   "execution_count": 60,
   "metadata": {},
   "outputs": [
    {
     "name": "stdout",
     "output_type": "stream",
     "text": [
      "'data.frame':\t887382 obs. of  5 variables:\n",
      " $ issue_d           : Date, format: \"2011-12-01\" \"2011-12-01\" ...\n",
      " $ last_pymnt_d      : Date, format: \"2015-01-01\" \"2013-04-01\" ...\n",
      " $ last_credit_pull_d: Date, format: \"2016-01-01\" \"2013-09-01\" ...\n",
      " $ next_pymnt_d      : Date, format: NA NA ...\n",
      " $ earliest_cr_line  : Date, format: \"1985-01-01\" \"1999-04-01\" ...\n"
     ]
    }
   ],
   "source": [
    "##check if the conversion was successfuly done\n",
    "loans %>%\n",
    "  select_(.dots = chr_to_date_vars) %>%\n",
    "  str()"
   ]
  },
  {
   "cell_type": "code",
   "execution_count": 61,
   "metadata": {},
   "outputs": [
    {
     "data": {
      "text/html": [
       "<ol class=list-inline>\n",
       "\t<li>'verification_status'</li>\n",
       "\t<li>'loan_status'</li>\n",
       "\t<li>'url'</li>\n",
       "\t<li>'loanDesc'</li>\n",
       "\t<li>'purpose'</li>\n",
       "\t<li>'title'</li>\n",
       "\t<li>'verification_status_joint'</li>\n",
       "\t<li>'grade'</li>\n",
       "\t<li>'sub_grade'</li>\n",
       "\t<li>'emp_title'</li>\n",
       "\t<li>'emp_length'</li>\n",
       "\t<li>'zip_code'</li>\n",
       "\t<li>'addr_state'</li>\n",
       "\t<li>'home_ownership'</li>\n",
       "</ol>\n"
      ],
      "text/latex": [
       "\\begin{enumerate*}\n",
       "\\item 'verification\\_status'\n",
       "\\item 'loan\\_status'\n",
       "\\item 'url'\n",
       "\\item 'loanDesc'\n",
       "\\item 'purpose'\n",
       "\\item 'title'\n",
       "\\item 'verification\\_status\\_joint'\n",
       "\\item 'grade'\n",
       "\\item 'sub\\_grade'\n",
       "\\item 'emp\\_title'\n",
       "\\item 'emp\\_length'\n",
       "\\item 'zip\\_code'\n",
       "\\item 'addr\\_state'\n",
       "\\item 'home\\_ownership'\n",
       "\\end{enumerate*}\n"
      ],
      "text/markdown": [
       "1. 'verification_status'\n",
       "2. 'loan_status'\n",
       "3. 'url'\n",
       "4. 'loanDesc'\n",
       "5. 'purpose'\n",
       "6. 'title'\n",
       "7. 'verification_status_joint'\n",
       "8. 'grade'\n",
       "9. 'sub_grade'\n",
       "10. 'emp_title'\n",
       "11. 'emp_length'\n",
       "12. 'zip_code'\n",
       "13. 'addr_state'\n",
       "14. 'home_ownership'\n",
       "\n",
       "\n"
      ],
      "text/plain": [
       " [1] \"verification_status\"       \"loan_status\"              \n",
       " [3] \"url\"                       \"loanDesc\"                 \n",
       " [5] \"purpose\"                   \"title\"                    \n",
       " [7] \"verification_status_joint\" \"grade\"                    \n",
       " [9] \"sub_grade\"                 \"emp_title\"                \n",
       "[11] \"emp_length\"                \"zip_code\"                 \n",
       "[13] \"addr_state\"                \"home_ownership\"           "
      ]
     },
     "metadata": {},
     "output_type": "display_data"
    }
   ],
   "source": [
    "## categorical variables\n",
    "cv <- setdiff(names(loans),c(chr_to_date_vars,num_vars))\n",
    "cv"
   ]
  },
  {
   "cell_type": "code",
   "execution_count": 22,
   "metadata": {},
   "outputs": [
    {
     "name": "stdout",
     "output_type": "stream",
     "text": [
      "'data.frame':\t887382 obs. of  14 variables:\n",
      " $ verification_status      : chr  \"Verified\" \"Source Verified\" \"Not Verified\" \"Source Verified\" ...\n",
      " $ loan_status              : chr  \"Fully Paid\" \"Charged Off\" \"Fully Paid\" \"Fully Paid\" ...\n",
      " $ url                      : chr  \"https://www.lendingclub.com/browse/loanDetail.action?loan_id=1077501\" \"https://www.lendingclub.com/browse/loanDetail.action?loan_id=1077430\" \"https://www.lendingclub.com/browse/loanDetail.action?loan_id=1077175\" \"https://www.lendingclub.com/browse/loanDetail.action?loan_id=1076863\" ...\n",
      " $ loanDesc                 : chr  \"  Borrower added on 12/22/11 > I need to upgrade my business technologies.<br>\" \"  Borrower added on 12/22/11 > I plan to use this money to finance the motorcycle i am looking at. I plan to ha\"| __truncated__ NA \"  Borrower added on 12/21/11 > to pay for property tax (borrow from friend, need to pay back) & central A/C nee\"| __truncated__ ...\n",
      " $ purpose                  : chr  \"credit_card\" \"car\" \"small_business\" \"other\" ...\n",
      " $ title                    : chr  \"Computer\" \"bike\" \"real estate business\" \"personel\" ...\n",
      " $ verification_status_joint: chr  NA NA NA NA ...\n",
      " $ grade                    : chr  \"B\" \"C\" \"C\" \"C\" ...\n",
      " $ sub_grade                : chr  \"B2\" \"C4\" \"C5\" \"C1\" ...\n",
      " $ emp_title                : chr  NA \"Ryder\" NA \"AIR RESOURCES BOARD\" ...\n",
      " $ emp_length               : chr  \"10+ years\" \"< 1 year\" \"10+ years\" \"10+ years\" ...\n",
      " $ zip_code                 : chr  \"860xx\" \"309xx\" \"606xx\" \"917xx\" ...\n",
      " $ addr_state               : chr  \"AZ\" \"GA\" \"IL\" \"CA\" ...\n",
      " $ home_ownership           : chr  \"RENT\" \"RENT\" \"RENT\" \"RENT\" ...\n"
     ]
    }
   ],
   "source": [
    "loans %>%\n",
    "  select_(.dots = cv) %>%\n",
    "  str()"
   ]
  },
  {
   "cell_type": "markdown",
   "metadata": {},
   "source": [
    "Check data statistics regarding NA,UNIQUE,Zeros"
   ]
  },
  {
   "cell_type": "code",
   "execution_count": null,
   "metadata": {},
   "outputs": [],
   "source": [
    "## Create a TableOne object\n",
    "tab <- CreateTableOne(vars = names(loans), data = loans)"
   ]
  },
  {
   "cell_type": "code",
   "execution_count": null,
   "metadata": {
    "scrolled": true
   },
   "outputs": [],
   "source": [
    "summary(tab)"
   ]
  },
  {
   "cell_type": "code",
   "execution_count": null,
   "metadata": {},
   "outputs": [],
   "source": [
    "## Create a TableOne object\n",
    "tab2 <- CreateTableOne(vars = num_vars, data = loans)"
   ]
  },
  {
   "cell_type": "code",
   "execution_count": null,
   "metadata": {},
   "outputs": [],
   "source": [
    "summary(tab2)"
   ]
  },
  {
   "cell_type": "markdown",
   "metadata": {},
   "source": [
    "Using different libraty for descriptive statistics"
   ]
  },
  {
   "cell_type": "code",
   "execution_count": 23,
   "metadata": {},
   "outputs": [],
   "source": [
    "meta_loans <- funModeling::df_status(loans, print_results = FALSE)"
   ]
  },
  {
   "cell_type": "code",
   "execution_count": 24,
   "metadata": {},
   "outputs": [
    {
     "data": {
      "text/plain": [
       "\n",
       "\n",
       "|variable                    | q_zeros| p_zeros|   q_na|  p_na| q_inf| p_inf|type      | unique|\n",
       "|:---------------------------|-------:|-------:|------:|-----:|-----:|-----:|:---------|------:|\n",
       "|loan_id                     |       0|    0.00|      0|  0.00|     0|     0|integer   | 887382|\n",
       "|member_id                   |       0|    0.00|      0|  0.00|     0|     0|integer   | 887382|\n",
       "|verification_status         |       0|    0.00|      0|  0.00|     0|     0|character |      3|\n",
       "|issue_d                     |       0|    0.00|      0|  0.00|     0|     0|Date      |    103|\n",
       "|loan_status                 |       0|    0.00|      0|  0.00|     0|     0|character |     10|\n",
       "|pymnt_plan                  |  887372|  100.00|      0|  0.00|     0|     0|integer   |      2|\n",
       "|url                         |       0|    0.00|      0|  0.00|     0|     0|character | 887382|\n",
       "|loanDesc                    |       0|    0.00| 761353| 85.80|     0|     0|character | 124470|\n",
       "|purpose                     |       0|    0.00|      0|  0.00|     0|     0|character |     14|\n",
       "|title                       |       0|    0.00|    151|  0.02|     0|     0|character |  63145|\n",
       "|policy_code                 |       0|    0.00|      0|  0.00|     0|     0|integer   |      1|\n",
       "|application_type            |  886871|   99.94|      0|  0.00|     0|     0|integer   |      2|\n",
       "|verification_status_joint   |       0|    0.00| 886871| 99.94|     0|     0|character |      3|\n",
       "|grade                       |       0|    0.00|      0|  0.00|     0|     0|character |      7|\n",
       "|sub_grade                   |       0|    0.00|      0|  0.00|     0|     0|character |     35|\n",
       "|initial_list_status         |  430532|   48.52|      0|  0.00|     0|     0|integer   |      2|\n",
       "|emp_title                   |       0|    0.00|  51457|  5.80|     0|     0|character | 299272|\n",
       "|emp_length                  |       0|    0.00|      0|  0.00|     0|     0|character |     12|\n",
       "|zip_code                    |       0|    0.00|      0|  0.00|     0|     0|character |    935|\n",
       "|addr_state                  |       0|    0.00|      0|  0.00|     0|     0|character |     51|\n",
       "|loan_amnt                   |       0|    0.00|      0|  0.00|     0|     0|integer   |   1372|\n",
       "|funded_amnt                 |       0|    0.00|      0|  0.00|     0|     0|integer   |   1372|\n",
       "|funded_amnt_inv             |     233|    0.03|      0|  0.00|     0|     0|numeric   |   9856|\n",
       "|term                        |  621127|   70.00|      0|  0.00|     0|     0|integer   |      2|\n",
       "|int_rate                    |       0|    0.00|      0|  0.00|     0|     0|numeric   |    542|\n",
       "|installment                 |       0|    0.00|      0|  0.00|     0|     0|numeric   |  68711|\n",
       "|out_prncp                   |  255799|   28.83|      0|  0.00|     0|     0|numeric   | 248333|\n",
       "|out_prncp_inv               |  255799|   28.83|      0|  0.00|     0|     0|numeric   | 266245|\n",
       "|total_pymnt                 |   17759|    2.00|      0|  0.00|     0|     0|numeric   | 509124|\n",
       "|total_pymnt_inv             |   18037|    2.03|      0|  0.00|     0|     0|numeric   | 506619|\n",
       "|total_rec_prncp             |   18145|    2.04|      0|  0.00|     0|     0|numeric   | 260228|\n",
       "|total_rec_int               |   18214|    2.05|      0|  0.00|     0|     0|numeric   | 324636|\n",
       "|total_rec_late_fee          |  874865|   98.59|      0|  0.00|     0|     0|numeric   |   6200|\n",
       "|recoveries                  |  862705|   97.22|      0|  0.00|     0|     0|numeric   |  23055|\n",
       "|collection_recovery_fee     |  863875|   97.35|      0|  0.00|     0|     0|numeric   |  20721|\n",
       "|last_pymnt_d                |       0|    0.00|  17659|  1.99|     0|     0|Date      |     98|\n",
       "|last_pymnt_amnt             |   17673|    1.99|      0|  0.00|     0|     0|numeric   | 232452|\n",
       "|next_pymnt_d                |       0|    0.00| 252972| 28.51|     0|     0|Date      |    100|\n",
       "|last_credit_pull_d          |       0|    0.00|     53|  0.01|     0|     0|Date      |    103|\n",
       "|collections_12_mths_ex_med  |  875556|   98.67|    145|  0.02|     0|     0|integer   |     12|\n",
       "|mths_since_last_major_derog |     153|    0.02| 665678| 75.02|     0|     0|integer   |    168|\n",
       "|home_ownership              |       0|    0.00|      0|  0.00|     0|     0|character |      6|\n",
       "|annual_inc                  |       2|    0.00|      4|  0.00|     0|     0|numeric   |  49384|\n",
       "|dti                         |     451|    0.05|      0|  0.00|     0|     0|numeric   |   4086|\n",
       "|delinq_2yrs                 |  716962|   80.80|     29|  0.00|     0|     0|integer   |     29|\n",
       "|annual_inc_joint            |       0|    0.00| 886871| 99.94|     0|     0|numeric   |    308|\n",
       "|dti_joint                   |       0|    0.00| 886873| 99.94|     0|     0|numeric   |    449|\n",
       "|acc_now_delinq              |  883239|   99.53|     29|  0.00|     0|     0|integer   |      8|\n",
       "|earliest_cr_line            |      87|    0.01|     29|  0.00|     0|     0|Date      |    697|\n",
       "|inq_last_6mths              |  497907|   56.11|     29|  0.00|     0|     0|integer   |     28|\n",
       "|mths_since_last_delinq      |    1723|    0.19| 454313| 51.20|     0|     0|integer   |    155|\n",
       "|mths_since_last_record      |    1283|    0.14| 750329| 84.56|     0|     0|integer   |    123|\n",
       "|open_acc                    |       7|    0.00|     29|  0.00|     0|     0|integer   |     77|\n",
       "|pub_rec                     |  751575|   84.70|     29|  0.00|     0|     0|integer   |     32|\n",
       "|revol_bal                   |    3402|    0.38|      0|  0.00|     0|     0|numeric   |  73740|\n",
       "|revol_util                  |    3540|    0.40|    502|  0.06|     0|     0|numeric   |   1356|\n",
       "|total_acc                   |       0|    0.00|     29|  0.00|     0|     0|integer   |    135|\n",
       "|tot_coll_amt                |  700948|   78.99|  70276|  7.92|     0|     0|integer   |  10325|\n",
       "|tot_cur_bal                 |     126|    0.01|  70276|  7.92|     0|     0|numeric   | 327342|\n",
       "|open_acc_6m                 |    8246|    0.93| 866010| 97.59|     0|     0|integer   |     13|\n",
       "|open_il_6m                  |    2314|    0.26| 866010| 97.59|     0|     0|integer   |     35|\n",
       "|open_il_12m                 |   10806|    1.22| 866010| 97.59|     0|     0|integer   |     12|\n",
       "|open_il_24m                 |    5481|    0.62| 866010| 97.59|     0|     0|integer   |     17|\n",
       "|mths_since_rcnt_il          |      13|    0.00| 866572| 97.65|     0|     0|integer   |    201|\n",
       "|total_bal_il                |    2259|    0.25| 866010| 97.59|     0|     0|integer   |  17030|\n",
       "|il_util                     |     138|    0.02| 868765| 97.90|     0|     0|numeric   |   1272|\n",
       "|open_rv_12m                 |    7073|    0.80| 866010| 97.59|     0|     0|integer   |     18|\n",
       "|open_rv_24m                 |    2868|    0.32| 866010| 97.59|     0|     0|integer   |     28|\n",
       "|max_bal_bc                  |     408|    0.05| 866010| 97.59|     0|     0|integer   |  10707|\n",
       "|all_util                    |      14|    0.00| 866010| 97.59|     0|     0|numeric   |   1128|\n",
       "|total_rev_hi_lim            |     287|    0.03|  70276|  7.92|     0|     0|numeric   |  21251|\n",
       "|inq_fi                      |   11411|    1.29| 866010| 97.59|     0|     0|integer   |     18|\n",
       "|total_cu_tl                 |   11478|    1.29| 866010| 97.59|     0|     0|integer   |     33|\n",
       "|inq_last_12m                |    3983|    0.45| 866010| 97.59|     0|     0|integer   |     29|"
      ]
     },
     "metadata": {},
     "output_type": "display_data"
    }
   ],
   "source": [
    "meta_loans%>%\n",
    "  knitr::kable()"
   ]
  },
  {
   "cell_type": "code",
   "execution_count": 25,
   "metadata": {},
   "outputs": [
    {
     "data": {
      "text/html": [
       "<table>\n",
       "<thead><tr><th scope=col>variable</th><th scope=col>unique</th><th scope=col>uniq_rat</th></tr></thead>\n",
       "<tbody>\n",
       "\t<tr><td>loan_id                  </td><td>887382                   </td><td>100.0%                   </td></tr>\n",
       "\t<tr><td>member_id                </td><td>887382                   </td><td>100.0%                   </td></tr>\n",
       "\t<tr><td>verification_status      </td><td>     3                   </td><td>0.0%                     </td></tr>\n",
       "\t<tr><td>issue_d                  </td><td>   103                   </td><td>0.0%                     </td></tr>\n",
       "\t<tr><td>loan_status              </td><td>    10                   </td><td>0.0%                     </td></tr>\n",
       "\t<tr><td>pymnt_plan               </td><td>     2                   </td><td>0.0%                     </td></tr>\n",
       "\t<tr><td>url                      </td><td>887382                   </td><td>100.0%                   </td></tr>\n",
       "\t<tr><td>loanDesc                 </td><td>124470                   </td><td>14.0%                    </td></tr>\n",
       "\t<tr><td>purpose                  </td><td>    14                   </td><td>0.0%                     </td></tr>\n",
       "\t<tr><td>title                    </td><td> 63145                   </td><td>7.1%                     </td></tr>\n",
       "\t<tr><td>policy_code              </td><td>     1                   </td><td>0.0%                     </td></tr>\n",
       "\t<tr><td>application_type         </td><td>     2                   </td><td>0.0%                     </td></tr>\n",
       "\t<tr><td>verification_status_joint</td><td>     3                   </td><td>0.0%                     </td></tr>\n",
       "\t<tr><td>grade                    </td><td>     7                   </td><td>0.0%                     </td></tr>\n",
       "\t<tr><td>sub_grade                </td><td>    35                   </td><td>0.0%                     </td></tr>\n",
       "\t<tr><td>initial_list_status      </td><td>     2                   </td><td>0.0%                     </td></tr>\n",
       "\t<tr><td>emp_title                </td><td>299272                   </td><td>33.7%                    </td></tr>\n",
       "\t<tr><td>emp_length               </td><td>    12                   </td><td>0.0%                     </td></tr>\n",
       "\t<tr><td>zip_code                 </td><td>   935                   </td><td>0.1%                     </td></tr>\n",
       "\t<tr><td>addr_state               </td><td>    51                   </td><td>0.0%                     </td></tr>\n",
       "\t<tr><td>loan_amnt                </td><td>  1372                   </td><td>0.2%                     </td></tr>\n",
       "\t<tr><td>funded_amnt              </td><td>  1372                   </td><td>0.2%                     </td></tr>\n",
       "\t<tr><td>funded_amnt_inv          </td><td>  9856                   </td><td>1.1%                     </td></tr>\n",
       "\t<tr><td>term                     </td><td>     2                   </td><td>0.0%                     </td></tr>\n",
       "\t<tr><td>int_rate                 </td><td>   542                   </td><td>0.1%                     </td></tr>\n",
       "\t<tr><td>installment              </td><td> 68711                   </td><td>7.7%                     </td></tr>\n",
       "\t<tr><td>out_prncp                </td><td>248333                   </td><td>28.0%                    </td></tr>\n",
       "\t<tr><td>out_prncp_inv            </td><td>266245                   </td><td>30.0%                    </td></tr>\n",
       "\t<tr><td>total_pymnt              </td><td>509124                   </td><td>57.4%                    </td></tr>\n",
       "\t<tr><td>total_pymnt_inv          </td><td>506619                   </td><td>57.1%                    </td></tr>\n",
       "\t<tr><td>...</td><td>...</td><td>...</td></tr>\n",
       "\t<tr><td>delinq_2yrs           </td><td>    29                </td><td>0.0%                  </td></tr>\n",
       "\t<tr><td>annual_inc_joint      </td><td>   308                </td><td>0.0%                  </td></tr>\n",
       "\t<tr><td>dti_joint             </td><td>   449                </td><td>0.1%                  </td></tr>\n",
       "\t<tr><td>acc_now_delinq        </td><td>     8                </td><td>0.0%                  </td></tr>\n",
       "\t<tr><td>earliest_cr_line      </td><td>   697                </td><td>0.1%                  </td></tr>\n",
       "\t<tr><td>inq_last_6mths        </td><td>    28                </td><td>0.0%                  </td></tr>\n",
       "\t<tr><td>mths_since_last_delinq</td><td>   155                </td><td>0.0%                  </td></tr>\n",
       "\t<tr><td>mths_since_last_record</td><td>   123                </td><td>0.0%                  </td></tr>\n",
       "\t<tr><td>open_acc              </td><td>    77                </td><td>0.0%                  </td></tr>\n",
       "\t<tr><td>pub_rec               </td><td>    32                </td><td>0.0%                  </td></tr>\n",
       "\t<tr><td>revol_bal             </td><td> 73740                </td><td>8.3%                  </td></tr>\n",
       "\t<tr><td>revol_util            </td><td>  1356                </td><td>0.2%                  </td></tr>\n",
       "\t<tr><td>total_acc             </td><td>   135                </td><td>0.0%                  </td></tr>\n",
       "\t<tr><td>tot_coll_amt          </td><td> 10325                </td><td>1.2%                  </td></tr>\n",
       "\t<tr><td>tot_cur_bal           </td><td>327342                </td><td>36.9%                 </td></tr>\n",
       "\t<tr><td>open_acc_6m           </td><td>    13                </td><td>0.0%                  </td></tr>\n",
       "\t<tr><td>open_il_6m            </td><td>    35                </td><td>0.0%                  </td></tr>\n",
       "\t<tr><td>open_il_12m           </td><td>    12                </td><td>0.0%                  </td></tr>\n",
       "\t<tr><td>open_il_24m           </td><td>    17                </td><td>0.0%                  </td></tr>\n",
       "\t<tr><td>mths_since_rcnt_il    </td><td>   201                </td><td>0.0%                  </td></tr>\n",
       "\t<tr><td>total_bal_il          </td><td> 17030                </td><td>1.9%                  </td></tr>\n",
       "\t<tr><td>il_util               </td><td>  1272                </td><td>0.1%                  </td></tr>\n",
       "\t<tr><td>open_rv_12m           </td><td>    18                </td><td>0.0%                  </td></tr>\n",
       "\t<tr><td>open_rv_24m           </td><td>    28                </td><td>0.0%                  </td></tr>\n",
       "\t<tr><td>max_bal_bc            </td><td> 10707                </td><td>1.2%                  </td></tr>\n",
       "\t<tr><td>all_util              </td><td>  1128                </td><td>0.1%                  </td></tr>\n",
       "\t<tr><td>total_rev_hi_lim      </td><td> 21251                </td><td>2.4%                  </td></tr>\n",
       "\t<tr><td>inq_fi                </td><td>    18                </td><td>0.0%                  </td></tr>\n",
       "\t<tr><td>total_cu_tl           </td><td>    33                </td><td>0.0%                  </td></tr>\n",
       "\t<tr><td>inq_last_12m          </td><td>    29                </td><td>0.0%                  </td></tr>\n",
       "</tbody>\n",
       "</table>\n"
      ],
      "text/latex": [
       "\\begin{tabular}{r|lll}\n",
       " variable & unique & uniq\\_rat\\\\\n",
       "\\hline\n",
       "\t loan\\_id                   & 887382                      & 100.0\\%                   \\\\\n",
       "\t member\\_id                 & 887382                      & 100.0\\%                   \\\\\n",
       "\t verification\\_status       &      3                      & 0.0\\%                     \\\\\n",
       "\t issue\\_d                   &    103                      & 0.0\\%                     \\\\\n",
       "\t loan\\_status               &     10                      & 0.0\\%                     \\\\\n",
       "\t pymnt\\_plan                &      2                      & 0.0\\%                     \\\\\n",
       "\t url                       & 887382                    & 100.0\\%                 \\\\\n",
       "\t loanDesc                  & 124470                    & 14.0\\%                  \\\\\n",
       "\t purpose                   &     14                    & 0.0\\%                   \\\\\n",
       "\t title                     &  63145                    & 7.1\\%                   \\\\\n",
       "\t policy\\_code               &      1                      & 0.0\\%                     \\\\\n",
       "\t application\\_type          &      2                      & 0.0\\%                     \\\\\n",
       "\t verification\\_status\\_joint &      3                        & 0.0\\%                       \\\\\n",
       "\t grade                     &      7                    & 0.0\\%                   \\\\\n",
       "\t sub\\_grade                 &     35                      & 0.0\\%                     \\\\\n",
       "\t initial\\_list\\_status       &      2                        & 0.0\\%                       \\\\\n",
       "\t emp\\_title                 & 299272                      & 33.7\\%                    \\\\\n",
       "\t emp\\_length                &     12                      & 0.0\\%                     \\\\\n",
       "\t zip\\_code                  &    935                      & 0.1\\%                     \\\\\n",
       "\t addr\\_state                &     51                      & 0.0\\%                     \\\\\n",
       "\t loan\\_amnt                 &   1372                      & 0.2\\%                     \\\\\n",
       "\t funded\\_amnt               &   1372                      & 0.2\\%                     \\\\\n",
       "\t funded\\_amnt\\_inv           &   9856                        & 1.1\\%                       \\\\\n",
       "\t term                      &      2                    & 0.0\\%                   \\\\\n",
       "\t int\\_rate                  &    542                      & 0.1\\%                     \\\\\n",
       "\t installment               &  68711                    & 7.7\\%                   \\\\\n",
       "\t out\\_prncp                 & 248333                      & 28.0\\%                    \\\\\n",
       "\t out\\_prncp\\_inv             & 266245                        & 30.0\\%                      \\\\\n",
       "\t total\\_pymnt               & 509124                      & 57.4\\%                    \\\\\n",
       "\t total\\_pymnt\\_inv           & 506619                        & 57.1\\%                      \\\\\n",
       "\t ... & ... & ...\\\\\n",
       "\t delinq\\_2yrs            &     29                   & 0.0\\%                  \\\\\n",
       "\t annual\\_inc\\_joint       &    308                     & 0.0\\%                    \\\\\n",
       "\t dti\\_joint              &    449                   & 0.1\\%                  \\\\\n",
       "\t acc\\_now\\_delinq         &      8                     & 0.0\\%                    \\\\\n",
       "\t earliest\\_cr\\_line       &    697                     & 0.1\\%                    \\\\\n",
       "\t inq\\_last\\_6mths         &     28                     & 0.0\\%                    \\\\\n",
       "\t mths\\_since\\_last\\_delinq &    155                       & 0.0\\%                      \\\\\n",
       "\t mths\\_since\\_last\\_record &    123                       & 0.0\\%                      \\\\\n",
       "\t open\\_acc               &     77                   & 0.0\\%                  \\\\\n",
       "\t pub\\_rec                &     32                   & 0.0\\%                  \\\\\n",
       "\t revol\\_bal              &  73740                   & 8.3\\%                  \\\\\n",
       "\t revol\\_util             &   1356                   & 0.2\\%                  \\\\\n",
       "\t total\\_acc              &    135                   & 0.0\\%                  \\\\\n",
       "\t tot\\_coll\\_amt           &  10325                     & 1.2\\%                    \\\\\n",
       "\t tot\\_cur\\_bal            & 327342                     & 36.9\\%                   \\\\\n",
       "\t open\\_acc\\_6m            &     13                     & 0.0\\%                    \\\\\n",
       "\t open\\_il\\_6m             &     35                     & 0.0\\%                    \\\\\n",
       "\t open\\_il\\_12m            &     12                     & 0.0\\%                    \\\\\n",
       "\t open\\_il\\_24m            &     17                     & 0.0\\%                    \\\\\n",
       "\t mths\\_since\\_rcnt\\_il     &    201                       & 0.0\\%                      \\\\\n",
       "\t total\\_bal\\_il           &  17030                     & 1.9\\%                    \\\\\n",
       "\t il\\_util                &   1272                   & 0.1\\%                  \\\\\n",
       "\t open\\_rv\\_12m            &     18                     & 0.0\\%                    \\\\\n",
       "\t open\\_rv\\_24m            &     28                     & 0.0\\%                    \\\\\n",
       "\t max\\_bal\\_bc             &  10707                     & 1.2\\%                    \\\\\n",
       "\t all\\_util               &   1128                   & 0.1\\%                  \\\\\n",
       "\t total\\_rev\\_hi\\_lim       &  21251                       & 2.4\\%                      \\\\\n",
       "\t inq\\_fi                 &     18                   & 0.0\\%                  \\\\\n",
       "\t total\\_cu\\_tl            &     33                     & 0.0\\%                    \\\\\n",
       "\t inq\\_last\\_12m           &     29                     & 0.0\\%                    \\\\\n",
       "\\end{tabular}\n"
      ],
      "text/markdown": [
       "\n",
       "variable | unique | uniq_rat | \n",
       "|---|---|---|---|---|---|---|---|---|---|---|---|---|---|---|---|---|---|---|---|---|---|---|---|---|---|---|---|---|---|---|---|---|---|---|---|---|---|---|---|---|---|---|---|---|---|---|---|---|---|---|---|---|---|---|---|---|---|---|---|---|\n",
       "| loan_id                   | 887382                    | 100.0%                    | \n",
       "| member_id                 | 887382                    | 100.0%                    | \n",
       "| verification_status       |      3                    | 0.0%                      | \n",
       "| issue_d                   |    103                    | 0.0%                      | \n",
       "| loan_status               |     10                    | 0.0%                      | \n",
       "| pymnt_plan                |      2                    | 0.0%                      | \n",
       "| url                       | 887382                    | 100.0%                    | \n",
       "| loanDesc                  | 124470                    | 14.0%                     | \n",
       "| purpose                   |     14                    | 0.0%                      | \n",
       "| title                     |  63145                    | 7.1%                      | \n",
       "| policy_code               |      1                    | 0.0%                      | \n",
       "| application_type          |      2                    | 0.0%                      | \n",
       "| verification_status_joint |      3                    | 0.0%                      | \n",
       "| grade                     |      7                    | 0.0%                      | \n",
       "| sub_grade                 |     35                    | 0.0%                      | \n",
       "| initial_list_status       |      2                    | 0.0%                      | \n",
       "| emp_title                 | 299272                    | 33.7%                     | \n",
       "| emp_length                |     12                    | 0.0%                      | \n",
       "| zip_code                  |    935                    | 0.1%                      | \n",
       "| addr_state                |     51                    | 0.0%                      | \n",
       "| loan_amnt                 |   1372                    | 0.2%                      | \n",
       "| funded_amnt               |   1372                    | 0.2%                      | \n",
       "| funded_amnt_inv           |   9856                    | 1.1%                      | \n",
       "| term                      |      2                    | 0.0%                      | \n",
       "| int_rate                  |    542                    | 0.1%                      | \n",
       "| installment               |  68711                    | 7.7%                      | \n",
       "| out_prncp                 | 248333                    | 28.0%                     | \n",
       "| out_prncp_inv             | 266245                    | 30.0%                     | \n",
       "| total_pymnt               | 509124                    | 57.4%                     | \n",
       "| total_pymnt_inv           | 506619                    | 57.1%                     | \n",
       "| ... | ... | ... | \n",
       "| delinq_2yrs            |     29                 | 0.0%                   | \n",
       "| annual_inc_joint       |    308                 | 0.0%                   | \n",
       "| dti_joint              |    449                 | 0.1%                   | \n",
       "| acc_now_delinq         |      8                 | 0.0%                   | \n",
       "| earliest_cr_line       |    697                 | 0.1%                   | \n",
       "| inq_last_6mths         |     28                 | 0.0%                   | \n",
       "| mths_since_last_delinq |    155                 | 0.0%                   | \n",
       "| mths_since_last_record |    123                 | 0.0%                   | \n",
       "| open_acc               |     77                 | 0.0%                   | \n",
       "| pub_rec                |     32                 | 0.0%                   | \n",
       "| revol_bal              |  73740                 | 8.3%                   | \n",
       "| revol_util             |   1356                 | 0.2%                   | \n",
       "| total_acc              |    135                 | 0.0%                   | \n",
       "| tot_coll_amt           |  10325                 | 1.2%                   | \n",
       "| tot_cur_bal            | 327342                 | 36.9%                  | \n",
       "| open_acc_6m            |     13                 | 0.0%                   | \n",
       "| open_il_6m             |     35                 | 0.0%                   | \n",
       "| open_il_12m            |     12                 | 0.0%                   | \n",
       "| open_il_24m            |     17                 | 0.0%                   | \n",
       "| mths_since_rcnt_il     |    201                 | 0.0%                   | \n",
       "| total_bal_il           |  17030                 | 1.9%                   | \n",
       "| il_util                |   1272                 | 0.1%                   | \n",
       "| open_rv_12m            |     18                 | 0.0%                   | \n",
       "| open_rv_24m            |     28                 | 0.0%                   | \n",
       "| max_bal_bc             |  10707                 | 1.2%                   | \n",
       "| all_util               |   1128                 | 0.1%                   | \n",
       "| total_rev_hi_lim       |  21251                 | 2.4%                   | \n",
       "| inq_fi                 |     18                 | 0.0%                   | \n",
       "| total_cu_tl            |     33                 | 0.0%                   | \n",
       "| inq_last_12m           |     29                 | 0.0%                   | \n",
       "\n",
       "\n"
      ],
      "text/plain": [
       "    variable                  unique uniq_rat\n",
       "1   loan_id                   887382 100.0%  \n",
       "2   member_id                 887382 100.0%  \n",
       "3   verification_status            3 0.0%    \n",
       "4   issue_d                      103 0.0%    \n",
       "5   loan_status                   10 0.0%    \n",
       "6   pymnt_plan                     2 0.0%    \n",
       "7   url                       887382 100.0%  \n",
       "8   loanDesc                  124470 14.0%   \n",
       "9   purpose                       14 0.0%    \n",
       "10  title                      63145 7.1%    \n",
       "11  policy_code                    1 0.0%    \n",
       "12  application_type               2 0.0%    \n",
       "13  verification_status_joint      3 0.0%    \n",
       "14  grade                          7 0.0%    \n",
       "15  sub_grade                     35 0.0%    \n",
       "16  initial_list_status            2 0.0%    \n",
       "17  emp_title                 299272 33.7%   \n",
       "18  emp_length                    12 0.0%    \n",
       "19  zip_code                     935 0.1%    \n",
       "20  addr_state                    51 0.0%    \n",
       "21  loan_amnt                   1372 0.2%    \n",
       "22  funded_amnt                 1372 0.2%    \n",
       "23  funded_amnt_inv             9856 1.1%    \n",
       "24  term                           2 0.0%    \n",
       "25  int_rate                     542 0.1%    \n",
       "26  installment                68711 7.7%    \n",
       "27  out_prncp                 248333 28.0%   \n",
       "28  out_prncp_inv             266245 30.0%   \n",
       "29  total_pymnt               509124 57.4%   \n",
       "30  total_pymnt_inv           506619 57.1%   \n",
       "... ...                       ...    ...     \n",
       "45  delinq_2yrs                   29 0.0%    \n",
       "46  annual_inc_joint             308 0.0%    \n",
       "47  dti_joint                    449 0.1%    \n",
       "48  acc_now_delinq                 8 0.0%    \n",
       "49  earliest_cr_line             697 0.1%    \n",
       "50  inq_last_6mths                28 0.0%    \n",
       "51  mths_since_last_delinq       155 0.0%    \n",
       "52  mths_since_last_record       123 0.0%    \n",
       "53  open_acc                      77 0.0%    \n",
       "54  pub_rec                       32 0.0%    \n",
       "55  revol_bal                  73740 8.3%    \n",
       "56  revol_util                  1356 0.2%    \n",
       "57  total_acc                    135 0.0%    \n",
       "58  tot_coll_amt               10325 1.2%    \n",
       "59  tot_cur_bal               327342 36.9%   \n",
       "60  open_acc_6m                   13 0.0%    \n",
       "61  open_il_6m                    35 0.0%    \n",
       "62  open_il_12m                   12 0.0%    \n",
       "63  open_il_24m                   17 0.0%    \n",
       "64  mths_since_rcnt_il           201 0.0%    \n",
       "65  total_bal_il               17030 1.9%    \n",
       "66  il_util                     1272 0.1%    \n",
       "67  open_rv_12m                   18 0.0%    \n",
       "68  open_rv_24m                   28 0.0%    \n",
       "69  max_bal_bc                 10707 1.2%    \n",
       "70  all_util                    1128 0.1%    \n",
       "71  total_rev_hi_lim           21251 2.4%    \n",
       "72  inq_fi                        18 0.0%    \n",
       "73  total_cu_tl                   33 0.0%    \n",
       "74  inq_last_12m                  29 0.0%    "
      ]
     },
     "metadata": {},
     "output_type": "display_data"
    }
   ],
   "source": [
    "meta_loans <-\n",
    "  meta_loans %>%\n",
    "  mutate(uniq_rat = unique / nrow(loans))\n",
    "\n",
    "meta_loans %>%\n",
    "  select(variable, unique, uniq_rat) %>%\n",
    "  mutate(unique = unique, uniq_rat = scales::percent(uniq_rat))"
   ]
  },
  {
   "cell_type": "code",
   "execution_count": 30,
   "metadata": {},
   "outputs": [
    {
     "data": {
      "text/html": [
       "<table>\n",
       "<thead><tr><th scope=col>variable</th><th scope=col>p_zeros</th><th scope=col>p_na</th><th scope=col>unique</th><th scope=col>uniq_rat</th></tr></thead>\n",
       "<tbody>\n",
       "\t<tr><td>loan_id                    </td><td>  0.00                     </td><td> 0.00                      </td><td>887382                     </td><td>100.0%                     </td></tr>\n",
       "\t<tr><td>member_id                  </td><td>  0.00                     </td><td> 0.00                      </td><td>887382                     </td><td>100.0%                     </td></tr>\n",
       "\t<tr><td>total_pymnt                </td><td>  2.00                     </td><td> 0.00                      </td><td>509124                     </td><td>57.4%                      </td></tr>\n",
       "\t<tr><td>total_pymnt_inv            </td><td>  2.03                     </td><td> 0.00                      </td><td>506619                     </td><td>57.1%                      </td></tr>\n",
       "\t<tr><td>tot_cur_bal                </td><td>  0.01                     </td><td> 7.92                      </td><td>327342                     </td><td>36.9%                      </td></tr>\n",
       "\t<tr><td>total_rec_int              </td><td>  2.05                     </td><td> 0.00                      </td><td>324636                     </td><td>36.6%                      </td></tr>\n",
       "\t<tr><td>out_prncp_inv              </td><td> 28.83                     </td><td> 0.00                      </td><td>266245                     </td><td>30.0%                      </td></tr>\n",
       "\t<tr><td>total_rec_prncp            </td><td>  2.04                     </td><td> 0.00                      </td><td>260228                     </td><td>29.3%                      </td></tr>\n",
       "\t<tr><td>out_prncp                  </td><td> 28.83                     </td><td> 0.00                      </td><td>248333                     </td><td>28.0%                      </td></tr>\n",
       "\t<tr><td>last_pymnt_amnt            </td><td>  1.99                     </td><td> 0.00                      </td><td>232452                     </td><td>26.2%                      </td></tr>\n",
       "\t<tr><td>revol_bal                  </td><td>  0.38                     </td><td> 0.00                      </td><td> 73740                     </td><td>8.3%                       </td></tr>\n",
       "\t<tr><td>installment                </td><td>  0.00                     </td><td> 0.00                      </td><td> 68711                     </td><td>7.7%                       </td></tr>\n",
       "\t<tr><td>annual_inc                 </td><td>  0.00                     </td><td> 0.00                      </td><td> 49384                     </td><td>5.6%                       </td></tr>\n",
       "\t<tr><td>recoveries                 </td><td> 97.22                     </td><td> 0.00                      </td><td> 23055                     </td><td>2.6%                       </td></tr>\n",
       "\t<tr><td>total_rev_hi_lim           </td><td>  0.03                     </td><td> 7.92                      </td><td> 21251                     </td><td>2.4%                       </td></tr>\n",
       "\t<tr><td>collection_recovery_fee    </td><td> 97.35                     </td><td> 0.00                      </td><td> 20721                     </td><td>2.3%                       </td></tr>\n",
       "\t<tr><td>total_bal_il               </td><td>  0.25                     </td><td>97.59                      </td><td> 17030                     </td><td>1.9%                       </td></tr>\n",
       "\t<tr><td>max_bal_bc                 </td><td>  0.05                     </td><td>97.59                      </td><td> 10707                     </td><td>1.2%                       </td></tr>\n",
       "\t<tr><td>tot_coll_amt               </td><td> 78.99                     </td><td> 7.92                      </td><td> 10325                     </td><td>1.2%                       </td></tr>\n",
       "\t<tr><td>funded_amnt_inv            </td><td>  0.03                     </td><td> 0.00                      </td><td>  9856                     </td><td>1.1%                       </td></tr>\n",
       "\t<tr><td>total_rec_late_fee         </td><td> 98.59                     </td><td> 0.00                      </td><td>  6200                     </td><td>0.7%                       </td></tr>\n",
       "\t<tr><td>dti                        </td><td>  0.05                     </td><td> 0.00                      </td><td>  4086                     </td><td>0.5%                       </td></tr>\n",
       "\t<tr><td>loan_amnt                  </td><td>  0.00                     </td><td> 0.00                      </td><td>  1372                     </td><td>0.2%                       </td></tr>\n",
       "\t<tr><td>funded_amnt                </td><td>  0.00                     </td><td> 0.00                      </td><td>  1372                     </td><td>0.2%                       </td></tr>\n",
       "\t<tr><td>revol_util                 </td><td>  0.40                     </td><td> 0.06                      </td><td>  1356                     </td><td>0.2%                       </td></tr>\n",
       "\t<tr><td>il_util                    </td><td>  0.02                     </td><td>97.90                      </td><td>  1272                     </td><td>0.1%                       </td></tr>\n",
       "\t<tr><td>all_util                   </td><td>  0.00                     </td><td>97.59                      </td><td>  1128                     </td><td>0.1%                       </td></tr>\n",
       "\t<tr><td>int_rate                   </td><td>  0.00                     </td><td> 0.00                      </td><td>   542                     </td><td>0.1%                       </td></tr>\n",
       "\t<tr><td>dti_joint                  </td><td>  0.00                     </td><td>99.94                      </td><td>   449                     </td><td>0.1%                       </td></tr>\n",
       "\t<tr><td>annual_inc_joint           </td><td>  0.00                     </td><td>99.94                      </td><td>   308                     </td><td>0.0%                       </td></tr>\n",
       "\t<tr><td>mths_since_rcnt_il         </td><td>  0.00                     </td><td>97.65                      </td><td>   201                     </td><td>0.0%                       </td></tr>\n",
       "\t<tr><td>mths_since_last_major_derog</td><td>  0.02                     </td><td>75.02                      </td><td>   168                     </td><td>0.0%                       </td></tr>\n",
       "\t<tr><td>mths_since_last_delinq     </td><td>  0.19                     </td><td>51.20                      </td><td>   155                     </td><td>0.0%                       </td></tr>\n",
       "\t<tr><td>total_acc                  </td><td>  0.00                     </td><td> 0.00                      </td><td>   135                     </td><td>0.0%                       </td></tr>\n",
       "\t<tr><td>mths_since_last_record     </td><td>  0.14                     </td><td>84.56                      </td><td>   123                     </td><td>0.0%                       </td></tr>\n",
       "\t<tr><td>open_acc                   </td><td>  0.00                     </td><td> 0.00                      </td><td>    77                     </td><td>0.0%                       </td></tr>\n",
       "\t<tr><td>open_il_6m                 </td><td>  0.26                     </td><td>97.59                      </td><td>    35                     </td><td>0.0%                       </td></tr>\n",
       "\t<tr><td>total_cu_tl                </td><td>  1.29                     </td><td>97.59                      </td><td>    33                     </td><td>0.0%                       </td></tr>\n",
       "\t<tr><td>pub_rec                    </td><td> 84.70                     </td><td> 0.00                      </td><td>    32                     </td><td>0.0%                       </td></tr>\n",
       "\t<tr><td>delinq_2yrs                </td><td> 80.80                     </td><td> 0.00                      </td><td>    29                     </td><td>0.0%                       </td></tr>\n",
       "\t<tr><td>inq_last_12m               </td><td>  0.45                     </td><td>97.59                      </td><td>    29                     </td><td>0.0%                       </td></tr>\n",
       "\t<tr><td>inq_last_6mths             </td><td> 56.11                     </td><td> 0.00                      </td><td>    28                     </td><td>0.0%                       </td></tr>\n",
       "\t<tr><td>open_rv_24m                </td><td>  0.32                     </td><td>97.59                      </td><td>    28                     </td><td>0.0%                       </td></tr>\n",
       "\t<tr><td>open_rv_12m                </td><td>  0.80                     </td><td>97.59                      </td><td>    18                     </td><td>0.0%                       </td></tr>\n",
       "\t<tr><td>inq_fi                     </td><td>  1.29                     </td><td>97.59                      </td><td>    18                     </td><td>0.0%                       </td></tr>\n",
       "\t<tr><td>open_il_24m                </td><td>  0.62                     </td><td>97.59                      </td><td>    17                     </td><td>0.0%                       </td></tr>\n",
       "\t<tr><td>open_acc_6m                </td><td>  0.93                     </td><td>97.59                      </td><td>    13                     </td><td>0.0%                       </td></tr>\n",
       "\t<tr><td>collections_12_mths_ex_med </td><td> 98.67                     </td><td> 0.02                      </td><td>    12                     </td><td>0.0%                       </td></tr>\n",
       "\t<tr><td>open_il_12m                </td><td>  1.22                     </td><td>97.59                      </td><td>    12                     </td><td>0.0%                       </td></tr>\n",
       "\t<tr><td>acc_now_delinq             </td><td> 99.53                     </td><td> 0.00                      </td><td>     8                     </td><td>0.0%                       </td></tr>\n",
       "\t<tr><td>pymnt_plan                 </td><td>100.00                     </td><td> 0.00                      </td><td>     2                     </td><td>0.0%                       </td></tr>\n",
       "\t<tr><td>application_type           </td><td> 99.94                     </td><td> 0.00                      </td><td>     2                     </td><td>0.0%                       </td></tr>\n",
       "\t<tr><td>initial_list_status        </td><td> 48.52                     </td><td> 0.00                      </td><td>     2                     </td><td>0.0%                       </td></tr>\n",
       "\t<tr><td>term                       </td><td> 70.00                     </td><td> 0.00                      </td><td>     2                     </td><td>0.0%                       </td></tr>\n",
       "\t<tr><td>policy_code                </td><td>  0.00                     </td><td> 0.00                      </td><td>     1                     </td><td>0.0%                       </td></tr>\n",
       "</tbody>\n",
       "</table>\n"
      ],
      "text/latex": [
       "\\begin{tabular}{r|lllll}\n",
       " variable & p\\_zeros & p\\_na & unique & uniq\\_rat\\\\\n",
       "\\hline\n",
       "\t loan\\_id                     &   0.00                        &  0.00                         & 887382                        & 100.0\\%                     \\\\\n",
       "\t member\\_id                   &   0.00                        &  0.00                         & 887382                        & 100.0\\%                     \\\\\n",
       "\t total\\_pymnt                 &   2.00                        &  0.00                         & 509124                        & 57.4\\%                      \\\\\n",
       "\t total\\_pymnt\\_inv             &   2.03                          &  0.00                           & 506619                          & 57.1\\%                        \\\\\n",
       "\t tot\\_cur\\_bal                 &   0.01                          &  7.92                           & 327342                          & 36.9\\%                        \\\\\n",
       "\t total\\_rec\\_int               &   2.05                          &  0.00                           & 324636                          & 36.6\\%                        \\\\\n",
       "\t out\\_prncp\\_inv               &  28.83                          &  0.00                           & 266245                          & 30.0\\%                        \\\\\n",
       "\t total\\_rec\\_prncp             &   2.04                          &  0.00                           & 260228                          & 29.3\\%                        \\\\\n",
       "\t out\\_prncp                   &  28.83                        &  0.00                         & 248333                        & 28.0\\%                      \\\\\n",
       "\t last\\_pymnt\\_amnt             &   1.99                          &  0.00                           & 232452                          & 26.2\\%                        \\\\\n",
       "\t revol\\_bal                   &   0.38                        &  0.00                         &  73740                        & 8.3\\%                       \\\\\n",
       "\t installment                 &   0.00                      &  0.00                       &  68711                      & 7.7\\%                     \\\\\n",
       "\t annual\\_inc                  &   0.00                        &  0.00                         &  49384                        & 5.6\\%                       \\\\\n",
       "\t recoveries                  &  97.22                      &  0.00                       &  23055                      & 2.6\\%                     \\\\\n",
       "\t total\\_rev\\_hi\\_lim            &   0.03                            &  7.92                             &  21251                            & 2.4\\%                           \\\\\n",
       "\t collection\\_recovery\\_fee     &  97.35                          &  0.00                           &  20721                          & 2.3\\%                         \\\\\n",
       "\t total\\_bal\\_il                &   0.25                          & 97.59                           &  17030                          & 1.9\\%                         \\\\\n",
       "\t max\\_bal\\_bc                  &   0.05                          & 97.59                           &  10707                          & 1.2\\%                         \\\\\n",
       "\t tot\\_coll\\_amt                &  78.99                          &  7.92                           &  10325                          & 1.2\\%                         \\\\\n",
       "\t funded\\_amnt\\_inv             &   0.03                          &  0.00                           &   9856                          & 1.1\\%                         \\\\\n",
       "\t total\\_rec\\_late\\_fee          &  98.59                            &  0.00                             &   6200                            & 0.7\\%                           \\\\\n",
       "\t dti                         &   0.05                      &  0.00                       &   4086                      & 0.5\\%                     \\\\\n",
       "\t loan\\_amnt                   &   0.00                        &  0.00                         &   1372                        & 0.2\\%                       \\\\\n",
       "\t funded\\_amnt                 &   0.00                        &  0.00                         &   1372                        & 0.2\\%                       \\\\\n",
       "\t revol\\_util                  &   0.40                        &  0.06                         &   1356                        & 0.2\\%                       \\\\\n",
       "\t il\\_util                     &   0.02                        & 97.90                         &   1272                        & 0.1\\%                       \\\\\n",
       "\t all\\_util                    &   0.00                        & 97.59                         &   1128                        & 0.1\\%                       \\\\\n",
       "\t int\\_rate                    &   0.00                        &  0.00                         &    542                        & 0.1\\%                       \\\\\n",
       "\t dti\\_joint                   &   0.00                        & 99.94                         &    449                        & 0.1\\%                       \\\\\n",
       "\t annual\\_inc\\_joint            &   0.00                          & 99.94                           &    308                          & 0.0\\%                         \\\\\n",
       "\t mths\\_since\\_rcnt\\_il          &   0.00                            & 97.65                             &    201                            & 0.0\\%                           \\\\\n",
       "\t mths\\_since\\_last\\_major\\_derog &   0.02                              & 75.02                               &    168                              & 0.0\\%                             \\\\\n",
       "\t mths\\_since\\_last\\_delinq      &   0.19                            & 51.20                             &    155                            & 0.0\\%                           \\\\\n",
       "\t total\\_acc                   &   0.00                        &  0.00                         &    135                        & 0.0\\%                       \\\\\n",
       "\t mths\\_since\\_last\\_record      &   0.14                            & 84.56                             &    123                            & 0.0\\%                           \\\\\n",
       "\t open\\_acc                    &   0.00                        &  0.00                         &     77                        & 0.0\\%                       \\\\\n",
       "\t open\\_il\\_6m                  &   0.26                          & 97.59                           &     35                          & 0.0\\%                         \\\\\n",
       "\t total\\_cu\\_tl                 &   1.29                          & 97.59                           &     33                          & 0.0\\%                         \\\\\n",
       "\t pub\\_rec                     &  84.70                        &  0.00                         &     32                        & 0.0\\%                       \\\\\n",
       "\t delinq\\_2yrs                 &  80.80                        &  0.00                         &     29                        & 0.0\\%                       \\\\\n",
       "\t inq\\_last\\_12m                &   0.45                          & 97.59                           &     29                          & 0.0\\%                         \\\\\n",
       "\t inq\\_last\\_6mths              &  56.11                          &  0.00                           &     28                          & 0.0\\%                         \\\\\n",
       "\t open\\_rv\\_24m                 &   0.32                          & 97.59                           &     28                          & 0.0\\%                         \\\\\n",
       "\t open\\_rv\\_12m                 &   0.80                          & 97.59                           &     18                          & 0.0\\%                         \\\\\n",
       "\t inq\\_fi                      &   1.29                        & 97.59                         &     18                        & 0.0\\%                       \\\\\n",
       "\t open\\_il\\_24m                 &   0.62                          & 97.59                           &     17                          & 0.0\\%                         \\\\\n",
       "\t open\\_acc\\_6m                 &   0.93                          & 97.59                           &     13                          & 0.0\\%                         \\\\\n",
       "\t collections\\_12\\_mths\\_ex\\_med  &  98.67                              &  0.02                               &     12                              & 0.0\\%                             \\\\\n",
       "\t open\\_il\\_12m                 &   1.22                          & 97.59                           &     12                          & 0.0\\%                         \\\\\n",
       "\t acc\\_now\\_delinq              &  99.53                          &  0.00                           &      8                          & 0.0\\%                         \\\\\n",
       "\t pymnt\\_plan                  & 100.00                        &  0.00                         &      2                        & 0.0\\%                       \\\\\n",
       "\t application\\_type            &  99.94                        &  0.00                         &      2                        & 0.0\\%                       \\\\\n",
       "\t initial\\_list\\_status         &  48.52                          &  0.00                           &      2                          & 0.0\\%                         \\\\\n",
       "\t term                        &  70.00                      &  0.00                       &      2                      & 0.0\\%                     \\\\\n",
       "\t policy\\_code                 &   0.00                        &  0.00                         &      1                        & 0.0\\%                       \\\\\n",
       "\\end{tabular}\n"
      ],
      "text/markdown": [
       "\n",
       "variable | p_zeros | p_na | unique | uniq_rat | \n",
       "|---|---|---|---|---|---|---|---|---|---|---|---|---|---|---|---|---|---|---|---|---|---|---|---|---|---|---|---|---|---|---|---|---|---|---|---|---|---|---|---|---|---|---|---|---|---|---|---|---|---|---|---|---|---|---|\n",
       "| loan_id                     |   0.00                      |  0.00                       | 887382                      | 100.0%                      | \n",
       "| member_id                   |   0.00                      |  0.00                       | 887382                      | 100.0%                      | \n",
       "| total_pymnt                 |   2.00                      |  0.00                       | 509124                      | 57.4%                       | \n",
       "| total_pymnt_inv             |   2.03                      |  0.00                       | 506619                      | 57.1%                       | \n",
       "| tot_cur_bal                 |   0.01                      |  7.92                       | 327342                      | 36.9%                       | \n",
       "| total_rec_int               |   2.05                      |  0.00                       | 324636                      | 36.6%                       | \n",
       "| out_prncp_inv               |  28.83                      |  0.00                       | 266245                      | 30.0%                       | \n",
       "| total_rec_prncp             |   2.04                      |  0.00                       | 260228                      | 29.3%                       | \n",
       "| out_prncp                   |  28.83                      |  0.00                       | 248333                      | 28.0%                       | \n",
       "| last_pymnt_amnt             |   1.99                      |  0.00                       | 232452                      | 26.2%                       | \n",
       "| revol_bal                   |   0.38                      |  0.00                       |  73740                      | 8.3%                        | \n",
       "| installment                 |   0.00                      |  0.00                       |  68711                      | 7.7%                        | \n",
       "| annual_inc                  |   0.00                      |  0.00                       |  49384                      | 5.6%                        | \n",
       "| recoveries                  |  97.22                      |  0.00                       |  23055                      | 2.6%                        | \n",
       "| total_rev_hi_lim            |   0.03                      |  7.92                       |  21251                      | 2.4%                        | \n",
       "| collection_recovery_fee     |  97.35                      |  0.00                       |  20721                      | 2.3%                        | \n",
       "| total_bal_il                |   0.25                      | 97.59                       |  17030                      | 1.9%                        | \n",
       "| max_bal_bc                  |   0.05                      | 97.59                       |  10707                      | 1.2%                        | \n",
       "| tot_coll_amt                |  78.99                      |  7.92                       |  10325                      | 1.2%                        | \n",
       "| funded_amnt_inv             |   0.03                      |  0.00                       |   9856                      | 1.1%                        | \n",
       "| total_rec_late_fee          |  98.59                      |  0.00                       |   6200                      | 0.7%                        | \n",
       "| dti                         |   0.05                      |  0.00                       |   4086                      | 0.5%                        | \n",
       "| loan_amnt                   |   0.00                      |  0.00                       |   1372                      | 0.2%                        | \n",
       "| funded_amnt                 |   0.00                      |  0.00                       |   1372                      | 0.2%                        | \n",
       "| revol_util                  |   0.40                      |  0.06                       |   1356                      | 0.2%                        | \n",
       "| il_util                     |   0.02                      | 97.90                       |   1272                      | 0.1%                        | \n",
       "| all_util                    |   0.00                      | 97.59                       |   1128                      | 0.1%                        | \n",
       "| int_rate                    |   0.00                      |  0.00                       |    542                      | 0.1%                        | \n",
       "| dti_joint                   |   0.00                      | 99.94                       |    449                      | 0.1%                        | \n",
       "| annual_inc_joint            |   0.00                      | 99.94                       |    308                      | 0.0%                        | \n",
       "| mths_since_rcnt_il          |   0.00                      | 97.65                       |    201                      | 0.0%                        | \n",
       "| mths_since_last_major_derog |   0.02                      | 75.02                       |    168                      | 0.0%                        | \n",
       "| mths_since_last_delinq      |   0.19                      | 51.20                       |    155                      | 0.0%                        | \n",
       "| total_acc                   |   0.00                      |  0.00                       |    135                      | 0.0%                        | \n",
       "| mths_since_last_record      |   0.14                      | 84.56                       |    123                      | 0.0%                        | \n",
       "| open_acc                    |   0.00                      |  0.00                       |     77                      | 0.0%                        | \n",
       "| open_il_6m                  |   0.26                      | 97.59                       |     35                      | 0.0%                        | \n",
       "| total_cu_tl                 |   1.29                      | 97.59                       |     33                      | 0.0%                        | \n",
       "| pub_rec                     |  84.70                      |  0.00                       |     32                      | 0.0%                        | \n",
       "| delinq_2yrs                 |  80.80                      |  0.00                       |     29                      | 0.0%                        | \n",
       "| inq_last_12m                |   0.45                      | 97.59                       |     29                      | 0.0%                        | \n",
       "| inq_last_6mths              |  56.11                      |  0.00                       |     28                      | 0.0%                        | \n",
       "| open_rv_24m                 |   0.32                      | 97.59                       |     28                      | 0.0%                        | \n",
       "| open_rv_12m                 |   0.80                      | 97.59                       |     18                      | 0.0%                        | \n",
       "| inq_fi                      |   1.29                      | 97.59                       |     18                      | 0.0%                        | \n",
       "| open_il_24m                 |   0.62                      | 97.59                       |     17                      | 0.0%                        | \n",
       "| open_acc_6m                 |   0.93                      | 97.59                       |     13                      | 0.0%                        | \n",
       "| collections_12_mths_ex_med  |  98.67                      |  0.02                       |     12                      | 0.0%                        | \n",
       "| open_il_12m                 |   1.22                      | 97.59                       |     12                      | 0.0%                        | \n",
       "| acc_now_delinq              |  99.53                      |  0.00                       |      8                      | 0.0%                        | \n",
       "| pymnt_plan                  | 100.00                      |  0.00                       |      2                      | 0.0%                        | \n",
       "| application_type            |  99.94                      |  0.00                       |      2                      | 0.0%                        | \n",
       "| initial_list_status         |  48.52                      |  0.00                       |      2                      | 0.0%                        | \n",
       "| term                        |  70.00                      |  0.00                       |      2                      | 0.0%                        | \n",
       "| policy_code                 |   0.00                      |  0.00                       |      1                      | 0.0%                        | \n",
       "\n",
       "\n"
      ],
      "text/plain": [
       "   variable                    p_zeros p_na  unique uniq_rat\n",
       "1  loan_id                       0.00   0.00 887382 100.0%  \n",
       "2  member_id                     0.00   0.00 887382 100.0%  \n",
       "3  total_pymnt                   2.00   0.00 509124 57.4%   \n",
       "4  total_pymnt_inv               2.03   0.00 506619 57.1%   \n",
       "5  tot_cur_bal                   0.01   7.92 327342 36.9%   \n",
       "6  total_rec_int                 2.05   0.00 324636 36.6%   \n",
       "7  out_prncp_inv                28.83   0.00 266245 30.0%   \n",
       "8  total_rec_prncp               2.04   0.00 260228 29.3%   \n",
       "9  out_prncp                    28.83   0.00 248333 28.0%   \n",
       "10 last_pymnt_amnt               1.99   0.00 232452 26.2%   \n",
       "11 revol_bal                     0.38   0.00  73740 8.3%    \n",
       "12 installment                   0.00   0.00  68711 7.7%    \n",
       "13 annual_inc                    0.00   0.00  49384 5.6%    \n",
       "14 recoveries                   97.22   0.00  23055 2.6%    \n",
       "15 total_rev_hi_lim              0.03   7.92  21251 2.4%    \n",
       "16 collection_recovery_fee      97.35   0.00  20721 2.3%    \n",
       "17 total_bal_il                  0.25  97.59  17030 1.9%    \n",
       "18 max_bal_bc                    0.05  97.59  10707 1.2%    \n",
       "19 tot_coll_amt                 78.99   7.92  10325 1.2%    \n",
       "20 funded_amnt_inv               0.03   0.00   9856 1.1%    \n",
       "21 total_rec_late_fee           98.59   0.00   6200 0.7%    \n",
       "22 dti                           0.05   0.00   4086 0.5%    \n",
       "23 loan_amnt                     0.00   0.00   1372 0.2%    \n",
       "24 funded_amnt                   0.00   0.00   1372 0.2%    \n",
       "25 revol_util                    0.40   0.06   1356 0.2%    \n",
       "26 il_util                       0.02  97.90   1272 0.1%    \n",
       "27 all_util                      0.00  97.59   1128 0.1%    \n",
       "28 int_rate                      0.00   0.00    542 0.1%    \n",
       "29 dti_joint                     0.00  99.94    449 0.1%    \n",
       "30 annual_inc_joint              0.00  99.94    308 0.0%    \n",
       "31 mths_since_rcnt_il            0.00  97.65    201 0.0%    \n",
       "32 mths_since_last_major_derog   0.02  75.02    168 0.0%    \n",
       "33 mths_since_last_delinq        0.19  51.20    155 0.0%    \n",
       "34 total_acc                     0.00   0.00    135 0.0%    \n",
       "35 mths_since_last_record        0.14  84.56    123 0.0%    \n",
       "36 open_acc                      0.00   0.00     77 0.0%    \n",
       "37 open_il_6m                    0.26  97.59     35 0.0%    \n",
       "38 total_cu_tl                   1.29  97.59     33 0.0%    \n",
       "39 pub_rec                      84.70   0.00     32 0.0%    \n",
       "40 delinq_2yrs                  80.80   0.00     29 0.0%    \n",
       "41 inq_last_12m                  0.45  97.59     29 0.0%    \n",
       "42 inq_last_6mths               56.11   0.00     28 0.0%    \n",
       "43 open_rv_24m                   0.32  97.59     28 0.0%    \n",
       "44 open_rv_12m                   0.80  97.59     18 0.0%    \n",
       "45 inq_fi                        1.29  97.59     18 0.0%    \n",
       "46 open_il_24m                   0.62  97.59     17 0.0%    \n",
       "47 open_acc_6m                   0.93  97.59     13 0.0%    \n",
       "48 collections_12_mths_ex_med   98.67   0.02     12 0.0%    \n",
       "49 open_il_12m                   1.22  97.59     12 0.0%    \n",
       "50 acc_now_delinq               99.53   0.00      8 0.0%    \n",
       "51 pymnt_plan                  100.00   0.00      2 0.0%    \n",
       "52 application_type             99.94   0.00      2 0.0%    \n",
       "53 initial_list_status          48.52   0.00      2 0.0%    \n",
       "54 term                         70.00   0.00      2 0.0%    \n",
       "55 policy_code                   0.00   0.00      1 0.0%    "
      ]
     },
     "metadata": {},
     "output_type": "display_data"
    }
   ],
   "source": [
    "meta_loans %>%\n",
    "  select(variable, p_zeros, p_na, unique, uniq_rat) %>%\n",
    "  mutate(unique = unique, uniq_rat = scales::percent(uniq_rat))%>% filter_(~ variable %in% num_vars)%>% arrange(desc(unique))"
   ]
  },
  {
   "cell_type": "markdown",
   "metadata": {},
   "source": [
    "<h3>Excluding Columns (1)</h3>\n",
    "<ol>\n",
    "<li>It seems the data has<strong> two unique identifiers</strong> <span style=\"text-decoration: underline; color: #0000ff;\">loan_id</span> and <span style=\"text-decoration: underline; color: #0000ff;\">member_id</span>.<br /> We using them only for joins between loans and loaners tables. So we can drop one of them.</li>\n",
    "<li>The <span style=\"text-decoration: underline; color: #0000ff;\">Url</span> column is 100% unique. <br /> By Lending Club Definition File - URL for the LC page with listing data.<br /> This data is not meaningfull for model purposes.</li>\n",
    "<li><span style=\"text-decoration: underline; color: #0000ff;\">Policy code</span> has only one unique value.<br /> By Lending Club Definition File <br />publicly available policy_code=1<br /> new products not publicly available policy_code=2<br /> So we don't have rows with policy_code=2.</li>\n",
    "<li>An attribute <span style=\"text-decoration: underline; color: #0000ff;\">emp_title </span>has over 30% unique values, it seems borrowers are free to describe their employment title. <br /><em><span style=\"text-decoration: underline;\">Note:</span> </em>In a more sophisticated modeling , may be used to checking the strings for &ldquo;indicator words&rdquo; that may be associated with an honest or a dishonest (credible / non-credible) candidate.</li>\n",
    "</ol>"
   ]
  },
  {
   "cell_type": "code",
   "execution_count": 62,
   "metadata": {},
   "outputs": [
    {
     "data": {
      "text/html": [
       "74"
      ],
      "text/latex": [
       "74"
      ],
      "text/markdown": [
       "74"
      ],
      "text/plain": [
       "[1] 74"
      ]
     },
     "metadata": {},
     "output_type": "display_data"
    },
    {
     "data": {
      "text/html": [
       "70"
      ],
      "text/latex": [
       "70"
      ],
      "text/markdown": [
       "70"
      ],
      "text/plain": [
       "[1] 70"
      ]
     },
     "metadata": {},
     "output_type": "display_data"
    }
   ],
   "source": [
    "excludeColumns <- function(data,colv) {\n",
    "    for(n in colv) {\n",
    "        data[[n]] <- NULL\n",
    "    }\n",
    "    return(data)\n",
    "}\n",
    "exclude <- c(\"member_id\",\"url\",\"emp_title\",\"policy_code\")\n",
    "ncol(loans)\n",
    "loans <- excludeColumns(loans,exclude)\n",
    "ncol(loans)"
   ]
  },
  {
   "cell_type": "code",
   "execution_count": 63,
   "metadata": {},
   "outputs": [],
   "source": [
    "excludeUniqueValue <- function(data) {\n",
    "    nm <- names(data)\n",
    "    res <- NULL\n",
    "    for(n in nm) {\n",
    "        if(length(unique(data[[n]]))==1) {\n",
    "            data[[n]] <- NULL\n",
    "            res <- c(res, n)\n",
    "            print(n)\n",
    "        }\n",
    "    }\n",
    "    if(length(res) > 0) {\n",
    "        message(\"The following variables had only one unique values and were removed\")\n",
    "        message(res)\n",
    "    }\n",
    "    return(data)\n",
    "}"
   ]
  },
  {
   "cell_type": "code",
   "execution_count": 33,
   "metadata": {},
   "outputs": [
    {
     "data": {
      "text/html": [
       "<table>\n",
       "<thead><tr><th scope=col>variable</th><th scope=col>p_zeros</th><th scope=col>p_na</th><th scope=col>unique</th></tr></thead>\n",
       "<tbody>\n",
       "\t<tr><td>verification_status_joint  </td><td> 0.00                      </td><td>99.94                      </td><td>     3                     </td></tr>\n",
       "\t<tr><td>annual_inc_joint           </td><td> 0.00                      </td><td>99.94                      </td><td>   308                     </td></tr>\n",
       "\t<tr><td>dti_joint                  </td><td> 0.00                      </td><td>99.94                      </td><td>   449                     </td></tr>\n",
       "\t<tr><td>il_util                    </td><td> 0.02                      </td><td>97.90                      </td><td>  1272                     </td></tr>\n",
       "\t<tr><td>mths_since_rcnt_il         </td><td> 0.00                      </td><td>97.65                      </td><td>   201                     </td></tr>\n",
       "\t<tr><td>open_acc_6m                </td><td> 0.93                      </td><td>97.59                      </td><td>    13                     </td></tr>\n",
       "\t<tr><td>open_il_6m                 </td><td> 0.26                      </td><td>97.59                      </td><td>    35                     </td></tr>\n",
       "\t<tr><td>open_il_12m                </td><td> 1.22                      </td><td>97.59                      </td><td>    12                     </td></tr>\n",
       "\t<tr><td>open_il_24m                </td><td> 0.62                      </td><td>97.59                      </td><td>    17                     </td></tr>\n",
       "\t<tr><td>total_bal_il               </td><td> 0.25                      </td><td>97.59                      </td><td> 17030                     </td></tr>\n",
       "\t<tr><td>open_rv_12m                </td><td> 0.80                      </td><td>97.59                      </td><td>    18                     </td></tr>\n",
       "\t<tr><td>open_rv_24m                </td><td> 0.32                      </td><td>97.59                      </td><td>    28                     </td></tr>\n",
       "\t<tr><td>max_bal_bc                 </td><td> 0.05                      </td><td>97.59                      </td><td> 10707                     </td></tr>\n",
       "\t<tr><td>all_util                   </td><td> 0.00                      </td><td>97.59                      </td><td>  1128                     </td></tr>\n",
       "\t<tr><td>inq_fi                     </td><td> 1.29                      </td><td>97.59                      </td><td>    18                     </td></tr>\n",
       "\t<tr><td>total_cu_tl                </td><td> 1.29                      </td><td>97.59                      </td><td>    33                     </td></tr>\n",
       "\t<tr><td>inq_last_12m               </td><td> 0.45                      </td><td>97.59                      </td><td>    29                     </td></tr>\n",
       "\t<tr><td>loanDesc                   </td><td> 0.00                      </td><td>85.80                      </td><td>124470                     </td></tr>\n",
       "\t<tr><td>mths_since_last_record     </td><td> 0.14                      </td><td>84.56                      </td><td>   123                     </td></tr>\n",
       "\t<tr><td>mths_since_last_major_derog</td><td> 0.02                      </td><td>75.02                      </td><td>   168                     </td></tr>\n",
       "\t<tr><td>mths_since_last_delinq     </td><td> 0.19                      </td><td>51.20                      </td><td>   155                     </td></tr>\n",
       "\t<tr><td>next_pymnt_d               </td><td> 0.00                      </td><td>28.51                      </td><td>   100                     </td></tr>\n",
       "\t<tr><td>tot_coll_amt               </td><td>78.99                      </td><td> 7.92                      </td><td> 10325                     </td></tr>\n",
       "\t<tr><td>tot_cur_bal                </td><td> 0.01                      </td><td> 7.92                      </td><td>327342                     </td></tr>\n",
       "\t<tr><td>total_rev_hi_lim           </td><td> 0.03                      </td><td> 7.92                      </td><td> 21251                     </td></tr>\n",
       "\t<tr><td>emp_title                  </td><td> 0.00                      </td><td> 5.80                      </td><td>299272                     </td></tr>\n",
       "\t<tr><td>last_pymnt_d               </td><td> 0.00                      </td><td> 1.99                      </td><td>    98                     </td></tr>\n",
       "\t<tr><td>revol_util                 </td><td> 0.40                      </td><td> 0.06                      </td><td>  1356                     </td></tr>\n",
       "\t<tr><td>title                      </td><td> 0.00                      </td><td> 0.02                      </td><td> 63145                     </td></tr>\n",
       "\t<tr><td>collections_12_mths_ex_med </td><td>98.67                      </td><td> 0.02                      </td><td>    12                     </td></tr>\n",
       "\t<tr><td>...</td><td>...</td><td>...</td><td>...</td></tr>\n",
       "\t<tr><td>emp_length             </td><td> 0.00                  </td><td>0                      </td><td>    12                 </td></tr>\n",
       "\t<tr><td>zip_code               </td><td> 0.00                  </td><td>0                      </td><td>   935                 </td></tr>\n",
       "\t<tr><td>addr_state             </td><td> 0.00                  </td><td>0                      </td><td>    51                 </td></tr>\n",
       "\t<tr><td>loan_amnt              </td><td> 0.00                  </td><td>0                      </td><td>  1372                 </td></tr>\n",
       "\t<tr><td>funded_amnt            </td><td> 0.00                  </td><td>0                      </td><td>  1372                 </td></tr>\n",
       "\t<tr><td>funded_amnt_inv        </td><td> 0.03                  </td><td>0                      </td><td>  9856                 </td></tr>\n",
       "\t<tr><td>term                   </td><td>70.00                  </td><td>0                      </td><td>     2                 </td></tr>\n",
       "\t<tr><td>int_rate               </td><td> 0.00                  </td><td>0                      </td><td>   542                 </td></tr>\n",
       "\t<tr><td>installment            </td><td> 0.00                  </td><td>0                      </td><td> 68711                 </td></tr>\n",
       "\t<tr><td>out_prncp              </td><td>28.83                  </td><td>0                      </td><td>248333                 </td></tr>\n",
       "\t<tr><td>out_prncp_inv          </td><td>28.83                  </td><td>0                      </td><td>266245                 </td></tr>\n",
       "\t<tr><td>total_pymnt            </td><td> 2.00                  </td><td>0                      </td><td>509124                 </td></tr>\n",
       "\t<tr><td>total_pymnt_inv        </td><td> 2.03                  </td><td>0                      </td><td>506619                 </td></tr>\n",
       "\t<tr><td>total_rec_prncp        </td><td> 2.04                  </td><td>0                      </td><td>260228                 </td></tr>\n",
       "\t<tr><td>total_rec_int          </td><td> 2.05                  </td><td>0                      </td><td>324636                 </td></tr>\n",
       "\t<tr><td>total_rec_late_fee     </td><td>98.59                  </td><td>0                      </td><td>  6200                 </td></tr>\n",
       "\t<tr><td>recoveries             </td><td>97.22                  </td><td>0                      </td><td> 23055                 </td></tr>\n",
       "\t<tr><td>collection_recovery_fee</td><td>97.35                  </td><td>0                      </td><td> 20721                 </td></tr>\n",
       "\t<tr><td>last_pymnt_amnt        </td><td> 1.99                  </td><td>0                      </td><td>232452                 </td></tr>\n",
       "\t<tr><td>home_ownership         </td><td> 0.00                  </td><td>0                      </td><td>     6                 </td></tr>\n",
       "\t<tr><td>annual_inc             </td><td> 0.00                  </td><td>0                      </td><td> 49384                 </td></tr>\n",
       "\t<tr><td>dti                    </td><td> 0.05                  </td><td>0                      </td><td>  4086                 </td></tr>\n",
       "\t<tr><td>delinq_2yrs            </td><td>80.80                  </td><td>0                      </td><td>    29                 </td></tr>\n",
       "\t<tr><td>acc_now_delinq         </td><td>99.53                  </td><td>0                      </td><td>     8                 </td></tr>\n",
       "\t<tr><td>earliest_cr_line       </td><td> 0.01                  </td><td>0                      </td><td>   697                 </td></tr>\n",
       "\t<tr><td>inq_last_6mths         </td><td>56.11                  </td><td>0                      </td><td>    28                 </td></tr>\n",
       "\t<tr><td>open_acc               </td><td> 0.00                  </td><td>0                      </td><td>    77                 </td></tr>\n",
       "\t<tr><td>pub_rec                </td><td>84.70                  </td><td>0                      </td><td>    32                 </td></tr>\n",
       "\t<tr><td>revol_bal              </td><td> 0.38                  </td><td>0                      </td><td> 73740                 </td></tr>\n",
       "\t<tr><td>total_acc              </td><td> 0.00                  </td><td>0                      </td><td>   135                 </td></tr>\n",
       "</tbody>\n",
       "</table>\n"
      ],
      "text/latex": [
       "\\begin{tabular}{r|llll}\n",
       " variable & p\\_zeros & p\\_na & unique\\\\\n",
       "\\hline\n",
       "\t verification\\_status\\_joint   &  0.00                           & 99.94                           &      3                         \\\\\n",
       "\t annual\\_inc\\_joint            &  0.00                           & 99.94                           &    308                         \\\\\n",
       "\t dti\\_joint                   &  0.00                         & 99.94                         &    449                       \\\\\n",
       "\t il\\_util                     &  0.02                         & 97.90                         &   1272                       \\\\\n",
       "\t mths\\_since\\_rcnt\\_il          &  0.00                             & 97.65                             &    201                           \\\\\n",
       "\t open\\_acc\\_6m                 &  0.93                           & 97.59                           &     13                         \\\\\n",
       "\t open\\_il\\_6m                  &  0.26                           & 97.59                           &     35                         \\\\\n",
       "\t open\\_il\\_12m                 &  1.22                           & 97.59                           &     12                         \\\\\n",
       "\t open\\_il\\_24m                 &  0.62                           & 97.59                           &     17                         \\\\\n",
       "\t total\\_bal\\_il                &  0.25                           & 97.59                           &  17030                         \\\\\n",
       "\t open\\_rv\\_12m                 &  0.80                           & 97.59                           &     18                         \\\\\n",
       "\t open\\_rv\\_24m                 &  0.32                           & 97.59                           &     28                         \\\\\n",
       "\t max\\_bal\\_bc                  &  0.05                           & 97.59                           &  10707                         \\\\\n",
       "\t all\\_util                    &  0.00                         & 97.59                         &   1128                       \\\\\n",
       "\t inq\\_fi                      &  1.29                         & 97.59                         &     18                       \\\\\n",
       "\t total\\_cu\\_tl                 &  1.29                           & 97.59                           &     33                         \\\\\n",
       "\t inq\\_last\\_12m                &  0.45                           & 97.59                           &     29                         \\\\\n",
       "\t loanDesc                    &  0.00                       & 85.80                       & 124470                     \\\\\n",
       "\t mths\\_since\\_last\\_record      &  0.14                             & 84.56                             &    123                           \\\\\n",
       "\t mths\\_since\\_last\\_major\\_derog &  0.02                               & 75.02                               &    168                             \\\\\n",
       "\t mths\\_since\\_last\\_delinq      &  0.19                             & 51.20                             &    155                           \\\\\n",
       "\t next\\_pymnt\\_d                &  0.00                           & 28.51                           &    100                         \\\\\n",
       "\t tot\\_coll\\_amt                & 78.99                           &  7.92                           &  10325                         \\\\\n",
       "\t tot\\_cur\\_bal                 &  0.01                           &  7.92                           & 327342                         \\\\\n",
       "\t total\\_rev\\_hi\\_lim            &  0.03                             &  7.92                             &  21251                           \\\\\n",
       "\t emp\\_title                   &  0.00                         &  5.80                         & 299272                       \\\\\n",
       "\t last\\_pymnt\\_d                &  0.00                           &  1.99                           &     98                         \\\\\n",
       "\t revol\\_util                  &  0.40                         &  0.06                         &   1356                       \\\\\n",
       "\t title                       &  0.00                       &  0.02                       &  63145                     \\\\\n",
       "\t collections\\_12\\_mths\\_ex\\_med  & 98.67                               &  0.02                               &     12                             \\\\\n",
       "\t ... & ... & ... & ...\\\\\n",
       "\t emp\\_length              &  0.00                     & 0                         &     12                   \\\\\n",
       "\t zip\\_code                &  0.00                     & 0                         &    935                   \\\\\n",
       "\t addr\\_state              &  0.00                     & 0                         &     51                   \\\\\n",
       "\t loan\\_amnt               &  0.00                     & 0                         &   1372                   \\\\\n",
       "\t funded\\_amnt             &  0.00                     & 0                         &   1372                   \\\\\n",
       "\t funded\\_amnt\\_inv         &  0.03                       & 0                           &   9856                     \\\\\n",
       "\t term                    & 70.00                   & 0                       &      2                 \\\\\n",
       "\t int\\_rate                &  0.00                     & 0                         &    542                   \\\\\n",
       "\t installment             &  0.00                   & 0                       &  68711                 \\\\\n",
       "\t out\\_prncp               & 28.83                     & 0                         & 248333                   \\\\\n",
       "\t out\\_prncp\\_inv           & 28.83                       & 0                           & 266245                     \\\\\n",
       "\t total\\_pymnt             &  2.00                     & 0                         & 509124                   \\\\\n",
       "\t total\\_pymnt\\_inv         &  2.03                       & 0                           & 506619                     \\\\\n",
       "\t total\\_rec\\_prncp         &  2.04                       & 0                           & 260228                     \\\\\n",
       "\t total\\_rec\\_int           &  2.05                       & 0                           & 324636                     \\\\\n",
       "\t total\\_rec\\_late\\_fee      & 98.59                         & 0                             &   6200                       \\\\\n",
       "\t recoveries              & 97.22                   & 0                       &  23055                 \\\\\n",
       "\t collection\\_recovery\\_fee & 97.35                       & 0                           &  20721                     \\\\\n",
       "\t last\\_pymnt\\_amnt         &  1.99                       & 0                           & 232452                     \\\\\n",
       "\t home\\_ownership          &  0.00                     & 0                         &      6                   \\\\\n",
       "\t annual\\_inc              &  0.00                     & 0                         &  49384                   \\\\\n",
       "\t dti                     &  0.05                   & 0                       &   4086                 \\\\\n",
       "\t delinq\\_2yrs             & 80.80                     & 0                         &     29                   \\\\\n",
       "\t acc\\_now\\_delinq          & 99.53                       & 0                           &      8                     \\\\\n",
       "\t earliest\\_cr\\_line        &  0.01                       & 0                           &    697                     \\\\\n",
       "\t inq\\_last\\_6mths          & 56.11                       & 0                           &     28                     \\\\\n",
       "\t open\\_acc                &  0.00                     & 0                         &     77                   \\\\\n",
       "\t pub\\_rec                 & 84.70                     & 0                         &     32                   \\\\\n",
       "\t revol\\_bal               &  0.38                     & 0                         &  73740                   \\\\\n",
       "\t total\\_acc               &  0.00                     & 0                         &    135                   \\\\\n",
       "\\end{tabular}\n"
      ],
      "text/markdown": [
       "\n",
       "variable | p_zeros | p_na | unique | \n",
       "|---|---|---|---|---|---|---|---|---|---|---|---|---|---|---|---|---|---|---|---|---|---|---|---|---|---|---|---|---|---|---|---|---|---|---|---|---|---|---|---|---|---|---|---|---|---|---|---|---|---|---|---|---|---|---|---|---|---|---|---|---|\n",
       "| verification_status_joint   |  0.00                       | 99.94                       |      3                      | \n",
       "| annual_inc_joint            |  0.00                       | 99.94                       |    308                      | \n",
       "| dti_joint                   |  0.00                       | 99.94                       |    449                      | \n",
       "| il_util                     |  0.02                       | 97.90                       |   1272                      | \n",
       "| mths_since_rcnt_il          |  0.00                       | 97.65                       |    201                      | \n",
       "| open_acc_6m                 |  0.93                       | 97.59                       |     13                      | \n",
       "| open_il_6m                  |  0.26                       | 97.59                       |     35                      | \n",
       "| open_il_12m                 |  1.22                       | 97.59                       |     12                      | \n",
       "| open_il_24m                 |  0.62                       | 97.59                       |     17                      | \n",
       "| total_bal_il                |  0.25                       | 97.59                       |  17030                      | \n",
       "| open_rv_12m                 |  0.80                       | 97.59                       |     18                      | \n",
       "| open_rv_24m                 |  0.32                       | 97.59                       |     28                      | \n",
       "| max_bal_bc                  |  0.05                       | 97.59                       |  10707                      | \n",
       "| all_util                    |  0.00                       | 97.59                       |   1128                      | \n",
       "| inq_fi                      |  1.29                       | 97.59                       |     18                      | \n",
       "| total_cu_tl                 |  1.29                       | 97.59                       |     33                      | \n",
       "| inq_last_12m                |  0.45                       | 97.59                       |     29                      | \n",
       "| loanDesc                    |  0.00                       | 85.80                       | 124470                      | \n",
       "| mths_since_last_record      |  0.14                       | 84.56                       |    123                      | \n",
       "| mths_since_last_major_derog |  0.02                       | 75.02                       |    168                      | \n",
       "| mths_since_last_delinq      |  0.19                       | 51.20                       |    155                      | \n",
       "| next_pymnt_d                |  0.00                       | 28.51                       |    100                      | \n",
       "| tot_coll_amt                | 78.99                       |  7.92                       |  10325                      | \n",
       "| tot_cur_bal                 |  0.01                       |  7.92                       | 327342                      | \n",
       "| total_rev_hi_lim            |  0.03                       |  7.92                       |  21251                      | \n",
       "| emp_title                   |  0.00                       |  5.80                       | 299272                      | \n",
       "| last_pymnt_d                |  0.00                       |  1.99                       |     98                      | \n",
       "| revol_util                  |  0.40                       |  0.06                       |   1356                      | \n",
       "| title                       |  0.00                       |  0.02                       |  63145                      | \n",
       "| collections_12_mths_ex_med  | 98.67                       |  0.02                       |     12                      | \n",
       "| ... | ... | ... | ... | \n",
       "| emp_length              |  0.00                   | 0                       |     12                  | \n",
       "| zip_code                |  0.00                   | 0                       |    935                  | \n",
       "| addr_state              |  0.00                   | 0                       |     51                  | \n",
       "| loan_amnt               |  0.00                   | 0                       |   1372                  | \n",
       "| funded_amnt             |  0.00                   | 0                       |   1372                  | \n",
       "| funded_amnt_inv         |  0.03                   | 0                       |   9856                  | \n",
       "| term                    | 70.00                   | 0                       |      2                  | \n",
       "| int_rate                |  0.00                   | 0                       |    542                  | \n",
       "| installment             |  0.00                   | 0                       |  68711                  | \n",
       "| out_prncp               | 28.83                   | 0                       | 248333                  | \n",
       "| out_prncp_inv           | 28.83                   | 0                       | 266245                  | \n",
       "| total_pymnt             |  2.00                   | 0                       | 509124                  | \n",
       "| total_pymnt_inv         |  2.03                   | 0                       | 506619                  | \n",
       "| total_rec_prncp         |  2.04                   | 0                       | 260228                  | \n",
       "| total_rec_int           |  2.05                   | 0                       | 324636                  | \n",
       "| total_rec_late_fee      | 98.59                   | 0                       |   6200                  | \n",
       "| recoveries              | 97.22                   | 0                       |  23055                  | \n",
       "| collection_recovery_fee | 97.35                   | 0                       |  20721                  | \n",
       "| last_pymnt_amnt         |  1.99                   | 0                       | 232452                  | \n",
       "| home_ownership          |  0.00                   | 0                       |      6                  | \n",
       "| annual_inc              |  0.00                   | 0                       |  49384                  | \n",
       "| dti                     |  0.05                   | 0                       |   4086                  | \n",
       "| delinq_2yrs             | 80.80                   | 0                       |     29                  | \n",
       "| acc_now_delinq          | 99.53                   | 0                       |      8                  | \n",
       "| earliest_cr_line        |  0.01                   | 0                       |    697                  | \n",
       "| inq_last_6mths          | 56.11                   | 0                       |     28                  | \n",
       "| open_acc                |  0.00                   | 0                       |     77                  | \n",
       "| pub_rec                 | 84.70                   | 0                       |     32                  | \n",
       "| revol_bal               |  0.38                   | 0                       |  73740                  | \n",
       "| total_acc               |  0.00                   | 0                       |    135                  | \n",
       "\n",
       "\n"
      ],
      "text/plain": [
       "    variable                    p_zeros p_na  unique\n",
       "1   verification_status_joint    0.00   99.94      3\n",
       "2   annual_inc_joint             0.00   99.94    308\n",
       "3   dti_joint                    0.00   99.94    449\n",
       "4   il_util                      0.02   97.90   1272\n",
       "5   mths_since_rcnt_il           0.00   97.65    201\n",
       "6   open_acc_6m                  0.93   97.59     13\n",
       "7   open_il_6m                   0.26   97.59     35\n",
       "8   open_il_12m                  1.22   97.59     12\n",
       "9   open_il_24m                  0.62   97.59     17\n",
       "10  total_bal_il                 0.25   97.59  17030\n",
       "11  open_rv_12m                  0.80   97.59     18\n",
       "12  open_rv_24m                  0.32   97.59     28\n",
       "13  max_bal_bc                   0.05   97.59  10707\n",
       "14  all_util                     0.00   97.59   1128\n",
       "15  inq_fi                       1.29   97.59     18\n",
       "16  total_cu_tl                  1.29   97.59     33\n",
       "17  inq_last_12m                 0.45   97.59     29\n",
       "18  loanDesc                     0.00   85.80 124470\n",
       "19  mths_since_last_record       0.14   84.56    123\n",
       "20  mths_since_last_major_derog  0.02   75.02    168\n",
       "21  mths_since_last_delinq       0.19   51.20    155\n",
       "22  next_pymnt_d                 0.00   28.51    100\n",
       "23  tot_coll_amt                78.99    7.92  10325\n",
       "24  tot_cur_bal                  0.01    7.92 327342\n",
       "25  total_rev_hi_lim             0.03    7.92  21251\n",
       "26  emp_title                    0.00    5.80 299272\n",
       "27  last_pymnt_d                 0.00    1.99     98\n",
       "28  revol_util                   0.40    0.06   1356\n",
       "29  title                        0.00    0.02  63145\n",
       "30  collections_12_mths_ex_med  98.67    0.02     12\n",
       "... ...                         ...     ...   ...   \n",
       "45  emp_length                   0.00   0         12\n",
       "46  zip_code                     0.00   0        935\n",
       "47  addr_state                   0.00   0         51\n",
       "48  loan_amnt                    0.00   0       1372\n",
       "49  funded_amnt                  0.00   0       1372\n",
       "50  funded_amnt_inv              0.03   0       9856\n",
       "51  term                        70.00   0          2\n",
       "52  int_rate                     0.00   0        542\n",
       "53  installment                  0.00   0      68711\n",
       "54  out_prncp                   28.83   0     248333\n",
       "55  out_prncp_inv               28.83   0     266245\n",
       "56  total_pymnt                  2.00   0     509124\n",
       "57  total_pymnt_inv              2.03   0     506619\n",
       "58  total_rec_prncp              2.04   0     260228\n",
       "59  total_rec_int                2.05   0     324636\n",
       "60  total_rec_late_fee          98.59   0       6200\n",
       "61  recoveries                  97.22   0      23055\n",
       "62  collection_recovery_fee     97.35   0      20721\n",
       "63  last_pymnt_amnt              1.99   0     232452\n",
       "64  home_ownership               0.00   0          6\n",
       "65  annual_inc                   0.00   0      49384\n",
       "66  dti                          0.05   0       4086\n",
       "67  delinq_2yrs                 80.80   0         29\n",
       "68  acc_now_delinq              99.53   0          8\n",
       "69  earliest_cr_line             0.01   0        697\n",
       "70  inq_last_6mths              56.11   0         28\n",
       "71  open_acc                     0.00   0         77\n",
       "72  pub_rec                     84.70   0         32\n",
       "73  revol_bal                    0.38   0      73740\n",
       "74  total_acc                    0.00   0        135"
      ]
     },
     "metadata": {},
     "output_type": "display_data"
    }
   ],
   "source": [
    "meta_loans %>%\n",
    "  select(variable, p_zeros, p_na, unique) %>% arrange(desc(p_na))"
   ]
  },
  {
   "cell_type": "markdown",
   "metadata": {},
   "source": [
    "<p>We see that the columns <strong><em>verification_status_joint,annual_inc_joint,dti_joint</em></strong> has a <span style=\"color: #ff0000;\"><strong>99% NA ratio</strong></span><br />This Columns By their LC Definition indicate those are columns which describe a <span style=\"text-decoration: underline;\">joint application</span> loans.<br />We will check for the ratio of joint apllications in our dataset:</p>"
   ]
  },
  {
   "cell_type": "code",
   "execution_count": 34,
   "metadata": {},
   "outputs": [
    {
     "data": {
      "text/html": [
       "<table>\n",
       "<thead><tr><th scope=col>application_type</th><th scope=col>N</th><th scope=col>app_rat</th></tr></thead>\n",
       "<tbody>\n",
       "\t<tr><td>0           </td><td>886871      </td><td>0.9994241488</td></tr>\n",
       "\t<tr><td>1           </td><td>   511      </td><td>0.0005758512</td></tr>\n",
       "</tbody>\n",
       "</table>\n"
      ],
      "text/latex": [
       "\\begin{tabular}{r|lll}\n",
       " application\\_type & N & app\\_rat\\\\\n",
       "\\hline\n",
       "\t 0            & 886871       & 0.9994241488\\\\\n",
       "\t 1            &    511       & 0.0005758512\\\\\n",
       "\\end{tabular}\n"
      ],
      "text/markdown": [
       "\n",
       "application_type | N | app_rat | \n",
       "|---|---|\n",
       "| 0            | 886871       | 0.9994241488 | \n",
       "| 1            |    511       | 0.0005758512 | \n",
       "\n",
       "\n"
      ],
      "text/plain": [
       "  application_type N      app_rat     \n",
       "1 0                886871 0.9994241488\n",
       "2 1                   511 0.0005758512"
      ]
     },
     "metadata": {},
     "output_type": "display_data"
    }
   ],
   "source": [
    "loans %>% group_by(application_type) %>% summarise(N = n())%>%select(application_type,N)%>%mutate(app_rat = N / nrow(loans))"
   ]
  },
  {
   "cell_type": "markdown",
   "metadata": {},
   "source": [
    "<p>As we can see , the 99.4% of our data is for single application, therefore we choosing to eliminate rows for the joint application loans to avoid outliers of this population.</p>\n",
    "<p><span style=\"color: #000000;\"><span style=\"text-decoration: underline; color: #ff0000;\"><strong>Assumption</strong></span> -</span> Joint applications are statistically different than single applications.</p>\n",
    "<p><strong><span style=\"text-decoration: underline;\"><span style=\"color: #ff0000; text-decoration: underline;\">Actions:</span></span></strong></p>\n",
    "<ol>\n",
    "<li>Remove these 3 columns:&nbsp;<strong><em>verification_status_joint,annual_inc_joint,dti_joint</em></strong></li>\n",
    "<li>Remove rows for Join applications (application_type=1)</li>\n",
    "<li>Because we removed all the rows with&nbsp;application_type=1 there is only one unique value so we will remove this column.</li>\n",
    "</ol>"
   ]
  },
  {
   "cell_type": "code",
   "execution_count": 64,
   "metadata": {},
   "outputs": [
    {
     "data": {
      "text/html": [
       "70"
      ],
      "text/latex": [
       "70"
      ],
      "text/markdown": [
       "70"
      ],
      "text/plain": [
       "[1] 70"
      ]
     },
     "metadata": {},
     "output_type": "display_data"
    },
    {
     "data": {
      "text/html": [
       "67"
      ],
      "text/latex": [
       "67"
      ],
      "text/markdown": [
       "67"
      ],
      "text/plain": [
       "[1] 67"
      ]
     },
     "metadata": {},
     "output_type": "display_data"
    },
    {
     "data": {
      "text/html": [
       "887382"
      ],
      "text/latex": [
       "887382"
      ],
      "text/markdown": [
       "887382"
      ],
      "text/plain": [
       "[1] 887382"
      ]
     },
     "metadata": {},
     "output_type": "display_data"
    },
    {
     "data": {
      "text/html": [
       "886871"
      ],
      "text/latex": [
       "886871"
      ],
      "text/markdown": [
       "886871"
      ],
      "text/plain": [
       "[1] 886871"
      ]
     },
     "metadata": {},
     "output_type": "display_data"
    },
    {
     "name": "stdout",
     "output_type": "stream",
     "text": [
      "[1] \"application_type\"\n"
     ]
    },
    {
     "name": "stderr",
     "output_type": "stream",
     "text": [
      "The following variables had only one unique values and were removed\n",
      "application_type\n"
     ]
    }
   ],
   "source": [
    "exclude <- c(\"verification_status_joint\",\"annual_inc_joint\",\"dti_joint\")\n",
    "ncol(loans)\n",
    "loans <- excludeColumns(loans,exclude)\n",
    "ncol(loans)\n",
    "nrow(loans)\n",
    "loans <- loans %>% filter(application_type == 0)\n",
    "nrow(loans)\n",
    "loans<-excludeUniqueValue(loans)"
   ]
  },
  {
   "cell_type": "markdown",
   "metadata": {},
   "source": [
    "<h3>Columns which are indications of the outcome - determind by Lending Club after the company evaluations of the credit risk. In our work, we want to estimate the credit risk by ourselves based on the data we have. </h3>\n",
    "<ol>\n",
    "<li>grade</li>\n",
    "<li>sub_grade</li>\n",
    "<li>int_rate</li>\n",
    "</ol>\n"
   ]
  },
  {
   "cell_type": "code",
   "execution_count": 65,
   "metadata": {},
   "outputs": [
    {
     "data": {
      "text/html": [
       "66"
      ],
      "text/latex": [
       "66"
      ],
      "text/markdown": [
       "66"
      ],
      "text/plain": [
       "[1] 66"
      ]
     },
     "metadata": {},
     "output_type": "display_data"
    },
    {
     "data": {
      "text/html": [
       "63"
      ],
      "text/latex": [
       "63"
      ],
      "text/markdown": [
       "63"
      ],
      "text/plain": [
       "[1] 63"
      ]
     },
     "metadata": {},
     "output_type": "display_data"
    }
   ],
   "source": [
    "exclude <- c(\"grade\",\"sub_grade\",\"int_rate\")\n",
    "ncol(loans)\n",
    "loans <- excludeColumns(loans,exclude)\n",
    "ncol(loans)"
   ]
  },
  {
   "cell_type": "code",
   "execution_count": 66,
   "metadata": {},
   "outputs": [],
   "source": [
    "#Recreate Meta Loans\n",
    "meta_loans <- funModeling::df_status(loans, print_results = FALSE)\n",
    "meta_loans <-\n",
    "  meta_loans %>%\n",
    "  mutate(uniq_rat = unique / nrow(loans))"
   ]
  },
  {
   "cell_type": "code",
   "execution_count": 38,
   "metadata": {},
   "outputs": [
    {
     "data": {
      "text/html": [
       "<table>\n",
       "<thead><tr><th scope=col>variable</th><th scope=col>p_zeros</th><th scope=col>p_na</th><th scope=col>unique</th></tr></thead>\n",
       "<tbody>\n",
       "\t<tr><td>il_util                    </td><td> 0.02                      </td><td>97.92                      </td><td>  1271                     </td></tr>\n",
       "\t<tr><td>mths_since_rcnt_il         </td><td> 0.00                      </td><td>97.67                      </td><td>   200                     </td></tr>\n",
       "\t<tr><td>open_acc_6m                </td><td> 0.92                      </td><td>97.61                      </td><td>    13                     </td></tr>\n",
       "\t<tr><td>open_il_6m                 </td><td> 0.26                      </td><td>97.61                      </td><td>    35                     </td></tr>\n",
       "\t<tr><td>open_il_12m                </td><td> 1.21                      </td><td>97.61                      </td><td>    12                     </td></tr>\n",
       "\t<tr><td>open_il_24m                </td><td> 0.61                      </td><td>97.61                      </td><td>    17                     </td></tr>\n",
       "\t<tr><td>total_bal_il               </td><td> 0.25                      </td><td>97.61                      </td><td> 16911                     </td></tr>\n",
       "\t<tr><td>open_rv_12m                </td><td> 0.79                      </td><td>97.61                      </td><td>    18                     </td></tr>\n",
       "\t<tr><td>open_rv_24m                </td><td> 0.32                      </td><td>97.61                      </td><td>    28                     </td></tr>\n",
       "\t<tr><td>max_bal_bc                 </td><td> 0.05                      </td><td>97.61                      </td><td> 10663                     </td></tr>\n",
       "\t<tr><td>all_util                   </td><td> 0.00                      </td><td>97.61                      </td><td>  1128                     </td></tr>\n",
       "\t<tr><td>inq_fi                     </td><td> 1.28                      </td><td>97.61                      </td><td>    18                     </td></tr>\n",
       "\t<tr><td>total_cu_tl                </td><td> 1.29                      </td><td>97.61                      </td><td>    33                     </td></tr>\n",
       "\t<tr><td>inq_last_12m               </td><td> 0.45                      </td><td>97.61                      </td><td>    29                     </td></tr>\n",
       "\t<tr><td>loanDesc                   </td><td> 0.00                      </td><td>85.79                      </td><td>124470                     </td></tr>\n",
       "\t<tr><td>mths_since_last_record     </td><td> 0.14                      </td><td>84.56                      </td><td>   123                     </td></tr>\n",
       "\t<tr><td>mths_since_last_major_derog</td><td> 0.02                      </td><td>75.02                      </td><td>   168                     </td></tr>\n",
       "\t<tr><td>mths_since_last_delinq     </td><td> 0.19                      </td><td>51.20                      </td><td>   155                     </td></tr>\n",
       "\t<tr><td>next_pymnt_d               </td><td> 0.00                      </td><td>28.52                      </td><td>   100                     </td></tr>\n",
       "\t<tr><td>tot_coll_amt               </td><td>78.99                      </td><td> 7.92                      </td><td> 10321                     </td></tr>\n",
       "\t<tr><td>tot_cur_bal                </td><td> 0.01                      </td><td> 7.92                      </td><td>327230                     </td></tr>\n",
       "\t<tr><td>total_rev_hi_lim           </td><td> 0.03                      </td><td> 7.92                      </td><td> 21249                     </td></tr>\n",
       "\t<tr><td>last_pymnt_d               </td><td> 0.00                      </td><td> 1.98                      </td><td>    98                     </td></tr>\n",
       "\t<tr><td>revol_util                 </td><td> 0.40                      </td><td> 0.06                      </td><td>  1356                     </td></tr>\n",
       "\t<tr><td>title                      </td><td> 0.00                      </td><td> 0.02                      </td><td> 63145                     </td></tr>\n",
       "\t<tr><td>collections_12_mths_ex_med </td><td>98.67                      </td><td> 0.02                      </td><td>    12                     </td></tr>\n",
       "\t<tr><td>last_credit_pull_d         </td><td> 0.00                      </td><td> 0.01                      </td><td>   103                     </td></tr>\n",
       "\t<tr><td>loan_id                    </td><td> 0.00                      </td><td> 0.00                      </td><td>886871                     </td></tr>\n",
       "\t<tr><td>verification_status        </td><td> 0.00                      </td><td> 0.00                      </td><td>     3                     </td></tr>\n",
       "\t<tr><td>issue_d                    </td><td> 0.00                      </td><td> 0.00                      </td><td>   103                     </td></tr>\n",
       "\t<tr><td>...</td><td>...</td><td>...</td><td>...</td></tr>\n",
       "\t<tr><td>initial_list_status    </td><td>48.50                  </td><td>0                      </td><td>     2                 </td></tr>\n",
       "\t<tr><td>emp_length             </td><td> 0.00                  </td><td>0                      </td><td>    12                 </td></tr>\n",
       "\t<tr><td>zip_code               </td><td> 0.00                  </td><td>0                      </td><td>   935                 </td></tr>\n",
       "\t<tr><td>addr_state             </td><td> 0.00                  </td><td>0                      </td><td>    51                 </td></tr>\n",
       "\t<tr><td>loan_amnt              </td><td> 0.00                  </td><td>0                      </td><td>  1372                 </td></tr>\n",
       "\t<tr><td>funded_amnt            </td><td> 0.00                  </td><td>0                      </td><td>  1372                 </td></tr>\n",
       "\t<tr><td>funded_amnt_inv        </td><td> 0.03                  </td><td>0                      </td><td>  9856                 </td></tr>\n",
       "\t<tr><td>term                   </td><td>70.01                  </td><td>0                      </td><td>     2                 </td></tr>\n",
       "\t<tr><td>installment            </td><td> 0.00                  </td><td>0                      </td><td> 68701                 </td></tr>\n",
       "\t<tr><td>out_prncp              </td><td>28.84                  </td><td>0                      </td><td>248247                 </td></tr>\n",
       "\t<tr><td>out_prncp_inv          </td><td>28.84                  </td><td>0                      </td><td>266138                 </td></tr>\n",
       "\t<tr><td>total_pymnt            </td><td> 1.99                  </td><td>0                      </td><td>509035                 </td></tr>\n",
       "\t<tr><td>total_pymnt_inv        </td><td> 2.02                  </td><td>0                      </td><td>506518                 </td></tr>\n",
       "\t<tr><td>total_rec_prncp        </td><td> 2.03                  </td><td>0                      </td><td>260186                 </td></tr>\n",
       "\t<tr><td>total_rec_int          </td><td> 2.04                  </td><td>0                      </td><td>324624                 </td></tr>\n",
       "\t<tr><td>total_rec_late_fee     </td><td>98.59                  </td><td>0                      </td><td>  6200                 </td></tr>\n",
       "\t<tr><td>recoveries             </td><td>97.22                  </td><td>0                      </td><td> 23055                 </td></tr>\n",
       "\t<tr><td>collection_recovery_fee</td><td>97.35                  </td><td>0                      </td><td> 20721                 </td></tr>\n",
       "\t<tr><td>last_pymnt_amnt        </td><td> 1.98                  </td><td>0                      </td><td>232438                 </td></tr>\n",
       "\t<tr><td>home_ownership         </td><td> 0.00                  </td><td>0                      </td><td>     6                 </td></tr>\n",
       "\t<tr><td>annual_inc             </td><td> 0.00                  </td><td>0                      </td><td> 49345                 </td></tr>\n",
       "\t<tr><td>dti                    </td><td> 0.05                  </td><td>0                      </td><td>  4000                 </td></tr>\n",
       "\t<tr><td>delinq_2yrs            </td><td>80.80                  </td><td>0                      </td><td>    29                 </td></tr>\n",
       "\t<tr><td>acc_now_delinq         </td><td>99.53                  </td><td>0                      </td><td>     8                 </td></tr>\n",
       "\t<tr><td>earliest_cr_line       </td><td> 0.01                  </td><td>0                      </td><td>   696                 </td></tr>\n",
       "\t<tr><td>inq_last_6mths         </td><td>56.11                  </td><td>0                      </td><td>    28                 </td></tr>\n",
       "\t<tr><td>open_acc               </td><td> 0.00                  </td><td>0                      </td><td>    77                 </td></tr>\n",
       "\t<tr><td>pub_rec                </td><td>84.70                  </td><td>0                      </td><td>    32                 </td></tr>\n",
       "\t<tr><td>revol_bal              </td><td> 0.38                  </td><td>0                      </td><td> 73738                 </td></tr>\n",
       "\t<tr><td>total_acc              </td><td> 0.00                  </td><td>0                      </td><td>   135                 </td></tr>\n",
       "</tbody>\n",
       "</table>\n"
      ],
      "text/latex": [
       "\\begin{tabular}{r|llll}\n",
       " variable & p\\_zeros & p\\_na & unique\\\\\n",
       "\\hline\n",
       "\t il\\_util                     &  0.02                         & 97.92                         &   1271                       \\\\\n",
       "\t mths\\_since\\_rcnt\\_il          &  0.00                             & 97.67                             &    200                           \\\\\n",
       "\t open\\_acc\\_6m                 &  0.92                           & 97.61                           &     13                         \\\\\n",
       "\t open\\_il\\_6m                  &  0.26                           & 97.61                           &     35                         \\\\\n",
       "\t open\\_il\\_12m                 &  1.21                           & 97.61                           &     12                         \\\\\n",
       "\t open\\_il\\_24m                 &  0.61                           & 97.61                           &     17                         \\\\\n",
       "\t total\\_bal\\_il                &  0.25                           & 97.61                           &  16911                         \\\\\n",
       "\t open\\_rv\\_12m                 &  0.79                           & 97.61                           &     18                         \\\\\n",
       "\t open\\_rv\\_24m                 &  0.32                           & 97.61                           &     28                         \\\\\n",
       "\t max\\_bal\\_bc                  &  0.05                           & 97.61                           &  10663                         \\\\\n",
       "\t all\\_util                    &  0.00                         & 97.61                         &   1128                       \\\\\n",
       "\t inq\\_fi                      &  1.28                         & 97.61                         &     18                       \\\\\n",
       "\t total\\_cu\\_tl                 &  1.29                           & 97.61                           &     33                         \\\\\n",
       "\t inq\\_last\\_12m                &  0.45                           & 97.61                           &     29                         \\\\\n",
       "\t loanDesc                    &  0.00                       & 85.79                       & 124470                     \\\\\n",
       "\t mths\\_since\\_last\\_record      &  0.14                             & 84.56                             &    123                           \\\\\n",
       "\t mths\\_since\\_last\\_major\\_derog &  0.02                               & 75.02                               &    168                             \\\\\n",
       "\t mths\\_since\\_last\\_delinq      &  0.19                             & 51.20                             &    155                           \\\\\n",
       "\t next\\_pymnt\\_d                &  0.00                           & 28.52                           &    100                         \\\\\n",
       "\t tot\\_coll\\_amt                & 78.99                           &  7.92                           &  10321                         \\\\\n",
       "\t tot\\_cur\\_bal                 &  0.01                           &  7.92                           & 327230                         \\\\\n",
       "\t total\\_rev\\_hi\\_lim            &  0.03                             &  7.92                             &  21249                           \\\\\n",
       "\t last\\_pymnt\\_d                &  0.00                           &  1.98                           &     98                         \\\\\n",
       "\t revol\\_util                  &  0.40                         &  0.06                         &   1356                       \\\\\n",
       "\t title                       &  0.00                       &  0.02                       &  63145                     \\\\\n",
       "\t collections\\_12\\_mths\\_ex\\_med  & 98.67                               &  0.02                               &     12                             \\\\\n",
       "\t last\\_credit\\_pull\\_d          &  0.00                             &  0.01                             &    103                           \\\\\n",
       "\t loan\\_id                     &  0.00                         &  0.00                         & 886871                       \\\\\n",
       "\t verification\\_status         &  0.00                         &  0.00                         &      3                       \\\\\n",
       "\t issue\\_d                     &  0.00                         &  0.00                         &    103                       \\\\\n",
       "\t ... & ... & ... & ...\\\\\n",
       "\t initial\\_list\\_status     & 48.50                       & 0                           &      2                     \\\\\n",
       "\t emp\\_length              &  0.00                     & 0                         &     12                   \\\\\n",
       "\t zip\\_code                &  0.00                     & 0                         &    935                   \\\\\n",
       "\t addr\\_state              &  0.00                     & 0                         &     51                   \\\\\n",
       "\t loan\\_amnt               &  0.00                     & 0                         &   1372                   \\\\\n",
       "\t funded\\_amnt             &  0.00                     & 0                         &   1372                   \\\\\n",
       "\t funded\\_amnt\\_inv         &  0.03                       & 0                           &   9856                     \\\\\n",
       "\t term                    & 70.01                   & 0                       &      2                 \\\\\n",
       "\t installment             &  0.00                   & 0                       &  68701                 \\\\\n",
       "\t out\\_prncp               & 28.84                     & 0                         & 248247                   \\\\\n",
       "\t out\\_prncp\\_inv           & 28.84                       & 0                           & 266138                     \\\\\n",
       "\t total\\_pymnt             &  1.99                     & 0                         & 509035                   \\\\\n",
       "\t total\\_pymnt\\_inv         &  2.02                       & 0                           & 506518                     \\\\\n",
       "\t total\\_rec\\_prncp         &  2.03                       & 0                           & 260186                     \\\\\n",
       "\t total\\_rec\\_int           &  2.04                       & 0                           & 324624                     \\\\\n",
       "\t total\\_rec\\_late\\_fee      & 98.59                         & 0                             &   6200                       \\\\\n",
       "\t recoveries              & 97.22                   & 0                       &  23055                 \\\\\n",
       "\t collection\\_recovery\\_fee & 97.35                       & 0                           &  20721                     \\\\\n",
       "\t last\\_pymnt\\_amnt         &  1.98                       & 0                           & 232438                     \\\\\n",
       "\t home\\_ownership          &  0.00                     & 0                         &      6                   \\\\\n",
       "\t annual\\_inc              &  0.00                     & 0                         &  49345                   \\\\\n",
       "\t dti                     &  0.05                   & 0                       &   4000                 \\\\\n",
       "\t delinq\\_2yrs             & 80.80                     & 0                         &     29                   \\\\\n",
       "\t acc\\_now\\_delinq          & 99.53                       & 0                           &      8                     \\\\\n",
       "\t earliest\\_cr\\_line        &  0.01                       & 0                           &    696                     \\\\\n",
       "\t inq\\_last\\_6mths          & 56.11                       & 0                           &     28                     \\\\\n",
       "\t open\\_acc                &  0.00                     & 0                         &     77                   \\\\\n",
       "\t pub\\_rec                 & 84.70                     & 0                         &     32                   \\\\\n",
       "\t revol\\_bal               &  0.38                     & 0                         &  73738                   \\\\\n",
       "\t total\\_acc               &  0.00                     & 0                         &    135                   \\\\\n",
       "\\end{tabular}\n"
      ],
      "text/markdown": [
       "\n",
       "variable | p_zeros | p_na | unique | \n",
       "|---|---|---|---|---|---|---|---|---|---|---|---|---|---|---|---|---|---|---|---|---|---|---|---|---|---|---|---|---|---|---|---|---|---|---|---|---|---|---|---|---|---|---|---|---|---|---|---|---|---|---|---|---|---|---|---|---|---|---|---|---|\n",
       "| il_util                     |  0.02                       | 97.92                       |   1271                      | \n",
       "| mths_since_rcnt_il          |  0.00                       | 97.67                       |    200                      | \n",
       "| open_acc_6m                 |  0.92                       | 97.61                       |     13                      | \n",
       "| open_il_6m                  |  0.26                       | 97.61                       |     35                      | \n",
       "| open_il_12m                 |  1.21                       | 97.61                       |     12                      | \n",
       "| open_il_24m                 |  0.61                       | 97.61                       |     17                      | \n",
       "| total_bal_il                |  0.25                       | 97.61                       |  16911                      | \n",
       "| open_rv_12m                 |  0.79                       | 97.61                       |     18                      | \n",
       "| open_rv_24m                 |  0.32                       | 97.61                       |     28                      | \n",
       "| max_bal_bc                  |  0.05                       | 97.61                       |  10663                      | \n",
       "| all_util                    |  0.00                       | 97.61                       |   1128                      | \n",
       "| inq_fi                      |  1.28                       | 97.61                       |     18                      | \n",
       "| total_cu_tl                 |  1.29                       | 97.61                       |     33                      | \n",
       "| inq_last_12m                |  0.45                       | 97.61                       |     29                      | \n",
       "| loanDesc                    |  0.00                       | 85.79                       | 124470                      | \n",
       "| mths_since_last_record      |  0.14                       | 84.56                       |    123                      | \n",
       "| mths_since_last_major_derog |  0.02                       | 75.02                       |    168                      | \n",
       "| mths_since_last_delinq      |  0.19                       | 51.20                       |    155                      | \n",
       "| next_pymnt_d                |  0.00                       | 28.52                       |    100                      | \n",
       "| tot_coll_amt                | 78.99                       |  7.92                       |  10321                      | \n",
       "| tot_cur_bal                 |  0.01                       |  7.92                       | 327230                      | \n",
       "| total_rev_hi_lim            |  0.03                       |  7.92                       |  21249                      | \n",
       "| last_pymnt_d                |  0.00                       |  1.98                       |     98                      | \n",
       "| revol_util                  |  0.40                       |  0.06                       |   1356                      | \n",
       "| title                       |  0.00                       |  0.02                       |  63145                      | \n",
       "| collections_12_mths_ex_med  | 98.67                       |  0.02                       |     12                      | \n",
       "| last_credit_pull_d          |  0.00                       |  0.01                       |    103                      | \n",
       "| loan_id                     |  0.00                       |  0.00                       | 886871                      | \n",
       "| verification_status         |  0.00                       |  0.00                       |      3                      | \n",
       "| issue_d                     |  0.00                       |  0.00                       |    103                      | \n",
       "| ... | ... | ... | ... | \n",
       "| initial_list_status     | 48.50                   | 0                       |      2                  | \n",
       "| emp_length              |  0.00                   | 0                       |     12                  | \n",
       "| zip_code                |  0.00                   | 0                       |    935                  | \n",
       "| addr_state              |  0.00                   | 0                       |     51                  | \n",
       "| loan_amnt               |  0.00                   | 0                       |   1372                  | \n",
       "| funded_amnt             |  0.00                   | 0                       |   1372                  | \n",
       "| funded_amnt_inv         |  0.03                   | 0                       |   9856                  | \n",
       "| term                    | 70.01                   | 0                       |      2                  | \n",
       "| installment             |  0.00                   | 0                       |  68701                  | \n",
       "| out_prncp               | 28.84                   | 0                       | 248247                  | \n",
       "| out_prncp_inv           | 28.84                   | 0                       | 266138                  | \n",
       "| total_pymnt             |  1.99                   | 0                       | 509035                  | \n",
       "| total_pymnt_inv         |  2.02                   | 0                       | 506518                  | \n",
       "| total_rec_prncp         |  2.03                   | 0                       | 260186                  | \n",
       "| total_rec_int           |  2.04                   | 0                       | 324624                  | \n",
       "| total_rec_late_fee      | 98.59                   | 0                       |   6200                  | \n",
       "| recoveries              | 97.22                   | 0                       |  23055                  | \n",
       "| collection_recovery_fee | 97.35                   | 0                       |  20721                  | \n",
       "| last_pymnt_amnt         |  1.98                   | 0                       | 232438                  | \n",
       "| home_ownership          |  0.00                   | 0                       |      6                  | \n",
       "| annual_inc              |  0.00                   | 0                       |  49345                  | \n",
       "| dti                     |  0.05                   | 0                       |   4000                  | \n",
       "| delinq_2yrs             | 80.80                   | 0                       |     29                  | \n",
       "| acc_now_delinq          | 99.53                   | 0                       |      8                  | \n",
       "| earliest_cr_line        |  0.01                   | 0                       |    696                  | \n",
       "| inq_last_6mths          | 56.11                   | 0                       |     28                  | \n",
       "| open_acc                |  0.00                   | 0                       |     77                  | \n",
       "| pub_rec                 | 84.70                   | 0                       |     32                  | \n",
       "| revol_bal               |  0.38                   | 0                       |  73738                  | \n",
       "| total_acc               |  0.00                   | 0                       |    135                  | \n",
       "\n",
       "\n"
      ],
      "text/plain": [
       "    variable                    p_zeros p_na  unique\n",
       "1   il_util                      0.02   97.92   1271\n",
       "2   mths_since_rcnt_il           0.00   97.67    200\n",
       "3   open_acc_6m                  0.92   97.61     13\n",
       "4   open_il_6m                   0.26   97.61     35\n",
       "5   open_il_12m                  1.21   97.61     12\n",
       "6   open_il_24m                  0.61   97.61     17\n",
       "7   total_bal_il                 0.25   97.61  16911\n",
       "8   open_rv_12m                  0.79   97.61     18\n",
       "9   open_rv_24m                  0.32   97.61     28\n",
       "10  max_bal_bc                   0.05   97.61  10663\n",
       "11  all_util                     0.00   97.61   1128\n",
       "12  inq_fi                       1.28   97.61     18\n",
       "13  total_cu_tl                  1.29   97.61     33\n",
       "14  inq_last_12m                 0.45   97.61     29\n",
       "15  loanDesc                     0.00   85.79 124470\n",
       "16  mths_since_last_record       0.14   84.56    123\n",
       "17  mths_since_last_major_derog  0.02   75.02    168\n",
       "18  mths_since_last_delinq       0.19   51.20    155\n",
       "19  next_pymnt_d                 0.00   28.52    100\n",
       "20  tot_coll_amt                78.99    7.92  10321\n",
       "21  tot_cur_bal                  0.01    7.92 327230\n",
       "22  total_rev_hi_lim             0.03    7.92  21249\n",
       "23  last_pymnt_d                 0.00    1.98     98\n",
       "24  revol_util                   0.40    0.06   1356\n",
       "25  title                        0.00    0.02  63145\n",
       "26  collections_12_mths_ex_med  98.67    0.02     12\n",
       "27  last_credit_pull_d           0.00    0.01    103\n",
       "28  loan_id                      0.00    0.00 886871\n",
       "29  verification_status          0.00    0.00      3\n",
       "30  issue_d                      0.00    0.00    103\n",
       "... ...                         ...     ...   ...   \n",
       "34  initial_list_status         48.50   0          2\n",
       "35  emp_length                   0.00   0         12\n",
       "36  zip_code                     0.00   0        935\n",
       "37  addr_state                   0.00   0         51\n",
       "38  loan_amnt                    0.00   0       1372\n",
       "39  funded_amnt                  0.00   0       1372\n",
       "40  funded_amnt_inv              0.03   0       9856\n",
       "41  term                        70.01   0          2\n",
       "42  installment                  0.00   0      68701\n",
       "43  out_prncp                   28.84   0     248247\n",
       "44  out_prncp_inv               28.84   0     266138\n",
       "45  total_pymnt                  1.99   0     509035\n",
       "46  total_pymnt_inv              2.02   0     506518\n",
       "47  total_rec_prncp              2.03   0     260186\n",
       "48  total_rec_int                2.04   0     324624\n",
       "49  total_rec_late_fee          98.59   0       6200\n",
       "50  recoveries                  97.22   0      23055\n",
       "51  collection_recovery_fee     97.35   0      20721\n",
       "52  last_pymnt_amnt              1.98   0     232438\n",
       "53  home_ownership               0.00   0          6\n",
       "54  annual_inc                   0.00   0      49345\n",
       "55  dti                          0.05   0       4000\n",
       "56  delinq_2yrs                 80.80   0         29\n",
       "57  acc_now_delinq              99.53   0          8\n",
       "58  earliest_cr_line             0.01   0        696\n",
       "59  inq_last_6mths              56.11   0         28\n",
       "60  open_acc                     0.00   0         77\n",
       "61  pub_rec                     84.70   0         32\n",
       "62  revol_bal                    0.38   0      73738\n",
       "63  total_acc                    0.00   0        135"
      ]
     },
     "metadata": {},
     "output_type": "display_data"
    }
   ],
   "source": [
    "meta_loans %>%\n",
    "  select(variable, p_zeros, p_na, unique) %>% arrange(desc(p_na))"
   ]
  },
  {
   "cell_type": "markdown",
   "metadata": {},
   "source": [
    "<h1>Defining default</h1>\n",
    "<p>Our ultimate goal is the prediction of loan defaults.</p>\n",
    "<p>The variable loan status seems to be an indicator of the current state a particular loan is in.</p>\n",
    "<p>The different loan statuses in our data</p>"
   ]
  },
  {
   "cell_type": "code",
   "execution_count": 67,
   "metadata": {},
   "outputs": [
    {
     "data": {
      "text/html": [
       "<table>\n",
       "<thead><tr><th scope=col>loan_status</th><th scope=col>count</th><th scope=col>rel_count</th></tr></thead>\n",
       "<tbody>\n",
       "\t<tr><td>Charged Off                                        </td><td> 45248                                             </td><td>0.0510198214                                       </td></tr>\n",
       "\t<tr><td>Current                                            </td><td>601340                                             </td><td>0.6780467509                                       </td></tr>\n",
       "\t<tr><td>Default                                            </td><td>  1219                                             </td><td>0.0013744953                                       </td></tr>\n",
       "\t<tr><td>Does not meet the credit policy. Status:Charged Off</td><td>   761                                             </td><td>0.0008580729                                       </td></tr>\n",
       "\t<tr><td>Does not meet the credit policy. Status:Fully Paid </td><td>  1988                                             </td><td>0.0022415887                                       </td></tr>\n",
       "\t<tr><td>Fully Paid                                         </td><td>207723                                             </td><td>0.2342200839                                       </td></tr>\n",
       "\t<tr><td>In Grace Period                                    </td><td>  6250                                             </td><td>0.0070472481                                       </td></tr>\n",
       "\t<tr><td>Issued                                             </td><td>  8396                                             </td><td>0.0094669913                                       </td></tr>\n",
       "\t<tr><td>Late (16-30 days)                                  </td><td>  2357                                             </td><td>0.0026576582                                       </td></tr>\n",
       "\t<tr><td>Late (31-120 days)                                 </td><td> 11589                                             </td><td>0.0130672894                                       </td></tr>\n",
       "</tbody>\n",
       "</table>\n"
      ],
      "text/latex": [
       "\\begin{tabular}{r|lll}\n",
       " loan\\_status & count & rel\\_count\\\\\n",
       "\\hline\n",
       "\t Charged Off                                         &  45248                                              & 0.0510198214                                       \\\\\n",
       "\t Current                                             & 601340                                              & 0.6780467509                                       \\\\\n",
       "\t Default                                             &   1219                                              & 0.0013744953                                       \\\\\n",
       "\t Does not meet the credit policy. Status:Charged Off &    761                                              & 0.0008580729                                       \\\\\n",
       "\t Does not meet the credit policy. Status:Fully Paid  &   1988                                              & 0.0022415887                                       \\\\\n",
       "\t Fully Paid                                          & 207723                                              & 0.2342200839                                       \\\\\n",
       "\t In Grace Period                                     &   6250                                              & 0.0070472481                                       \\\\\n",
       "\t Issued                                              &   8396                                              & 0.0094669913                                       \\\\\n",
       "\t Late (16-30 days)                                   &   2357                                              & 0.0026576582                                       \\\\\n",
       "\t Late (31-120 days)                                  &  11589                                              & 0.0130672894                                       \\\\\n",
       "\\end{tabular}\n"
      ],
      "text/markdown": [
       "\n",
       "loan_status | count | rel_count | \n",
       "|---|---|---|---|---|---|---|---|---|---|\n",
       "| Charged Off                                         |  45248                                              | 0.0510198214                                        | \n",
       "| Current                                             | 601340                                              | 0.6780467509                                        | \n",
       "| Default                                             |   1219                                              | 0.0013744953                                        | \n",
       "| Does not meet the credit policy. Status:Charged Off |    761                                              | 0.0008580729                                        | \n",
       "| Does not meet the credit policy. Status:Fully Paid  |   1988                                              | 0.0022415887                                        | \n",
       "| Fully Paid                                          | 207723                                              | 0.2342200839                                        | \n",
       "| In Grace Period                                     |   6250                                              | 0.0070472481                                        | \n",
       "| Issued                                              |   8396                                              | 0.0094669913                                        | \n",
       "| Late (16-30 days)                                   |   2357                                              | 0.0026576582                                        | \n",
       "| Late (31-120 days)                                  |  11589                                              | 0.0130672894                                        | \n",
       "\n",
       "\n"
      ],
      "text/plain": [
       "   loan_status                                         count  rel_count   \n",
       "1  Charged Off                                          45248 0.0510198214\n",
       "2  Current                                             601340 0.6780467509\n",
       "3  Default                                               1219 0.0013744953\n",
       "4  Does not meet the credit policy. Status:Charged Off    761 0.0008580729\n",
       "5  Does not meet the credit policy. Status:Fully Paid    1988 0.0022415887\n",
       "6  Fully Paid                                          207723 0.2342200839\n",
       "7  In Grace Period                                       6250 0.0070472481\n",
       "8  Issued                                                8396 0.0094669913\n",
       "9  Late (16-30 days)                                     2357 0.0026576582\n",
       "10 Late (31-120 days)                                   11589 0.0130672894"
      ]
     },
     "metadata": {},
     "output_type": "display_data"
    }
   ],
   "source": [
    "loans %>%\n",
    "  group_by(loan_status) %>%\n",
    "  summarise(count = n(), rel_count = count/nrow(loans))"
   ]
  },
  {
   "cell_type": "markdown",
   "metadata": {},
   "source": [
    "<p>It is not immediately obvious what the different values stand for, so we refer to Lending Club&rsquo;s documentation about &ldquo;<a href=\"https://help.lendingclub.com/hc/en-us/articles/215488038-What-do-the-different-Note-statuses-mean-\">What do the different Note statuses mean?</a>&rdquo;</p>\n",
    "<ul>\n",
    "<li>Fully Paid: Loan has been fully repaid, either at the expiration of the 3- or 5-year year term or as a result of a prepayment.</li>\n",
    "<li>Current: Loan is up to date on all outstanding payments.</li>\n",
    "<li>Does not meet the credit policy. Status:Fully Paid: No explanation but see &ldquo;fully paid&rdquo;.</li>\n",
    "<li>Issued: New loan that has passed all Lending Club reviews, received full funding, and has been issued.</li>\n",
    "<li>Charged Off: Loan for which there is no longer a reasonable expectation of further payments. Generally, Charge Off occurs no later than 30 days after the Default status is reached. Upon Charge Off, the remaining principal balance of the Note is deducted from the account balance. Learn more about the&nbsp;<a href=\"https://help.lendingclub.com/hc/en-us/articles/216127747\">difference between &ldquo;default&rdquo; and &ldquo;charge off&rdquo;</a>.</li>\n",
    "<li>Does not meet the credit policy. Status:Charged Off: No explanation but see &ldquo;Charged Off&rdquo;</li>\n",
    "<li>Late (31-120 days): Loan has not been current for 31 to 120 days.</li>\n",
    "<li>In Grace Period: Loan is past due but within the 15-day grace period.</li>\n",
    "<li>Late (16-30 days): Loan has not been current for 16 to 30 days.</li>\n",
    "<li>Default: Loan has not been current for 121 days or more.</li>\n",
    "</ul>\n",
    "<p>Given above information, we will define a default as follows:</p>\n",
    "<p><strong><span style=\"text-decoration: underline;\">Defaulted</span> </strong>loans are in status:</p>\n",
    "<ol>\n",
    "<li>Charged Off</li>\n",
    "<li>Does not meet the credit policy. Status:Charged Off</li>\n",
    "</ol>\n",
    "<p><strong><span style=\"text-decoration: underline;\">Fully Paid</span></strong> loans are in status:</p>\n",
    "<ol>\n",
    "<li>Fully Paid</li>\n",
    "<li>Does not meet the credit policy. Status:Fully Paid</li>\n",
    "</ol>\n",
    "<p>For the other possible statuses we don't have a definite outcome of the loan therefore for these stage we will omit them from our dataset.<br />**In later stages we will consider restore some of the statuses back.</p>"
   ]
  },
  {
   "cell_type": "code",
   "execution_count": 68,
   "metadata": {},
   "outputs": [
    {
     "data": {
      "text/html": [
       "886871"
      ],
      "text/latex": [
       "886871"
      ],
      "text/markdown": [
       "886871"
      ],
      "text/plain": [
       "[1] 886871"
      ]
     },
     "metadata": {},
     "output_type": "display_data"
    },
    {
     "data": {
      "text/html": [
       "255720"
      ],
      "text/latex": [
       "255720"
      ],
      "text/markdown": [
       "255720"
      ],
      "text/plain": [
       "[1] 255720"
      ]
     },
     "metadata": {},
     "output_type": "display_data"
    }
   ],
   "source": [
    "nrow(loans)\n",
    "status<-c(\"Current\", \"Default\",\"In Grace Period\", \"Issued\", \"Late (16-30 days)\",\n",
    "          \"Late (16-30 days)\", \"Late (31-120 days)\"  ) \n",
    "\n",
    "\n",
    "loans <-\n",
    "loans %>% filter(!(loan_status %in% status))\n",
    "nrow(loans)"
   ]
  },
  {
   "cell_type": "code",
   "execution_count": 69,
   "metadata": {},
   "outputs": [],
   "source": [
    "Charged_Off <- \n",
    "  c( \"Charged Off\",\n",
    "    \"Does not meet the credit policy. Status:Charged Off\")\n"
   ]
  },
  {
   "cell_type": "code",
   "execution_count": 70,
   "metadata": {},
   "outputs": [],
   "source": [
    "loans <-\n",
    "  loans %>%\n",
    "  mutate(default = ifelse(!(loan_status %in% Charged_Off), FALSE, TRUE))\n"
   ]
  },
  {
   "cell_type": "markdown",
   "metadata": {},
   "source": [
    "<p>Remove loan_status column because it has been used to define target variable</p>"
   ]
  },
  {
   "cell_type": "code",
   "execution_count": 71,
   "metadata": {},
   "outputs": [],
   "source": [
    "loans <- loans %>% select(-one_of(\"loan_status\"))"
   ]
  },
  {
   "cell_type": "code",
   "execution_count": 72,
   "metadata": {},
   "outputs": [
    {
     "data": {
      "text/html": [
       "<dl>\n",
       "\t<dt>$character</dt>\n",
       "\t\t<dd><ol class=list-inline>\n",
       "\t<li>'verification_status'</li>\n",
       "\t<li>'loanDesc'</li>\n",
       "\t<li>'purpose'</li>\n",
       "\t<li>'title'</li>\n",
       "\t<li>'emp_length'</li>\n",
       "\t<li>'zip_code'</li>\n",
       "\t<li>'addr_state'</li>\n",
       "\t<li>'home_ownership'</li>\n",
       "</ol>\n",
       "</dd>\n",
       "\t<dt>$Date</dt>\n",
       "\t\t<dd><ol class=list-inline>\n",
       "\t<li>'issue_d'</li>\n",
       "\t<li>'last_pymnt_d'</li>\n",
       "\t<li>'next_pymnt_d'</li>\n",
       "\t<li>'last_credit_pull_d'</li>\n",
       "\t<li>'earliest_cr_line'</li>\n",
       "</ol>\n",
       "</dd>\n",
       "\t<dt>$integer</dt>\n",
       "\t\t<dd><ol class=list-inline>\n",
       "\t<li>'loan_id'</li>\n",
       "\t<li>'pymnt_plan'</li>\n",
       "\t<li>'initial_list_status'</li>\n",
       "\t<li>'loan_amnt'</li>\n",
       "\t<li>'funded_amnt'</li>\n",
       "\t<li>'term'</li>\n",
       "\t<li>'collections_12_mths_ex_med'</li>\n",
       "\t<li>'mths_since_last_major_derog'</li>\n",
       "\t<li>'delinq_2yrs'</li>\n",
       "\t<li>'acc_now_delinq'</li>\n",
       "\t<li>'inq_last_6mths'</li>\n",
       "\t<li>'mths_since_last_delinq'</li>\n",
       "\t<li>'mths_since_last_record'</li>\n",
       "\t<li>'open_acc'</li>\n",
       "\t<li>'pub_rec'</li>\n",
       "\t<li>'total_acc'</li>\n",
       "\t<li>'tot_coll_amt'</li>\n",
       "\t<li>'open_acc_6m'</li>\n",
       "\t<li>'open_il_6m'</li>\n",
       "\t<li>'open_il_12m'</li>\n",
       "\t<li>'open_il_24m'</li>\n",
       "\t<li>'mths_since_rcnt_il'</li>\n",
       "\t<li>'total_bal_il'</li>\n",
       "\t<li>'open_rv_12m'</li>\n",
       "\t<li>'open_rv_24m'</li>\n",
       "\t<li>'max_bal_bc'</li>\n",
       "\t<li>'inq_fi'</li>\n",
       "\t<li>'total_cu_tl'</li>\n",
       "\t<li>'inq_last_12m'</li>\n",
       "</ol>\n",
       "</dd>\n",
       "\t<dt>$logical</dt>\n",
       "\t\t<dd>'default'</dd>\n",
       "\t<dt>$numeric</dt>\n",
       "\t\t<dd><ol class=list-inline>\n",
       "\t<li>'funded_amnt_inv'</li>\n",
       "\t<li>'installment'</li>\n",
       "\t<li>'out_prncp'</li>\n",
       "\t<li>'out_prncp_inv'</li>\n",
       "\t<li>'total_pymnt'</li>\n",
       "\t<li>'total_pymnt_inv'</li>\n",
       "\t<li>'total_rec_prncp'</li>\n",
       "\t<li>'total_rec_int'</li>\n",
       "\t<li>'total_rec_late_fee'</li>\n",
       "\t<li>'recoveries'</li>\n",
       "\t<li>'collection_recovery_fee'</li>\n",
       "\t<li>'last_pymnt_amnt'</li>\n",
       "\t<li>'annual_inc'</li>\n",
       "\t<li>'dti'</li>\n",
       "\t<li>'revol_bal'</li>\n",
       "\t<li>'revol_util'</li>\n",
       "\t<li>'tot_cur_bal'</li>\n",
       "\t<li>'il_util'</li>\n",
       "\t<li>'all_util'</li>\n",
       "\t<li>'total_rev_hi_lim'</li>\n",
       "</ol>\n",
       "</dd>\n",
       "</dl>\n"
      ],
      "text/latex": [
       "\\begin{description}\n",
       "\\item[\\$character] \\begin{enumerate*}\n",
       "\\item 'verification\\_status'\n",
       "\\item 'loanDesc'\n",
       "\\item 'purpose'\n",
       "\\item 'title'\n",
       "\\item 'emp\\_length'\n",
       "\\item 'zip\\_code'\n",
       "\\item 'addr\\_state'\n",
       "\\item 'home\\_ownership'\n",
       "\\end{enumerate*}\n",
       "\n",
       "\\item[\\$Date] \\begin{enumerate*}\n",
       "\\item 'issue\\_d'\n",
       "\\item 'last\\_pymnt\\_d'\n",
       "\\item 'next\\_pymnt\\_d'\n",
       "\\item 'last\\_credit\\_pull\\_d'\n",
       "\\item 'earliest\\_cr\\_line'\n",
       "\\end{enumerate*}\n",
       "\n",
       "\\item[\\$integer] \\begin{enumerate*}\n",
       "\\item 'loan\\_id'\n",
       "\\item 'pymnt\\_plan'\n",
       "\\item 'initial\\_list\\_status'\n",
       "\\item 'loan\\_amnt'\n",
       "\\item 'funded\\_amnt'\n",
       "\\item 'term'\n",
       "\\item 'collections\\_12\\_mths\\_ex\\_med'\n",
       "\\item 'mths\\_since\\_last\\_major\\_derog'\n",
       "\\item 'delinq\\_2yrs'\n",
       "\\item 'acc\\_now\\_delinq'\n",
       "\\item 'inq\\_last\\_6mths'\n",
       "\\item 'mths\\_since\\_last\\_delinq'\n",
       "\\item 'mths\\_since\\_last\\_record'\n",
       "\\item 'open\\_acc'\n",
       "\\item 'pub\\_rec'\n",
       "\\item 'total\\_acc'\n",
       "\\item 'tot\\_coll\\_amt'\n",
       "\\item 'open\\_acc\\_6m'\n",
       "\\item 'open\\_il\\_6m'\n",
       "\\item 'open\\_il\\_12m'\n",
       "\\item 'open\\_il\\_24m'\n",
       "\\item 'mths\\_since\\_rcnt\\_il'\n",
       "\\item 'total\\_bal\\_il'\n",
       "\\item 'open\\_rv\\_12m'\n",
       "\\item 'open\\_rv\\_24m'\n",
       "\\item 'max\\_bal\\_bc'\n",
       "\\item 'inq\\_fi'\n",
       "\\item 'total\\_cu\\_tl'\n",
       "\\item 'inq\\_last\\_12m'\n",
       "\\end{enumerate*}\n",
       "\n",
       "\\item[\\$logical] 'default'\n",
       "\\item[\\$numeric] \\begin{enumerate*}\n",
       "\\item 'funded\\_amnt\\_inv'\n",
       "\\item 'installment'\n",
       "\\item 'out\\_prncp'\n",
       "\\item 'out\\_prncp\\_inv'\n",
       "\\item 'total\\_pymnt'\n",
       "\\item 'total\\_pymnt\\_inv'\n",
       "\\item 'total\\_rec\\_prncp'\n",
       "\\item 'total\\_rec\\_int'\n",
       "\\item 'total\\_rec\\_late\\_fee'\n",
       "\\item 'recoveries'\n",
       "\\item 'collection\\_recovery\\_fee'\n",
       "\\item 'last\\_pymnt\\_amnt'\n",
       "\\item 'annual\\_inc'\n",
       "\\item 'dti'\n",
       "\\item 'revol\\_bal'\n",
       "\\item 'revol\\_util'\n",
       "\\item 'tot\\_cur\\_bal'\n",
       "\\item 'il\\_util'\n",
       "\\item 'all\\_util'\n",
       "\\item 'total\\_rev\\_hi\\_lim'\n",
       "\\end{enumerate*}\n",
       "\n",
       "\\end{description}\n"
      ],
      "text/markdown": [
       "$character\n",
       ":   1. 'verification_status'\n",
       "2. 'loanDesc'\n",
       "3. 'purpose'\n",
       "4. 'title'\n",
       "5. 'emp_length'\n",
       "6. 'zip_code'\n",
       "7. 'addr_state'\n",
       "8. 'home_ownership'\n",
       "\n",
       "\n",
       "\n",
       "$Date\n",
       ":   1. 'issue_d'\n",
       "2. 'last_pymnt_d'\n",
       "3. 'next_pymnt_d'\n",
       "4. 'last_credit_pull_d'\n",
       "5. 'earliest_cr_line'\n",
       "\n",
       "\n",
       "\n",
       "$integer\n",
       ":   1. 'loan_id'\n",
       "2. 'pymnt_plan'\n",
       "3. 'initial_list_status'\n",
       "4. 'loan_amnt'\n",
       "5. 'funded_amnt'\n",
       "6. 'term'\n",
       "7. 'collections_12_mths_ex_med'\n",
       "8. 'mths_since_last_major_derog'\n",
       "9. 'delinq_2yrs'\n",
       "10. 'acc_now_delinq'\n",
       "11. 'inq_last_6mths'\n",
       "12. 'mths_since_last_delinq'\n",
       "13. 'mths_since_last_record'\n",
       "14. 'open_acc'\n",
       "15. 'pub_rec'\n",
       "16. 'total_acc'\n",
       "17. 'tot_coll_amt'\n",
       "18. 'open_acc_6m'\n",
       "19. 'open_il_6m'\n",
       "20. 'open_il_12m'\n",
       "21. 'open_il_24m'\n",
       "22. 'mths_since_rcnt_il'\n",
       "23. 'total_bal_il'\n",
       "24. 'open_rv_12m'\n",
       "25. 'open_rv_24m'\n",
       "26. 'max_bal_bc'\n",
       "27. 'inq_fi'\n",
       "28. 'total_cu_tl'\n",
       "29. 'inq_last_12m'\n",
       "\n",
       "\n",
       "\n",
       "$logical\n",
       ":   'default'\n",
       "$numeric\n",
       ":   1. 'funded_amnt_inv'\n",
       "2. 'installment'\n",
       "3. 'out_prncp'\n",
       "4. 'out_prncp_inv'\n",
       "5. 'total_pymnt'\n",
       "6. 'total_pymnt_inv'\n",
       "7. 'total_rec_prncp'\n",
       "8. 'total_rec_int'\n",
       "9. 'total_rec_late_fee'\n",
       "10. 'recoveries'\n",
       "11. 'collection_recovery_fee'\n",
       "12. 'last_pymnt_amnt'\n",
       "13. 'annual_inc'\n",
       "14. 'dti'\n",
       "15. 'revol_bal'\n",
       "16. 'revol_util'\n",
       "17. 'tot_cur_bal'\n",
       "18. 'il_util'\n",
       "19. 'all_util'\n",
       "20. 'total_rev_hi_lim'\n",
       "\n",
       "\n",
       "\n",
       "\n",
       "\n"
      ],
      "text/plain": [
       "$character\n",
       "[1] \"verification_status\" \"loanDesc\"            \"purpose\"            \n",
       "[4] \"title\"               \"emp_length\"          \"zip_code\"           \n",
       "[7] \"addr_state\"          \"home_ownership\"     \n",
       "\n",
       "$Date\n",
       "[1] \"issue_d\"            \"last_pymnt_d\"       \"next_pymnt_d\"      \n",
       "[4] \"last_credit_pull_d\" \"earliest_cr_line\"  \n",
       "\n",
       "$integer\n",
       " [1] \"loan_id\"                     \"pymnt_plan\"                 \n",
       " [3] \"initial_list_status\"         \"loan_amnt\"                  \n",
       " [5] \"funded_amnt\"                 \"term\"                       \n",
       " [7] \"collections_12_mths_ex_med\"  \"mths_since_last_major_derog\"\n",
       " [9] \"delinq_2yrs\"                 \"acc_now_delinq\"             \n",
       "[11] \"inq_last_6mths\"              \"mths_since_last_delinq\"     \n",
       "[13] \"mths_since_last_record\"      \"open_acc\"                   \n",
       "[15] \"pub_rec\"                     \"total_acc\"                  \n",
       "[17] \"tot_coll_amt\"                \"open_acc_6m\"                \n",
       "[19] \"open_il_6m\"                  \"open_il_12m\"                \n",
       "[21] \"open_il_24m\"                 \"mths_since_rcnt_il\"         \n",
       "[23] \"total_bal_il\"                \"open_rv_12m\"                \n",
       "[25] \"open_rv_24m\"                 \"max_bal_bc\"                 \n",
       "[27] \"inq_fi\"                      \"total_cu_tl\"                \n",
       "[29] \"inq_last_12m\"               \n",
       "\n",
       "$logical\n",
       "[1] \"default\"\n",
       "\n",
       "$numeric\n",
       " [1] \"funded_amnt_inv\"         \"installment\"            \n",
       " [3] \"out_prncp\"               \"out_prncp_inv\"          \n",
       " [5] \"total_pymnt\"             \"total_pymnt_inv\"        \n",
       " [7] \"total_rec_prncp\"         \"total_rec_int\"          \n",
       " [9] \"total_rec_late_fee\"      \"recoveries\"             \n",
       "[11] \"collection_recovery_fee\" \"last_pymnt_amnt\"        \n",
       "[13] \"annual_inc\"              \"dti\"                    \n",
       "[15] \"revol_bal\"               \"revol_util\"             \n",
       "[17] \"tot_cur_bal\"             \"il_util\"                \n",
       "[19] \"all_util\"                \"total_rev_hi_lim\"       \n"
      ]
     },
     "metadata": {},
     "output_type": "display_data"
    }
   ],
   "source": [
    "split(names(loans),sapply(loans, function(x) paste(class(x), collapse=\" \")))"
   ]
  },
  {
   "cell_type": "code",
   "execution_count": 73,
   "metadata": {},
   "outputs": [],
   "source": [
    "#Recreate Meta Loans\n",
    "meta_loans <- funModeling::df_status(loans, print_results = FALSE)\n",
    "meta_loans <-\n",
    "  meta_loans %>%\n",
    "  mutate(uniq_rat = unique / nrow(loans)) %>%\n",
    "  mutate(unique = unique, uniq_rat = scales::percent(uniq_rat))"
   ]
  },
  {
   "cell_type": "code",
   "execution_count": 74,
   "metadata": {
    "scrolled": true
   },
   "outputs": [
    {
     "data": {
      "text/html": [
       "<table>\n",
       "<thead><tr><th scope=col>variable</th><th scope=col>p_zeros</th><th scope=col>p_na</th><th scope=col>unique</th><th scope=col>uniq_rat</th></tr></thead>\n",
       "<tbody>\n",
       "\t<tr><td>loanDesc           </td><td>0                  </td><td>64.51              </td><td>90034              </td><td>35.2%              </td></tr>\n",
       "\t<tr><td>title              </td><td>0                  </td><td> 0.01              </td><td>49426              </td><td>19.3%              </td></tr>\n",
       "\t<tr><td>verification_status</td><td>0                  </td><td> 0.00              </td><td>    3              </td><td>0.0%               </td></tr>\n",
       "\t<tr><td>purpose            </td><td>0                  </td><td> 0.00              </td><td>   14              </td><td>0.0%               </td></tr>\n",
       "\t<tr><td>emp_length         </td><td>0                  </td><td> 0.00              </td><td>   12              </td><td>0.0%               </td></tr>\n",
       "\t<tr><td>zip_code           </td><td>0                  </td><td> 0.00              </td><td>  889              </td><td>0.3%               </td></tr>\n",
       "\t<tr><td>addr_state         </td><td>0                  </td><td> 0.00              </td><td>   51              </td><td>0.0%               </td></tr>\n",
       "\t<tr><td>home_ownership     </td><td>0                  </td><td> 0.00              </td><td>    6              </td><td>0.0%               </td></tr>\n",
       "</tbody>\n",
       "</table>\n"
      ],
      "text/latex": [
       "\\begin{tabular}{r|lllll}\n",
       " variable & p\\_zeros & p\\_na & unique & uniq\\_rat\\\\\n",
       "\\hline\n",
       "\t loanDesc            & 0                   & 64.51               & 90034               & 35.2\\%            \\\\\n",
       "\t title               & 0                   &  0.01               & 49426               & 19.3\\%            \\\\\n",
       "\t verification\\_status & 0                     &  0.00                 &     3                 & 0.0\\%               \\\\\n",
       "\t purpose             & 0                   &  0.00               &    14               & 0.0\\%             \\\\\n",
       "\t emp\\_length          & 0                     &  0.00                 &    12                 & 0.0\\%               \\\\\n",
       "\t zip\\_code            & 0                     &  0.00                 &   889                 & 0.3\\%               \\\\\n",
       "\t addr\\_state          & 0                     &  0.00                 &    51                 & 0.0\\%               \\\\\n",
       "\t home\\_ownership      & 0                     &  0.00                 &     6                 & 0.0\\%               \\\\\n",
       "\\end{tabular}\n"
      ],
      "text/markdown": [
       "\n",
       "variable | p_zeros | p_na | unique | uniq_rat | \n",
       "|---|---|---|---|---|---|---|---|\n",
       "| loanDesc            | 0                   | 64.51               | 90034               | 35.2%               | \n",
       "| title               | 0                   |  0.01               | 49426               | 19.3%               | \n",
       "| verification_status | 0                   |  0.00               |     3               | 0.0%                | \n",
       "| purpose             | 0                   |  0.00               |    14               | 0.0%                | \n",
       "| emp_length          | 0                   |  0.00               |    12               | 0.0%                | \n",
       "| zip_code            | 0                   |  0.00               |   889               | 0.3%                | \n",
       "| addr_state          | 0                   |  0.00               |    51               | 0.0%                | \n",
       "| home_ownership      | 0                   |  0.00               |     6               | 0.0%                | \n",
       "\n",
       "\n"
      ],
      "text/plain": [
       "  variable            p_zeros p_na  unique uniq_rat\n",
       "1 loanDesc            0       64.51 90034  35.2%   \n",
       "2 title               0        0.01 49426  19.3%   \n",
       "3 verification_status 0        0.00     3  0.0%    \n",
       "4 purpose             0        0.00    14  0.0%    \n",
       "5 emp_length          0        0.00    12  0.0%    \n",
       "6 zip_code            0        0.00   889  0.3%    \n",
       "7 addr_state          0        0.00    51  0.0%    \n",
       "8 home_ownership      0        0.00     6  0.0%    "
      ]
     },
     "metadata": {},
     "output_type": "display_data"
    }
   ],
   "source": [
    "cv <- c('verification_status','loanDesc', 'purpose' ,'title','emp_length','zip_code', 'addr_state', 'home_ownership')\n",
    "meta_loans %>%\n",
    "  select(variable, p_zeros, p_na, unique,uniq_rat) %>% arrange(desc(p_na))  %>% filter_(~ variable %in% cv)"
   ]
  },
  {
   "cell_type": "markdown",
   "metadata": {},
   "source": [
    "<h3>Excluding Columns (2)</h3>\n",
    "<ol>\n",
    "<li>An attribute <span style=\"text-decoration: underline; color: #0000ff;\">loanDesc </span>has over 30% unique values, it seems borrowers are free to describe their loan application. <br /><em><span style=\"text-decoration: underline;\">Note:</span> </em>In a more sophisticated modeling , may be used to checking the strings for &ldquo;indicator words&rdquo; that may be associated with an honest or a dishonest candidate as we have the purpose of the loan.</li>\n",
    "<li>An attribute <span style=\"text-decoration: underline; color: #0000ff;\">title </span>has a lot of unique values, it seems borrowers are free to describe their title for the loan application. <br /><em><span style=\"text-decoration: underline;\">Note:</span> </em>In a more sophisticated modeling , may be used to checking the strings for &ldquo;indicator words&rdquo; that may be associated with an honest or a dishonest candidate as we have the purpose of the loan.</li>\n",
    "</ol>"
   ]
  },
  {
   "cell_type": "code",
   "execution_count": 75,
   "metadata": {},
   "outputs": [
    {
     "data": {
      "text/html": [
       "63"
      ],
      "text/latex": [
       "63"
      ],
      "text/markdown": [
       "63"
      ],
      "text/plain": [
       "[1] 63"
      ]
     },
     "metadata": {},
     "output_type": "display_data"
    },
    {
     "data": {
      "text/html": [
       "61"
      ],
      "text/latex": [
       "61"
      ],
      "text/markdown": [
       "61"
      ],
      "text/plain": [
       "[1] 61"
      ]
     },
     "metadata": {},
     "output_type": "display_data"
    }
   ],
   "source": [
    "exclude <- c(\"loanDesc\",\"title\")\n",
    "ncol(loans)\n",
    "loans <- excludeColumns(loans,exclude)\n",
    "ncol(loans)"
   ]
  },
  {
   "cell_type": "code",
   "execution_count": 48,
   "metadata": {},
   "outputs": [],
   "source": [
    "cv <- c('verification_status', 'purpose' ,'emp_length', 'home_ownership')\n",
    "tab <- CreateTableOne(vars = cv, data = loans)"
   ]
  },
  {
   "cell_type": "code",
   "execution_count": null,
   "metadata": {},
   "outputs": [],
   "source": [
    "summary(tab)"
   ]
  },
  {
   "cell_type": "code",
   "execution_count": 76,
   "metadata": {},
   "outputs": [
    {
     "data": {
      "text/html": [
       "<table>\n",
       "<thead><tr><th scope=col>zip_code</th><th scope=col>addr_state</th></tr></thead>\n",
       "<tbody>\n",
       "\t<tr><td>860xx</td><td>AZ   </td></tr>\n",
       "\t<tr><td>309xx</td><td>GA   </td></tr>\n",
       "\t<tr><td>606xx</td><td>IL   </td></tr>\n",
       "\t<tr><td>917xx</td><td>CA   </td></tr>\n",
       "\t<tr><td>852xx</td><td>AZ   </td></tr>\n",
       "\t<tr><td>900xx</td><td>CA   </td></tr>\n",
       "</tbody>\n",
       "</table>\n"
      ],
      "text/latex": [
       "\\begin{tabular}{r|ll}\n",
       " zip\\_code & addr\\_state\\\\\n",
       "\\hline\n",
       "\t 860xx & AZ   \\\\\n",
       "\t 309xx & GA   \\\\\n",
       "\t 606xx & IL   \\\\\n",
       "\t 917xx & CA   \\\\\n",
       "\t 852xx & AZ   \\\\\n",
       "\t 900xx & CA   \\\\\n",
       "\\end{tabular}\n"
      ],
      "text/markdown": [
       "\n",
       "zip_code | addr_state | \n",
       "|---|---|---|---|---|---|\n",
       "| 860xx | AZ    | \n",
       "| 309xx | GA    | \n",
       "| 606xx | IL    | \n",
       "| 917xx | CA    | \n",
       "| 852xx | AZ    | \n",
       "| 900xx | CA    | \n",
       "\n",
       "\n"
      ],
      "text/plain": [
       "  zip_code addr_state\n",
       "1 860xx    AZ        \n",
       "2 309xx    GA        \n",
       "3 606xx    IL        \n",
       "4 917xx    CA        \n",
       "5 852xx    AZ        \n",
       "6 900xx    CA        "
      ]
     },
     "metadata": {},
     "output_type": "display_data"
    }
   ],
   "source": [
    "head(loans %>% select(zip_code,addr_state))"
   ]
  },
  {
   "cell_type": "markdown",
   "metadata": {},
   "source": [
    "<p>We can see that the zip codes in our dataset are only the first 3 digits and then XX.</p>\n",
    "<p>By Wikipedia&nbsp;<a href=\"https://en.wikipedia.org/wiki/List_of_ZIP_code_prefixes\">ZipCodePrefixes</a>&nbsp;-<br />three-digit ZIP code prefix shows where that ZIP code prefix is located, and the name of the&nbsp;<a title=\"United States Postal Service\" href=\"https://en.wikipedia.org/wiki/United_States_Postal_Service\">United States Postal Service</a>&nbsp;(USPS)&nbsp;<a class=\"mw-redirect\" title=\"Sectional Center Facility\" href=\"https://en.wikipedia.org/wiki/Sectional_Center_Facility\">Sectional Center Facility</a>&nbsp;(SCF) that serves that ZIP code prefix.</p>\n",
    "<p>We can't detect the exact city from it so we will remove this column and stay only with the state definition.</p>\n",
    "<p>The states are also abbreviated to their 2 letters representation.</p>\n",
    "<p>We will transform this column to the full state name using openintro package with a function\n",
    "<pre><a id=\"sym-abbr2state\" class=\"mini-popup mini-highlight visible\" href=\"https://rdrr.io/cran/openintro/man/abbr2state.html\" data-mini-url=\"/cran/openintro/man/abbr2state.minihtml\">abbr2state</a></pre></p>"
   ]
  },
  {
   "cell_type": "code",
   "execution_count": 77,
   "metadata": {},
   "outputs": [],
   "source": [
    "copy1 <- loans"
   ]
  },
  {
   "cell_type": "code",
   "execution_count": 79,
   "metadata": {},
   "outputs": [
    {
     "data": {
      "text/html": [
       "<table>\n",
       "<thead><tr><th scope=col>addr_state</th></tr></thead>\n",
       "<tbody>\n",
       "\t<tr><td>Arizona   </td></tr>\n",
       "\t<tr><td>Georgia   </td></tr>\n",
       "\t<tr><td>Illinois  </td></tr>\n",
       "\t<tr><td>California</td></tr>\n",
       "\t<tr><td>Arizona   </td></tr>\n",
       "\t<tr><td>California</td></tr>\n",
       "</tbody>\n",
       "</table>\n"
      ],
      "text/latex": [
       "\\begin{tabular}{r|l}\n",
       " addr\\_state\\\\\n",
       "\\hline\n",
       "\t Arizona   \\\\\n",
       "\t Georgia   \\\\\n",
       "\t Illinois  \\\\\n",
       "\t California\\\\\n",
       "\t Arizona   \\\\\n",
       "\t California\\\\\n",
       "\\end{tabular}\n"
      ],
      "text/markdown": [
       "\n",
       "addr_state | \n",
       "|---|---|---|---|---|---|\n",
       "| Arizona    | \n",
       "| Georgia    | \n",
       "| Illinois   | \n",
       "| California | \n",
       "| Arizona    | \n",
       "| California | \n",
       "\n",
       "\n"
      ],
      "text/plain": [
       "  addr_state\n",
       "1 Arizona   \n",
       "2 Georgia   \n",
       "3 Illinois  \n",
       "4 California\n",
       "5 Arizona   \n",
       "6 California"
      ]
     },
     "metadata": {},
     "output_type": "display_data"
    }
   ],
   "source": [
    "loans <- loans %>% select(-one_of(\"zip_code\"))\n",
    "loans <- loans %>%select(everything())%>%mutate(addr_state= abbr2state(loans$addr_state)) \n",
    "head(loans %>% select(addr_state))"
   ]
  },
  {
   "cell_type": "code",
   "execution_count": 80,
   "metadata": {},
   "outputs": [],
   "source": [
    "##LoansBeforeEncoding\n",
    "loansBE <- loans\n",
    "writeSQL(loansBE, \"loans_beforeHotEncoding\")\n",
    "##loansBE = readSQL(\"SELECT * FROM loans_beforeDataSet\")"
   ]
  },
  {
   "cell_type": "code",
   "execution_count": 81,
   "metadata": {},
   "outputs": [],
   "source": [
    "## one-hot-encoding...\n",
    "one_hot_encoding <- function(data,id,category,prefix) {\n",
    "    require(dplyr)\n",
    "    cat <- levels(factor(data[[category]]))\n",
    "    res <- data %>% group_by_(id) %>% select_(id) %>% distinct_()\n",
    "    for (l in 1:length(cat)) {\n",
    "        #cname <- paste(prefix,l,sep=\"_\")\n",
    "        #data[[cname]] <- ifelse(data[[category]]==cat[l],1,0)\n",
    "        #cc1 <- data %>% group_by_(id) %>% summarise_(cname=max(cname)) %>% select_(id,cname)\n",
    "        #res <- cbind(res, cc1[,2])\n",
    "        cname <- paste(prefix,l,sep=\"_\")\n",
    "        ncat <- \"newcat\"\n",
    "        data[[ncat]] <- ifelse(data[[category]]==cat[l],1,0)\n",
    "        cc1 <- data %>% select_(id,ncat) %>% group_by_(id) %>% \n",
    "               summarise(newcat=max(newcat))\n",
    "        res[[cname]] <- cc1$newcat\n",
    "    }\n",
    "    return(res)\n",
    "}"
   ]
  },
  {
   "cell_type": "code",
   "execution_count": null,
   "metadata": {},
   "outputs": [],
   "source": [
    "loans <- loansBE\n",
    "nrow(loans)\n",
    "head(loans)"
   ]
  },
  {
   "cell_type": "code",
   "execution_count": null,
   "metadata": {
    "scrolled": true
   },
   "outputs": [],
   "source": [
    "head(one_hot_encoding(data=loans,id=\"loan_id\",category=\"verification_status\",prefix=\"verif\"))\n"
   ]
  },
  {
   "cell_type": "code",
   "execution_count": 82,
   "metadata": {
    "scrolled": true
   },
   "outputs": [
    {
     "name": "stderr",
     "output_type": "stream",
     "text": [
      "Joining, by = \"loan_id\"\n"
     ]
    }
   ],
   "source": [
    "loans <- inner_join(loans,one_hot_encoding(data=loans,id=\"loan_id\",category=\"verification_status\",prefix=\"verif\"))"
   ]
  },
  {
   "cell_type": "code",
   "execution_count": 83,
   "metadata": {},
   "outputs": [
    {
     "data": {
      "text/html": [
       "255720"
      ],
      "text/latex": [
       "255720"
      ],
      "text/markdown": [
       "255720"
      ],
      "text/plain": [
       "[1] 255720"
      ]
     },
     "metadata": {},
     "output_type": "display_data"
    },
    {
     "data": {
      "text/html": [
       "<table>\n",
       "<thead><tr><th scope=col>loan_id</th><th scope=col>verification_status</th><th scope=col>issue_d</th><th scope=col>pymnt_plan</th><th scope=col>purpose</th><th scope=col>initial_list_status</th><th scope=col>emp_length</th><th scope=col>addr_state</th><th scope=col>loan_amnt</th><th scope=col>funded_amnt</th><th scope=col>...</th><th scope=col>max_bal_bc</th><th scope=col>all_util</th><th scope=col>total_rev_hi_lim</th><th scope=col>inq_fi</th><th scope=col>total_cu_tl</th><th scope=col>inq_last_12m</th><th scope=col>default</th><th scope=col>verif_1</th><th scope=col>verif_2</th><th scope=col>verif_3</th></tr></thead>\n",
       "<tbody>\n",
       "\t<tr><td>1077501        </td><td>Verified       </td><td>2011-12-01     </td><td>0              </td><td>credit_card    </td><td>1              </td><td>10+ years      </td><td>Arizona        </td><td> 5000          </td><td> 5000          </td><td>...            </td><td>NA             </td><td>NA             </td><td>NA             </td><td>NA             </td><td>NA             </td><td>NA             </td><td>FALSE          </td><td>0              </td><td>0              </td><td>1              </td></tr>\n",
       "\t<tr><td>1077430                                               </td><td>Source Verified                                       </td><td>2011-12-01                                            </td><td>0                                                     </td><td><span style=white-space:pre-wrap>car           </span></td><td>1                                                     </td><td>&lt; 1 year                                           </td><td><span style=white-space:pre-wrap>Georgia   </span>    </td><td> 2500                                                 </td><td> 2500                                                 </td><td>...                                                   </td><td>NA                                                    </td><td>NA                                                    </td><td>NA                                                    </td><td>NA                                                    </td><td>NA                                                    </td><td>NA                                                    </td><td> TRUE                                                 </td><td>1                                                     </td><td>0                                                     </td><td>0                                                     </td></tr>\n",
       "\t<tr><td>1077175        </td><td>Not Verified   </td><td>2011-12-01     </td><td>0              </td><td>small_business </td><td>1              </td><td>10+ years      </td><td>Illinois       </td><td> 2400          </td><td> 2400          </td><td>...            </td><td>NA             </td><td>NA             </td><td>NA             </td><td>NA             </td><td>NA             </td><td>NA             </td><td>FALSE          </td><td>1              </td><td>0              </td><td>0              </td></tr>\n",
       "\t<tr><td>1076863        </td><td>Source Verified</td><td>2011-12-01     </td><td>0              </td><td>other          </td><td>1              </td><td>10+ years      </td><td>California     </td><td>10000          </td><td>10000          </td><td>...            </td><td>NA             </td><td>NA             </td><td>NA             </td><td>NA             </td><td>NA             </td><td>NA             </td><td>FALSE          </td><td>0              </td><td>0              </td><td>1              </td></tr>\n",
       "\t<tr><td>1075269        </td><td>Source Verified</td><td>2011-12-01     </td><td>0              </td><td>wedding        </td><td>1              </td><td>3 years        </td><td>Arizona        </td><td> 5000          </td><td> 5000          </td><td>...            </td><td>NA             </td><td>NA             </td><td>NA             </td><td>NA             </td><td>NA             </td><td>NA             </td><td>FALSE          </td><td>0              </td><td>0              </td><td>1              </td></tr>\n",
       "\t<tr><td>1072053        </td><td>Source Verified</td><td>2011-12-01     </td><td>0              </td><td>car            </td><td>1              </td><td>9 years        </td><td>California     </td><td> 3000          </td><td> 3000          </td><td>...            </td><td>NA             </td><td>NA             </td><td>NA             </td><td>NA             </td><td>NA             </td><td>NA             </td><td>FALSE          </td><td>1              </td><td>0              </td><td>0              </td></tr>\n",
       "</tbody>\n",
       "</table>\n"
      ],
      "text/latex": [
       "\\begin{tabular}{r|lllllllllllllllllllllllllllllllllllllllllllllllllllllllllllllll}\n",
       " loan\\_id & verification\\_status & issue\\_d & pymnt\\_plan & purpose & initial\\_list\\_status & emp\\_length & addr\\_state & loan\\_amnt & funded\\_amnt & ... & max\\_bal\\_bc & all\\_util & total\\_rev\\_hi\\_lim & inq\\_fi & total\\_cu\\_tl & inq\\_last\\_12m & default & verif\\_1 & verif\\_2 & verif\\_3\\\\\n",
       "\\hline\n",
       "\t 1077501          & Verified         & 2011-12-01       & 0                & credit\\_card    & 1                & 10+ years        & Arizona          &  5000            &  5000            & ...              & NA               & NA               & NA               & NA               & NA               & NA               & FALSE            & 0                & 0                & 1               \\\\\n",
       "\t 1077430         & Source Verified & 2011-12-01      & 0               & car             & 1               & < 1 year        & Georgia         &  2500           &  2500           & ...             & NA              & NA              & NA              & NA              & NA              & NA              &  TRUE           & 1               & 0               & 0              \\\\\n",
       "\t 1077175          & Not Verified     & 2011-12-01       & 0                & small\\_business & 1                & 10+ years        & Illinois         &  2400            &  2400            & ...              & NA               & NA               & NA               & NA               & NA               & NA               & FALSE            & 1                & 0                & 0               \\\\\n",
       "\t 1076863         & Source Verified & 2011-12-01      & 0               & other           & 1               & 10+ years       & California      & 10000           & 10000           & ...             & NA              & NA              & NA              & NA              & NA              & NA              & FALSE           & 0               & 0               & 1              \\\\\n",
       "\t 1075269         & Source Verified & 2011-12-01      & 0               & wedding         & 1               & 3 years         & Arizona         &  5000           &  5000           & ...             & NA              & NA              & NA              & NA              & NA              & NA              & FALSE           & 0               & 0               & 1              \\\\\n",
       "\t 1072053         & Source Verified & 2011-12-01      & 0               & car             & 1               & 9 years         & California      &  3000           &  3000           & ...             & NA              & NA              & NA              & NA              & NA              & NA              & FALSE           & 1               & 0               & 0              \\\\\n",
       "\\end{tabular}\n"
      ],
      "text/markdown": [
       "\n",
       "loan_id | verification_status | issue_d | pymnt_plan | purpose | initial_list_status | emp_length | addr_state | loan_amnt | funded_amnt | ... | max_bal_bc | all_util | total_rev_hi_lim | inq_fi | total_cu_tl | inq_last_12m | default | verif_1 | verif_2 | verif_3 | \n",
       "|---|---|---|---|---|---|\n",
       "| 1077501         | Verified        | 2011-12-01      | 0               | credit_card     | 1               | 10+ years       | Arizona         |  5000           |  5000           | ...             | NA              | NA              | NA              | NA              | NA              | NA              | FALSE           | 0               | 0               | 1               | \n",
       "| 1077430         | Source Verified | 2011-12-01      | 0               | car             | 1               | < 1 year        | Georgia         |  2500           |  2500           | ...             | NA              | NA              | NA              | NA              | NA              | NA              |  TRUE           | 1               | 0               | 0               | \n",
       "| 1077175         | Not Verified    | 2011-12-01      | 0               | small_business  | 1               | 10+ years       | Illinois        |  2400           |  2400           | ...             | NA              | NA              | NA              | NA              | NA              | NA              | FALSE           | 1               | 0               | 0               | \n",
       "| 1076863         | Source Verified | 2011-12-01      | 0               | other           | 1               | 10+ years       | California      | 10000           | 10000           | ...             | NA              | NA              | NA              | NA              | NA              | NA              | FALSE           | 0               | 0               | 1               | \n",
       "| 1075269         | Source Verified | 2011-12-01      | 0               | wedding         | 1               | 3 years         | Arizona         |  5000           |  5000           | ...             | NA              | NA              | NA              | NA              | NA              | NA              | FALSE           | 0               | 0               | 1               | \n",
       "| 1072053         | Source Verified | 2011-12-01      | 0               | car             | 1               | 9 years         | California      |  3000           |  3000           | ...             | NA              | NA              | NA              | NA              | NA              | NA              | FALSE           | 1               | 0               | 0               | \n",
       "\n",
       "\n"
      ],
      "text/plain": [
       "  loan_id verification_status issue_d    pymnt_plan purpose       \n",
       "1 1077501 Verified            2011-12-01 0          credit_card   \n",
       "2 1077430 Source Verified     2011-12-01 0          car           \n",
       "3 1077175 Not Verified        2011-12-01 0          small_business\n",
       "4 1076863 Source Verified     2011-12-01 0          other         \n",
       "5 1075269 Source Verified     2011-12-01 0          wedding       \n",
       "6 1072053 Source Verified     2011-12-01 0          car           \n",
       "  initial_list_status emp_length addr_state loan_amnt funded_amnt ...\n",
       "1 1                   10+ years  Arizona     5000      5000       ...\n",
       "2 1                   < 1 year   Georgia     2500      2500       ...\n",
       "3 1                   10+ years  Illinois    2400      2400       ...\n",
       "4 1                   10+ years  California 10000     10000       ...\n",
       "5 1                   3 years    Arizona     5000      5000       ...\n",
       "6 1                   9 years    California  3000      3000       ...\n",
       "  max_bal_bc all_util total_rev_hi_lim inq_fi total_cu_tl inq_last_12m default\n",
       "1 NA         NA       NA               NA     NA          NA           FALSE  \n",
       "2 NA         NA       NA               NA     NA          NA            TRUE  \n",
       "3 NA         NA       NA               NA     NA          NA           FALSE  \n",
       "4 NA         NA       NA               NA     NA          NA           FALSE  \n",
       "5 NA         NA       NA               NA     NA          NA           FALSE  \n",
       "6 NA         NA       NA               NA     NA          NA           FALSE  \n",
       "  verif_1 verif_2 verif_3\n",
       "1 0       0       1      \n",
       "2 1       0       0      \n",
       "3 1       0       0      \n",
       "4 0       0       1      \n",
       "5 0       0       1      \n",
       "6 1       0       0      "
      ]
     },
     "metadata": {},
     "output_type": "display_data"
    }
   ],
   "source": [
    "nrow(loans)\n",
    "head(loans)"
   ]
  },
  {
   "cell_type": "code",
   "execution_count": null,
   "metadata": {
    "scrolled": true
   },
   "outputs": [],
   "source": [
    "head(one_hot_encoding(data=loans,id=\"loan_id\",category=\"purpose\",prefix=\"purpose\"))\n"
   ]
  },
  {
   "cell_type": "code",
   "execution_count": 84,
   "metadata": {
    "scrolled": true
   },
   "outputs": [
    {
     "name": "stderr",
     "output_type": "stream",
     "text": [
      "Joining, by = \"loan_id\"\n"
     ]
    }
   ],
   "source": [
    "loans <- inner_join(loans,one_hot_encoding(data=loans,id=\"loan_id\",category=\"purpose\",prefix=\"purpose\"))"
   ]
  },
  {
   "cell_type": "code",
   "execution_count": 85,
   "metadata": {},
   "outputs": [
    {
     "data": {
      "text/html": [
       "255720"
      ],
      "text/latex": [
       "255720"
      ],
      "text/markdown": [
       "255720"
      ],
      "text/plain": [
       "[1] 255720"
      ]
     },
     "metadata": {},
     "output_type": "display_data"
    },
    {
     "data": {
      "text/html": [
       "<table>\n",
       "<thead><tr><th scope=col>loan_id</th><th scope=col>verification_status</th><th scope=col>issue_d</th><th scope=col>pymnt_plan</th><th scope=col>purpose</th><th scope=col>initial_list_status</th><th scope=col>emp_length</th><th scope=col>addr_state</th><th scope=col>loan_amnt</th><th scope=col>funded_amnt</th><th scope=col>...</th><th scope=col>purpose_5</th><th scope=col>purpose_6</th><th scope=col>purpose_7</th><th scope=col>purpose_8</th><th scope=col>purpose_9</th><th scope=col>purpose_10</th><th scope=col>purpose_11</th><th scope=col>purpose_12</th><th scope=col>purpose_13</th><th scope=col>purpose_14</th></tr></thead>\n",
       "<tbody>\n",
       "\t<tr><td>1077501        </td><td>Verified       </td><td>2011-12-01     </td><td>0              </td><td>credit_card    </td><td>1              </td><td>10+ years      </td><td>Arizona        </td><td> 5000          </td><td> 5000          </td><td>...            </td><td>0              </td><td>0              </td><td>0              </td><td>0              </td><td>0              </td><td>0              </td><td>0              </td><td>0              </td><td>0              </td><td>0              </td></tr>\n",
       "\t<tr><td>1077430                                               </td><td>Source Verified                                       </td><td>2011-12-01                                            </td><td>0                                                     </td><td><span style=white-space:pre-wrap>car           </span></td><td>1                                                     </td><td>&lt; 1 year                                           </td><td><span style=white-space:pre-wrap>Georgia   </span>    </td><td> 2500                                                 </td><td> 2500                                                 </td><td>...                                                   </td><td>0                                                     </td><td>0                                                     </td><td>0                                                     </td><td>0                                                     </td><td>0                                                     </td><td>0                                                     </td><td>0                                                     </td><td>0                                                     </td><td>0                                                     </td><td>0                                                     </td></tr>\n",
       "\t<tr><td>1077175        </td><td>Not Verified   </td><td>2011-12-01     </td><td>0              </td><td>small_business </td><td>1              </td><td>10+ years      </td><td>Illinois       </td><td> 2400          </td><td> 2400          </td><td>...            </td><td>0              </td><td>0              </td><td>0              </td><td>0              </td><td>0              </td><td>0              </td><td>0              </td><td>0              </td><td>0              </td><td>0              </td></tr>\n",
       "\t<tr><td>1076863        </td><td>Source Verified</td><td>2011-12-01     </td><td>0              </td><td>other          </td><td>1              </td><td>10+ years      </td><td>California     </td><td>10000          </td><td>10000          </td><td>...            </td><td>0              </td><td>0              </td><td>0              </td><td>0              </td><td>0              </td><td>0              </td><td>0              </td><td>0              </td><td>0              </td><td>0              </td></tr>\n",
       "\t<tr><td>1075269        </td><td>Source Verified</td><td>2011-12-01     </td><td>0              </td><td>wedding        </td><td>1              </td><td>3 years        </td><td>Arizona        </td><td> 5000          </td><td> 5000          </td><td>...            </td><td>0              </td><td>0              </td><td>0              </td><td>0              </td><td>0              </td><td>0              </td><td>0              </td><td>0              </td><td>0              </td><td>0              </td></tr>\n",
       "\t<tr><td>1072053        </td><td>Source Verified</td><td>2011-12-01     </td><td>0              </td><td>car            </td><td>1              </td><td>9 years        </td><td>California     </td><td> 3000          </td><td> 3000          </td><td>...            </td><td>0              </td><td>0              </td><td>0              </td><td>0              </td><td>0              </td><td>0              </td><td>0              </td><td>0              </td><td>0              </td><td>0              </td></tr>\n",
       "</tbody>\n",
       "</table>\n"
      ],
      "text/latex": [
       "\\begin{tabular}{r|lllllllllllllllllllllllllllllllllllllllllllllllllllllllllllllllllllllllllllll}\n",
       " loan\\_id & verification\\_status & issue\\_d & pymnt\\_plan & purpose & initial\\_list\\_status & emp\\_length & addr\\_state & loan\\_amnt & funded\\_amnt & ... & purpose\\_5 & purpose\\_6 & purpose\\_7 & purpose\\_8 & purpose\\_9 & purpose\\_10 & purpose\\_11 & purpose\\_12 & purpose\\_13 & purpose\\_14\\\\\n",
       "\\hline\n",
       "\t 1077501          & Verified         & 2011-12-01       & 0                & credit\\_card    & 1                & 10+ years        & Arizona          &  5000            &  5000            & ...              & 0                & 0                & 0                & 0                & 0                & 0                & 0                & 0                & 0                & 0               \\\\\n",
       "\t 1077430         & Source Verified & 2011-12-01      & 0               & car             & 1               & < 1 year        & Georgia         &  2500           &  2500           & ...             & 0               & 0               & 0               & 0               & 0               & 0               & 0               & 0               & 0               & 0              \\\\\n",
       "\t 1077175          & Not Verified     & 2011-12-01       & 0                & small\\_business & 1                & 10+ years        & Illinois         &  2400            &  2400            & ...              & 0                & 0                & 0                & 0                & 0                & 0                & 0                & 0                & 0                & 0               \\\\\n",
       "\t 1076863         & Source Verified & 2011-12-01      & 0               & other           & 1               & 10+ years       & California      & 10000           & 10000           & ...             & 0               & 0               & 0               & 0               & 0               & 0               & 0               & 0               & 0               & 0              \\\\\n",
       "\t 1075269         & Source Verified & 2011-12-01      & 0               & wedding         & 1               & 3 years         & Arizona         &  5000           &  5000           & ...             & 0               & 0               & 0               & 0               & 0               & 0               & 0               & 0               & 0               & 0              \\\\\n",
       "\t 1072053         & Source Verified & 2011-12-01      & 0               & car             & 1               & 9 years         & California      &  3000           &  3000           & ...             & 0               & 0               & 0               & 0               & 0               & 0               & 0               & 0               & 0               & 0              \\\\\n",
       "\\end{tabular}\n"
      ],
      "text/markdown": [
       "\n",
       "loan_id | verification_status | issue_d | pymnt_plan | purpose | initial_list_status | emp_length | addr_state | loan_amnt | funded_amnt | ... | purpose_5 | purpose_6 | purpose_7 | purpose_8 | purpose_9 | purpose_10 | purpose_11 | purpose_12 | purpose_13 | purpose_14 | \n",
       "|---|---|---|---|---|---|\n",
       "| 1077501         | Verified        | 2011-12-01      | 0               | credit_card     | 1               | 10+ years       | Arizona         |  5000           |  5000           | ...             | 0               | 0               | 0               | 0               | 0               | 0               | 0               | 0               | 0               | 0               | \n",
       "| 1077430         | Source Verified | 2011-12-01      | 0               | car             | 1               | < 1 year        | Georgia         |  2500           |  2500           | ...             | 0               | 0               | 0               | 0               | 0               | 0               | 0               | 0               | 0               | 0               | \n",
       "| 1077175         | Not Verified    | 2011-12-01      | 0               | small_business  | 1               | 10+ years       | Illinois        |  2400           |  2400           | ...             | 0               | 0               | 0               | 0               | 0               | 0               | 0               | 0               | 0               | 0               | \n",
       "| 1076863         | Source Verified | 2011-12-01      | 0               | other           | 1               | 10+ years       | California      | 10000           | 10000           | ...             | 0               | 0               | 0               | 0               | 0               | 0               | 0               | 0               | 0               | 0               | \n",
       "| 1075269         | Source Verified | 2011-12-01      | 0               | wedding         | 1               | 3 years         | Arizona         |  5000           |  5000           | ...             | 0               | 0               | 0               | 0               | 0               | 0               | 0               | 0               | 0               | 0               | \n",
       "| 1072053         | Source Verified | 2011-12-01      | 0               | car             | 1               | 9 years         | California      |  3000           |  3000           | ...             | 0               | 0               | 0               | 0               | 0               | 0               | 0               | 0               | 0               | 0               | \n",
       "\n",
       "\n"
      ],
      "text/plain": [
       "  loan_id verification_status issue_d    pymnt_plan purpose       \n",
       "1 1077501 Verified            2011-12-01 0          credit_card   \n",
       "2 1077430 Source Verified     2011-12-01 0          car           \n",
       "3 1077175 Not Verified        2011-12-01 0          small_business\n",
       "4 1076863 Source Verified     2011-12-01 0          other         \n",
       "5 1075269 Source Verified     2011-12-01 0          wedding       \n",
       "6 1072053 Source Verified     2011-12-01 0          car           \n",
       "  initial_list_status emp_length addr_state loan_amnt funded_amnt ... purpose_5\n",
       "1 1                   10+ years  Arizona     5000      5000       ... 0        \n",
       "2 1                   < 1 year   Georgia     2500      2500       ... 0        \n",
       "3 1                   10+ years  Illinois    2400      2400       ... 0        \n",
       "4 1                   10+ years  California 10000     10000       ... 0        \n",
       "5 1                   3 years    Arizona     5000      5000       ... 0        \n",
       "6 1                   9 years    California  3000      3000       ... 0        \n",
       "  purpose_6 purpose_7 purpose_8 purpose_9 purpose_10 purpose_11 purpose_12\n",
       "1 0         0         0         0         0          0          0         \n",
       "2 0         0         0         0         0          0          0         \n",
       "3 0         0         0         0         0          0          0         \n",
       "4 0         0         0         0         0          0          0         \n",
       "5 0         0         0         0         0          0          0         \n",
       "6 0         0         0         0         0          0          0         \n",
       "  purpose_13 purpose_14\n",
       "1 0          0         \n",
       "2 0          0         \n",
       "3 0          0         \n",
       "4 0          0         \n",
       "5 0          0         \n",
       "6 0          0         "
      ]
     },
     "metadata": {},
     "output_type": "display_data"
    }
   ],
   "source": [
    "nrow(loans)\n",
    "head(loans)"
   ]
  },
  {
   "cell_type": "code",
   "execution_count": null,
   "metadata": {
    "scrolled": false
   },
   "outputs": [],
   "source": [
    "head(one_hot_encoding(data=loans,id=\"loan_id\",category=\"emp_length\",prefix=\"seniority\"))\n"
   ]
  },
  {
   "cell_type": "code",
   "execution_count": 86,
   "metadata": {
    "scrolled": true
   },
   "outputs": [
    {
     "name": "stderr",
     "output_type": "stream",
     "text": [
      "Joining, by = \"loan_id\"\n"
     ]
    }
   ],
   "source": [
    "loans <- inner_join(loans,one_hot_encoding(data=loans,id=\"loan_id\",category=\"emp_length\",prefix=\"seniority\"))"
   ]
  },
  {
   "cell_type": "code",
   "execution_count": null,
   "metadata": {},
   "outputs": [],
   "source": [
    "nrow(loans)\n",
    "head(loans)"
   ]
  },
  {
   "cell_type": "code",
   "execution_count": null,
   "metadata": {},
   "outputs": [],
   "source": [
    "head(one_hot_encoding(data=loans,id=\"loan_id\",category=\"home_ownership\",prefix=\"owner_status\"))"
   ]
  },
  {
   "cell_type": "code",
   "execution_count": 87,
   "metadata": {},
   "outputs": [
    {
     "name": "stderr",
     "output_type": "stream",
     "text": [
      "Joining, by = \"loan_id\"\n"
     ]
    }
   ],
   "source": [
    "loans <- inner_join(loans,one_hot_encoding(data=loans,id=\"loan_id\",category=\"home_ownership\",prefix=\"owner_status\"))"
   ]
  },
  {
   "cell_type": "code",
   "execution_count": 88,
   "metadata": {},
   "outputs": [
    {
     "data": {
      "text/html": [
       "255720"
      ],
      "text/latex": [
       "255720"
      ],
      "text/markdown": [
       "255720"
      ],
      "text/plain": [
       "[1] 255720"
      ]
     },
     "metadata": {},
     "output_type": "display_data"
    },
    {
     "data": {
      "text/html": [
       "<table>\n",
       "<thead><tr><th scope=col>loan_id</th><th scope=col>verification_status</th><th scope=col>issue_d</th><th scope=col>pymnt_plan</th><th scope=col>purpose</th><th scope=col>initial_list_status</th><th scope=col>emp_length</th><th scope=col>addr_state</th><th scope=col>loan_amnt</th><th scope=col>funded_amnt</th><th scope=col>...</th><th scope=col>seniority_9</th><th scope=col>seniority_10</th><th scope=col>seniority_11</th><th scope=col>seniority_12</th><th scope=col>owner_status_1</th><th scope=col>owner_status_2</th><th scope=col>owner_status_3</th><th scope=col>owner_status_4</th><th scope=col>owner_status_5</th><th scope=col>owner_status_6</th></tr></thead>\n",
       "<tbody>\n",
       "\t<tr><td>1077501        </td><td>Verified       </td><td>2011-12-01     </td><td>0              </td><td>credit_card    </td><td>1              </td><td>10+ years      </td><td>Arizona        </td><td> 5000          </td><td> 5000          </td><td>...            </td><td>0              </td><td>0              </td><td>0              </td><td>0              </td><td>0              </td><td>0              </td><td>0              </td><td>0              </td><td>0              </td><td>1              </td></tr>\n",
       "\t<tr><td>1077430                                               </td><td>Source Verified                                       </td><td>2011-12-01                                            </td><td>0                                                     </td><td><span style=white-space:pre-wrap>car           </span></td><td>1                                                     </td><td>&lt; 1 year                                           </td><td><span style=white-space:pre-wrap>Georgia   </span>    </td><td> 2500                                                 </td><td> 2500                                                 </td><td>...                                                   </td><td>0                                                     </td><td>0                                                     </td><td>0                                                     </td><td>0                                                     </td><td>0                                                     </td><td>0                                                     </td><td>0                                                     </td><td>0                                                     </td><td>0                                                     </td><td>1                                                     </td></tr>\n",
       "\t<tr><td>1077175        </td><td>Not Verified   </td><td>2011-12-01     </td><td>0              </td><td>small_business </td><td>1              </td><td>10+ years      </td><td>Illinois       </td><td> 2400          </td><td> 2400          </td><td>...            </td><td>0              </td><td>0              </td><td>0              </td><td>0              </td><td>0              </td><td>0              </td><td>0              </td><td>0              </td><td>0              </td><td>1              </td></tr>\n",
       "\t<tr><td>1076863        </td><td>Source Verified</td><td>2011-12-01     </td><td>0              </td><td>other          </td><td>1              </td><td>10+ years      </td><td>California     </td><td>10000          </td><td>10000          </td><td>...            </td><td>0              </td><td>0              </td><td>0              </td><td>0              </td><td>0              </td><td>1              </td><td>0              </td><td>0              </td><td>0              </td><td>0              </td></tr>\n",
       "\t<tr><td>1075269        </td><td>Source Verified</td><td>2011-12-01     </td><td>0              </td><td>wedding        </td><td>1              </td><td>3 years        </td><td>Arizona        </td><td> 5000          </td><td> 5000          </td><td>...            </td><td>0              </td><td>0              </td><td>0              </td><td>0              </td><td>0              </td><td>0              </td><td>0              </td><td>0              </td><td>0              </td><td>1              </td></tr>\n",
       "\t<tr><td>1072053        </td><td>Source Verified</td><td>2011-12-01     </td><td>0              </td><td>car            </td><td>1              </td><td>9 years        </td><td>California     </td><td> 3000          </td><td> 3000          </td><td>...            </td><td>0              </td><td>0              </td><td>0              </td><td>0              </td><td>0              </td><td>0              </td><td>0              </td><td>0              </td><td>1              </td><td>0              </td></tr>\n",
       "</tbody>\n",
       "</table>\n"
      ],
      "text/latex": [
       "\\begin{tabular}{r|lllllllllllllllllllllllllllllllllllllllllllllllllllllllllllllllllllllllllllllllllllllllllllllll}\n",
       " loan\\_id & verification\\_status & issue\\_d & pymnt\\_plan & purpose & initial\\_list\\_status & emp\\_length & addr\\_state & loan\\_amnt & funded\\_amnt & ... & seniority\\_9 & seniority\\_10 & seniority\\_11 & seniority\\_12 & owner\\_status\\_1 & owner\\_status\\_2 & owner\\_status\\_3 & owner\\_status\\_4 & owner\\_status\\_5 & owner\\_status\\_6\\\\\n",
       "\\hline\n",
       "\t 1077501          & Verified         & 2011-12-01       & 0                & credit\\_card    & 1                & 10+ years        & Arizona          &  5000            &  5000            & ...              & 0                & 0                & 0                & 0                & 0                & 0                & 0                & 0                & 0                & 1               \\\\\n",
       "\t 1077430         & Source Verified & 2011-12-01      & 0               & car             & 1               & < 1 year        & Georgia         &  2500           &  2500           & ...             & 0               & 0               & 0               & 0               & 0               & 0               & 0               & 0               & 0               & 1              \\\\\n",
       "\t 1077175          & Not Verified     & 2011-12-01       & 0                & small\\_business & 1                & 10+ years        & Illinois         &  2400            &  2400            & ...              & 0                & 0                & 0                & 0                & 0                & 0                & 0                & 0                & 0                & 1               \\\\\n",
       "\t 1076863         & Source Verified & 2011-12-01      & 0               & other           & 1               & 10+ years       & California      & 10000           & 10000           & ...             & 0               & 0               & 0               & 0               & 0               & 1               & 0               & 0               & 0               & 0              \\\\\n",
       "\t 1075269         & Source Verified & 2011-12-01      & 0               & wedding         & 1               & 3 years         & Arizona         &  5000           &  5000           & ...             & 0               & 0               & 0               & 0               & 0               & 0               & 0               & 0               & 0               & 1              \\\\\n",
       "\t 1072053         & Source Verified & 2011-12-01      & 0               & car             & 1               & 9 years         & California      &  3000           &  3000           & ...             & 0               & 0               & 0               & 0               & 0               & 0               & 0               & 0               & 1               & 0              \\\\\n",
       "\\end{tabular}\n"
      ],
      "text/markdown": [
       "\n",
       "loan_id | verification_status | issue_d | pymnt_plan | purpose | initial_list_status | emp_length | addr_state | loan_amnt | funded_amnt | ... | seniority_9 | seniority_10 | seniority_11 | seniority_12 | owner_status_1 | owner_status_2 | owner_status_3 | owner_status_4 | owner_status_5 | owner_status_6 | \n",
       "|---|---|---|---|---|---|\n",
       "| 1077501         | Verified        | 2011-12-01      | 0               | credit_card     | 1               | 10+ years       | Arizona         |  5000           |  5000           | ...             | 0               | 0               | 0               | 0               | 0               | 0               | 0               | 0               | 0               | 1               | \n",
       "| 1077430         | Source Verified | 2011-12-01      | 0               | car             | 1               | < 1 year        | Georgia         |  2500           |  2500           | ...             | 0               | 0               | 0               | 0               | 0               | 0               | 0               | 0               | 0               | 1               | \n",
       "| 1077175         | Not Verified    | 2011-12-01      | 0               | small_business  | 1               | 10+ years       | Illinois        |  2400           |  2400           | ...             | 0               | 0               | 0               | 0               | 0               | 0               | 0               | 0               | 0               | 1               | \n",
       "| 1076863         | Source Verified | 2011-12-01      | 0               | other           | 1               | 10+ years       | California      | 10000           | 10000           | ...             | 0               | 0               | 0               | 0               | 0               | 1               | 0               | 0               | 0               | 0               | \n",
       "| 1075269         | Source Verified | 2011-12-01      | 0               | wedding         | 1               | 3 years         | Arizona         |  5000           |  5000           | ...             | 0               | 0               | 0               | 0               | 0               | 0               | 0               | 0               | 0               | 1               | \n",
       "| 1072053         | Source Verified | 2011-12-01      | 0               | car             | 1               | 9 years         | California      |  3000           |  3000           | ...             | 0               | 0               | 0               | 0               | 0               | 0               | 0               | 0               | 1               | 0               | \n",
       "\n",
       "\n"
      ],
      "text/plain": [
       "  loan_id verification_status issue_d    pymnt_plan purpose       \n",
       "1 1077501 Verified            2011-12-01 0          credit_card   \n",
       "2 1077430 Source Verified     2011-12-01 0          car           \n",
       "3 1077175 Not Verified        2011-12-01 0          small_business\n",
       "4 1076863 Source Verified     2011-12-01 0          other         \n",
       "5 1075269 Source Verified     2011-12-01 0          wedding       \n",
       "6 1072053 Source Verified     2011-12-01 0          car           \n",
       "  initial_list_status emp_length addr_state loan_amnt funded_amnt ...\n",
       "1 1                   10+ years  Arizona     5000      5000       ...\n",
       "2 1                   < 1 year   Georgia     2500      2500       ...\n",
       "3 1                   10+ years  Illinois    2400      2400       ...\n",
       "4 1                   10+ years  California 10000     10000       ...\n",
       "5 1                   3 years    Arizona     5000      5000       ...\n",
       "6 1                   9 years    California  3000      3000       ...\n",
       "  seniority_9 seniority_10 seniority_11 seniority_12 owner_status_1\n",
       "1 0           0            0            0            0             \n",
       "2 0           0            0            0            0             \n",
       "3 0           0            0            0            0             \n",
       "4 0           0            0            0            0             \n",
       "5 0           0            0            0            0             \n",
       "6 0           0            0            0            0             \n",
       "  owner_status_2 owner_status_3 owner_status_4 owner_status_5 owner_status_6\n",
       "1 0              0              0              0              1             \n",
       "2 0              0              0              0              1             \n",
       "3 0              0              0              0              1             \n",
       "4 1              0              0              0              0             \n",
       "5 0              0              0              0              1             \n",
       "6 0              0              0              1              0             "
      ]
     },
     "metadata": {},
     "output_type": "display_data"
    }
   ],
   "source": [
    "nrow(loans)\n",
    "head(loans)"
   ]
  },
  {
   "cell_type": "code",
   "execution_count": null,
   "metadata": {},
   "outputs": [],
   "source": [
    "ncol(loans)"
   ]
  },
  {
   "cell_type": "code",
   "execution_count": 89,
   "metadata": {},
   "outputs": [
    {
     "name": "stdout",
     "output_type": "stream",
     "text": [
      "                      variable q_zeros p_zeros   q_na  p_na q_inf p_inf\n",
      "1                      loan_id       0    0.00      0  0.00     0     0\n",
      "2          verification_status       0    0.00      0  0.00     0     0\n",
      "3                      issue_d       0    0.00      0  0.00     0     0\n",
      "4                   pymnt_plan  255718  100.00      0  0.00     0     0\n",
      "5                      purpose       0    0.00      0  0.00     0     0\n",
      "6          initial_list_status   70892   27.72      0  0.00     0     0\n",
      "7                   emp_length       0    0.00      0  0.00     0     0\n",
      "8                   addr_state       0    0.00      0  0.00     0     0\n",
      "9                    loan_amnt       0    0.00      0  0.00     0     0\n",
      "10                 funded_amnt       0    0.00      0  0.00     0     0\n",
      "11             funded_amnt_inv     233    0.09      0  0.00     0     0\n",
      "12                        term  199096   77.86      0  0.00     0     0\n",
      "13                 installment       0    0.00      0  0.00     0     0\n",
      "14                   out_prncp  255720  100.00      0  0.00     0     0\n",
      "15               out_prncp_inv  255720  100.00      0  0.00     0     0\n",
      "16                 total_pymnt     208    0.08      0  0.00     0     0\n",
      "17             total_pymnt_inv     486    0.19      0  0.00     0     0\n",
      "18             total_rec_prncp     580    0.23      0  0.00     0     0\n",
      "19               total_rec_int     561    0.22      0  0.00     0     0\n",
      "20          total_rec_late_fee  248860   97.32      0  0.00     0     0\n",
      "21                  recoveries  231043   90.35      0  0.00     0     0\n",
      "22     collection_recovery_fee  232213   90.81      0  0.00     0     0\n",
      "23                last_pymnt_d       0    0.00    539  0.21     0     0\n",
      "24             last_pymnt_amnt     553    0.22      0  0.00     0     0\n",
      "25                next_pymnt_d       0    0.00 252971 98.92     0     0\n",
      "26          last_credit_pull_d       0    0.00     23  0.01     0     0\n",
      "27  collections_12_mths_ex_med  254001   99.33    145  0.06     0     0\n",
      "28 mths_since_last_major_derog      31    0.01 208175 81.41     0     0\n",
      "29              home_ownership       0    0.00      0  0.00     0     0\n",
      "30                  annual_inc       0    0.00      4  0.00     0     0\n",
      "31                         dti     311    0.12      0  0.00     0     0\n",
      "32                 delinq_2yrs  214543   83.90     29  0.01     0     0\n",
      "33              acc_now_delinq  254952   99.70     29  0.01     0     0\n",
      "34            earliest_cr_line      20    0.01     29  0.01     0     0\n",
      "35              inq_last_6mths  124083   48.52     29  0.01     0     0\n",
      "36      mths_since_last_delinq     976    0.38 142018 55.54     0     0\n",
      "37      mths_since_last_record    1278    0.50 223262 87.31     0     0\n",
      "38                    open_acc       5    0.00     29  0.01     0     0\n",
      "39                     pub_rec  224508   87.79     29  0.01     0     0\n",
      "40                   revol_bal    1893    0.74      0  0.00     0     0\n",
      "41                  revol_util    1894    0.74    239  0.09     0     0\n",
      "42                   total_acc       0    0.00     29  0.01     0     0\n",
      "43                tot_coll_amt  167557   65.52  66457 25.99     0     0\n",
      "44                 tot_cur_bal      50    0.02  66457 25.99     0     0\n",
      "45                 open_acc_6m      46    0.02 255576 99.94     0     0\n",
      "46                  open_il_6m      17    0.01 255576 99.94     0     0\n",
      "47                 open_il_12m      74    0.03 255576 99.94     0     0\n",
      "48                 open_il_24m      35    0.01 255576 99.94     0     0\n",
      "49          mths_since_rcnt_il       1    0.00 255580 99.95     0     0\n",
      "50                total_bal_il      17    0.01 255576 99.94     0     0\n",
      "51                     il_util       1    0.00 255594 99.95     0     0\n",
      "52                 open_rv_12m      39    0.02 255576 99.94     0     0\n",
      "53                 open_rv_24m      12    0.00 255576 99.94     0     0\n",
      "54                  max_bal_bc       6    0.00 255576 99.94     0     0\n",
      "55                    all_util       0    0.00 255576 99.94     0     0\n",
      "56            total_rev_hi_lim      86    0.03  66457 25.99     0     0\n",
      "57                      inq_fi      62    0.02 255576 99.94     0     0\n",
      "58                 total_cu_tl      78    0.03 255576 99.94     0     0\n",
      "59                inq_last_12m      19    0.01 255576 99.94     0     0\n",
      "60                     default  209711   82.01      0  0.00     0     0\n",
      "61                     verif_1  167823   65.63      0  0.00     0     0\n",
      "62                     verif_2  181420   70.94      0  0.00     0     0\n",
      "63                     verif_3  162197   63.43      0  0.00     0     0\n",
      "64                   purpose_1  252010   98.55      0  0.00     0     0\n",
      "65                   purpose_2  205305   80.29      0  0.00     0     0\n",
      "66                   purpose_3  106256   41.55      0  0.00     0     0\n",
      "67                   purpose_4  255298   99.83      0  0.00     0     0\n",
      "68                   purpose_5  240577   94.08      0  0.00     0     0\n",
      "69                   purpose_6  254024   99.34      0  0.00     0     0\n",
      "70                   purpose_7  249332   97.50      0  0.00     0     0\n",
      "71                   purpose_8  252808   98.86      0  0.00     0     0\n",
      "72                   purpose_9  253646   99.19      0  0.00     0     0\n",
      "73                  purpose_10  241019   94.25      0  0.00     0     0\n",
      "74                  purpose_11  255450   99.89      0  0.00     0     0\n",
      "75                  purpose_12  250813   98.08      0  0.00     0     0\n",
      "76                  purpose_13  254113   99.37      0  0.00     0     0\n",
      "77                  purpose_14  253709   99.21      0  0.00     0     0\n",
      "78                 seniority_1  234362   91.65      0  0.00     0     0\n",
      "79                 seniority_2  238516   93.27      0  0.00     0     0\n",
      "80                 seniority_3  178369   69.75      0  0.00     0     0\n",
      "81                 seniority_4  231810   90.65      0  0.00     0     0\n",
      "82                 seniority_5  235074   91.93      0  0.00     0     0\n",
      "83                 seniority_6  239318   93.59      0  0.00     0     0\n",
      "84                 seniority_7  237489   92.87      0  0.00     0     0\n",
      "85                 seniority_8  240823   94.17      0  0.00     0     0\n",
      "86                 seniority_9  241535   94.45      0  0.00     0     0\n",
      "87                seniority_10  243764   95.32      0  0.00     0     0\n",
      "88                seniority_11  246071   96.23      0  0.00     0     0\n",
      "89                seniority_12  245789   96.12      0  0.00     0     0\n",
      "90              owner_status_1  255719  100.00      0  0.00     0     0\n",
      "91              owner_status_2  129620   50.69      0  0.00     0     0\n",
      "92              owner_status_3  255672   99.98      0  0.00     0     0\n",
      "93              owner_status_4  255541   99.93      0  0.00     0     0\n",
      "94              owner_status_5  233547   91.33      0  0.00     0     0\n",
      "95              owner_status_6  148501   58.07      0  0.00     0     0\n",
      "        type unique\n",
      "1    integer 255720\n",
      "2  character      3\n",
      "3       Date    103\n",
      "4    integer      2\n",
      "5  character     14\n",
      "6    integer      2\n",
      "7  character     12\n",
      "8  character     51\n",
      "9    integer   1331\n",
      "10   integer   1331\n",
      "11   numeric   9554\n",
      "12   integer      2\n",
      "13   numeric  46096\n",
      "14   numeric      1\n",
      "15   numeric      1\n",
      "16   numeric 246616\n",
      "17   numeric 237981\n",
      "18   numeric  45689\n",
      "19   numeric 184341\n",
      "20   numeric   4766\n",
      "21   numeric  23055\n",
      "22   numeric  20721\n",
      "23      Date     98\n",
      "24   numeric 200674\n",
      "25      Date     99\n",
      "26      Date    103\n",
      "27   integer      7\n",
      "28   integer    149\n",
      "29 character      6\n",
      "30   numeric  19673\n",
      "31   numeric   3977\n",
      "32   integer     22\n",
      "33   integer      6\n",
      "34      Date    645\n",
      "35   integer     28\n",
      "36   integer    127\n",
      "37   integer    123\n",
      "38   integer     59\n",
      "39   integer     14\n",
      "40   numeric  47755\n",
      "41   numeric   1210\n",
      "42   integer    106\n",
      "43   integer   4029\n",
      "44   numeric 134747\n",
      "45   integer      7\n",
      "46   integer     16\n",
      "47   integer      7\n",
      "48   integer     10\n",
      "49   integer     50\n",
      "50   integer    128\n",
      "51   numeric    116\n",
      "52   integer      8\n",
      "53   integer     14\n",
      "54   integer    139\n",
      "55   numeric    126\n",
      "56   numeric   9543\n",
      "57   integer      9\n",
      "58   integer     18\n",
      "59   integer     17\n",
      "60   logical      2\n",
      "61   numeric      2\n",
      "62   numeric      2\n",
      "63   numeric      2\n",
      "64   numeric      2\n",
      "65   numeric      2\n",
      "66   numeric      2\n",
      "67   numeric      2\n",
      "68   numeric      2\n",
      "69   numeric      2\n",
      "70   numeric      2\n",
      "71   numeric      2\n",
      "72   numeric      2\n",
      "73   numeric      2\n",
      "74   numeric      2\n",
      "75   numeric      2\n",
      "76   numeric      2\n",
      "77   numeric      2\n",
      "78   numeric      2\n",
      "79   numeric      2\n",
      "80   numeric      2\n",
      "81   numeric      2\n",
      "82   numeric      2\n",
      "83   numeric      2\n",
      "84   numeric      2\n",
      "85   numeric      2\n",
      "86   numeric      2\n",
      "87   numeric      2\n",
      "88   numeric      2\n",
      "89   numeric      2\n",
      "90   numeric      2\n",
      "91   numeric      2\n",
      "92   numeric      2\n",
      "93   numeric      2\n",
      "94   numeric      2\n",
      "95   numeric      2\n"
     ]
    }
   ],
   "source": [
    "funModeling::df_status(loans, print_results = TRUE)"
   ]
  },
  {
   "cell_type": "code",
   "execution_count": 90,
   "metadata": {},
   "outputs": [
    {
     "name": "stdout",
     "output_type": "stream",
     "text": [
      "[1] \"out_prncp\"\n",
      "[1] \"out_prncp_inv\"\n"
     ]
    },
    {
     "name": "stderr",
     "output_type": "stream",
     "text": [
      "The following variables had only one unique values and were removed\n",
      "out_prncpout_prncp_inv\n"
     ]
    }
   ],
   "source": [
    "loans <- excludeUniqueValue(loans)"
   ]
  },
  {
   "cell_type": "code",
   "execution_count": null,
   "metadata": {},
   "outputs": [],
   "source": [
    "num_vars <- \n",
    "  loans %>% \n",
    "  sapply(is.numeric) %>% \n",
    "  which() %>% \n",
    "  names()"
   ]
  },
  {
   "cell_type": "code",
   "execution_count": null,
   "metadata": {},
   "outputs": [],
   "source": [
    "num_vars"
   ]
  },
  {
   "cell_type": "code",
   "execution_count": null,
   "metadata": {},
   "outputs": [],
   "source": [
    "tab <- CreateTableOne(vars = num_vars, data = loans)\n",
    "summary(tab)"
   ]
  },
  {
   "cell_type": "markdown",
   "metadata": {},
   "source": [
    "## future work"
   ]
  },
  {
   "cell_type": "markdown",
   "metadata": {},
   "source": [
    "<h3>Columns to remove - Maybe on LATER Stage - after missingnes checks</h3>\n",
    "<ul>\n",
    "<li>desc: high NA ratio</li>\n",
    "<li>title: high amount of unique values</li>\n",
    "<li>next_pymnt_d: high NA ratio</li>\n",
    "<li>open_acc_6m: high NA ratio</li>\n",
    "<li>open_il_6m: high NA ratio</li>\n",
    "<li>open_il_12m: high NA ratio</li>\n",
    "<li>open_il_24m: high NA ratio</li>\n",
    "<li>mths_since_rcnt_il: high NA ratio</li>\n",
    "<li>total_bal_il: high NA ratio</li>\n",
    "<li>il_util: high NA ratio</li>\n",
    "<li>open_rv_12m: high NA ratio</li>\n",
    "<li>open_rv_24m: high NA ratio</li>\n",
    "<li>max_bal_bc: high NA ratio</li>\n",
    "<li>all_util: high NA ratio</li>\n",
    "<li>total_rev_hi_lim: high NA ratio</li>\n",
    "<li>inq_fi: high NA ratio</li>\n",
    "<li>total_cu_tl: high NA ratio</li>\n",
    "<li>inq_last_12m: high NA ratio</li>\n",
    "</ul>"
   ]
  },
  {
   "cell_type": "code",
   "execution_count": null,
   "metadata": {},
   "outputs": [],
   "source": [
    "\n",
    "exclude <- c(\"loanDesc\", \"title\", \"open_acc_6m\", \"open_il_6m\", \n",
    "   \"open_il_12m\", \"open_il_24m\", \"mths_since_rcnt_il\", \"total_bal_il\", \n",
    "   \"il_util\", \"open_rv_12m\", \"open_rv_24m\", \"max_bal_bc\", \"all_util\",\n",
    "    \"total_rev_hi_lim\", \"inq_fi\", \"total_cu_tl\", \"inq_last_12m\",\n",
    "    \"verification_status_joint\", \"next_pymnt_d\")\n"
   ]
  },
  {
   "cell_type": "code",
   "execution_count": 91,
   "metadata": {},
   "outputs": [],
   "source": [
    "##saving the file ,for future work!\n",
    "\n",
    "write.csv(loans, file = \"loans_db.csv\",row.names=FALSE)\n",
    "writeSQL(loans, \"loans_dataset\")"
   ]
  },
  {
   "cell_type": "code",
   "execution_count": null,
   "metadata": {},
   "outputs": [],
   "source": []
  }
 ],
 "metadata": {
  "kernelspec": {
   "display_name": "R",
   "language": "R",
   "name": "ir"
  },
  "language_info": {
   "codemirror_mode": "r",
   "file_extension": ".r",
   "mimetype": "text/x-r-source",
   "name": "R",
   "pygments_lexer": "r",
   "version": "3.5.1"
  }
 },
 "nbformat": 4,
 "nbformat_minor": 2
}
